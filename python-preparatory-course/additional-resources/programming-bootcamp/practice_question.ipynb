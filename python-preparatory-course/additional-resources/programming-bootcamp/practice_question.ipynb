{
 "cells": [
  {
   "cell_type": "markdown",
   "id": "6d8a5088-fc89-408b-9dfc-629f21286954",
   "metadata": {},
   "source": [
    "- Question"
   ]
  },
  {
   "cell_type": "code",
   "execution_count": 1,
   "id": "fdd88726-9508-4fbe-904e-d9295b30c577",
   "metadata": {},
   "outputs": [],
   "source": [
    "# Given two numbers ‘a’ and ‘b’, which of the following pseudocodes will swap the values of ‘a’ and ‘b’?"
   ]
  },
  {
   "cell_type": "code",
   "execution_count": 2,
   "id": "e077e0cf-100e-4162-9581-e3a50efb3205",
   "metadata": {},
   "outputs": [
    {
     "name": "stdout",
     "output_type": "stream",
     "text": [
      "10\n",
      "10\n"
     ]
    }
   ],
   "source": [
    "a = 5\n",
    "b = 10\n",
    "a = b\n",
    "b = a\n",
    "print(a)\n",
    "print(b)"
   ]
  },
  {
   "cell_type": "code",
   "execution_count": 3,
   "id": "427c524a-9084-4fdc-aca6-daf37a307524",
   "metadata": {},
   "outputs": [
    {
     "name": "stdout",
     "output_type": "stream",
     "text": [
      "20\n",
      "-5\n"
     ]
    }
   ],
   "source": [
    "a = 5\n",
    "b = 10\n",
    "a = a + b\n",
    "b = b - a\n",
    "a = a - b\n",
    "print(a)\n",
    "print(b)"
   ]
  },
  {
   "cell_type": "code",
   "execution_count": 4,
   "id": "db0420a7-920f-4bcd-861b-56cf79c4015a",
   "metadata": {},
   "outputs": [
    {
     "name": "stdout",
     "output_type": "stream",
     "text": [
      "10\n",
      "15\n"
     ]
    }
   ],
   "source": [
    "a = 5\n",
    "b = 10\n",
    "a = a - b\n",
    "b = b - a\n",
    "a = a + b\n",
    "print(a)\n",
    "print(b)"
   ]
  },
  {
   "cell_type": "code",
   "execution_count": 5,
   "id": "61876121-41f6-4b12-a57a-6c14185f0754",
   "metadata": {},
   "outputs": [
    {
     "name": "stdout",
     "output_type": "stream",
     "text": [
      "10\n",
      "5\n"
     ]
    }
   ],
   "source": [
    "a = 5\n",
    "b = 10\n",
    "a = a + b\n",
    "b = a - b\n",
    "a = a - b\n",
    "print(a)\n",
    "print(b)"
   ]
  },
  {
   "cell_type": "code",
   "execution_count": 6,
   "id": "f28f6513-1400-47a8-b64f-98cc6ab3e520",
   "metadata": {},
   "outputs": [],
   "source": [
    "# Refer to the following pseudo-code. If the user input for ‘Input_str’ is “I love Programming in Python”, what will be the output?\n",
    "# Input_str <-- user input string\n",
    "# \n",
    "# Initialise 'n_cnt' as 0 and 'output' as 0\n",
    "# v='aeiouAEIOU'\n",
    "# \n",
    "# FOR every w in input_str.split()\n",
    "#   Initialise cnt to 0\n",
    "# \n",
    "#   FOR every c in w\n",
    "#      check IF  c is present in v\n",
    "#      if true, increment 'cnt' by 1\n",
    "#   end inner for loop\n",
    "# \n",
    "#   check IF 'cnt' is greater than or equal to 'n_cnt'\n",
    "#   if true, assign 'cnt' to 'n_cnt' and assign 'w' to 'output'\n",
    "# end outer for loop\n",
    "# \n",
    "# Print 'output'"
   ]
  },
  {
   "cell_type": "code",
   "execution_count": 7,
   "id": "a586c5ee-dffa-4564-83cc-e883d3da905f",
   "metadata": {},
   "outputs": [
    {
     "name": "stdout",
     "output_type": "stream",
     "text": [
      "Programming\n"
     ]
    }
   ],
   "source": [
    "# Get the input string from the user\n",
    "input_str = \"I love Programming in Python\"\n",
    "\n",
    "# Initialize variables\n",
    "n_cnt = 0\n",
    "output = \"\"\n",
    "v = 'aeiouAEIOU'\n",
    "\n",
    "# Split the input string into words and iterate over each word\n",
    "for w in input_str.split():\n",
    "    cnt = 0\n",
    "    \n",
    "    # Count the vowels in the current word\n",
    "    for c in w:\n",
    "        if c in v:\n",
    "            cnt += 1\n",
    "            \n",
    "    # Update n_cnt and output if the current word has more or equal vowels than n_cnt\n",
    "    if cnt >= n_cnt:\n",
    "        n_cnt = cnt\n",
    "        output = w\n",
    "        \n",
    "# Print the word\n",
    "print(output)"
   ]
  },
  {
   "cell_type": "code",
   "execution_count": 8,
   "id": "45551ac5-e862-4c12-aa4d-1c041af46c57",
   "metadata": {},
   "outputs": [],
   "source": [
    "# You have been given the pseudocode given below. \n",
    "# \n",
    "# n <-- user input positive integer \n",
    "# \n",
    "# Initialise 's' as 0\n",
    "# \n",
    "# FOR every i: from 2 to n\n",
    "# \tInitialise 'flag' as 0\n",
    "# \n",
    "# \tFOR every j: from 2 to (integer value of sqrt(i) +1)\n",
    "#         CHECK IF i%j is equal to 0\n",
    "#         If true, increment 'flag' by 1\n",
    "#         BREAK \n",
    "#         \n",
    "# END inner loop\n",
    "# \n",
    "# CHECK IF 'flag' is equal to 0\n",
    "# If true, increment 's' by 'i'\n",
    "# END outer loop\n",
    "# \n",
    "# Print the value of 's'\n",
    "# \n",
    "# If the user input for ‘n’ is 11, what will the above pseudocode print?"
   ]
  },
  {
   "cell_type": "code",
   "execution_count": 9,
   "id": "1a3605ff-c5a4-48a4-bd16-0642aaa7d68e",
   "metadata": {},
   "outputs": [
    {
     "name": "stdout",
     "output_type": "stream",
     "text": [
      "28\n"
     ]
    }
   ],
   "source": [
    "import math\n",
    "\n",
    "# User input positive integer\n",
    "n = 11\n",
    "\n",
    "# Initialize sum variable\n",
    "s = 0\n",
    "\n",
    "# Loop through each number from 2 to n\n",
    "for i in range(2, n + 1):\n",
    "    flag = 0\n",
    "    \n",
    "    # Check divisors from 2 to sqrt(i)\n",
    "    for j in range(2, int(math.sqrt(i)) + 1):\n",
    "        if i % j == 0:\n",
    "            flag = 1\n",
    "            break\n",
    "    \n",
    "    # If no divisors were found, add to sum\n",
    "    if flag == 0:\n",
    "        s += i\n",
    "\n",
    "# Print the sum of prime numbers\n",
    "print(s)"
   ]
  },
  {
   "cell_type": "code",
   "execution_count": 10,
   "id": "9b753a05-bd67-4e6e-bad1-a4cb43b96546",
   "metadata": {},
   "outputs": [],
   "source": [
    "# Given an integer ‘n’, the task is to write a program that prints:\n",
    "# \n",
    "## “fizz” if ‘n’ is divisible 7\n",
    "## “buzz” if ‘n’ is divisible by 4\n",
    "## “fizzbuzz” if ‘n’ is divisible by both 7 and 4\n",
    "## Print ‘n’ as is, if none of the above conditions is met \n",
    "# \n",
    "# Refer to the below sample case to understand it better.\n",
    "# \n",
    "# Sample input: 8                  \n",
    "# \n",
    "# Sample output: buzz\n",
    "# \n",
    "# Explanation: 8 is divisible by 4 but not by 7. Hence, the output will be ‘buzz’.\n",
    "# \n",
    "# Which of the following best describes the pseudocode for the given problem?"
   ]
  },
  {
   "cell_type": "code",
   "execution_count": 11,
   "id": "f5a8ef88-da8c-4b20-9e58-41d59db3b8f7",
   "metadata": {},
   "outputs": [
    {
     "name": "stdout",
     "output_type": "stream",
     "text": [
      "fizz\n"
     ]
    }
   ],
   "source": [
    "n = 8\n",
    "if n % (4 * 7) == 0:\n",
    "    print(\"fizzbuzz\")\n",
    "elif n % 4 == 0:\n",
    "    print(\"fizz\")\n",
    "elif n % 7 == 0:\n",
    "    print(\"buzz\")\n",
    "else:\n",
    "    print(n)"
   ]
  },
  {
   "cell_type": "code",
   "execution_count": 12,
   "id": "339b3113-373d-451b-a698-b687833da228",
   "metadata": {},
   "outputs": [
    {
     "name": "stdout",
     "output_type": "stream",
     "text": [
      "buzz\n"
     ]
    }
   ],
   "source": [
    "n = 8\n",
    "if n % (4 * 7) == 0:\n",
    "    print(\"fizzbuzz\")\n",
    "elif n % 7 == 0:\n",
    "    print(\"fizz\")\n",
    "elif n % 4 == 0:\n",
    "    print(\"buzz\")\n",
    "else:\n",
    "    print(n)"
   ]
  },
  {
   "cell_type": "code",
   "execution_count": 13,
   "id": "7eebfdc4-9eac-4a86-bfca-888caa392206",
   "metadata": {},
   "outputs": [
    {
     "name": "stdout",
     "output_type": "stream",
     "text": [
      "fizz\n",
      "8\n"
     ]
    }
   ],
   "source": [
    "n = 8\n",
    "if n % 4 == 0:\n",
    "    print(\"fizz\")\n",
    "if n % (4 * 7) == 0:\n",
    "    print(\"fizzbuzz\")\n",
    "elif n % 7 == 0:\n",
    "    print(\"buzz\")\n",
    "else:\n",
    "    print(n)"
   ]
  },
  {
   "cell_type": "code",
   "execution_count": 14,
   "id": "767aff36-a7c0-4bc3-a73d-9f978927dbf7",
   "metadata": {},
   "outputs": [
    {
     "name": "stdout",
     "output_type": "stream",
     "text": [
      "fizz\n"
     ]
    }
   ],
   "source": [
    "n = 8\n",
    "if n % 4 == 0:\n",
    "    print(\"fizz\")\n",
    "elif n % (4 * 7) == 0:\n",
    "    print(\"fizzbuzz\")\n",
    "elif n % 7 == 0:\n",
    "    print(\"buzz\")\n",
    "else:\n",
    "    print(n)"
   ]
  },
  {
   "cell_type": "code",
   "execution_count": 15,
   "id": "137cc57f-048b-456d-9811-ce0f40139afd",
   "metadata": {},
   "outputs": [],
   "source": [
    "# You have the following pseudo-code.\n",
    "# \n",
    "# n <--Take positive integer as input from the user\n",
    "# \n",
    "# Initialise  'k' as 0\n",
    "# \n",
    "# WHILE loop: as long as 'n' is greater than zero, do the following.\n",
    "# \n",
    "#     r = n % 10\n",
    "#     k = k + r\n",
    "#     n = n // 10\n",
    "# \n",
    "# END WHILE loop\n",
    "# print(k)\n",
    "# \n",
    "# What does this program try to print?\n",
    "# A.The rightmost digit of the number ‘n’\n",
    "# B.The leftmost digit of the number ‘n’\n",
    "# C.Sum of the right and the left-most digits of the number ‘n’\n",
    "# D.Sum of digits for a given number ‘n’\n",
    "#\n",
    "# Answer: D.Sum of digits for a given number ‘n’"
   ]
  },
  {
   "cell_type": "code",
   "execution_count": 16,
   "id": "ccf4dc83-f4e7-485c-84d1-4c6bf61aebb3",
   "metadata": {},
   "outputs": [
    {
     "name": "stdout",
     "output_type": "stream",
     "text": [
      "2\n"
     ]
    }
   ],
   "source": [
    "# Take positive integer as input from the user\n",
    "n = 11\n",
    "\n",
    "# Initialize 'k' as 0\n",
    "k = 0\n",
    "\n",
    "# While loop: as long as 'n' is greater than zero\n",
    "while n > 0:\n",
    "    r = n % 10  # Get the rightmost digit\n",
    "    k = k + r   # Add the rightmost digit to 'k'\n",
    "    n = n // 10 # Remove the rightmost digit from 'n'\n",
    "\n",
    "# Print the sum of digits\n",
    "print(k)"
   ]
  }
 ],
 "metadata": {
  "kernelspec": {
   "display_name": "Python 3 (ipykernel)",
   "language": "python",
   "name": "python3"
  },
  "language_info": {
   "codemirror_mode": {
    "name": "ipython",
    "version": 3
   },
   "file_extension": ".py",
   "mimetype": "text/x-python",
   "name": "python",
   "nbconvert_exporter": "python",
   "pygments_lexer": "ipython3",
   "version": "3.12.4"
  }
 },
 "nbformat": 4,
 "nbformat_minor": 5
}

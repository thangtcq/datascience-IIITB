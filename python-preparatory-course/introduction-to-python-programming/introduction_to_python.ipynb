{
 "cells": [
  {
   "cell_type": "markdown",
   "id": "4ddb3eec-0f13-45d1-9313-f9ba836250ce",
   "metadata": {},
   "source": [
    "# Introduction to Python\n",
    "Let's have a look at Python as a language and what features does it bring to be among the top 3 coding languages in the world."
   ]
  },
  {
   "cell_type": "code",
   "execution_count": 174,
   "id": "811dcbec-40e2-439c-ba1f-744b5d157876",
   "metadata": {},
   "outputs": [
    {
     "name": "stdout",
     "output_type": "stream",
     "text": [
      "Hello World\n"
     ]
    }
   ],
   "source": [
    "#1. Unlike other languages Python program works on an Interpreter so to run a code all you have to do is type it out\n",
    "print(\"Hello World\")"
   ]
  },
  {
   "cell_type": "code",
   "execution_count": 176,
   "id": "843191f2-673a-432d-813d-41e9ede972d6",
   "metadata": {},
   "outputs": [
    {
     "name": "stdin",
     "output_type": "stream",
     "text": [
      "What's your name? John\n"
     ]
    }
   ],
   "source": [
    "name = input(\"What's your name?\")"
   ]
  },
  {
   "cell_type": "code",
   "execution_count": 177,
   "id": "9dfcdc6b-5866-4e6c-b711-c9f8e5c32b46",
   "metadata": {},
   "outputs": [
    {
     "name": "stdout",
     "output_type": "stream",
     "text": [
      "Welcome to Upgrad, John\n"
     ]
    }
   ],
   "source": [
    "print(\"Welcome to Upgrad,\", name)"
   ]
  },
  {
   "cell_type": "code",
   "execution_count": 178,
   "id": "495b1af1-2c96-4444-8b91-17c25c252252",
   "metadata": {},
   "outputs": [],
   "source": [
    "#2. Python language runs line by line, so incase you want to update a piece of code all you have to do is update the line let's see how -"
   ]
  },
  {
   "cell_type": "code",
   "execution_count": 179,
   "id": "f7eea351-5cf0-426f-a0e2-3b33465f3375",
   "metadata": {},
   "outputs": [
    {
     "name": "stdout",
     "output_type": "stream",
     "text": [
      "O    \n",
      "|____\n",
      " ||||\n",
      " ||||\n"
     ]
    }
   ],
   "source": [
    "#Imaginary giraffe\n",
    "print(\"O    \")\n",
    "print(\"|____\")\n",
    "print(\" ||||\")\n",
    "print(\" ||||\")"
   ]
  },
  {
   "cell_type": "code",
   "execution_count": 180,
   "id": "fea421c4-70b0-4f02-b65d-dd47eb1841d6",
   "metadata": {},
   "outputs": [
    {
     "name": "stdout",
     "output_type": "stream",
     "text": [
      "O    \n",
      "|    \n",
      "|____\n",
      " ||||\n",
      " ||||\n"
     ]
    }
   ],
   "source": [
    "#Imaginary giraffe\n",
    "print(\"O    \")\n",
    "print(\"|    \")\n",
    "print(\"|____\")\n",
    "print(\" ||||\")\n",
    "print(\" ||||\")"
   ]
  },
  {
   "cell_type": "code",
   "execution_count": 181,
   "id": "a4e47517-f1ac-4bb2-9408-c19f60a16997",
   "metadata": {},
   "outputs": [
    {
     "name": "stdout",
     "output_type": "stream",
     "text": [
      "$$$$$$$$$$\n"
     ]
    }
   ],
   "source": [
    "#Let's add another print statement\n",
    "print(\"$\" * 10)"
   ]
  },
  {
   "cell_type": "markdown",
   "id": "4d88d0f9-0560-4163-bf78-e772c6741929",
   "metadata": {},
   "source": [
    "Now let's see what happened here  - \n",
    "\n",
    "Any character whether it be numeric or text enclosed within \" \" or ' '  gets considered as a string; \n",
    "\n",
    "A string is a data type which contains a series of characters\n",
    "\n",
    "Just like string, there are numerous types of variables in Python; let's have a look"
   ]
  },
  {
   "cell_type": "markdown",
   "id": "447aef0c-df9d-44fc-97dc-46311f3c55fb",
   "metadata": {},
   "source": [
    "<h2 style=\"color:Brown\">Variables</h2>\n",
    "Python variables are a container that can store any type of value and of any particular size.\n",
    "Unlike other languages such as C, Java - Variables in Python don't need initialization. Let's create a variable to see how do they work"
   ]
  },
  {
   "cell_type": "markdown",
   "id": "913a3201-e74c-438f-ac3d-3d3ee92ad0e7",
   "metadata": {},
   "source": [
    "Type <i>Markdown</i> and LaTex: a<sup>2</sup>"
   ]
  },
  {
   "cell_type": "code",
   "execution_count": 189,
   "id": "158df3b0-2b00-489e-9153-9bce0d665da2",
   "metadata": {},
   "outputs": [
    {
     "name": "stdout",
     "output_type": "stream",
     "text": [
      "Mike\n"
     ]
    }
   ],
   "source": [
    "var1 = \"Mike\"\n",
    "print(var1)"
   ]
  },
  {
   "cell_type": "code",
   "execution_count": 183,
   "id": "0d03c3ed-1f96-439d-85da-cb6d961970db",
   "metadata": {},
   "outputs": [
    {
     "name": "stdout",
     "output_type": "stream",
     "text": [
      "6\n"
     ]
    }
   ],
   "source": [
    "var2 = 6\n",
    "print(var2)"
   ]
  },
  {
   "cell_type": "code",
   "execution_count": 184,
   "id": "cdf9eb3b-aff4-4cdf-b2c9-783e5c01cc2a",
   "metadata": {},
   "outputs": [
    {
     "name": "stdout",
     "output_type": "stream",
     "text": [
      "4.5\n"
     ]
    }
   ],
   "source": [
    "var3 = 4.5\n",
    "print(var3)"
   ]
  },
  {
   "cell_type": "markdown",
   "id": "31ee7ceb-3ac6-400e-891e-9a0e90c25f4f",
   "metadata": {},
   "source": [
    "Now that we know how to store a variable in Python let's try getting input from a user and storing it in Python"
   ]
  },
  {
   "cell_type": "code",
   "execution_count": 185,
   "id": "03a08e17-2d70-44d0-aeb2-af36932eac65",
   "metadata": {},
   "outputs": [],
   "source": [
    "#To get a input from a user we would use the 'input' function"
   ]
  },
  {
   "cell_type": "code",
   "execution_count": 186,
   "id": "2d5d038a-7a6c-470f-bf2e-0c1b7257fe4a",
   "metadata": {},
   "outputs": [
    {
     "name": "stdin",
     "output_type": "stream",
     "text": [
      "What's your favourite number? 5\n"
     ]
    },
    {
     "name": "stdout",
     "output_type": "stream",
     "text": [
      "5\n"
     ]
    }
   ],
   "source": [
    "number = input(\"What's your favourite number?\")\n",
    "print(number)"
   ]
  },
  {
   "cell_type": "code",
   "execution_count": 187,
   "id": "528bf182-5c9e-4ae6-916f-901c15c0a0a9",
   "metadata": {},
   "outputs": [
    {
     "name": "stdin",
     "output_type": "stream",
     "text": [
      "Enter your name :  John\n"
     ]
    },
    {
     "name": "stdout",
     "output_type": "stream",
     "text": [
      "Welcome John\n"
     ]
    }
   ],
   "source": [
    "#Let's try taking adding a string to the answer received\n",
    "name = input(\"Enter your name : \")\n",
    "print(\"Welcome\", name)"
   ]
  },
  {
   "cell_type": "code",
   "execution_count": 188,
   "id": "fa3efdf4-a3cb-48ec-949d-e7763c785a45",
   "metadata": {},
   "outputs": [
    {
     "name": "stdin",
     "output_type": "stream",
     "text": [
      "Enter your age :  29\n"
     ]
    },
    {
     "name": "stdout",
     "output_type": "stream",
     "text": [
      "You are 292929292929292929292929  month old\n"
     ]
    }
   ],
   "source": [
    "#That was helpful, could I also perform operation on input received?\n",
    "age = input(\"Enter your age : \")\n",
    "print(\"You are\", age * 12,\" month old\")"
   ]
  },
  {
   "cell_type": "code",
   "execution_count": 34,
   "id": "e95b121d-24fa-4d4c-90bd-b546fb13d9a1",
   "metadata": {},
   "outputs": [
    {
     "name": "stdin",
     "output_type": "stream",
     "text": [
      "Enter your age :  29\n"
     ]
    },
    {
     "name": "stdout",
     "output_type": "stream",
     "text": [
      "You are 348  month old\n"
     ]
    }
   ],
   "source": [
    "#Changing the the of variables type is called typecasting\n",
    "age = input(\"Enter your age : \")\n",
    "age = int(age)\n",
    "print(\"You are\", age * 12,\" month old\")"
   ]
  },
  {
   "cell_type": "markdown",
   "id": "310f21d5-c4f6-4739-9e52-9e54e23363d3",
   "metadata": {},
   "source": [
    "<h2 style=\"color:Brown\">How to find the Data Type for a variables in Python</h2>\n",
    "Here in the below piece of code you can see that we have assigned each variable with a particular value and use the type method we can check the datatype of the variable"
   ]
  },
  {
   "cell_type": "code",
   "execution_count": 190,
   "id": "6b3f86d3-b2a4-444c-9e66-bfea5405eae4",
   "metadata": {},
   "outputs": [],
   "source": [
    "integer_num = 1\n",
    "floating_num = 1.3\n",
    "string = 'Mike'\n",
    "boolean = True"
   ]
  },
  {
   "cell_type": "code",
   "execution_count": 191,
   "id": "a7f5e40d-dba4-4983-8e4e-5befca46cf4e",
   "metadata": {},
   "outputs": [
    {
     "data": {
      "text/plain": [
       "int"
      ]
     },
     "execution_count": 191,
     "metadata": {},
     "output_type": "execute_result"
    }
   ],
   "source": [
    "type(integer_num)"
   ]
  },
  {
   "cell_type": "code",
   "execution_count": 192,
   "id": "fd1ead14-8333-4398-9f63-0f7b6b8289de",
   "metadata": {},
   "outputs": [
    {
     "data": {
      "text/plain": [
       "float"
      ]
     },
     "execution_count": 192,
     "metadata": {},
     "output_type": "execute_result"
    }
   ],
   "source": [
    "type(floating_num)"
   ]
  },
  {
   "cell_type": "code",
   "execution_count": 193,
   "id": "6a4ce42f-cc69-453e-8801-a9d510e563ca",
   "metadata": {},
   "outputs": [
    {
     "data": {
      "text/plain": [
       "str"
      ]
     },
     "execution_count": 193,
     "metadata": {},
     "output_type": "execute_result"
    }
   ],
   "source": [
    "type(string)"
   ]
  },
  {
   "cell_type": "code",
   "execution_count": 194,
   "id": "49e27837-f7cf-4b39-840d-821a05d3cadf",
   "metadata": {},
   "outputs": [
    {
     "data": {
      "text/plain": [
       "bool"
      ]
     },
     "execution_count": 194,
     "metadata": {},
     "output_type": "execute_result"
    }
   ],
   "source": [
    "type(boolean)"
   ]
  },
  {
   "cell_type": "markdown",
   "id": "2b1f30eb-6e79-4960-b659-e9609bac449a",
   "metadata": {},
   "source": [
    "- Type Casting in Python"
   ]
  },
  {
   "cell_type": "code",
   "execution_count": 195,
   "id": "80a7d2b8-c725-4d3d-a4ca-ceeac9c110a2",
   "metadata": {},
   "outputs": [
    {
     "name": "stdout",
     "output_type": "stream",
     "text": [
      "True\n"
     ]
    }
   ],
   "source": [
    "a = 1 #integer variable\n",
    "print(bool(a))"
   ]
  },
  {
   "cell_type": "code",
   "execution_count": 196,
   "id": "c68e973d-0594-4ce1-9bb5-e82511d16b4a",
   "metadata": {},
   "outputs": [
    {
     "name": "stdout",
     "output_type": "stream",
     "text": [
      "1.0\n"
     ]
    }
   ],
   "source": [
    "print(float(a))"
   ]
  },
  {
   "cell_type": "code",
   "execution_count": 197,
   "id": "17188198-0cfb-4818-ba60-62a5f10ffef4",
   "metadata": {},
   "outputs": [
    {
     "name": "stdout",
     "output_type": "stream",
     "text": [
      "1\n"
     ]
    }
   ],
   "source": [
    "print(str(a))"
   ]
  },
  {
   "cell_type": "markdown",
   "id": "ca3cbf45-eea4-4076-81c7-4ddf5787db1c",
   "metadata": {},
   "source": [
    "- Question"
   ]
  },
  {
   "cell_type": "code",
   "execution_count": 198,
   "id": "fb056044-43ff-442c-91c5-6852a65483a7",
   "metadata": {},
   "outputs": [
    {
     "name": "stdout",
     "output_type": "stream",
     "text": [
      "3.0\n"
     ]
    }
   ],
   "source": [
    "#Float to Int; Back to Float!\n",
    "#What would be the output of the following code?\n",
    "\n",
    "x = 3.5\n",
    "print(float(int(x)))"
   ]
  },
  {
   "cell_type": "code",
   "execution_count": 199,
   "id": "aa9b52f3-d13d-473e-88ef-2d9d57687869",
   "metadata": {},
   "outputs": [
    {
     "ename": "NameError",
     "evalue": "name 'Varma' is not defined",
     "output_type": "error",
     "traceback": [
      "\u001b[1;31m---------------------------------------------------------------------------\u001b[0m",
      "\u001b[1;31mNameError\u001b[0m                                 Traceback (most recent call last)",
      "Cell \u001b[1;32mIn[199], line 4\u001b[0m\n\u001b[0;32m      1\u001b[0m \u001b[38;5;66;03m#What's Your Datatype?\u001b[39;00m\n\u001b[0;32m      2\u001b[0m \u001b[38;5;66;03m#What would be the output of the code given below?\u001b[39;00m\n\u001b[1;32m----> 4\u001b[0m name \u001b[38;5;241m=\u001b[39m Varma\n\u001b[0;32m      5\u001b[0m \u001b[38;5;28mprint\u001b[39m(\u001b[38;5;28mtype\u001b[39m(name))\n",
      "\u001b[1;31mNameError\u001b[0m: name 'Varma' is not defined"
     ]
    }
   ],
   "source": [
    "#What's Your Datatype?\n",
    "#What would be the output of the code given below?\n",
    "\n",
    "name = Varma\n",
    "print(type(name))"
   ]
  },
  {
   "cell_type": "markdown",
   "id": "d02e48b1-83ea-46d3-8907-5971c1883468",
   "metadata": {},
   "source": [
    "<h2 style=\"color:Brown\">Arithmatic Operations</h2>"
   ]
  },
  {
   "cell_type": "code",
   "execution_count": 82,
   "id": "ee045d0d-3c32-4d24-8eb8-1e593cf4628f",
   "metadata": {},
   "outputs": [
    {
     "name": "stdout",
     "output_type": "stream",
     "text": [
      "Addition = 24\n"
     ]
    }
   ],
   "source": [
    "a = 17\n",
    "b = 7\n",
    "print(\"Addition =\", a + b)"
   ]
  },
  {
   "cell_type": "code",
   "execution_count": 81,
   "id": "11f9fcd4-30ef-4c89-98b0-9e6f45cdcd45",
   "metadata": {},
   "outputs": [
    {
     "name": "stdout",
     "output_type": "stream",
     "text": [
      "Subtraction = 10\n"
     ]
    }
   ],
   "source": [
    "print(\"Subtraction =\", a - b)"
   ]
  },
  {
   "cell_type": "code",
   "execution_count": 80,
   "id": "0f418e79-7f44-47cd-a37a-89d47adf487a",
   "metadata": {},
   "outputs": [
    {
     "name": "stdout",
     "output_type": "stream",
     "text": [
      "Multiplication = 119\n"
     ]
    }
   ],
   "source": [
    "print(\"Multiplication =\", a * b)"
   ]
  },
  {
   "cell_type": "code",
   "execution_count": 79,
   "id": "f982986f-e1e5-461f-b68f-ffbf6c4090d5",
   "metadata": {},
   "outputs": [
    {
     "name": "stdout",
     "output_type": "stream",
     "text": [
      "Division =  2.4285714285714284\n"
     ]
    }
   ],
   "source": [
    "print(\"Division = \", a / b)"
   ]
  },
  {
   "cell_type": "code",
   "execution_count": 78,
   "id": "996ab3bb-f07e-4986-81a6-6260f764fa0e",
   "metadata": {},
   "outputs": [
    {
     "name": "stdout",
     "output_type": "stream",
     "text": [
      "Floor Division = 2\n"
     ]
    }
   ],
   "source": [
    "print(\"Floor Division =\", a // b)"
   ]
  },
  {
   "cell_type": "code",
   "execution_count": 77,
   "id": "6b282e1b-fe87-4477-857d-dbf7a853b101",
   "metadata": {},
   "outputs": [
    {
     "name": "stdout",
     "output_type": "stream",
     "text": [
      "Modulus or remainder = 3\n"
     ]
    }
   ],
   "source": [
    "print(\"Modulus or remainder =\", a % b) #17 = 2 * 7 + 3"
   ]
  },
  {
   "cell_type": "code",
   "execution_count": 76,
   "id": "5993639b-7852-4c6a-be2d-12f083116bc6",
   "metadata": {},
   "outputs": [
    {
     "name": "stdout",
     "output_type": "stream",
     "text": [
      "Exponential = 410338673\n"
     ]
    }
   ],
   "source": [
    "print(\"Exponential =\", a ** b) #410338673 = 17 ^ 7"
   ]
  },
  {
   "cell_type": "markdown",
   "id": "a499d705-d00c-4e91-9f9d-84fa5f9dba55",
   "metadata": {},
   "source": [
    "Now if you recall that the mathematical  operators follow a precedence rule called PEDMAS -\n",
    "Wherein the fist P is parenthesis, then it's E for exponents, M for multiplication, then D for division, A for addition and finally S for subtraction.\n",
    "\n",
    "Reference - [Python operator precedence](https://docs.python.org/3.7/reference/expressions.html?#operator-precedence)"
   ]
  },
  {
   "cell_type": "code",
   "execution_count": 75,
   "id": "1b3bcf9d-57ee-43b2-b74f-231efcadb07f",
   "metadata": {},
   "outputs": [
    {
     "name": "stdout",
     "output_type": "stream",
     "text": [
      "11.857142857142858\n"
     ]
    }
   ],
   "source": [
    "print((4 * 5) - 9 + 6 / 7)"
   ]
  },
  {
   "cell_type": "code",
   "execution_count": 83,
   "id": "d7589843-8055-4fd4-bd46-d1d274a5f4a4",
   "metadata": {},
   "outputs": [
    {
     "data": {
      "text/plain": [
       "0.8571428571428571"
      ]
     },
     "execution_count": 83,
     "metadata": {},
     "output_type": "execute_result"
    }
   ],
   "source": [
    "6 / 7"
   ]
  },
  {
   "cell_type": "markdown",
   "id": "4997e02d-d426-4852-854b-f75e39966591",
   "metadata": {},
   "source": [
    "- Question"
   ]
  },
  {
   "cell_type": "code",
   "execution_count": 85,
   "id": "70f57443-673b-42af-b443-bb06ff3f92b1",
   "metadata": {},
   "outputs": [
    {
     "ename": "NameError",
     "evalue": "name 'X' is not defined",
     "output_type": "error",
     "traceback": [
      "\u001b[1;31m---------------------------------------------------------------------------\u001b[0m",
      "\u001b[1;31mNameError\u001b[0m                                 Traceback (most recent call last)",
      "Cell \u001b[1;32mIn[85], line 7\u001b[0m\n\u001b[0;32m      5\u001b[0m y \u001b[38;5;241m=\u001b[39m \u001b[38;5;241m2.5\u001b[39m\n\u001b[0;32m      6\u001b[0m z \u001b[38;5;241m=\u001b[39m \u001b[38;5;241m5\u001b[39m\n\u001b[1;32m----> 7\u001b[0m \u001b[38;5;28mprint\u001b[39m(X \u001b[38;5;241m+\u001b[39m y \u001b[38;5;241m/\u001b[39m z)\n",
      "\u001b[1;31mNameError\u001b[0m: name 'X' is not defined"
     ]
    }
   ],
   "source": [
    "#Will this Run?\n",
    "#What would be the output of the following code?\n",
    "\n",
    "x = 3\n",
    "y = 2.5\n",
    "z = 5\n",
    "print(X + y / z)"
   ]
  },
  {
   "cell_type": "code",
   "execution_count": 89,
   "id": "4654b740-f639-4df1-bb5b-027ee8e7a6aa",
   "metadata": {},
   "outputs": [
    {
     "data": {
      "text/plain": [
       "-2"
      ]
     },
     "execution_count": 89,
     "metadata": {},
     "output_type": "execute_result"
    }
   ],
   "source": [
    "#Operator No. 1\n",
    "#Follow the operator precedence rule in Python and provide the output of the following expression:\n",
    "#https://docs.python.org/3.7/reference/expressions.html#operator-precedence\n",
    "\n",
    "4 % (1 + 9)**2 - 60 // (7 + 2)"
   ]
  },
  {
   "cell_type": "markdown",
   "id": "ed344d6b-a05f-47ec-8009-ad04ef3ed41c",
   "metadata": {},
   "source": [
    "<h2 style=\"color:Brown\">String Operations</h2>\n",
    "We should look at strings as a banner where multiple characters are linked together. The string data is an immutable type which means it cannot be modified."
   ]
  },
  {
   "cell_type": "code",
   "execution_count": 92,
   "id": "77745bbd-c69a-45ea-8b56-2a82323ed652",
   "metadata": {},
   "outputs": [
    {
     "name": "stdout",
     "output_type": "stream",
     "text": [
      "z Mike John\n"
     ]
    }
   ],
   "source": [
    "#Whenever we are assigning a char or string we use '' which represents a character\n",
    "c = 'z'\n",
    "d = 'Mike'\n",
    "#You can also use \" \" double quotes instead of single quotes for strings\n",
    "e = \"John\"\n",
    "print (c, d, e)"
   ]
  },
  {
   "cell_type": "markdown",
   "id": "3c693f39-57f6-42e7-91be-1fc7bf9cfe2e",
   "metadata": {},
   "source": [
    "- Question"
   ]
  },
  {
   "cell_type": "markdown",
   "id": "7d533c28-401c-462f-8e1c-73469c84a570",
   "metadata": {},
   "source": [
    "String recognition<br>\n",
    "Which among the following is a string?\n",
    "\n",
    "a = (123)<br>\n",
    "b = '123'<br>\n",
    "c = 'Mike'<br>\n",
    "d = [111]\n",
    "\n",
    "<i>The answer is b and d</i>"
   ]
  },
  {
   "cell_type": "code",
   "execution_count": 93,
   "id": "a11f793f-06b6-4a74-bce2-15ff3e4cfd47",
   "metadata": {},
   "outputs": [
    {
     "ename": "SyntaxError",
     "evalue": "unterminated string literal (detected at line 2) (3139492340.py, line 2)",
     "output_type": "error",
     "traceback": [
      "\u001b[1;36m  Cell \u001b[1;32mIn[93], line 2\u001b[1;36m\u001b[0m\n\u001b[1;33m    print('I didn't know that')\u001b[0m\n\u001b[1;37m                             ^\u001b[0m\n\u001b[1;31mSyntaxError\u001b[0m\u001b[1;31m:\u001b[0m unterminated string literal (detected at line 2)\n"
     ]
    }
   ],
   "source": [
    "#Now when we want to include words with a single quote such as \"didn't\", \"I'll\".. we might end up with a error\n",
    "print('I didn't know that')"
   ]
  },
  {
   "cell_type": "code",
   "execution_count": 94,
   "id": "28f29f8a-49e4-4b36-9d04-ac2a4199e600",
   "metadata": {},
   "outputs": [
    {
     "name": "stdout",
     "output_type": "stream",
     "text": [
      "I didn't know that\n"
     ]
    }
   ],
   "source": [
    "#Now to solve this we can use an escape character like \n",
    "print('I didn\\'t know that')"
   ]
  },
  {
   "cell_type": "code",
   "execution_count": 95,
   "id": "ed950734-60f4-4b61-97a3-725423e6b9b8",
   "metadata": {},
   "outputs": [
    {
     "name": "stdout",
     "output_type": "stream",
     "text": [
      "I didn't know that\n"
     ]
    }
   ],
   "source": [
    "# Or we can use double quotes\n",
    "print(\"I didn't know that\")"
   ]
  },
  {
   "cell_type": "code",
   "execution_count": 96,
   "id": "170bfd0e-ea62-4d7c-991b-2b5c6b3e051d",
   "metadata": {},
   "outputs": [
    {
     "name": "stdout",
     "output_type": "stream",
     "text": [
      "Hi Bob \n",
      "\n",
      "How are you?\n"
     ]
    }
   ],
   "source": [
    "#Now that '\\' escape character which we saw earlier can also be used for other stuff like adding a new line\n",
    "print(\"Hi Bob \\n\\nHow are you?\")"
   ]
  },
  {
   "cell_type": "markdown",
   "id": "243b2be5-4aa6-4f11-8694-53f51d3ac6d4",
   "metadata": {},
   "source": [
    "Now apart adding new lines to a string we can also add another to a pre-existing string, let's see how"
   ]
  },
  {
   "cell_type": "markdown",
   "id": "52ea03cf-a590-42af-a23c-d5ac6e06cf0d",
   "metadata": {},
   "source": [
    "### String Concatenation"
   ]
  },
  {
   "cell_type": "code",
   "execution_count": 200,
   "id": "faa32863-defe-4201-9cea-449c8b403dc2",
   "metadata": {},
   "outputs": [
    {
     "name": "stdin",
     "output_type": "stream",
     "text": [
      "What flavour would you like vanilla\n",
      "What type of dessert would you like ice cream\n"
     ]
    }
   ],
   "source": [
    "#Let's try building a system that could ask for flavour, and the type of desert user wants\n",
    "flavour = input(\"What flavour would you like\")\n",
    "dessert_type = input(\"What type of dessert would you like\")"
   ]
  },
  {
   "cell_type": "code",
   "execution_count": 104,
   "id": "d9070efe-778d-4c76-9cc5-cf09c01e769a",
   "metadata": {},
   "outputs": [
    {
     "name": "stdout",
     "output_type": "stream",
     "text": [
      "You have entered vanilla-ice cream\n"
     ]
    }
   ],
   "source": [
    "print(\"You have entered\", flavour + \"-\" + dessert_type)"
   ]
  },
  {
   "cell_type": "markdown",
   "id": "11ec3bd6-c30b-42ce-8c5f-c85030f633ee",
   "metadata": {},
   "source": [
    "Congrats on building a simple app using input and string functions. Let's take a step ahead and learn more about string manipulation"
   ]
  },
  {
   "cell_type": "markdown",
   "id": "43c7b439-8830-41e6-a8f2-10c76128c043",
   "metadata": {},
   "source": [
    "## String Manipulation"
   ]
  },
  {
   "cell_type": "markdown",
   "id": "97bce91c-ad2a-4e55-ac42-d87354cd71b4",
   "metadata": {},
   "source": [
    "#### Indexing In Strings\n",
    "- Forward indexing starts with 0\n",
    "- Reverse indexing starts with the last character as -1 in a python string\n",
    "- Strings are immutable which, means they cannot be changed once created.\n",
    "- Strings can be modified by slicing a part of it and concatenating with another"
   ]
  },
  {
   "cell_type": "code",
   "execution_count": 201,
   "id": "c568f1d1-78ed-4e1b-b438-762e5cff108d",
   "metadata": {},
   "outputs": [
    {
     "name": "stdout",
     "output_type": "stream",
     "text": [
      "82\n"
     ]
    }
   ],
   "source": [
    "#Len() function\n",
    "string = \"I have not failed. I've just found 10,000 ways that won't work. - Thomas A. Edison\"\n",
    "print (len(string))"
   ]
  },
  {
   "cell_type": "code",
   "execution_count": 149,
   "id": "fe131802-bbae-496d-ace7-ea71c9155223",
   "metadata": {},
   "outputs": [
    {
     "name": "stdout",
     "output_type": "stream",
     "text": [
      "I\n"
     ]
    }
   ],
   "source": [
    "#Accessing first character\n",
    "print (string[0])"
   ]
  },
  {
   "cell_type": "code",
   "execution_count": 150,
   "id": "038414a7-2b76-4009-9c88-b82c68b42aba",
   "metadata": {},
   "outputs": [
    {
     "name": "stdout",
     "output_type": "stream",
     "text": [
      "e\n"
     ]
    }
   ],
   "source": [
    "print (string[5])"
   ]
  },
  {
   "cell_type": "code",
   "execution_count": 151,
   "id": "0fb5ce97-c0da-408a-8a5a-51874e10ba59",
   "metadata": {},
   "outputs": [
    {
     "name": "stdout",
     "output_type": "stream",
     "text": [
      "n\n"
     ]
    }
   ],
   "source": [
    "print (string[81])"
   ]
  },
  {
   "cell_type": "code",
   "execution_count": 152,
   "id": "0f04ae30-425a-4ebd-b9e5-1bf62eff3296",
   "metadata": {},
   "outputs": [
    {
     "name": "stdout",
     "output_type": "stream",
     "text": [
      "n\n"
     ]
    }
   ],
   "source": [
    "#Accessing last character using negative indexing\n",
    "print (string[-1])"
   ]
  },
  {
   "cell_type": "code",
   "execution_count": 153,
   "id": "db7129db-b83b-4495-ab43-fc5e8133818a",
   "metadata": {},
   "outputs": [
    {
     "name": "stdout",
     "output_type": "stream",
     "text": [
      "o\n"
     ]
    }
   ],
   "source": [
    "print (string[-2])"
   ]
  },
  {
   "cell_type": "markdown",
   "id": "2f2b8acf-1852-4303-9989-0228e5431e39",
   "metadata": {},
   "source": [
    "- Question"
   ]
  },
  {
   "cell_type": "code",
   "execution_count": 154,
   "id": "2131a90a-6b39-4826-95ed-6c2383d028ff",
   "metadata": {},
   "outputs": [
    {
     "name": "stdout",
     "output_type": "stream",
     "text": [
      "n\n",
      "n\n",
      "i\n",
      "v\n"
     ]
    }
   ],
   "source": [
    "#String Indexing<br>\n",
    "#What is the index position of the character n.\n",
    "\n",
    "string = 'mvqugvqhc2ndoi'\n",
    "print (string[10])\n",
    "print (string[-4])\n",
    "print (string[-1])\n",
    "print (string[5])"
   ]
  },
  {
   "cell_type": "code",
   "execution_count": 155,
   "id": "c7333d51-dff2-4f6c-9b46-0c4dc6a8ad59",
   "metadata": {},
   "outputs": [
    {
     "ename": "TypeError",
     "evalue": "'str' object does not support item assignment",
     "output_type": "error",
     "traceback": [
      "\u001b[1;31m---------------------------------------------------------------------------\u001b[0m",
      "\u001b[1;31mTypeError\u001b[0m                                 Traceback (most recent call last)",
      "Cell \u001b[1;32mIn[155], line 2\u001b[0m\n\u001b[0;32m      1\u001b[0m \u001b[38;5;66;03m#Trying to change the character at index 2\u001b[39;00m\n\u001b[1;32m----> 2\u001b[0m string[\u001b[38;5;241m2\u001b[39m] \u001b[38;5;241m=\u001b[39m \u001b[38;5;124m'\u001b[39m\u001b[38;5;124mt\u001b[39m\u001b[38;5;124m'\u001b[39m\n",
      "\u001b[1;31mTypeError\u001b[0m: 'str' object does not support item assignment"
     ]
    }
   ],
   "source": [
    "#Trying to change the character at index 2\n",
    "string[2] = 't'"
   ]
  },
  {
   "cell_type": "code",
   "execution_count": 156,
   "id": "48b791b9-e557-471f-883d-2cd91f31deae",
   "metadata": {},
   "outputs": [
    {
     "name": "stdout",
     "output_type": "stream",
     "text": [
      "I have not failed. I’ve just found 10,000 ways that won’t work.” – Einstein\n"
     ]
    }
   ],
   "source": [
    "#Changing the entire string or say changing the label of it\n",
    "string = 'I have not failed. I’ve just found 10,000 ways that won’t work.” – Einstein'\n",
    "print (string)"
   ]
  },
  {
   "cell_type": "markdown",
   "id": "7907d4fe-4336-4968-8658-6421cf8d53c1",
   "metadata": {},
   "source": [
    "#### Slicing In Strings"
   ]
  },
  {
   "cell_type": "markdown",
   "id": "12b8c890-3a6c-48d6-b8f5-a39bab2e619d",
   "metadata": {},
   "source": [
    "- string[start:end:step]"
   ]
  },
  {
   "cell_type": "code",
   "execution_count": 157,
   "id": "fbd94dbd-93bc-4008-bda1-77647e93ba50",
   "metadata": {},
   "outputs": [
    {
     "name": "stdout",
     "output_type": "stream",
     "text": [
      "I have not failed. I’ve just found 10,000 ways that won’t work. \n"
     ]
    }
   ],
   "source": [
    "#slicing by specifying start and end index\n",
    "statement = \"I have not failed. I’ve just found 10,000 ways that won’t work. – Thomas A. Edison\"\n",
    "sliced_statement = statement[0:64]\n",
    "print (sliced_statement)"
   ]
  },
  {
   "cell_type": "code",
   "execution_count": 158,
   "id": "bcab0994-a651-4e5e-b74d-0fc6b23e5967",
   "metadata": {},
   "outputs": [
    {
     "name": "stdout",
     "output_type": "stream",
     "text": [
      "5 girls \n"
     ]
    }
   ],
   "source": [
    "batch = \"5 girls 3 boys in a class\"\n",
    "girls = batch [:8]\n",
    "print (girls)"
   ]
  },
  {
   "cell_type": "code",
   "execution_count": 159,
   "id": "cc095994-9f98-45e3-a7fe-e04986e948a4",
   "metadata": {},
   "outputs": [
    {
     "name": "stdout",
     "output_type": "stream",
     "text": [
      "3 boys in a class\n"
     ]
    }
   ],
   "source": [
    "print (batch[8:])"
   ]
  },
  {
   "cell_type": "code",
   "execution_count": 202,
   "id": "3b415621-2b82-4b7f-b60f-70080268a13f",
   "metadata": {},
   "outputs": [
    {
     "name": "stdout",
     "output_type": "stream",
     "text": [
      "False\n"
     ]
    }
   ],
   "source": [
    "#Membership\n",
    "String = \"John! Did you attend the conference on advanced machine learning\"\n",
    "print ('Lincoln' in String)"
   ]
  },
  {
   "cell_type": "code",
   "execution_count": 161,
   "id": "b329f603-66f1-4dcf-b324-66789da0968e",
   "metadata": {},
   "outputs": [
    {
     "name": "stdout",
     "output_type": "stream",
     "text": [
      "True\n"
     ]
    }
   ],
   "source": [
    "print ('John' in String)"
   ]
  },
  {
   "cell_type": "code",
   "execution_count": 162,
   "id": "5d688ef3-1f08-45d5-8215-a988121c2b36",
   "metadata": {},
   "outputs": [
    {
     "name": "stdout",
     "output_type": "stream",
     "text": [
      "True\n"
     ]
    }
   ],
   "source": [
    "print ('Behzad' not in String)"
   ]
  },
  {
   "cell_type": "markdown",
   "id": "61e7562e-4a01-4cce-a690-dee708e1ea7b",
   "metadata": {},
   "source": [
    "- Question"
   ]
  },
  {
   "cell_type": "code",
   "execution_count": 163,
   "id": "e2ebe5be-690d-4d72-982a-a8a8aa2ec379",
   "metadata": {},
   "outputs": [
    {
     "name": "stdout",
     "output_type": "stream",
     "text": [
      "Python\n",
      "Pytho\n",
      "\n",
      "Python\n"
     ]
    }
   ],
   "source": [
    "#I Love Python!\n",
    "#How will you extract Python from the string word \"I love Python programming\"? (More than one options may be correct.)\n",
    "\n",
    "string = \"I love Python programming\"\n",
    "print (string[7:13])\n",
    "print (string[7:12])\n",
    "print (string[-12:-18])\n",
    "print (string[-18:-12])"
   ]
  },
  {
   "cell_type": "code",
   "execution_count": 164,
   "id": "5b2c6ef7-16de-4bba-ae8b-d60a748f8593",
   "metadata": {},
   "outputs": [
    {
     "name": "stdout",
     "output_type": "stream",
     "text": [
      "e\n"
     ]
    }
   ],
   "source": [
    "#Operations on Strings?!\n",
    "#The len() function in Python returns the length of the string when a string is passed as an argument. For example, len(‘Python’) would return an integer value 6.\n",
    "#With this in mind, what would be the output of the following code?\n",
    "\n",
    "x = 'len'\n",
    "print (x[len(x * 2) - 5])"
   ]
  },
  {
   "cell_type": "markdown",
   "id": "6061a345-faae-4927-9230-a4aade35c288",
   "metadata": {},
   "source": [
    "#### String methods\n",
    "- upper()\n",
    "- lower()\n",
    "- strip()\n",
    "- count(substring,begin,end)\n",
    "- https://docs.python.org/3.7/library/stdtypes.html#string-methods"
   ]
  },
  {
   "cell_type": "code",
   "execution_count": 203,
   "id": "f0933ccd-08b5-4d39-a288-337929ef3114",
   "metadata": {},
   "outputs": [
    {
     "data": {
      "text/plain": [
       "'I AM UPPER CASED'"
      ]
     },
     "execution_count": 203,
     "metadata": {},
     "output_type": "execute_result"
    }
   ],
   "source": [
    "#upper()\n",
    "small = \"I am upper cased\"\n",
    "small.upper()"
   ]
  },
  {
   "cell_type": "code",
   "execution_count": 204,
   "id": "334c99d8-49e0-4f5a-96d3-be653905e9e1",
   "metadata": {},
   "outputs": [
    {
     "data": {
      "text/plain": [
       "'i am lower cased'"
      ]
     },
     "execution_count": 204,
     "metadata": {},
     "output_type": "execute_result"
    }
   ],
   "source": [
    "#lower()\n",
    "large = \"I AM LOWER CASED\"\n",
    "large.lower()"
   ]
  },
  {
   "cell_type": "code",
   "execution_count": 210,
   "id": "d22eff52-e16d-4ab2-93f4-2d5f13f58e49",
   "metadata": {},
   "outputs": [
    {
     "name": "stdout",
     "output_type": "stream",
     "text": [
      "There is a space at the end    \n"
     ]
    }
   ],
   "source": [
    "#rstrip() function\n",
    "some_sentence = \"There is a space at the end    \"\n",
    "print (some_sentence)"
   ]
  },
  {
   "cell_type": "code",
   "execution_count": 206,
   "id": "c4ea7659-51ee-4c4a-b930-f3a8024a9056",
   "metadata": {},
   "outputs": [
    {
     "name": "stdout",
     "output_type": "stream",
     "text": [
      "There is a space at the end\n"
     ]
    }
   ],
   "source": [
    "print (some_sentence.rstrip())"
   ]
  },
  {
   "cell_type": "code",
   "execution_count": 212,
   "id": "74dc18bb-ae5b-454a-b69e-faed9f4a882e",
   "metadata": {},
   "outputs": [
    {
     "name": "stdout",
     "output_type": "stream",
     "text": [
      "There is a space at the end    aaa\n"
     ]
    }
   ],
   "source": [
    "some_sentence = \"There is a space at the end    aaa\"\n",
    "print (some_sentence)"
   ]
  },
  {
   "cell_type": "code",
   "execution_count": 213,
   "id": "6b895114-d840-427d-8cb1-5ef4a7de85b5",
   "metadata": {},
   "outputs": [
    {
     "name": "stdout",
     "output_type": "stream",
     "text": [
      "There is a space at the end    \n"
     ]
    }
   ],
   "source": [
    "print (some_sentence.rstrip('a'))"
   ]
  },
  {
   "cell_type": "code",
   "execution_count": 216,
   "id": "17c19360-a4fc-4728-8f92-263c7f4f84d7",
   "metadata": {},
   "outputs": [
    {
     "name": "stdout",
     "output_type": "stream",
     "text": [
      "    There is space at the start\n"
     ]
    }
   ],
   "source": [
    "#lstrip() function\n",
    "start = \"    There is space at the start\"\n",
    "print (start)"
   ]
  },
  {
   "cell_type": "code",
   "execution_count": 217,
   "id": "d96af7e5-0f07-4a51-ae8e-a091385fca20",
   "metadata": {},
   "outputs": [
    {
     "name": "stdout",
     "output_type": "stream",
     "text": [
      "There is space at the start\n"
     ]
    }
   ],
   "source": [
    "print (start.lstrip())"
   ]
  },
  {
   "cell_type": "markdown",
   "id": "cf487e55-c614-474a-828d-fcdae0db750d",
   "metadata": {},
   "source": [
    "- Question"
   ]
  },
  {
   "cell_type": "code",
   "execution_count": 209,
   "id": "cd05ce9d-3b28-486a-a721-27fe02c43db6",
   "metadata": {},
   "outputs": [
    {
     "name": "stdout",
     "output_type": "stream",
     "text": [
      "mumbai23\n"
     ]
    }
   ],
   "source": [
    "#String manipulation\n",
    "#Suppose the following string is given:\n",
    "string = '******mumbai23#####'\n",
    "#To remove the characters '*' and '#' which methods will be used?\n",
    "\n",
    "print(string.lstrip('*').rstrip('########'))"
   ]
  },
  {
   "cell_type": "code",
   "execution_count": 219,
   "id": "a730373b-bc44-478c-a5c3-4d34de8aaeab",
   "metadata": {},
   "outputs": [
    {
     "name": "stdout",
     "output_type": "stream",
     "text": [
      "    Trip whitespaces    \n",
      "Trip whitespaces\n"
     ]
    }
   ],
   "source": [
    "#strip() function\n",
    "spaces = \"    Trip whitespaces    \"\n",
    "print (spaces)"
   ]
  },
  {
   "cell_type": "code",
   "execution_count": 220,
   "id": "7f236590-c47c-48c0-a5ec-572d624e8db6",
   "metadata": {},
   "outputs": [
    {
     "name": "stdout",
     "output_type": "stream",
     "text": [
      "Trip whitespaces\n"
     ]
    }
   ],
   "source": [
    "print (spaces.strip())"
   ]
  },
  {
   "cell_type": "code",
   "execution_count": 221,
   "id": "c17d40f2-f02c-45cc-98cf-7355bb5d8aa8",
   "metadata": {},
   "outputs": [
    {
     "name": "stdout",
     "output_type": "stream",
     "text": [
      "444\n"
     ]
    }
   ],
   "source": [
    "num_with_chars = '******444#######'\n",
    "print (num_with_chars.rstrip('#').lstrip('*'))"
   ]
  },
  {
   "cell_type": "code",
   "execution_count": 223,
   "id": "167007e5-edad-4d44-848b-858e11ac6a43",
   "metadata": {},
   "outputs": [
    {
     "name": "stdout",
     "output_type": "stream",
     "text": [
      "['Hello', 'World!']\n"
     ]
    }
   ],
   "source": [
    "#split()\n",
    "a = \"Hello World!\"\n",
    "print (a.split(\" \")) #returns ['Hello', 'World!']"
   ]
  },
  {
   "cell_type": "code",
   "execution_count": 225,
   "id": "b08092cb-9b83-4565-93ed-ba8783f04832",
   "metadata": {},
   "outputs": [
    {
     "name": "stdout",
     "output_type": "stream",
     "text": [
      "2\n"
     ]
    }
   ],
   "source": [
    "#count() method\n",
    "string = \"This is a sample sentence\"\n",
    "print (string.count('i'))"
   ]
  },
  {
   "cell_type": "code",
   "execution_count": 228,
   "id": "0abc346f-b8f6-41c8-82f2-858b5e91ea74",
   "metadata": {},
   "outputs": [
    {
     "name": "stdout",
     "output_type": "stream",
     "text": [
      "1\n"
     ]
    }
   ],
   "source": [
    "print (string.count('i', 5))"
   ]
  },
  {
   "cell_type": "code",
   "execution_count": 230,
   "id": "79c41843-5856-4ee8-af80-c1351bb44ec9",
   "metadata": {},
   "outputs": [
    {
     "name": "stdout",
     "output_type": "stream",
     "text": [
      "2\n"
     ]
    }
   ],
   "source": [
    "print (string.count('i', 2))"
   ]
  },
  {
   "cell_type": "markdown",
   "id": "9349740b-9401-4a75-8351-479124105479",
   "metadata": {},
   "source": [
    "- Question"
   ]
  },
  {
   "cell_type": "code",
   "execution_count": 224,
   "id": "9c1bef0c-45c2-4877-9655-d4fc517a3d43",
   "metadata": {},
   "outputs": [
    {
     "name": "stdout",
     "output_type": "stream",
     "text": [
      "2\n"
     ]
    }
   ],
   "source": [
    "#String occurrences\n",
    "string = 'I love breaking bad'\n",
    "#Find the number of occurrences of the character 'a' in the string.\n",
    "\n",
    "print (string.count('a'))"
   ]
  },
  {
   "cell_type": "code",
   "execution_count": 231,
   "id": "248156f3-1554-4bf8-9605-10907c311822",
   "metadata": {},
   "outputs": [
    {
     "name": "stdout",
     "output_type": "stream",
     "text": [
      "Data Analysis using Pandas\n"
     ]
    }
   ],
   "source": [
    "#r/R It is used to specify the raw string.% It is used to perform string formatting.\n",
    "A = \"Data\"\n",
    "B = \"Analysis\"\n",
    "C = \"Pandas\"\n",
    "\n",
    "print (A, B, 'using', C)"
   ]
  },
  {
   "cell_type": "code",
   "execution_count": 232,
   "id": "6b2592f7-d282-4de3-90ee-1377954629ec",
   "metadata": {},
   "outputs": [
    {
     "name": "stdout",
     "output_type": "stream",
     "text": [
      "Data Analysis using Pandas\n"
     ]
    }
   ],
   "source": [
    "print (\"{0} {1} using {2}\".format(A,B,C))"
   ]
  },
  {
   "cell_type": "code",
   "execution_count": 236,
   "id": "39b3ad69-14d2-4b60-8fa3-064ba3ed89a3",
   "metadata": {},
   "outputs": [
    {
     "name": "stdout",
     "output_type": "stream",
     "text": [
      "Help on class str in module builtins:\n",
      "\n",
      "class str(object)\n",
      " |  str(object='') -> str\n",
      " |  str(bytes_or_buffer[, encoding[, errors]]) -> str\n",
      " |\n",
      " |  Create a new string object from the given object. If encoding or\n",
      " |  errors is specified, then the object must expose a data buffer\n",
      " |  that will be decoded using the given encoding and error handler.\n",
      " |  Otherwise, returns the result of object.__str__() (if defined)\n",
      " |  or repr(object).\n",
      " |  encoding defaults to sys.getdefaultencoding().\n",
      " |  errors defaults to 'strict'.\n",
      " |\n",
      " |  Methods defined here:\n",
      " |\n",
      " |  __add__(self, value, /)\n",
      " |      Return self+value.\n",
      " |\n",
      " |  __contains__(self, key, /)\n",
      " |      Return bool(key in self).\n",
      " |\n",
      " |  __eq__(self, value, /)\n",
      " |      Return self==value.\n",
      " |\n",
      " |  __format__(self, format_spec, /)\n",
      " |      Return a formatted version of the string as described by format_spec.\n",
      " |\n",
      " |  __ge__(self, value, /)\n",
      " |      Return self>=value.\n",
      " |\n",
      " |  __getattribute__(self, name, /)\n",
      " |      Return getattr(self, name).\n",
      " |\n",
      " |  __getitem__(self, key, /)\n",
      " |      Return self[key].\n",
      " |\n",
      " |  __getnewargs__(...)\n",
      " |\n",
      " |  __gt__(self, value, /)\n",
      " |      Return self>value.\n",
      " |\n",
      " |  __hash__(self, /)\n",
      " |      Return hash(self).\n",
      " |\n",
      " |  __iter__(self, /)\n",
      " |      Implement iter(self).\n",
      " |\n",
      " |  __le__(self, value, /)\n",
      " |      Return self<=value.\n",
      " |\n",
      " |  __len__(self, /)\n",
      " |      Return len(self).\n",
      " |\n",
      " |  __lt__(self, value, /)\n",
      " |      Return self<value.\n",
      " |\n",
      " |  __mod__(self, value, /)\n",
      " |      Return self%value.\n",
      " |\n",
      " |  __mul__(self, value, /)\n",
      " |      Return self*value.\n",
      " |\n",
      " |  __ne__(self, value, /)\n",
      " |      Return self!=value.\n",
      " |\n",
      " |  __repr__(self, /)\n",
      " |      Return repr(self).\n",
      " |\n",
      " |  __rmod__(self, value, /)\n",
      " |      Return value%self.\n",
      " |\n",
      " |  __rmul__(self, value, /)\n",
      " |      Return value*self.\n",
      " |\n",
      " |  __sizeof__(self, /)\n",
      " |      Return the size of the string in memory, in bytes.\n",
      " |\n",
      " |  __str__(self, /)\n",
      " |      Return str(self).\n",
      " |\n",
      " |  capitalize(self, /)\n",
      " |      Return a capitalized version of the string.\n",
      " |\n",
      " |      More specifically, make the first character have upper case and the rest lower\n",
      " |      case.\n",
      " |\n",
      " |  casefold(self, /)\n",
      " |      Return a version of the string suitable for caseless comparisons.\n",
      " |\n",
      " |  center(self, width, fillchar=' ', /)\n",
      " |      Return a centered string of length width.\n",
      " |\n",
      " |      Padding is done using the specified fill character (default is a space).\n",
      " |\n",
      " |  count(...)\n",
      " |      S.count(sub[, start[, end]]) -> int\n",
      " |\n",
      " |      Return the number of non-overlapping occurrences of substring sub in\n",
      " |      string S[start:end].  Optional arguments start and end are\n",
      " |      interpreted as in slice notation.\n",
      " |\n",
      " |  encode(self, /, encoding='utf-8', errors='strict')\n",
      " |      Encode the string using the codec registered for encoding.\n",
      " |\n",
      " |      encoding\n",
      " |        The encoding in which to encode the string.\n",
      " |      errors\n",
      " |        The error handling scheme to use for encoding errors.\n",
      " |        The default is 'strict' meaning that encoding errors raise a\n",
      " |        UnicodeEncodeError.  Other possible values are 'ignore', 'replace' and\n",
      " |        'xmlcharrefreplace' as well as any other name registered with\n",
      " |        codecs.register_error that can handle UnicodeEncodeErrors.\n",
      " |\n",
      " |  endswith(...)\n",
      " |      S.endswith(suffix[, start[, end]]) -> bool\n",
      " |\n",
      " |      Return True if S ends with the specified suffix, False otherwise.\n",
      " |      With optional start, test S beginning at that position.\n",
      " |      With optional end, stop comparing S at that position.\n",
      " |      suffix can also be a tuple of strings to try.\n",
      " |\n",
      " |  expandtabs(self, /, tabsize=8)\n",
      " |      Return a copy where all tab characters are expanded using spaces.\n",
      " |\n",
      " |      If tabsize is not given, a tab size of 8 characters is assumed.\n",
      " |\n",
      " |  find(...)\n",
      " |      S.find(sub[, start[, end]]) -> int\n",
      " |\n",
      " |      Return the lowest index in S where substring sub is found,\n",
      " |      such that sub is contained within S[start:end].  Optional\n",
      " |      arguments start and end are interpreted as in slice notation.\n",
      " |\n",
      " |      Return -1 on failure.\n",
      " |\n",
      " |  format(...)\n",
      " |      S.format(*args, **kwargs) -> str\n",
      " |\n",
      " |      Return a formatted version of S, using substitutions from args and kwargs.\n",
      " |      The substitutions are identified by braces ('{' and '}').\n",
      " |\n",
      " |  format_map(...)\n",
      " |      S.format_map(mapping) -> str\n",
      " |\n",
      " |      Return a formatted version of S, using substitutions from mapping.\n",
      " |      The substitutions are identified by braces ('{' and '}').\n",
      " |\n",
      " |  index(...)\n",
      " |      S.index(sub[, start[, end]]) -> int\n",
      " |\n",
      " |      Return the lowest index in S where substring sub is found,\n",
      " |      such that sub is contained within S[start:end].  Optional\n",
      " |      arguments start and end are interpreted as in slice notation.\n",
      " |\n",
      " |      Raises ValueError when the substring is not found.\n",
      " |\n",
      " |  isalnum(self, /)\n",
      " |      Return True if the string is an alpha-numeric string, False otherwise.\n",
      " |\n",
      " |      A string is alpha-numeric if all characters in the string are alpha-numeric and\n",
      " |      there is at least one character in the string.\n",
      " |\n",
      " |  isalpha(self, /)\n",
      " |      Return True if the string is an alphabetic string, False otherwise.\n",
      " |\n",
      " |      A string is alphabetic if all characters in the string are alphabetic and there\n",
      " |      is at least one character in the string.\n",
      " |\n",
      " |  isascii(self, /)\n",
      " |      Return True if all characters in the string are ASCII, False otherwise.\n",
      " |\n",
      " |      ASCII characters have code points in the range U+0000-U+007F.\n",
      " |      Empty string is ASCII too.\n",
      " |\n",
      " |  isdecimal(self, /)\n",
      " |      Return True if the string is a decimal string, False otherwise.\n",
      " |\n",
      " |      A string is a decimal string if all characters in the string are decimal and\n",
      " |      there is at least one character in the string.\n",
      " |\n",
      " |  isdigit(self, /)\n",
      " |      Return True if the string is a digit string, False otherwise.\n",
      " |\n",
      " |      A string is a digit string if all characters in the string are digits and there\n",
      " |      is at least one character in the string.\n",
      " |\n",
      " |  isidentifier(self, /)\n",
      " |      Return True if the string is a valid Python identifier, False otherwise.\n",
      " |\n",
      " |      Call keyword.iskeyword(s) to test whether string s is a reserved identifier,\n",
      " |      such as \"def\" or \"class\".\n",
      " |\n",
      " |  islower(self, /)\n",
      " |      Return True if the string is a lowercase string, False otherwise.\n",
      " |\n",
      " |      A string is lowercase if all cased characters in the string are lowercase and\n",
      " |      there is at least one cased character in the string.\n",
      " |\n",
      " |  isnumeric(self, /)\n",
      " |      Return True if the string is a numeric string, False otherwise.\n",
      " |\n",
      " |      A string is numeric if all characters in the string are numeric and there is at\n",
      " |      least one character in the string.\n",
      " |\n",
      " |  isprintable(self, /)\n",
      " |      Return True if the string is printable, False otherwise.\n",
      " |\n",
      " |      A string is printable if all of its characters are considered printable in\n",
      " |      repr() or if it is empty.\n",
      " |\n",
      " |  isspace(self, /)\n",
      " |      Return True if the string is a whitespace string, False otherwise.\n",
      " |\n",
      " |      A string is whitespace if all characters in the string are whitespace and there\n",
      " |      is at least one character in the string.\n",
      " |\n",
      " |  istitle(self, /)\n",
      " |      Return True if the string is a title-cased string, False otherwise.\n",
      " |\n",
      " |      In a title-cased string, upper- and title-case characters may only\n",
      " |      follow uncased characters and lowercase characters only cased ones.\n",
      " |\n",
      " |  isupper(self, /)\n",
      " |      Return True if the string is an uppercase string, False otherwise.\n",
      " |\n",
      " |      A string is uppercase if all cased characters in the string are uppercase and\n",
      " |      there is at least one cased character in the string.\n",
      " |\n",
      " |  join(self, iterable, /)\n",
      " |      Concatenate any number of strings.\n",
      " |\n",
      " |      The string whose method is called is inserted in between each given string.\n",
      " |      The result is returned as a new string.\n",
      " |\n",
      " |      Example: '.'.join(['ab', 'pq', 'rs']) -> 'ab.pq.rs'\n",
      " |\n",
      " |  ljust(self, width, fillchar=' ', /)\n",
      " |      Return a left-justified string of length width.\n",
      " |\n",
      " |      Padding is done using the specified fill character (default is a space).\n",
      " |\n",
      " |  lower(self, /)\n",
      " |      Return a copy of the string converted to lowercase.\n",
      " |\n",
      " |  lstrip(self, chars=None, /)\n",
      " |      Return a copy of the string with leading whitespace removed.\n",
      " |\n",
      " |      If chars is given and not None, remove characters in chars instead.\n",
      " |\n",
      " |  partition(self, sep, /)\n",
      " |      Partition the string into three parts using the given separator.\n",
      " |\n",
      " |      This will search for the separator in the string.  If the separator is found,\n",
      " |      returns a 3-tuple containing the part before the separator, the separator\n",
      " |      itself, and the part after it.\n",
      " |\n",
      " |      If the separator is not found, returns a 3-tuple containing the original string\n",
      " |      and two empty strings.\n",
      " |\n",
      " |  removeprefix(self, prefix, /)\n",
      " |      Return a str with the given prefix string removed if present.\n",
      " |\n",
      " |      If the string starts with the prefix string, return string[len(prefix):].\n",
      " |      Otherwise, return a copy of the original string.\n",
      " |\n",
      " |  removesuffix(self, suffix, /)\n",
      " |      Return a str with the given suffix string removed if present.\n",
      " |\n",
      " |      If the string ends with the suffix string and that suffix is not empty,\n",
      " |      return string[:-len(suffix)]. Otherwise, return a copy of the original\n",
      " |      string.\n",
      " |\n",
      " |  replace(self, old, new, count=-1, /)\n",
      " |      Return a copy with all occurrences of substring old replaced by new.\n",
      " |\n",
      " |        count\n",
      " |          Maximum number of occurrences to replace.\n",
      " |          -1 (the default value) means replace all occurrences.\n",
      " |\n",
      " |      If the optional argument count is given, only the first count occurrences are\n",
      " |      replaced.\n",
      " |\n",
      " |  rfind(...)\n",
      " |      S.rfind(sub[, start[, end]]) -> int\n",
      " |\n",
      " |      Return the highest index in S where substring sub is found,\n",
      " |      such that sub is contained within S[start:end].  Optional\n",
      " |      arguments start and end are interpreted as in slice notation.\n",
      " |\n",
      " |      Return -1 on failure.\n",
      " |\n",
      " |  rindex(...)\n",
      " |      S.rindex(sub[, start[, end]]) -> int\n",
      " |\n",
      " |      Return the highest index in S where substring sub is found,\n",
      " |      such that sub is contained within S[start:end].  Optional\n",
      " |      arguments start and end are interpreted as in slice notation.\n",
      " |\n",
      " |      Raises ValueError when the substring is not found.\n",
      " |\n",
      " |  rjust(self, width, fillchar=' ', /)\n",
      " |      Return a right-justified string of length width.\n",
      " |\n",
      " |      Padding is done using the specified fill character (default is a space).\n",
      " |\n",
      " |  rpartition(self, sep, /)\n",
      " |      Partition the string into three parts using the given separator.\n",
      " |\n",
      " |      This will search for the separator in the string, starting at the end. If\n",
      " |      the separator is found, returns a 3-tuple containing the part before the\n",
      " |      separator, the separator itself, and the part after it.\n",
      " |\n",
      " |      If the separator is not found, returns a 3-tuple containing two empty strings\n",
      " |      and the original string.\n",
      " |\n",
      " |  rsplit(self, /, sep=None, maxsplit=-1)\n",
      " |      Return a list of the substrings in the string, using sep as the separator string.\n",
      " |\n",
      " |        sep\n",
      " |          The separator used to split the string.\n",
      " |\n",
      " |          When set to None (the default value), will split on any whitespace\n",
      " |          character (including \\n \\r \\t \\f and spaces) and will discard\n",
      " |          empty strings from the result.\n",
      " |        maxsplit\n",
      " |          Maximum number of splits.\n",
      " |          -1 (the default value) means no limit.\n",
      " |\n",
      " |      Splitting starts at the end of the string and works to the front.\n",
      " |\n",
      " |  rstrip(self, chars=None, /)\n",
      " |      Return a copy of the string with trailing whitespace removed.\n",
      " |\n",
      " |      If chars is given and not None, remove characters in chars instead.\n",
      " |\n",
      " |  split(self, /, sep=None, maxsplit=-1)\n",
      " |      Return a list of the substrings in the string, using sep as the separator string.\n",
      " |\n",
      " |        sep\n",
      " |          The separator used to split the string.\n",
      " |\n",
      " |          When set to None (the default value), will split on any whitespace\n",
      " |          character (including \\n \\r \\t \\f and spaces) and will discard\n",
      " |          empty strings from the result.\n",
      " |        maxsplit\n",
      " |          Maximum number of splits.\n",
      " |          -1 (the default value) means no limit.\n",
      " |\n",
      " |      Splitting starts at the front of the string and works to the end.\n",
      " |\n",
      " |      Note, str.split() is mainly useful for data that has been intentionally\n",
      " |      delimited.  With natural text that includes punctuation, consider using\n",
      " |      the regular expression module.\n",
      " |\n",
      " |  splitlines(self, /, keepends=False)\n",
      " |      Return a list of the lines in the string, breaking at line boundaries.\n",
      " |\n",
      " |      Line breaks are not included in the resulting list unless keepends is given and\n",
      " |      true.\n",
      " |\n",
      " |  startswith(...)\n",
      " |      S.startswith(prefix[, start[, end]]) -> bool\n",
      " |\n",
      " |      Return True if S starts with the specified prefix, False otherwise.\n",
      " |      With optional start, test S beginning at that position.\n",
      " |      With optional end, stop comparing S at that position.\n",
      " |      prefix can also be a tuple of strings to try.\n",
      " |\n",
      " |  strip(self, chars=None, /)\n",
      " |      Return a copy of the string with leading and trailing whitespace removed.\n",
      " |\n",
      " |      If chars is given and not None, remove characters in chars instead.\n",
      " |\n",
      " |  swapcase(self, /)\n",
      " |      Convert uppercase characters to lowercase and lowercase characters to uppercase.\n",
      " |\n",
      " |  title(self, /)\n",
      " |      Return a version of the string where each word is titlecased.\n",
      " |\n",
      " |      More specifically, words start with uppercased characters and all remaining\n",
      " |      cased characters have lower case.\n",
      " |\n",
      " |  translate(self, table, /)\n",
      " |      Replace each character in the string using the given translation table.\n",
      " |\n",
      " |        table\n",
      " |          Translation table, which must be a mapping of Unicode ordinals to\n",
      " |          Unicode ordinals, strings, or None.\n",
      " |\n",
      " |      The table must implement lookup/indexing via __getitem__, for instance a\n",
      " |      dictionary or list.  If this operation raises LookupError, the character is\n",
      " |      left untouched.  Characters mapped to None are deleted.\n",
      " |\n",
      " |  upper(self, /)\n",
      " |      Return a copy of the string converted to uppercase.\n",
      " |\n",
      " |  zfill(self, width, /)\n",
      " |      Pad a numeric string with zeros on the left, to fill a field of the given width.\n",
      " |\n",
      " |      The string is never truncated.\n",
      " |\n",
      " |  ----------------------------------------------------------------------\n",
      " |  Static methods defined here:\n",
      " |\n",
      " |  __new__(*args, **kwargs)\n",
      " |      Create and return a new object.  See help(type) for accurate signature.\n",
      " |\n",
      " |  maketrans(...)\n",
      " |      Return a translation table usable for str.translate().\n",
      " |\n",
      " |      If there is only one argument, it must be a dictionary mapping Unicode\n",
      " |      ordinals (integers) or characters to Unicode ordinals, strings or None.\n",
      " |      Character keys will be then converted to ordinals.\n",
      " |      If there are two arguments, they must be strings of equal length, and\n",
      " |      in the resulting dictionary, each character in x will be mapped to the\n",
      " |      character at the same position in y. If there is a third argument, it\n",
      " |      must be a string, whose characters will be mapped to None in the result.\n",
      "\n"
     ]
    }
   ],
   "source": [
    "#Now there are a plenty of other string operations available in Python you could explore those using - \n",
    "help(str)\n",
    "#Ignore the methods with a double underscore, for now, those are called the magic methods and we have seen enough magic for the day to be a Python Wizard!!"
   ]
  },
  {
   "cell_type": "markdown",
   "id": "1db1e125-af3c-4d7b-b474-55ccb9c39d49",
   "metadata": {},
   "source": [
    "- Practice"
   ]
  },
  {
   "cell_type": "markdown",
   "id": "ccba20f4-4a34-4a67-894e-a3a01b2626d0",
   "metadata": {},
   "source": [
    "<h5>String Problem</h5>\n",
    "<b>Description</b><br>\n",
    "In a certain encrypted message which has information about the location(area, city), the characters are jumbled such that first character of the first word is followed by the first character of the second word, then it is followed by second character of the first word and so on<br>\n",
    "In other words, let’s say the location is bandra,mumbai<br>\n",
    "The encrypted message says ‘bmaunmdbraai’.<br>\n",
    "<br>\n",
    "<b>Sample Input:</b><br>\n",
    "bmaunmdbraai<br>\n",
    "<br>\n",
    "<b>Sample Output:</b><br>\n",
    "bandra,mumbai<br>\n",
    "<br>\n",
    "Let’s say the size or length of the two words wouldn’t match then the smaller word is appended with # and then encrypted in the above format.<br>\n",
    "With this in mind write a code to identify the right location and print it as place,city.<br>\n",
    "<br>\n",
    "<b>Execution time limit</b><br>\n",
    "#10 seconds"
   ]
  },
  {
   "cell_type": "code",
   "execution_count": 12,
   "id": "3ae82182-90ef-4211-b468-b5e1e5eae411",
   "metadata": {},
   "outputs": [
    {
     "name": "stdout",
     "output_type": "stream",
     "text": [
      "chembur,mumbai\n"
     ]
    }
   ],
   "source": [
    "input_str = \"cmhuemmbbauir#\"\n",
    "message1 = input_str[0:-1:2]\n",
    "message2 = input_str[1:len(input_str):2]\n",
    "print(message1.strip('#') + \",\" + message2.strip('#'))"
   ]
  },
  {
   "cell_type": "code",
   "execution_count": 13,
   "id": "2e2363f3-dade-483b-90a6-e2eb1d286233",
   "metadata": {},
   "outputs": [
    {
     "name": "stdout",
     "output_type": "stream",
     "text": [
      "bandra,mumbai\n"
     ]
    }
   ],
   "source": [
    "input_str = \"bmaunmdbraai\"\n",
    "message1 = input_str[0:-1:2]\n",
    "message2 = input_str[1:len(input_str):2]\n",
    "print(message1.strip('#') + \",\" + message2.strip('#'))"
   ]
  },
  {
   "cell_type": "code",
   "execution_count": 14,
   "id": "5b9caf3e-b994-4cde-b11e-ea6a50606752",
   "metadata": {},
   "outputs": [
    {
     "name": "stdout",
     "output_type": "stream",
     "text": [
      "worli,mumbai\n"
     ]
    }
   ],
   "source": [
    "input_str = \"wmourmlbia#i\"\n",
    "message1 = input_str[0:-1:2]\n",
    "message2 = input_str[1:len(input_str):2]\n",
    "print(message1.strip('#') + \",\" + message2.strip('#'))"
   ]
  }
 ],
 "metadata": {
  "kernelspec": {
   "display_name": "Python 3 (ipykernel)",
   "language": "python",
   "name": "python3"
  },
  "language_info": {
   "codemirror_mode": {
    "name": "ipython",
    "version": 3
   },
   "file_extension": ".py",
   "mimetype": "text/x-python",
   "name": "python",
   "nbconvert_exporter": "python",
   "pygments_lexer": "ipython3",
   "version": "3.12.4"
  }
 },
 "nbformat": 4,
 "nbformat_minor": 5
}

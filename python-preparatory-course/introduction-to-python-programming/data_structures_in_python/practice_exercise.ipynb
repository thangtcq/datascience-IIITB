{
 "cells": [
  {
   "cell_type": "markdown",
   "id": "27089c85-5698-422d-bf95-8438ea2112bb",
   "metadata": {},
   "source": [
    "# Practice Exercise"
   ]
  },
  {
   "cell_type": "markdown",
   "id": "d1b63da2-1439-4c5f-9425-cdb735a5e15e",
   "metadata": {},
   "source": [
    "Question 1 : Print a random integer between 100 and 135"
   ]
  },
  {
   "cell_type": "code",
   "execution_count": 1,
   "id": "c54d7c07-fb65-41cf-b341-5379effe9f3c",
   "metadata": {},
   "outputs": [
    {
     "name": "stdout",
     "output_type": "stream",
     "text": [
      "123\n"
     ]
    }
   ],
   "source": [
    "# Import required libraries\n",
    "from random import seed\n",
    "from random import randint\n",
    "\n",
    "# Print a random integer in the given range\n",
    "print(randint(100, 135))"
   ]
  },
  {
   "cell_type": "markdown",
   "id": "66f0f131-58ff-4969-ba89-79a110114441",
   "metadata": {},
   "source": [
    "Question 2 : Create a list consisting of first 10 even numbers"
   ]
  },
  {
   "cell_type": "code",
   "execution_count": 2,
   "id": "0c219866-9e29-47e4-a648-8ad330ea4532",
   "metadata": {},
   "outputs": [],
   "source": [
    "# Create a list according to the given condition\n",
    "list = [0, 2, 4, 6, 8, 10, 12, 14, 16, 18]"
   ]
  },
  {
   "cell_type": "markdown",
   "id": "265af7e7-7af5-4c70-99f7-ff4c21d10d40",
   "metadata": {},
   "source": [
    "Question 3 : Create a list in the following manner: [birthyear, firstname, birthdate, lastname]"
   ]
  },
  {
   "cell_type": "code",
   "execution_count": 3,
   "id": "1294f4c3-c320-4908-9fb4-c5f96989aa3a",
   "metadata": {},
   "outputs": [],
   "source": [
    "# Create a list according to the given condition\n",
    "list1 = [1995, 'Thắng', 3, 'Trương']"
   ]
  },
  {
   "cell_type": "markdown",
   "id": "4e85d08a-8fbf-49a7-9df8-0f5937ee54d9",
   "metadata": {},
   "source": [
    "Question 4 : Create a nested list which consist of 2 students and their scores in mathematics and english:\n",
    "\n",
    "Students : Alex and Cody\n",
    "\n",
    "Alex scores 97 and 95 in mathematics and english respectively,\n",
    "\n",
    "Cody scores 89 and 92 in mathematics and english respectively.\n",
    "\n",
    "The list should be such that it first stores the name of students followed by the subjects and then their scores in nested lists"
   ]
  },
  {
   "cell_type": "code",
   "execution_count": 4,
   "id": "47c2e094-89e8-4e8a-88b6-c1df68aa6786",
   "metadata": {},
   "outputs": [
    {
     "name": "stdout",
     "output_type": "stream",
     "text": [
      "[['Alex', 'Cody'], ['Mathematics', 'English'], [97, 95], [89, 92]]\n"
     ]
    }
   ],
   "source": [
    "# Create a list according to the given condition\n",
    "list2 = [['Alex', 'Cody'], ['Mathematics', 'English'], [97, 95], [89, 92]]\n",
    "print(list2)"
   ]
  },
  {
   "cell_type": "markdown",
   "id": "a84a92c5-0d06-4455-9cfe-9be7a2bdf9cf",
   "metadata": {},
   "source": [
    "Question 5 : Given below is a list, find out whether is has the letter 'k' in it and print the result as true or false"
   ]
  },
  {
   "cell_type": "code",
   "execution_count": 5,
   "id": "ae9d8a29-7f87-49bb-97dc-d4e84829912c",
   "metadata": {},
   "outputs": [
    {
     "name": "stdout",
     "output_type": "stream",
     "text": [
      "True\n"
     ]
    }
   ],
   "source": [
    "# Given below is a list\n",
    "list3 = [1, 2, 'r', 7, 'k', 6, 'o', 'h', 'd', 5, 9]\n",
    "\n",
    "# Define the character you are searching for\n",
    "char = 'k'\n",
    "\n",
    "# print the result\n",
    "print(char in list3)"
   ]
  },
  {
   "cell_type": "markdown",
   "id": "74f1bb92-d7b9-4898-b819-4ca23e0cd329",
   "metadata": {},
   "source": [
    "Question 6 : In the tuple given below, print the 3rd element"
   ]
  },
  {
   "cell_type": "code",
   "execution_count": 6,
   "id": "ad4c9a95-485c-4dac-989f-56c7d807856b",
   "metadata": {},
   "outputs": [
    {
     "name": "stdout",
     "output_type": "stream",
     "text": [
      "world\n"
     ]
    }
   ],
   "source": [
    "# Given below is the tuple\n",
    "tuple1 = (1, 'hello', 'world', '567')\n",
    "\n",
    "# Print the 3rd element\n",
    "print(tuple1[2])"
   ]
  },
  {
   "cell_type": "markdown",
   "id": "5df84599-2cde-47b2-877c-fbcee50e29fe",
   "metadata": {},
   "source": [
    "Question 7 : Given below is a tuple. Sort the tuple and print the result"
   ]
  },
  {
   "cell_type": "code",
   "execution_count": 7,
   "id": "0b98028b-6511-48c5-af8a-8b4b100a8fb0",
   "metadata": {},
   "outputs": [
    {
     "name": "stdout",
     "output_type": "stream",
     "text": [
      "[1, 3, 25, 54, 67, 100]\n"
     ]
    }
   ],
   "source": [
    "# Given below is the tuple\n",
    "tuple2 = (1,25,67,100,3,54)\n",
    "\n",
    "# Sort the tuple\n",
    "tuple3 = sorted(tuple2)\n",
    "\n",
    "# Print the result\n",
    "print(tuple3)"
   ]
  },
  {
   "cell_type": "markdown",
   "id": "d0fc22cb-48ef-479d-8fa0-ad228f028913",
   "metadata": {},
   "source": [
    "Question 8 : Given below is a list, convert into a set and print the output also print the length of the set"
   ]
  },
  {
   "cell_type": "code",
   "execution_count": 8,
   "id": "b5e1a19a-fb1d-405b-99dc-46565e510567",
   "metadata": {},
   "outputs": [
    {
     "name": "stdout",
     "output_type": "stream",
     "text": [
      "{1, 2, 3, 4, 5, 6, 7}\n",
      "7\n"
     ]
    }
   ],
   "source": [
    "# Given below is the list\n",
    "list4 = [1,2,4,6,3,2,5,4,7,4,6,5,3,2,2,1]\n",
    "\n",
    "# Convert the list into set\n",
    "set1 = set(list4)\n",
    "\n",
    "# Print the result\n",
    "print(set1)\n",
    "\n",
    "# Print the length of the set\n",
    "print(len(set1))"
   ]
  },
  {
   "cell_type": "markdown",
   "id": "1b58ded5-185c-4a1e-adef-8ff89c3de450",
   "metadata": {},
   "source": [
    "Question 9: Given below are two sets, perform the operations given below:\n",
    "1. Print their union\n",
    "2. Print their intersection\n",
    "3. Print their difference\n",
    "4. Print their symmetric difference"
   ]
  },
  {
   "cell_type": "code",
   "execution_count": 9,
   "id": "c23bf1fd-6fed-4fdd-a98d-f6d6199dc9f7",
   "metadata": {},
   "outputs": [
    {
     "name": "stdout",
     "output_type": "stream",
     "text": [
      "{1, 2, 3, 4, 5, 6, 8, 10, 12}\n",
      "{2, 4, 6}\n",
      "{1, 3, 5}\n",
      "{1, 3, 5, 8, 10, 12}\n"
     ]
    }
   ],
   "source": [
    "# Given below are two sets:\n",
    "a = {1, 2, 3, 4, 5, 6}\n",
    "b = {2, 4, 6, 8, 10, 12}\n",
    "\n",
    "# Print their union\n",
    "print(a.union(b))\n",
    "\n",
    "# Print their intersection\n",
    "print(a.intersection(b))\n",
    "\n",
    "# Print their difference\n",
    "print(a.difference(b))\n",
    "\n",
    "# Print their symmetric difference\n",
    "print(a^b)"
   ]
  },
  {
   "cell_type": "markdown",
   "id": "0b2b2f5f-df00-4f8e-9212-010e4a50bb0b",
   "metadata": {},
   "source": [
    "Question 10: Create a dictionary that stores the names and roll numbers of 5 students as given below:\n",
    "1. Sam, 21\n",
    "2. Cody, 12\n",
    "3. Addy, 3\n",
    "4. Zach, 45\n",
    "5. Amy, 6"
   ]
  },
  {
   "cell_type": "code",
   "execution_count": 10,
   "id": "c2f4db64-22bf-4beb-93d3-63fff93f9f08",
   "metadata": {},
   "outputs": [
    {
     "name": "stdout",
     "output_type": "stream",
     "text": [
      "{'Sam': 21, 'Cody': 12, 'Addy': 3, 'Zach': 45, 'Amy': 6}\n"
     ]
    }
   ],
   "source": [
    "# Create a dictionary\n",
    "dict1 = {'Sam':21, 'Cody':12, 'Addy':3, 'Zach':45, 'Amy':6}\n",
    "\n",
    "# Print the result\n",
    "print(dict1)"
   ]
  },
  {
   "cell_type": "markdown",
   "id": "fbd5bd65-182b-42de-89e7-9be5b6855ffe",
   "metadata": {},
   "source": [
    "Question 11: Due to admission of new students the roll number of zach has changed from 45 to 47. Make the required changes and print the new dictionary"
   ]
  },
  {
   "cell_type": "code",
   "execution_count": 11,
   "id": "c934c13d-e925-4cff-863a-a6120e152572",
   "metadata": {},
   "outputs": [
    {
     "name": "stdout",
     "output_type": "stream",
     "text": [
      "{'Sam': 21, 'Cody': 12, 'Addy': 3, 'Zach': 47, 'Amy': 6}\n"
     ]
    }
   ],
   "source": [
    "# Update the roll number\n",
    "dict1['Zach'] = 47\n",
    "\n",
    "# Print the new dictionary\n",
    "print(dict1)"
   ]
  },
  {
   "cell_type": "markdown",
   "id": "322599c6-915e-4251-aa34-3ccbb4bbc622",
   "metadata": {},
   "source": [
    "Question 12: Sort the dictionary according to roll number"
   ]
  },
  {
   "cell_type": "code",
   "execution_count": 12,
   "id": "18f9ce10-0048-42ee-89d1-90609a171d58",
   "metadata": {},
   "outputs": [
    {
     "name": "stdout",
     "output_type": "stream",
     "text": [
      "['Addy', 'Amy', 'Cody', 'Sam', 'Zach']\n"
     ]
    }
   ],
   "source": [
    "# Sort and print the students roll number wise in ascending order\n",
    "print(sorted(dict1))"
   ]
  }
 ],
 "metadata": {
  "kernelspec": {
   "display_name": "Python 3 (ipykernel)",
   "language": "python",
   "name": "python3"
  },
  "language_info": {
   "codemirror_mode": {
    "name": "ipython",
    "version": 3
   },
   "file_extension": ".py",
   "mimetype": "text/x-python",
   "name": "python",
   "nbconvert_exporter": "python",
   "pygments_lexer": "ipython3",
   "version": "3.12.4"
  }
 },
 "nbformat": 4,
 "nbformat_minor": 5
}

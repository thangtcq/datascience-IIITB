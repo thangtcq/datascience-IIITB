{
 "cells": [
  {
   "cell_type": "markdown",
   "id": "23e05c55-8140-4a56-8338-88972d1333dd",
   "metadata": {},
   "source": [
    "<h5>Map Function</h5>\n",
    "<b>Description</b><br>\n",
    "Using the function Map, count the number of words that start with ‘S’ in input_list.<br>\n",
    "<br>\n",
    "<b>Sample Input:</b><br>\n",
    "['Santa Cruz', 'Santa fe', 'Mumbai', 'Delhi']<br>\n",
    "<br>\n",
    "<b>Sample Output:</b><br>\n",
    "2<br>\n",
    "<br>\n",
    "<b>Execution time limit</b><br>\n",
    "15 seconds"
   ]
  },
  {
   "cell_type": "code",
   "execution_count": 1,
   "id": "da14d126-857d-4f0f-9821-49fabc4084c4",
   "metadata": {},
   "outputs": [
    {
     "name": "stdout",
     "output_type": "stream",
     "text": [
      "2\n"
     ]
    }
   ],
   "source": [
    "input_list = ['Santa Cruz', 'Santa fe', 'Mumbai', 'Delhi']\n",
    "count = sum(map(lambda x: x[0] == 'S', input_list))\n",
    "print(count)"
   ]
  },
  {
   "cell_type": "code",
   "execution_count": 2,
   "id": "0e59e2bd-899d-497f-93b6-a35b0488e95d",
   "metadata": {},
   "outputs": [
    {
     "name": "stdout",
     "output_type": "stream",
     "text": [
      "0\n"
     ]
    }
   ],
   "source": [
    "input_list = ['Hyderabad', 'Chennai', 'Mumbai', 'Delhi']\n",
    "count = sum(map(lambda x: x[0] == 'S', input_list))\n",
    "print(count)"
   ]
  },
  {
   "cell_type": "code",
   "execution_count": 3,
   "id": "11267686-33f6-412b-87c4-a7788376b21a",
   "metadata": {},
   "outputs": [
    {
     "name": "stdout",
     "output_type": "stream",
     "text": [
      "1\n"
     ]
    }
   ],
   "source": [
    "input_list = ['Santa Cruz', 'Agra', 'Mumbai', 'Delhi']\n",
    "count = sum(map(lambda x: x[0] == 'S', input_list))\n",
    "print(count)"
   ]
  },
  {
   "cell_type": "markdown",
   "id": "2e25ec25-9919-4ea6-9dff-a206c0c767b2",
   "metadata": {},
   "source": [
    "<h5>Map Function</h5>\n",
    "<b>Description</b><br>\n",
    "Create a list ‘name’ consisting of the combination of the first name and the second name from list 1 and 2 respectively.<br>\n",
    "<br>\n",
    "<b>Sample Input:</b><br>\n",
    "[['Ankur', 'Avik', 'Kiran', 'Nitin'], ['Narang', 'Sarkar', 'R', 'Sareen']]<br>\n",
    "<br>\n",
    "<b>Sample Output:</b><br>\n",
    "['Ankur Narang', 'Avik Sarkar', 'Kiran R', 'Nitin Sareen']<br>\n",
    "Note: Add a space between first name and last name.<br>\n",
    "<br>\n",
    "<b>Execution time limit</b><br>\n",
    "15 seconds"
   ]
  },
  {
   "cell_type": "code",
   "execution_count": 4,
   "id": "4b4ab596-fe8c-463d-abd1-3bb47c32ebaf",
   "metadata": {},
   "outputs": [
    {
     "name": "stdout",
     "output_type": "stream",
     "text": [
      "['A B', 'C D', 'E F']\n"
     ]
    }
   ],
   "source": [
    "input_list = [['A', 'C', 'E'], ['B', 'D', 'F']]\n",
    "first_name = input_list[0]\n",
    "last_name = input_list[1]\n",
    "name = list(map(lambda x, y: x + \" \" + y, first_name, last_name))\n",
    "print(list(name))"
   ]
  },
  {
   "cell_type": "code",
   "execution_count": 5,
   "id": "3cf02f1e-ea85-4958-9233-12c0290c1a85",
   "metadata": {},
   "outputs": [
    {
     "name": "stdout",
     "output_type": "stream",
     "text": [
      "['Harsh S', 'Aman Sarkar', 'Krishna A']\n"
     ]
    }
   ],
   "source": [
    "input_list = [['Harsh', 'Aman', 'Krishna'], ['S', 'Sarkar', 'A']]\n",
    "first_name = input_list[0]\n",
    "last_name = input_list[1]\n",
    "name = list(map(lambda x, y: x + \" \" + y, first_name, last_name))\n",
    "print(list(name))"
   ]
  },
  {
   "cell_type": "code",
   "execution_count": 6,
   "id": "b318512e-0a01-4571-a5c2-3aef0d552584",
   "metadata": {},
   "outputs": [
    {
     "name": "stdout",
     "output_type": "stream",
     "text": [
      "['Pnkur Narang', 'Avik Sarkar', 'Kiran R', 'Nitin Sareen']\n"
     ]
    }
   ],
   "source": [
    "input_list = [['Pnkur', 'Avik', 'Kiran', 'Nitin'], ['Narang', 'Sarkar', 'R', 'Sareen']]\n",
    "first_name = input_list[0]\n",
    "last_name = input_list[1]\n",
    "name = list(map(lambda x, y: x + \" \" + y, first_name, last_name))\n",
    "print(list(name))"
   ]
  },
  {
   "cell_type": "code",
   "execution_count": 7,
   "id": "c8c55fa3-641a-4aba-89b6-d58e1c715726",
   "metadata": {},
   "outputs": [
    {
     "name": "stdout",
     "output_type": "stream",
     "text": [
      "['Ankur Narang', 'Avik Sarkar', 'Kiran R', 'Nitin Sareen']\n"
     ]
    }
   ],
   "source": [
    "input_list = [['Ankur', 'Avik', 'Kiran', 'Nitin'], ['Narang', 'Sarkar', 'R', 'Sareen']]\n",
    "first_name = input_list[0]\n",
    "last_name = input_list[1]\n",
    "name = list(map(lambda x, y: x + \" \" + y, first_name, last_name))\n",
    "print(list(name))"
   ]
  },
  {
   "cell_type": "markdown",
   "id": "0bf0733a-f050-472c-ae78-9aaff7c60c88",
   "metadata": {},
   "source": [
    "<h5>Filter Function</h5>\n",
    "<b>Description</b><br>\n",
    "Extract a list of numbers that are multiples of 5 from a list of integers named input_list.<br>\n",
    "<br>\n",
    "<b>Sample Input:</b><br>\n",
    "[1, 2, 3, 4, 5, 6, 7, 8, 9, 10, 11, 12, 13, 14, 15, 16, 17, 18, 19, 20, 21, 22, 23, 24, 25, 26, 27, 28, 29, 30, 31, 32, 33, 34, 35, 36, 37, 38, 39, 40, 41, 42, 43, 44, 45, 46, 47, 48, 49, 50]<br>\n",
    "<br>\n",
    "<b>Sample Output:</b><br>\n",
    "[5, 10, 15, 20, 25, 30, 35, 40, 45, 50]<br>\n",
    "Note: Use the filter() function.<br>\n",
    "<br>\n",
    "<b>Execution time limit</b><br>\n",
    "15 seconds"
   ]
  },
  {
   "cell_type": "code",
   "execution_count": 8,
   "id": "256902d2-79ae-45fe-9eff-7e4cb5088941",
   "metadata": {},
   "outputs": [
    {
     "name": "stdout",
     "output_type": "stream",
     "text": [
      "[20, 25]\n"
     ]
    }
   ],
   "source": [
    "input_list = [20, 21, 22, 23, 24, 25]\n",
    "list_answer = list(filter(lambda x: x % 5 == 0, input_list))\n",
    "print(list_answer)"
   ]
  },
  {
   "cell_type": "code",
   "execution_count": 9,
   "id": "40096fb0-5c26-4050-b5f2-71544f2e759b",
   "metadata": {},
   "outputs": [
    {
     "name": "stdout",
     "output_type": "stream",
     "text": [
      "[5, 10, 15]\n"
     ]
    }
   ],
   "source": [
    "input_list = [1, 2, 3, 4, 5, 6, 7, 8, 9, 10, 11, 12, 13, 14, 15, 16, 17, 18, 19]\n",
    "list_answer = list(filter(lambda x: x % 5 == 0, input_list))\n",
    "print(list_answer)"
   ]
  },
  {
   "cell_type": "code",
   "execution_count": 10,
   "id": "f6258085-fb3f-4f0b-bb1d-a04b4b148914",
   "metadata": {},
   "outputs": [
    {
     "name": "stdout",
     "output_type": "stream",
     "text": [
      "[5, 10, 15, 20, 25, 30, 35, 40, 45, 50]\n"
     ]
    }
   ],
   "source": [
    "input_list = [1, 2, 3, 4, 5, 6, 7, 8, 9, 10, 11, 12, 13, 14, 15, 16, 17, 18, 19, 20, 21, 22, 23, 24, 25, 26, 27, 28, 29, 30, 31, 32, 33, 34, 35, 36, 37, 38, 39, 40, 41, 42, 43, 44, 45, 46, 47, 48, 49, 50]\n",
    "list_answer = list(filter(lambda x: x % 5 == 0, input_list))\n",
    "print(list_answer)"
   ]
  },
  {
   "cell_type": "markdown",
   "id": "d72f4a88-3171-4ced-9578-ee30838c82c1",
   "metadata": {},
   "source": [
    "<h5>Filter Function</h5>\n",
    "<b>Description</b><br>\n",
    "You are given a list of strings such as input_list = ['hdjk', 'salsap', 'sherpa'].<br>\n",
    "Extract a list of names that start with an ‘s’ and end with a ‘p’ (both 's' and 'p' are lowercase) in input_list.<br>\n",
    "<br>\n",
    "<b>Sample Input:</b><br>\n",
    "['soap', 'sharp', 'shy', 'silent', 'ship', 'summer', 'sheep']<br>\n",
    "<br>\n",
    "<b>Sample Output:</b><br>\n",
    "['soap', 'sharp', 'ship', 'sheep']<br>\n",
    "Note: Use the filter() function.<br>\n",
    "<br>\n",
    "<b>Execution time limit</b><br>\n",
    "15 seconds"
   ]
  },
  {
   "cell_type": "code",
   "execution_count": 11,
   "id": "e8837cc0-9142-427a-a48d-993ccae23913",
   "metadata": {},
   "outputs": [
    {
     "name": "stdout",
     "output_type": "stream",
     "text": [
      "['ship', 'sheep']\n"
     ]
    }
   ],
   "source": [
    "input_list = ['hard', 'warm', 'still', 'silent', 'ship', 'summer', 'sheep']\n",
    "sp = list(filter(lambda x: (x[0] == 's') & (x[-1] == 'p'), input_list))\n",
    "print(sp)"
   ]
  },
  {
   "cell_type": "code",
   "execution_count": 12,
   "id": "5d4e8343-0abf-4bd8-ba80-f6429f696063",
   "metadata": {},
   "outputs": [
    {
     "name": "stdout",
     "output_type": "stream",
     "text": [
      "['soap', 'sharp', 'sheep']\n"
     ]
    }
   ],
   "source": [
    "input_list = ['soap', 'sharp', 'shy', 'quiet', 'autumn', 'winter', 'sheep']\n",
    "sp = list(filter(lambda x: (x[0] == 's') & (x[-1] == 'p'), input_list))\n",
    "print(sp)"
   ]
  },
  {
   "cell_type": "code",
   "execution_count": 13,
   "id": "7c8d5ee8-5d0b-4e09-8e00-33715e92de7e",
   "metadata": {},
   "outputs": [
    {
     "name": "stdout",
     "output_type": "stream",
     "text": [
      "['soap', 'sharp', 'ship', 'sheep']\n"
     ]
    }
   ],
   "source": [
    "input_list = ['soap', 'sharp', 'shy', 'silent', 'ship', 'summer', 'sheep']\n",
    "sp = list(filter(lambda x: (x[0] == 's') & (x[-1] == 'p'), input_list))\n",
    "print(sp)"
   ]
  },
  {
   "cell_type": "code",
   "execution_count": 14,
   "id": "888b344a-a0d9-4741-9124-397b77e5d7c6",
   "metadata": {},
   "outputs": [
    {
     "name": "stdout",
     "output_type": "stream",
     "text": [
      "['soap', 'sharp', 'ship', 'sheep']\n"
     ]
    }
   ],
   "source": [
    "input_list = ['soap', 'sharp', 'shy', 'silent', 'ship', 'summer', 'sheep']\n",
    "sp = list(filter(lambda x: (x[0] == 's') & (x[-1] == 'p'), input_list))\n",
    "print(sp)"
   ]
  },
  {
   "cell_type": "markdown",
   "id": "34f009fe-d5dc-48fc-bd68-6e5c20100daa",
   "metadata": {},
   "source": [
    "<h5>Reduce Function</h5>\n",
    "<b>Description</b><br>\n",
    "Using the Reduce function, concatenate a list of words in input_list, and print the output as a string.<br>\n",
    "If input_list = ['I','Love','Python'], the output should be the string 'I Love Python'.<br>\n",
    "<br>\n",
    "<b>Sample Input:</b><br>\n",
    "['All', 'you', 'have', 'to', 'fear', 'is', 'fear', 'itself']<br>\n",
    "<br>\n",
    "<b>Sample Output:</b><br>\n",
    "﻿All you have to fear is fear itself<br>\n",
    "<br>\n",
    "<b>Execution time limit</b><br>\n",
    "15 seconds"
   ]
  },
  {
   "cell_type": "code",
   "execution_count": 15,
   "id": "879af5d3-89ab-4a0e-b984-d90ba900f234",
   "metadata": {},
   "outputs": [
    {
     "name": "stdout",
     "output_type": "stream",
     "text": [
      "a Life is good\n"
     ]
    }
   ],
   "source": [
    "input_list = ['a', 'Life', 'is', 'good']\n",
    "from functools import reduce\n",
    "string1 = str(reduce(lambda x, y: x + \" \" + y, input_list))\n",
    "print(string1)"
   ]
  },
  {
   "cell_type": "code",
   "execution_count": 16,
   "id": "e0361e3f-5869-4e49-9435-157b4223f036",
   "metadata": {},
   "outputs": [
    {
     "name": "stdout",
     "output_type": "stream",
     "text": [
      "Move out of your comfort zone\n"
     ]
    }
   ],
   "source": [
    "input_list = ['Move', 'out', 'of', 'your', 'comfort', 'zone']\n",
    "from functools import reduce\n",
    "string1 = str(reduce(lambda x, y: x + \" \" + y, input_list))\n",
    "print(string1)"
   ]
  },
  {
   "cell_type": "code",
   "execution_count": 17,
   "id": "af4f5722-b121-4278-a515-04ead5b880fc",
   "metadata": {},
   "outputs": [
    {
     "name": "stdout",
     "output_type": "stream",
     "text": [
      "I am the one who knocks\n"
     ]
    }
   ],
   "source": [
    "input_list = ['I', 'am', 'the', 'one', 'who', 'knocks']\n",
    "from functools import reduce\n",
    "string1 = str(reduce(lambda x, y: x + \" \" + y, input_list))\n",
    "print(string1)"
   ]
  },
  {
   "cell_type": "code",
   "execution_count": 18,
   "id": "705385fd-e674-4afc-8d3b-25d2738f0ed6",
   "metadata": {},
   "outputs": [
    {
     "name": "stdout",
     "output_type": "stream",
     "text": [
      "All you have to fear is fear itself\n"
     ]
    }
   ],
   "source": [
    "input_list = ['All', 'you', 'have', 'to', 'fear', 'is', 'fear', 'itself']\n",
    "from functools import reduce\n",
    "string1 = str(reduce(lambda x, y: x + \" \" + y, input_list))\n",
    "print(string1)"
   ]
  },
  {
   "cell_type": "markdown",
   "id": "c3553c77-2052-4bcb-866f-45698dcea1ed",
   "metadata": {},
   "source": [
    "<h5>Reduce Function</h5>\n",
    "<b>Description</b><br>\n",
    "You are given a list of numbers such as input_list = [31, 63, 76, 89].<br>\n",
    "Find and print the largest number in input_list using the reduce() function.<br>\n",
    "<br>\n",
    "<b>Sample Input:</b><br>\n",
    "[65, 76, 87, 23, 12, 90, 99]<br>\n",
    "<br>\n",
    "<b>Sample Output:</b><br>\n",
    "﻿99<br>\n",
    "<br>\n",
    "<b>Execution time limit</b><br>\n",
    "15 seconds"
   ]
  },
  {
   "cell_type": "code",
   "execution_count": 19,
   "id": "dd3dc9c8-e9e7-43ad-9c14-de78d6e107b2",
   "metadata": {},
   "outputs": [
    {
     "name": "stdout",
     "output_type": "stream",
     "text": [
      "22995\n"
     ]
    }
   ],
   "source": [
    "input_list = [23, 1456, 1457, 2081, 22995]\n",
    "from functools import reduce\n",
    "answer = reduce(lambda a, b : a if a > b else b, input_list)\n",
    "print(answer)"
   ]
  },
  {
   "cell_type": "code",
   "execution_count": 20,
   "id": "c753a844-d594-49fd-b873-18041a681c9d",
   "metadata": {},
   "outputs": [
    {
     "name": "stdout",
     "output_type": "stream",
     "text": [
      "98\n"
     ]
    }
   ],
   "source": [
    "input_list = [65, 76, 87, 23, 12, 90, 98]\n",
    "from functools import reduce\n",
    "answer = reduce(lambda a, b : a if a > b else b, input_list)\n",
    "print(answer)"
   ]
  },
  {
   "cell_type": "code",
   "execution_count": 21,
   "id": "f02aaa0a-c4bc-4c3c-b624-3a4eb162c510",
   "metadata": {},
   "outputs": [
    {
     "name": "stdout",
     "output_type": "stream",
     "text": [
      "99\n"
     ]
    }
   ],
   "source": [
    "input_list = [65, 76, 87, 23, 12, 90, 99]\n",
    "from functools import reduce\n",
    "answer = reduce(lambda a, b : a if a > b else b, input_list)\n",
    "print(answer)"
   ]
  }
 ],
 "metadata": {
  "kernelspec": {
   "display_name": "Python 3 (ipykernel)",
   "language": "python",
   "name": "python3"
  },
  "language_info": {
   "codemirror_mode": {
    "name": "ipython",
    "version": 3
   },
   "file_extension": ".py",
   "mimetype": "text/x-python",
   "name": "python",
   "nbconvert_exporter": "python",
   "pygments_lexer": "ipython3",
   "version": "3.12.4"
  }
 },
 "nbformat": 4,
 "nbformat_minor": 5
}

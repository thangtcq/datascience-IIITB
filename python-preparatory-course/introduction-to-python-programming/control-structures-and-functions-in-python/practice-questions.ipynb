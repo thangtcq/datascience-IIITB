{
 "cells": [
  {
   "cell_type": "markdown",
   "id": "1a381e1a-db0d-427e-bf63-b2167d317fb7",
   "metadata": {},
   "source": [
    "# Control Structures"
   ]
  },
  {
   "cell_type": "markdown",
   "id": "9576f825-9378-42ba-9abf-068c3da53e7c",
   "metadata": {},
   "source": [
    "### Question \n",
    "A word is said to belong to the red team if it has the letter r in it.<br>\n",
    "Write an 'if' statement to check whether the given word belongs to the red team or not."
   ]
  },
  {
   "cell_type": "code",
   "execution_count": 1,
   "id": "aa283714-ad78-4237-acfa-d81acf7ec20e",
   "metadata": {},
   "outputs": [
    {
     "name": "stdin",
     "output_type": "stream",
     "text": [
      "Enter a word in small caps:  orange\n"
     ]
    },
    {
     "name": "stdout",
     "output_type": "stream",
     "text": [
      "The word belongs to red team\n"
     ]
    }
   ],
   "source": [
    "word = \"orange\"\n",
    "is_red = 0\n",
    "for char in word:\n",
    "    if char == \"r\":\n",
    "        print (\"The word belongs to red team\")\n",
    "        is_red = 1\n",
    "        break\n",
    "if is_red == 0:\n",
    "    print (\"The word does not belong to the red team\")"
   ]
  },
  {
   "cell_type": "markdown",
   "id": "08a4d11c-b699-48a4-8a46-53a26bcd823e",
   "metadata": {},
   "source": [
    "### Question\n",
    "In continuation to previous example, if the word has the letter 'b', it belongs to the blue team. And if the word has both 'r' and 'b' then first letter gets a precedence. And if the word does not have the letter 'r' or 'b', it does not belong to any team.\n",
    "###### Example: (word, output)\n",
    "* rabbit = red team\n",
    "* brand = blue team\n",
    "* dog = no team\n",
    "\n",
    "Write a condition for this decision. "
   ]
  },
  {
   "cell_type": "code",
   "execution_count": 2,
   "id": "d9022e09-a10d-434b-a909-0440256002aa",
   "metadata": {},
   "outputs": [
    {
     "name": "stdin",
     "output_type": "stream",
     "text": [
      "Enter a word in small caps:  apple\n"
     ]
    },
    {
     "name": "stdout",
     "output_type": "stream",
     "text": [
      "The word does not belong to any team\n"
     ]
    }
   ],
   "source": [
    "word = \"apple\"\n",
    "is_red = 0\n",
    "is_blue = 0\n",
    "for char in word:\n",
    "    if char == \"r\":\n",
    "        print (\"The word belongs to red team\")\n",
    "        is_red = 1\n",
    "        break\n",
    "    elif char == \"b\": \n",
    "        print (\"The word belongs to blue team\")\n",
    "        is_blue = 1\n",
    "        break\n",
    "if is_red == 0 and is_blue == 0:\n",
    "    print (\"The word does not belong to any team\")"
   ]
  },
  {
   "cell_type": "markdown",
   "id": "8eee8a75-cec5-435a-ae8f-d8eb34284876",
   "metadata": {},
   "source": [
    "### Question\n",
    "\n",
    "Write a program to print all the numbers which are divisible by 17 between 1 and a given number 'n'. "
   ]
  },
  {
   "cell_type": "code",
   "execution_count": 3,
   "id": "54302422-760f-4294-93cd-7f843fea0989",
   "metadata": {},
   "outputs": [
    {
     "name": "stdin",
     "output_type": "stream",
     "text": [
      "Enter the upper limit:  100\n"
     ]
    },
    {
     "name": "stdout",
     "output_type": "stream",
     "text": [
      "17\n",
      "34\n",
      "51\n",
      "68\n",
      "85\n"
     ]
    }
   ],
   "source": [
    "num = 100\n",
    "i = 1\n",
    "while i <= num:\n",
    "    if i % 17 == 0:\n",
    "        print(i)\n",
    "    i = i + 1"
   ]
  },
  {
   "cell_type": "markdown",
   "id": "18e5f501-397d-4823-afa6-447e597345b7",
   "metadata": {},
   "source": [
    "### Question\n",
    "Write a program to add 13 to all the elements of a given numeric list. \n",
    "###### Example\n",
    "* Input list = [1, 5, 27] \n",
    "* Output list = [14, 18, 40]"
   ]
  },
  {
   "cell_type": "code",
   "execution_count": 4,
   "id": "73f34f61-e16c-434a-aa4f-478c2cc36476",
   "metadata": {},
   "outputs": [
    {
     "name": "stdout",
     "output_type": "stream",
     "text": [
      "[19, 111, 47, 58, 77, 20, 15, 18, 91, 103, 337, 124, 670, 451]\n"
     ]
    }
   ],
   "source": [
    "sample_list = [6, 98, 34, 45, 64, 7, 2, 5, 78, 90, 324, 111, 657, 438]\n",
    "sol_list = []\n",
    "for i in sample_list:\n",
    "    sol_list.append(i + 13)\n",
    "print (sol_list)"
   ]
  },
  {
   "cell_type": "markdown",
   "id": "7c1c0e11-f664-45be-84ef-d72021670c68",
   "metadata": {},
   "source": [
    "### Question\n",
    "In continuation to the example above, execute the same operation on the same sample list using list comprihension."
   ]
  },
  {
   "cell_type": "code",
   "execution_count": 5,
   "id": "5a5b4b13-be9f-4832-8335-7e4062581dc5",
   "metadata": {},
   "outputs": [
    {
     "data": {
      "text/plain": [
       "[19, 111, 47, 58, 77, 20, 15, 18, 91, 103, 337, 124, 670, 451]"
      ]
     },
     "execution_count": 5,
     "metadata": {},
     "output_type": "execute_result"
    }
   ],
   "source": [
    "sol_list = [x + 13 for x in sample_list]\n",
    "sol_list"
   ]
  },
  {
   "cell_type": "markdown",
   "id": "ef1b127f-07b6-41f9-80b6-eb0d6ad381ef",
   "metadata": {},
   "source": [
    "### Question \n",
    "This question has two tasks:\n",
    "* Task 1 - Find the factors of all the numbers in a given list. \n",
    "* Task 2 - Add the numbers and their factors to a dictionary where the key will be the numbers from the list, and the values will be the factors of the respective number. \n",
    "Example\n",
    "##### Sample output :\n",
    "{6: [1, 2, 3, 6],<br>\n",
    "98: [1, 2, 7, 14, 49, 98],<br>\n",
    "34: [1, 2, 17, 34]}"
   ]
  },
  {
   "cell_type": "code",
   "execution_count": 6,
   "id": "e010c201-fee4-489d-980d-58a9b29d7c1d",
   "metadata": {},
   "outputs": [
    {
     "data": {
      "text/plain": [
       "{6: [1, 2, 3, 6],\n",
       " 98: [1, 2, 7, 14, 49, 98],\n",
       " 34: [1, 2, 17, 34],\n",
       " 45: [1, 3, 5, 9, 15, 45],\n",
       " 64: [1, 2, 4, 8, 16, 32, 64],\n",
       " 7: [1, 7],\n",
       " 2: [1, 2],\n",
       " 5: [1, 5],\n",
       " 78: [1, 2, 3, 6, 13, 26, 39, 78],\n",
       " 90: [1, 2, 3, 5, 6, 9, 10, 15, 18, 30, 45, 90],\n",
       " 324: [1, 2, 3, 4, 6, 9, 12, 18, 27, 36, 54, 81, 108, 162, 324],\n",
       " 111: [1, 3, 37, 111],\n",
       " 657: [1, 3, 9, 73, 219, 657],\n",
       " 438: [1, 2, 3, 6, 73, 146, 219, 438]}"
      ]
     },
     "execution_count": 6,
     "metadata": {},
     "output_type": "execute_result"
    }
   ],
   "source": [
    "sample_list = [6, 98, 34, 45, 64, 7, 2, 5, 78, 90, 324, 111, 657, 438]\n",
    "solu_dict = {}\n",
    "for num in sample_list:\n",
    "    fact_list = []\n",
    "    for i in range (1, num + 1):\n",
    "        if num % i == 0:\n",
    "            fact_list.append(i)\n",
    "    solu_dict[num] = fact_list      \n",
    "solu_dict"
   ]
  },
  {
   "cell_type": "markdown",
   "id": "eacf7c9e-200a-4438-904c-37977490f94a",
   "metadata": {},
   "source": [
    "### Question \n",
    "Count the total number of unique characters in a given sentence.\n",
    "##### Example\n",
    "* Input - 'total'\n",
    "* Output - 'o', 'a', 'l'"
   ]
  },
  {
   "cell_type": "code",
   "execution_count": 7,
   "id": "d089fce0-98f5-40ea-9bdd-395f877bbaae",
   "metadata": {},
   "outputs": [
    {
     "name": "stdout",
     "output_type": "stream",
     "text": [
      "{'h', 'q', 'u', ' ', 'l', 'm', 'a', 'g', 'j', 'b', 'r', 'e', 'P', 'z', 'y', 't', 'c', 'x', 'f', 'k', 'i', 'v', 'o', 'n', 'd', 's', 'w'}\n"
     ]
    },
    {
     "data": {
      "text/plain": [
       "27"
      ]
     },
     "execution_count": 7,
     "metadata": {},
     "output_type": "execute_result"
    }
   ],
   "source": [
    "sample_sentence = \"Pack my box with five dozen liquor jugs\"\n",
    "unique_letter = set(sample_sentence)\n",
    "number = len(unique_letter)\n",
    "print(unique_letter)\n",
    "number"
   ]
  },
  {
   "cell_type": "markdown",
   "id": "1fc81caa-6b96-4935-964b-6cf4b36e68f1",
   "metadata": {},
   "source": [
    "### Question\n",
    "Write a calculator application using functions, which will ask for the users input such as - arithmetic operation, number1, number 2, and return the output post applying the arithmetic operator\n",
    "##### Example\n",
    "```\n",
    "def calc(operation, x,y):\n",
    "    if operation == \"add\":\n",
    "        return x+y\n",
    "```"
   ]
  },
  {
   "cell_type": "code",
   "execution_count": 8,
   "id": "128a7ae1-7b69-4d1e-9c01-c0b1a9a152aa",
   "metadata": {},
   "outputs": [
    {
     "name": "stdout",
     "output_type": "stream",
     "text": [
      "Enter the operation you want to execute\n"
     ]
    },
    {
     "name": "stdin",
     "output_type": "stream",
     "text": [
      "The available operations are 'add', 'subs', 'multi', 'div':  div\n",
      "Enter the first number:  3\n",
      "Enter the second number:  5\n"
     ]
    },
    {
     "name": "stdout",
     "output_type": "stream",
     "text": [
      "Answer is  0.6\n"
     ]
    }
   ],
   "source": [
    "def calc(operation, x, y):\n",
    "    if operation == \"add\":\n",
    "        return x + y\n",
    "    if operation == \"subs\":\n",
    "        return x - y\n",
    "    if operation == \"multi\":\n",
    "        return x * y\n",
    "    if operation == \"div\":\n",
    "        return x / y\n",
    "    else:\n",
    "        print(\"Enter a valid operation\")\n",
    "        return None\n",
    "print (\"Enter the operation you want to execute\")\n",
    "oper = input(\"The available operations are 'add', 'subs', 'multi', 'div': \")\n",
    "x = int(input(\"Enter the first number: \"))\n",
    "y = int(input(\"Enter the second number: \"))\n",
    "print(\"Answer is \", calc(oper, x, y))"
   ]
  },
  {
   "cell_type": "markdown",
   "id": "50edc8d4-01f0-47c7-970d-1e2a69db9a88",
   "metadata": {},
   "source": [
    "### Question\n",
    "Write a code to ask the user to input three numbers and then print the largest one among the three."
   ]
  },
  {
   "cell_type": "code",
   "execution_count": 9,
   "id": "6fc5c11f-f49b-43dc-9fed-06099af6a4d3",
   "metadata": {},
   "outputs": [
    {
     "name": "stdin",
     "output_type": "stream",
     "text": [
      "Enter three numbers:  3\n"
     ]
    },
    {
     "ename": "IndexError",
     "evalue": "list index out of range",
     "output_type": "error",
     "traceback": [
      "\u001b[1;31m---------------------------------------------------------------------------\u001b[0m",
      "\u001b[1;31mIndexError\u001b[0m                                Traceback (most recent call last)",
      "Cell \u001b[1;32mIn[9], line 4\u001b[0m\n\u001b[0;32m      2\u001b[0m num_list \u001b[38;5;241m=\u001b[39m num\u001b[38;5;241m.\u001b[39msplit()\n\u001b[0;32m      3\u001b[0m a \u001b[38;5;241m=\u001b[39m \u001b[38;5;28mint\u001b[39m(num_list[\u001b[38;5;241m0\u001b[39m])\n\u001b[1;32m----> 4\u001b[0m b \u001b[38;5;241m=\u001b[39m \u001b[38;5;28mint\u001b[39m(\u001b[43mnum_list\u001b[49m\u001b[43m[\u001b[49m\u001b[38;5;241;43m1\u001b[39;49m\u001b[43m]\u001b[49m)\n\u001b[0;32m      5\u001b[0m c \u001b[38;5;241m=\u001b[39m \u001b[38;5;28mint\u001b[39m(num_list[\u001b[38;5;241m2\u001b[39m])\n\u001b[0;32m      6\u001b[0m \u001b[38;5;28mprint\u001b[39m (a, b, c)\n",
      "\u001b[1;31mIndexError\u001b[0m: list index out of range"
     ]
    }
   ],
   "source": [
    "num = input(\"Enter three numbers: \")\n",
    "num_list = num.split()\n",
    "a = int(num_list[0])\n",
    "b = int(num_list[1])\n",
    "c = int(num_list[2])\n",
    "print (a, b, c)\n",
    "if a>b: \n",
    "    if a>c:\n",
    "        print(\"The largest number is: \", a)\n",
    "    else: \n",
    "        print(\"The largest number is: \", c)\n",
    "else:\n",
    "    if b>c:\n",
    "        print(\"The largest number is: \", b)\n",
    "    else: \n",
    "        print(\"The largest number is: \", c)"
   ]
  },
  {
   "cell_type": "markdown",
   "id": "14daab03-a52e-4408-b563-544ceef02d94",
   "metadata": {},
   "source": [
    "### Question\n",
    "Check whether a number is perfect or not.<br>\n",
    "A perfect number is a number that is sum of all of its positive divisors (excluding itself).<br>\n",
    "For more info refer to this link - https://www.geeksforgeeks.org/perfect-number/"
   ]
  },
  {
   "cell_type": "code",
   "execution_count": null,
   "id": "729ac102-38ff-4117-a055-5cd25a251c1a",
   "metadata": {},
   "outputs": [],
   "source": [
    "n = int(input(\"Enter the number you want to check: \"))\n",
    "sum = 0\n",
    "for x in range(1, n):\n",
    "    if n % x == 0:\n",
    "        sum += x\n",
    "if sum == n:\n",
    "    print(\"The number is a perfect number\")\n",
    "else: \n",
    "    print(\"The number is not a perfect number\")"
   ]
  },
  {
   "cell_type": "markdown",
   "id": "57452a84-fc89-459c-81d2-a8bbec837255",
   "metadata": {},
   "source": [
    "### Question\n",
    "Add the elements in the two given lists using map and lambda functions."
   ]
  },
  {
   "cell_type": "code",
   "execution_count": null,
   "id": "1238f3f6-6955-485a-ab82-7f02caa1ad6a",
   "metadata": {},
   "outputs": [],
   "source": [
    "list1 = [5, 8, 9, 12]\n",
    "list2 = [10, 12, 8, 6]\n",
    "sol = list(map(lambda x, y : x + y, list1, list2))\n",
    "print(sol)"
   ]
  },
  {
   "cell_type": "markdown",
   "id": "bdbdf75a-774d-472c-8eba-1d3ecea10576",
   "metadata": {},
   "source": [
    "### Question \n",
    "Write a code to find the factorial of a number using reduce function. \n",
    "##### Example\n",
    "5! = 5 * 4 * 3 * 2 * 1 = 120."
   ]
  },
  {
   "cell_type": "code",
   "execution_count": null,
   "id": "c17fd0fc-7aca-4d2b-a95b-838ffb9cbb03",
   "metadata": {},
   "outputs": [],
   "source": [
    "n = int (input (\"Enter a natural number: \"))\n",
    "n_list = range(1, n + 1)\n",
    "from functools import reduce\n",
    "factorial = reduce(lambda x, y: x * y, n_list)\n",
    "print(factorial)"
   ]
  }
 ],
 "metadata": {
  "kernelspec": {
   "display_name": "Python 3 (ipykernel)",
   "language": "python",
   "name": "python3"
  },
  "language_info": {
   "codemirror_mode": {
    "name": "ipython",
    "version": 3
   },
   "file_extension": ".py",
   "mimetype": "text/x-python",
   "name": "python",
   "nbconvert_exporter": "python",
   "pygments_lexer": "ipython3",
   "version": "3.12.4"
  }
 },
 "nbformat": 4,
 "nbformat_minor": 5
}

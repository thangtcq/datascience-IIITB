{
 "cells": [
  {
   "cell_type": "markdown",
   "id": "a6c786a2-391c-4ec5-ae39-80d60e2106f6",
   "metadata": {},
   "source": [
    "# Control Structures and Functions\n",
    "Control structures are the essence of programming; they help computers do what they do best: automate repetitive tasks intelligently. The most common control structures are if-else statements, for and while loops, and list and dictionary comprehensions. This session will cover all these concepts."
   ]
  },
  {
   "cell_type": "markdown",
   "id": "178922ef-ae84-4cff-aeb3-757b8cc4ac81",
   "metadata": {},
   "source": [
    "### If statements\n",
    "\"IF\" statements are imperative in Python and they help us build programs that could make decisions based on a specified condition\n",
    "\n",
    "* If I am tired, I'll go to bed\n",
    "\n",
    "* If I am hungry, I'll order food\n",
    "\n",
    "Notice all these applications start with the word 'IF' and that is the first way we are going to control our applications.\n",
    "\n",
    "And before writing down a code to mimic a decision, let us first look at the relational operators that would help us test or define some kind of relation between two entities.\n",
    "\n",
    "Relational operators are used to test equality or inequality of a condition and that condition might change based on your preference.\n",
    "\n",
    "```\n",
    "Example -\n",
    "If its raining == True:\n",
    "  I'll get an umbrella\n",
    "\n",
    "```"
   ]
  },
  {
   "cell_type": "markdown",
   "id": "65e9127e-1bd1-4ee1-94bb-ce4b6fff07a0",
   "metadata": {},
   "source": [
    "<h2 style = \"color:Brown\">Relational Operators</h2>\n",
    "\n",
    "- Compares the values on either side of the operator and returns and boolean value as True or False."
   ]
  },
  {
   "cell_type": "markdown",
   "id": "1d75fbbd-458e-4e5f-ae88-4899501428f1",
   "metadata": {},
   "source": [
    "#### Double equal to operator"
   ]
  },
  {
   "cell_type": "code",
   "execution_count": 1,
   "id": "34d32f7b-348f-4dcc-93e5-655b11c207f2",
   "metadata": {},
   "outputs": [
    {
     "data": {
      "text/plain": [
       "True"
      ]
     },
     "execution_count": 1,
     "metadata": {},
     "output_type": "execute_result"
    }
   ],
   "source": [
    "10 == 10"
   ]
  },
  {
   "cell_type": "code",
   "execution_count": 2,
   "id": "37459c7d-72b5-4b99-8ed6-dcff7b3088a6",
   "metadata": {},
   "outputs": [],
   "source": [
    "a = 5"
   ]
  },
  {
   "cell_type": "code",
   "execution_count": 3,
   "id": "9795a3e7-3a1c-42dd-a909-168b26426bd0",
   "metadata": {},
   "outputs": [
    {
     "data": {
      "text/plain": [
       "True"
      ]
     },
     "execution_count": 3,
     "metadata": {},
     "output_type": "execute_result"
    }
   ],
   "source": [
    "a == 5"
   ]
  },
  {
   "cell_type": "markdown",
   "id": "b3857ea0-086e-4cf7-a345-2073b1a2b985",
   "metadata": {},
   "source": [
    "<h4 style = \"color:Red\">Note</h3>\n",
    "\n",
    "##### ' = ' is an assignment operator; it is used to assign value to a variable on the left.\n",
    "\n",
    "##### '==' is a relational operator; it is used for comparision of equality."
   ]
  },
  {
   "cell_type": "code",
   "execution_count": 4,
   "id": "d88d79e3-88aa-45cc-8060-2b5ab69c4156",
   "metadata": {},
   "outputs": [
    {
     "data": {
      "text/plain": [
       "False"
      ]
     },
     "execution_count": 4,
     "metadata": {},
     "output_type": "execute_result"
    }
   ],
   "source": [
    "10 == 5"
   ]
  },
  {
   "cell_type": "markdown",
   "id": "94c6f943-2cd1-4347-a060-9e4746b6ea3e",
   "metadata": {},
   "source": [
    "#### Not equal to operator"
   ]
  },
  {
   "cell_type": "code",
   "execution_count": 7,
   "id": "3acacd8c-ad7c-4ca0-b968-d4f882141526",
   "metadata": {},
   "outputs": [
    {
     "data": {
      "text/plain": [
       "True"
      ]
     },
     "execution_count": 7,
     "metadata": {},
     "output_type": "execute_result"
    }
   ],
   "source": [
    "10 != 5"
   ]
  },
  {
   "cell_type": "markdown",
   "id": "a8898e10-2314-4884-b19f-05bd6ff3f977",
   "metadata": {},
   "source": [
    "#### Greater than operator"
   ]
  },
  {
   "cell_type": "code",
   "execution_count": 8,
   "id": "c6239038-a71d-43f9-af09-c9feee7a3cc5",
   "metadata": {},
   "outputs": [
    {
     "data": {
      "text/plain": [
       "True"
      ]
     },
     "execution_count": 8,
     "metadata": {},
     "output_type": "execute_result"
    }
   ],
   "source": [
    "10 > 5"
   ]
  },
  {
   "cell_type": "markdown",
   "id": "92d62300-9293-44a9-8ff6-4c6ad34e4c5c",
   "metadata": {},
   "source": [
    "#### Less than operator"
   ]
  },
  {
   "cell_type": "code",
   "execution_count": 9,
   "id": "db7389dc-0526-4dd2-abcd-28a19047c4ff",
   "metadata": {},
   "outputs": [
    {
     "data": {
      "text/plain": [
       "False"
      ]
     },
     "execution_count": 9,
     "metadata": {},
     "output_type": "execute_result"
    }
   ],
   "source": [
    "10 < 5"
   ]
  },
  {
   "cell_type": "markdown",
   "id": "d9a7dae0-b1b4-49bc-9922-e87e9895903e",
   "metadata": {},
   "source": [
    "#### Greater than equal to operator"
   ]
  },
  {
   "cell_type": "code",
   "execution_count": 10,
   "id": "06891263-365b-4ba3-a5fc-b4c0cbf1ac41",
   "metadata": {},
   "outputs": [
    {
     "data": {
      "text/plain": [
       "True"
      ]
     },
     "execution_count": 10,
     "metadata": {},
     "output_type": "execute_result"
    }
   ],
   "source": [
    "10 >= 5"
   ]
  },
  {
   "cell_type": "markdown",
   "id": "9ec04a70-d519-4bf0-b314-ba538e36cce9",
   "metadata": {},
   "source": [
    "#### Less than equal to operator"
   ]
  },
  {
   "cell_type": "code",
   "execution_count": 11,
   "id": "0b93b8bb-1a79-4998-a262-55e346ad30f8",
   "metadata": {},
   "outputs": [
    {
     "data": {
      "text/plain": [
       "False"
      ]
     },
     "execution_count": 11,
     "metadata": {},
     "output_type": "execute_result"
    }
   ],
   "source": [
    "10 <= 5"
   ]
  },
  {
   "cell_type": "markdown",
   "id": "d7770517-70cd-4ad9-bfe5-bcca7913f0b4",
   "metadata": {},
   "source": [
    "<h2 style = \"color:Brown\">Decision Making</h2>"
   ]
  },
  {
   "cell_type": "markdown",
   "id": "350c93dd-f1fd-48af-8707-c97709e3b4c2",
   "metadata": {},
   "source": [
    "Now let's get back to writing a conditional statement with the 'if' condition\n",
    "\n",
    "To do that we would write it 'if' followed by an expression"
   ]
  },
  {
   "cell_type": "markdown",
   "id": "937829de-834e-4e96-b358-4943739ff822",
   "metadata": {},
   "source": [
    "#### Write a program to check value in variable x is less than 99"
   ]
  },
  {
   "cell_type": "code",
   "execution_count": 12,
   "id": "72bf076b-51c0-444c-b4ee-070ff8f98b0d",
   "metadata": {},
   "outputs": [
    {
     "name": "stdout",
     "output_type": "stream",
     "text": [
      "45 is less than 99\n"
     ]
    }
   ],
   "source": [
    "x = 45\n",
    "\n",
    "if x < 99:\n",
    "    # inside if-statement\n",
    "    print(x, \"is less than 99\")\n",
    "else:\n",
    "    print(x, \"is greater than 99\")"
   ]
  },
  {
   "cell_type": "code",
   "execution_count": 13,
   "id": "6bf3cb8e-79ca-42c6-bbc5-7ff0d62cefec",
   "metadata": {},
   "outputs": [
    {
     "name": "stdout",
     "output_type": "stream",
     "text": [
      "450 is greater than 99\n"
     ]
    }
   ],
   "source": [
    "x = 450\n",
    "\n",
    "if x < 99:\n",
    "    # inside if-statement\n",
    "    print(x, \"is less than 99\")\n",
    "else:\n",
    "    print(x, \"is greater than 99\")"
   ]
  },
  {
   "cell_type": "markdown",
   "id": "14d7f903-82cf-4da5-affe-9d8c0a878c98",
   "metadata": {},
   "source": [
    "Write a code to return YES if x lies in the range of 1000 to 1100, else return NO?"
   ]
  },
  {
   "cell_type": "code",
   "execution_count": 14,
   "id": "87cfadde-5709-4e68-8743-91df55f8d28c",
   "metadata": {},
   "outputs": [
    {
     "name": "stdout",
     "output_type": "stream",
     "text": [
      "No\n"
     ]
    }
   ],
   "source": [
    "x = 1119\n",
    "\n",
    "if x < 1000:\n",
    "    print('No')\n",
    "else:\n",
    "    if x>1100:\n",
    "        print('No')\n",
    "    else:\n",
    "        print('Yes')"
   ]
  },
  {
   "cell_type": "markdown",
   "id": "0a9491d4-f768-463e-9429-a7eaae66cca5",
   "metadata": {},
   "source": [
    "## Logical Operators\n",
    "We use logical operators in situations where we have multiple conditions\n",
    "\n",
    "####   AND\n",
    "####   OR\n",
    "####   NOR\n",
    "####   XOR\n",
    "\n",
    "Are some of the common and most widely used logical operators\n",
    "You can learn more about them from this link: https://pythonlessons.net/python-logic-gates/"
   ]
  },
  {
   "cell_type": "code",
   "execution_count": 15,
   "id": "c929af57-8401-41bf-9ddf-f1280374a89d",
   "metadata": {},
   "outputs": [],
   "source": [
    "# AND ---------- is true when both the conditions attached to it are true\n",
    "# OR ----------- is true when either one of the conditions is true"
   ]
  },
  {
   "cell_type": "code",
   "execution_count": 16,
   "id": "1d8d1c9d-5905-4308-af1e-09ef37d10041",
   "metadata": {},
   "outputs": [
    {
     "name": "stdout",
     "output_type": "stream",
     "text": [
      "Yes\n"
     ]
    }
   ],
   "source": [
    "x = 1119\n",
    "\n",
    "if (x > 1000 & x < 1100):\n",
    "    print('Yes')\n",
    "else:\n",
    "    print('No')"
   ]
  },
  {
   "cell_type": "markdown",
   "id": "1ffd020c-5656-434e-9bcd-5eec7956b3c3",
   "metadata": {},
   "source": [
    "#### Write a program to record the age of visitor and allows him to an exclusive children's day party hosted by Mr Obama only if he or she is above 60 years or below 18 years of age"
   ]
  },
  {
   "cell_type": "code",
   "execution_count": 18,
   "id": "357669c4-2c44-4f52-bba5-c01068774e31",
   "metadata": {},
   "outputs": [
    {
     "name": "stdin",
     "output_type": "stream",
     "text": [
      "Enter your age:  29\n"
     ]
    },
    {
     "name": "stdout",
     "output_type": "stream",
     "text": [
      "Sorry! You do not fit in the age criteria\n"
     ]
    }
   ],
   "source": [
    "x = int(input(\"Enter your age: \"))\n",
    "\n",
    "if x <= 18 or x >= 60:\n",
    "    print(\"Welcome to the Pantry\")\n",
    "else:\n",
    "    print(\"Sorry! You do not fit in the age criteria\")"
   ]
  },
  {
   "cell_type": "markdown",
   "id": "f5811497-0584-4fe7-a743-5d18c6d6d9eb",
   "metadata": {},
   "source": [
    "#### Write a program which offers various discounts based on purchase bills"
   ]
  },
  {
   "cell_type": "code",
   "execution_count": 19,
   "id": "a801ff35-bc50-485d-849e-c99d31eabf70",
   "metadata": {},
   "outputs": [
    {
     "name": "stdout",
     "output_type": "stream",
     "text": [
      "You won a discount voucher of flat 1000 on next purchase\n"
     ]
    }
   ],
   "source": [
    "shoppinng_total = 550\n",
    "\n",
    "if shoppinng_total >= 500:\n",
    "    print(\"You won a discount voucher of flat 1000 on next purchase\")\n",
    "elif shoppinng_total >= 250:\n",
    "    print(\"You won a discount voucher of flat 500 on next purchase\")\n",
    "elif shoppinng_total >= 100:\n",
    "    print(\"You won a discount voucher of flat 100 on next purchase\")    \n",
    "else:\n",
    "    print(\"OOPS!! no discount for you!!!\")"
   ]
  },
  {
   "cell_type": "markdown",
   "id": "ac62fca1-b064-4ada-9c17-1d0da890900b",
   "metadata": {},
   "source": [
    "#### Example on nested if-else"
   ]
  },
  {
   "cell_type": "code",
   "execution_count": 20,
   "id": "fc71371b-f8e6-40d1-a64d-da4999ba6c3b",
   "metadata": {},
   "outputs": [],
   "source": [
    "world_cups = {2019 : ['England', 'New Zealand'], 2015 : [\"Australia\", \"New Zealand\"], 2011 : [\"India\", \"Sri Lanka\"], 2007 : [\"Australia\", \"Sri Lanka\"], 2003 : [\"Australia\", \"India\"]}"
   ]
  },
  {
   "cell_type": "code",
   "execution_count": 25,
   "id": "efc120e1-eb13-4d4f-a14b-9eb4181b72fd",
   "metadata": {},
   "outputs": [
    {
     "data": {
      "text/plain": [
       "{2019: ['England', 'New Zealand'],\n",
       " 2015: ['Australia', 'New Zealand'],\n",
       " 2011: ['India', 'Sri Lanka'],\n",
       " 2007: ['Australia', 'Sri Lanka'],\n",
       " 2003: ['Australia', 'India']}"
      ]
     },
     "execution_count": 25,
     "metadata": {},
     "output_type": "execute_result"
    }
   ],
   "source": [
    "world_cups"
   ]
  },
  {
   "cell_type": "code",
   "execution_count": 21,
   "id": "14d24666-4a0b-4312-b6e2-ed1cf28cd2a5",
   "metadata": {},
   "outputs": [
    {
     "data": {
      "text/plain": [
       "dict_keys([2019, 2015, 2011, 2007, 2003])"
      ]
     },
     "execution_count": 21,
     "metadata": {},
     "output_type": "execute_result"
    }
   ],
   "source": [
    "world_cups.keys()"
   ]
  },
  {
   "cell_type": "code",
   "execution_count": 22,
   "id": "b8b36dad-6525-4479-a3bd-8ea543a1517f",
   "metadata": {},
   "outputs": [
    {
     "data": {
      "text/plain": [
       "['Australia', 'India']"
      ]
     },
     "execution_count": 22,
     "metadata": {},
     "output_type": "execute_result"
    }
   ],
   "source": [
    "world_cups[2003]"
   ]
  },
  {
   "cell_type": "code",
   "execution_count": 23,
   "id": "43984d95-cc14-4936-b6c7-4e1e5d19a27e",
   "metadata": {},
   "outputs": [
    {
     "name": "stdin",
     "output_type": "stream",
     "text": [
      "Enter year to check New Zealand made it to Finals in 20th century :  2003\n"
     ]
    }
   ],
   "source": [
    "year = int(input(\"Enter year to check New Zealand made it to Finals in 20th century : \"))"
   ]
  },
  {
   "cell_type": "code",
   "execution_count": 24,
   "id": "2d93c1c1-02a1-4cce-90d9-1d32d955dd71",
   "metadata": {},
   "outputs": [
    {
     "name": "stdout",
     "output_type": "stream",
     "text": [
      "New Zealand could not make it to Finals\n"
     ]
    }
   ],
   "source": [
    "if year in world_cups:\n",
    "    # do some stuff\n",
    "    if \"New Zealand\" in world_cups[year]:\n",
    "        print(\"New Zealand made it to Finals\")\n",
    "    else:\n",
    "        print(\"New Zealand could not make it to Finals\")\n",
    "else:\n",
    "    print(\"World cup wasn't played in\", year)"
   ]
  },
  {
   "cell_type": "code",
   "execution_count": 26,
   "id": "14233bad-5b48-4d1c-9981-09926ff87703",
   "metadata": {},
   "outputs": [
    {
     "data": {
      "text/plain": [
       "['Australia', 'India']"
      ]
     },
     "execution_count": 26,
     "metadata": {},
     "output_type": "execute_result"
    }
   ],
   "source": [
    "world_cups[2003]"
   ]
  },
  {
   "cell_type": "markdown",
   "id": "8641be93-6123-467b-8250-219579f9db9e",
   "metadata": {},
   "source": [
    "- Question"
   ]
  },
  {
   "cell_type": "code",
   "execution_count": 30,
   "id": "ebeb086f-dabd-4aa1-90f5-d0864b931369",
   "metadata": {},
   "outputs": [
    {
     "ename": "IndentationError",
     "evalue": "expected an indented block after 'if' statement on line 5 (912559872.py, line 6)",
     "output_type": "error",
     "traceback": [
      "\u001b[1;36m  Cell \u001b[1;32mIn[30], line 6\u001b[1;36m\u001b[0m\n\u001b[1;33m    print('Yes')\u001b[0m\n\u001b[1;37m    ^\u001b[0m\n\u001b[1;31mIndentationError\u001b[0m\u001b[1;31m:\u001b[0m expected an indented block after 'if' statement on line 5\n"
     ]
    }
   ],
   "source": [
    "# What is the output of the following code?\n",
    "\n",
    "x = 12\n",
    "\n",
    "if (x > 10 & x < 15):\n",
    "print('Yes')\n",
    "else:\n",
    "print('No')"
   ]
  },
  {
   "cell_type": "code",
   "execution_count": 36,
   "id": "27a649a3-fd50-4bcb-82ed-9dd5d9002509",
   "metadata": {},
   "outputs": [
    {
     "name": "stdout",
     "output_type": "stream",
     "text": [
      "c\n"
     ]
    }
   ],
   "source": [
    "# Maximum of Three Numbers\n",
    "# Complete the piece of code to print a maximum of three variables, a, b and c.\n",
    "\n",
    "a=10\n",
    "b=16\n",
    "c=20\n",
    "\n",
    "if (a > b and a > c):\n",
    "    print(\"a\")\n",
    "elif (b > a and b > c):\n",
    "    print(\"b\")\n",
    "else:\n",
    "    print(\"c\")"
   ]
  },
  {
   "cell_type": "code",
   "execution_count": 50,
   "id": "8594e43b-2a7e-418e-a83a-b4624272fd15",
   "metadata": {},
   "outputs": [
    {
     "name": "stdout",
     "output_type": "stream",
     "text": [
      "C\n",
      "A\n",
      "D\n",
      "B\n"
     ]
    }
   ],
   "source": [
    "# Reverse Engineering\n",
    "# Which of the following sequences of inputs would give the output 'C' 'A' 'D' 'B' over multiple iterations?\n",
    "\n",
    "# Given the code below, the output obtained in several runs is 'C' 'A' 'D' 'B'.\n",
    "\n",
    "scores = [70, 91, 67, 88]\n",
    "for score in scores:\n",
    "    if score >= 90:\n",
    "       print('A')\n",
    "    elif score >=80:\n",
    "       print('B')\n",
    "    elif score >= 70:\n",
    "       print('C')\n",
    "    elif score >= 60:\n",
    "       print('D')\n",
    "    else:\n",
    "       print('F')"
   ]
  },
  {
   "cell_type": "code",
   "execution_count": 51,
   "id": "186a6d0b-550e-406c-b0c8-001c5461a82a",
   "metadata": {},
   "outputs": [
    {
     "name": "stdout",
     "output_type": "stream",
     "text": [
      "B\n"
     ]
    }
   ],
   "source": [
    "# Can You Guess the Output?\n",
    "# What will the following segment of code print? Try doing this verbally.\n",
    "\n",
    "if (10 < 0) and (0 < -10):\n",
    "    print(\"A\")\n",
    "elif (10 > 0) or False:\n",
    "    print(\"B\")\n",
    "else:\n",
    "    print(\"C\")"
   ]
  },
  {
   "cell_type": "code",
   "execution_count": 52,
   "id": "81687f4b-b2cb-43c7-9051-1f19694d1a18",
   "metadata": {},
   "outputs": [
    {
     "name": "stdout",
     "output_type": "stream",
     "text": [
      "B\n"
     ]
    }
   ],
   "source": [
    "# A Search for the Truth\n",
    "# What will the following segment of code print? Try solving it verbally.\n",
    "\n",
    "if True or True:\n",
    "    if False and True or False:\n",
    "        print('A')\n",
    "    elif False and False or True and True:\n",
    "        print('B')\n",
    "    else:\n",
    "        print('C')\n",
    "else:\n",
    "    print('D')"
   ]
  },
  {
   "cell_type": "markdown",
   "id": "9940633d-6122-4d16-896c-ca3d48787174",
   "metadata": {},
   "source": [
    "- Practice"
   ]
  },
  {
   "cell_type": "markdown",
   "id": "d15cacef-b346-4ee2-ba5b-585201f123ca",
   "metadata": {},
   "source": [
    "<h5>If-Else</h5>\n",
    "<b>Description</b><br>\n",
    "Write a code to check if the string in input_str starts with a vowel or not. Print capital YES or NO.<br>\n",
    "For example, if input_str = 'analytics' then, your output should print 'YES'.<br>\n",
    "<br>\n",
    "<b>Sample Input:</b><br>\n",
    "alpha<br>\n",
    "<br>\n",
    "<b>Sample Output:</b><br>\n",
    "YES<br>\n",
    "<br>\n",
    "<b>Execution time limit</b><br>\n",
    "15 seconds"
   ]
  },
  {
   "cell_type": "code",
   "execution_count": 53,
   "id": "a0629fe5-5301-44a7-b80b-ed069de8e152",
   "metadata": {},
   "outputs": [
    {
     "name": "stdout",
     "output_type": "stream",
     "text": [
      "YES\n"
     ]
    }
   ],
   "source": [
    "input_str = 'alpla'\n",
    "list_vowel = ['u', 'e', 'o', 'a', 'i', 'U', 'E', 'O', 'A', 'I']\n",
    "\n",
    "if input_str[0] in list_vowel:\n",
    "    print('YES')\n",
    "else:\n",
    "    print('NO')\n",
    "\n"
   ]
  },
  {
   "cell_type": "code",
   "execution_count": null,
   "id": "4585f281-6c97-473e-9628-98a74bc20f5c",
   "metadata": {},
   "outputs": [],
   "source": []
  }
 ],
 "metadata": {
  "kernelspec": {
   "display_name": "Python 3 (ipykernel)",
   "language": "python",
   "name": "python3"
  },
  "language_info": {
   "codemirror_mode": {
    "name": "ipython",
    "version": 3
   },
   "file_extension": ".py",
   "mimetype": "text/x-python",
   "name": "python",
   "nbconvert_exporter": "python",
   "pygments_lexer": "ipython3",
   "version": "3.12.4"
  }
 },
 "nbformat": 4,
 "nbformat_minor": 5
}

{
 "cells": [
  {
   "cell_type": "markdown",
   "id": "6a29177d-f450-4883-a116-f392bdb6df7f",
   "metadata": {},
   "source": [
    "# Session 1: Basics of Python"
   ]
  },
  {
   "cell_type": "markdown",
   "id": "722d6b73-5cc0-4fe0-b25e-69d3a4e1233f",
   "metadata": {},
   "source": [
    "# Problem Statement\n",
    "\n",
    "A software company is developing a new user management system that contains information about their:\n",
    "- `name` - The name of the user\n",
    "- `date of birth` - The date of birth of the user\n",
    "- `age` - The age of the user\n",
    "- `subscription status` - The subscription status is represented by a boolean value, where \"True\" indicates an active subscription and \"False\" indicates an inactive subscription.\n",
    "\n",
    "As a business analyst, your task is to use these details and extract useful information from them, using basic Python operations.\n",
    "\n",
    "---"
   ]
  },
  {
   "cell_type": "code",
   "execution_count": 1,
   "id": "b58ed713-0c45-40ce-8f93-6ac20ed404a0",
   "metadata": {},
   "outputs": [],
   "source": [
    "from datetime import datetime\n",
    "# User details on name, year of birth and age\n",
    "name = 'Thắng Trương'\n",
    "yob = 1995\n",
    "age = datetime.now().year - yob"
   ]
  },
  {
   "cell_type": "code",
   "execution_count": 2,
   "id": "898af83a-1988-4b59-866e-8dd7b99e9a7f",
   "metadata": {},
   "outputs": [
    {
     "name": "stdout",
     "output_type": "stream",
     "text": [
      "The user_id for the user Thắng Trương with year of birth 1995 and age 29 is Thắng Trương199529\n"
     ]
    }
   ],
   "source": [
    "# Extract user id using string formatting - user's name + yob + age without any whitespaces\n",
    "# The user_id for the user Alice Kim with year of birth 1965 and age 58 is AliceKim196558\n",
    "user_id = name + str(yob) + str(age)\n",
    "print(\"The user_id for the user {0} with year of birth {1} and age {2} is {3}\".format(name, yob, age, user_id))"
   ]
  },
  {
   "cell_type": "code",
   "execution_count": 3,
   "id": "eb8cf361-694d-41b5-beff-4518a1f582d6",
   "metadata": {},
   "outputs": [
    {
     "name": "stdout",
     "output_type": "stream",
     "text": [
      "The user_id for the user Thắng Trương with year of birth 1995 and age 29 is Thắng_Trương199529\n"
     ]
    }
   ],
   "source": [
    "# Remove space and add an underscore in the name and use that as the id\n",
    "user_id = name.replace(\" \",\"_\") + str(yob) + str(age)\n",
    "print(\"The user_id for the user {0} with year of birth {1} and age {2} is {3}\".format(name, yob, age, user_id))"
   ]
  },
  {
   "cell_type": "markdown",
   "id": "630edf60-6d29-40c9-b9a2-93a18e037cf3",
   "metadata": {},
   "source": [
    "The company needs to validate the length of user names to ensure none of the users' names are neither too long nor too short."
   ]
  },
  {
   "cell_type": "code",
   "execution_count": 4,
   "id": "6f518d2c-b946-4e56-8c50-71337ee4e7b3",
   "metadata": {},
   "outputs": [
    {
     "name": "stdout",
     "output_type": "stream",
     "text": [
      "12\n"
     ]
    }
   ],
   "source": [
    "# Find the length of the name\n",
    "print(len(name))"
   ]
  },
  {
   "cell_type": "code",
   "execution_count": 5,
   "id": "5d5558bd-fb20-4254-817d-875af90490d1",
   "metadata": {},
   "outputs": [
    {
     "name": "stdout",
     "output_type": "stream",
     "text": [
      "TT199529\n"
     ]
    }
   ],
   "source": [
    "# \"Alice_Kim\" --> \"AK196558\"\n",
    "print(name.split(\" \")[0][0] + name.split(\" \")[1][0] + str(yob) + str(age))"
   ]
  },
  {
   "cell_type": "code",
   "execution_count": 6,
   "id": "86d35013-0c48-465c-850f-c18f6501c6cb",
   "metadata": {},
   "outputs": [
    {
     "name": "stdout",
     "output_type": "stream",
     "text": [
      "The user_id for the user Thắng Trương with year of birth 1995 and age 29 is TT199529\n"
     ]
    }
   ],
   "source": [
    "# Extract fixed length user_ids using only the first letter of the first name and the last name.\n",
    "user_id = name.split(\" \")[0][0] + name.split(\" \")[1][0] + str(yob) + str(age)\n",
    "print(\"The user_id for the user {0} with year of birth {1} and age {2} is {3}\".format(name, yob, age, user_id))"
   ]
  },
  {
   "cell_type": "markdown",
   "id": "c6b2203e-900b-42b9-b7a3-d8ae88311e61",
   "metadata": {},
   "source": [
    "The company needs to split user-provided full names into separate first and last name fields. The full name strings may contain leading or trailing whitespace, as well as mixed case text. The company wants to ensure that the first and last names are accurately extracted from the full name strings, while also handling any formatting inconsistencies."
   ]
  },
  {
   "cell_type": "code",
   "execution_count": 7,
   "id": "16223907-7cc5-41a1-9050-bf6c7d38e3db",
   "metadata": {},
   "outputs": [
    {
     "name": "stdout",
     "output_type": "stream",
     "text": [
      "First Name: thắng\n",
      "Last Name: trương\n"
     ]
    }
   ],
   "source": [
    "full_name = \"   Thắng Trương  \"\n",
    "\n",
    "# Trim whitespace and lowercase text\n",
    "full_name = full_name.strip().lower()\n",
    "\n",
    "# Split full name into first and last name\n",
    "first_name, last_name = full_name.split()\n",
    "\n",
    "print(\"First Name:\", first_name)\n",
    "print(\"Last Name:\", last_name)"
   ]
  },
  {
   "cell_type": "markdown",
   "id": "c9449d13-d314-4ffc-bbff-24f94c2fe030",
   "metadata": {},
   "source": [
    "Write a Python program to extract the month value from the \"DOB\"."
   ]
  },
  {
   "cell_type": "code",
   "execution_count": 8,
   "id": "d7050d7b-c703-45de-9db4-4cadc9917e79",
   "metadata": {},
   "outputs": [
    {
     "name": "stdout",
     "output_type": "stream",
     "text": [
      "Month: 09\n"
     ]
    }
   ],
   "source": [
    "# Slice string date to obtain month value\n",
    "date_string = \"03-09-1995\"\n",
    "# -------------1234567890\n",
    "\n",
    "# Use string slicing to extract the month value\n",
    "month = date_string[3:5]\n",
    "\n",
    "print(\"Month:\", month)"
   ]
  }
 ],
 "metadata": {
  "kernelspec": {
   "display_name": "Python 3 (ipykernel)",
   "language": "python",
   "name": "python3"
  },
  "language_info": {
   "codemirror_mode": {
    "name": "ipython",
    "version": 3
   },
   "file_extension": ".py",
   "mimetype": "text/x-python",
   "name": "python",
   "nbconvert_exporter": "python",
   "pygments_lexer": "ipython3",
   "version": "3.12.4"
  }
 },
 "nbformat": 4,
 "nbformat_minor": 5
}

{
 "cells": [
  {
   "cell_type": "markdown",
   "id": "2046f068-48e7-4d56-8d8c-9cf445bd5b15",
   "metadata": {},
   "source": [
    "# Session 2: Data Structures in Python"
   ]
  },
  {
   "cell_type": "markdown",
   "id": "d4f47485-eb4f-4841-a131-f1efea9723c1",
   "metadata": {},
   "source": [
    "## Lists"
   ]
  },
  {
   "cell_type": "code",
   "execution_count": 4,
   "id": "ca43754c-0513-4a9c-9c2d-e3682c9ceeff",
   "metadata": {},
   "outputs": [],
   "source": [
    "# Remove this \n",
    "user1 = ['Alice Kim', 1965, 58]"
   ]
  },
  {
   "cell_type": "code",
   "execution_count": 8,
   "id": "7b2dcce0-9985-434d-b570-3458293bdd17",
   "metadata": {},
   "outputs": [
    {
     "name": "stdout",
     "output_type": "stream",
     "text": [
      "The user_id for the user Alice Kim with year of birth 1965 and age 58 is AK196558\n"
     ]
    }
   ],
   "source": [
    "# Extract user id from list\n",
    "user_id = user1[0].split()[0][0] + user1[0].split()[1][0] + str(user1[1]) + str(user1[2])\n",
    "print(\"The user_id for the user {0} with year of birth {1} and age {2} is {3}\".format(user1[0], user1[1], user1[2], user_id))"
   ]
  },
  {
   "cell_type": "code",
   "execution_count": 9,
   "id": "e0609de9-d784-40ec-9d24-d69ac31e317e",
   "metadata": {},
   "outputs": [],
   "source": [
    "# Present info for multiple users and store the info as nested lists\n",
    "user_list = [['Alice Kim', 'Eric Lee', 'Paul Kim', 'Ben Kim', 'Brian Wu'], \n",
    "             [1965, 1983, 1994, 1972, 1994],\n",
    "             [58, 40, 29, 51, 29]]"
   ]
  },
  {
   "cell_type": "code",
   "execution_count": 11,
   "id": "8275762b-95d0-41ca-876e-ef7f305e87e4",
   "metadata": {},
   "outputs": [
    {
     "name": "stdout",
     "output_type": "stream",
     "text": [
      "[['Alice Kim', 'Eric Lee', 'Paul Kim', 'Ben Kim', 'Brian Wu'], [1965, 1983, 1994, 1972, 1994], [58, 40, 29, 51, 29]]\n"
     ]
    }
   ],
   "source": [
    "print(user_list)"
   ]
  },
  {
   "cell_type": "code",
   "execution_count": 12,
   "id": "227e0483-4d9a-4d28-971c-95f1ddfd7acc",
   "metadata": {},
   "outputs": [
    {
     "name": "stdout",
     "output_type": "stream",
     "text": [
      "['Alice Kim', 'Eric Lee', 'Paul Kim', 'Ben Kim', 'Brian Wu']\n"
     ]
    }
   ],
   "source": [
    "# Extract the names list from the nested list (the first list in the nested list)\n",
    "names = user_list[0]\n",
    "print(names)"
   ]
  },
  {
   "cell_type": "code",
   "execution_count": 18,
   "id": "d788b70c-60a2-4e1b-ad55-957854dddc39",
   "metadata": {},
   "outputs": [
    {
     "name": "stdout",
     "output_type": "stream",
     "text": [
      "[58, 40, 29, 51, 29]\n"
     ]
    }
   ],
   "source": [
    "# Extract the years list from the nested list (the first list in the nested list)\n",
    "years = user_list[1]\n",
    "print(names)"
   ]
  },
  {
   "cell_type": "code",
   "execution_count": 17,
   "id": "355126ba-f016-44fb-b11a-2ecba48a9ec9",
   "metadata": {},
   "outputs": [
    {
     "name": "stdout",
     "output_type": "stream",
     "text": [
      "[58, 40, 29, 51, 29]\n"
     ]
    }
   ],
   "source": [
    "# Extract the ages list from the nested list (the first list in the nested list)\n",
    "ages = user_list[2]\n",
    "print(names)"
   ]
  },
  {
   "cell_type": "code",
   "execution_count": 24,
   "id": "4648bf4d-e9b4-4f15-9d5d-86134a92f399",
   "metadata": {},
   "outputs": [
    {
     "name": "stdout",
     "output_type": "stream",
     "text": [
      "5\n",
      "5\n"
     ]
    }
   ],
   "source": [
    "# Number of users\n",
    "# Number of elements in any of the above sub-lists\n",
    "print(len(names))\n",
    "print(len(user_list[1]))"
   ]
  },
  {
   "cell_type": "code",
   "execution_count": 26,
   "id": "0bf694bb-3f40-4fa9-aee2-70e29e1c2735",
   "metadata": {},
   "outputs": [
    {
     "name": "stdout",
     "output_type": "stream",
     "text": [
      "[['Alice Kim', 'Eric Lee', 'Paul Kim', 'Ben Kim', 'Brian Wu'], [1965, 1983, 1994, 1972, 1994], [58, 40, 29, 51, 29], [True, True, False, False, True], [True, True, False, False, True]]\n"
     ]
    }
   ],
   "source": [
    "# Add one more list to the nested list\n",
    "sub_status_list = [True, True, False, False, True]\n",
    "user_list.append(sub_status_list)\n",
    "print(user_list)"
   ]
  },
  {
   "cell_type": "code",
   "execution_count": 27,
   "id": "5ff023d8-a611-47fa-8fc7-22c982f19140",
   "metadata": {},
   "outputs": [
    {
     "name": "stdout",
     "output_type": "stream",
     "text": [
      "5\n"
     ]
    }
   ],
   "source": [
    "# Number of data fields\n",
    "# Number of lists in the nested list\n",
    "print(len(user_list))"
   ]
  },
  {
   "cell_type": "markdown",
   "id": "0da1135d-fd31-4de9-a0eb-56e24b49060d",
   "metadata": {},
   "source": [
    "## Sets"
   ]
  },
  {
   "cell_type": "code",
   "execution_count": 31,
   "id": "58590e36-93ff-46e2-875f-341b43ee983b",
   "metadata": {},
   "outputs": [],
   "source": [
    "# Convert yob list into set\n",
    "unique_user_yob = set(user_list[1])"
   ]
  },
  {
   "cell_type": "code",
   "execution_count": 32,
   "id": "902d85d3-f170-4ae1-881f-9c17611c2140",
   "metadata": {},
   "outputs": [
    {
     "name": "stdout",
     "output_type": "stream",
     "text": [
      "4\n"
     ]
    }
   ],
   "source": [
    "# Find the number of unique elements in the set\n",
    "print(len(user_yob))"
   ]
  },
  {
   "cell_type": "code",
   "execution_count": 33,
   "id": "366ee370-8176-4deb-8b31-9540490d89a8",
   "metadata": {},
   "outputs": [
    {
     "name": "stdout",
     "output_type": "stream",
     "text": [
      "{1994, 1972, 1965, 1983}\n"
     ]
    }
   ],
   "source": [
    "# Unique year of births\n",
    "print(unique_user_yob)"
   ]
  },
  {
   "cell_type": "code",
   "execution_count": 34,
   "id": "bc49cc7d-a010-45aa-b431-6b8e1cae8d59",
   "metadata": {},
   "outputs": [],
   "source": [
    "# Candidate year of births set\n",
    "candidate_yob_set = set([1965, 1994, 2000])"
   ]
  },
  {
   "cell_type": "code",
   "execution_count": 41,
   "id": "ed3ec170-fc77-48e8-9a9c-30736b509fb3",
   "metadata": {},
   "outputs": [
    {
     "name": "stdout",
     "output_type": "stream",
     "text": [
      "{2000}\n"
     ]
    }
   ],
   "source": [
    "# Find out the year of births are in the candidate years of birth set, but not in the data set\n",
    "print(candidate_yob_set - unique_user_yob)"
   ]
  },
  {
   "cell_type": "markdown",
   "id": "92c7122e-9fa0-4a4d-952e-80ad3d9c7cf2",
   "metadata": {},
   "source": [
    "## Dictionaries"
   ]
  },
  {
   "cell_type": "code",
   "execution_count": 37,
   "id": "e63974fe-1057-403f-bdad-adba06005d19",
   "metadata": {},
   "outputs": [
    {
     "name": "stdout",
     "output_type": "stream",
     "text": [
      "('Alice Kim', 'Eric Lee', 'Paul Kim', 'Ben Kim', 'Brian Wu')\n"
     ]
    }
   ],
   "source": [
    "# Creating a dictionary\n",
    "user_dict = {\"Names\" : ('Alice Kim', 'Eric Lee', 'Paul Kim', 'Ben Kim', 'Brian Wu'),\n",
    "             \"YOB\" : (1965, 1983, 1994, 1972, 1994),\n",
    "             \"Age\" : (58, 40, 29, 51, 29)}\n",
    "\n",
    "# Print Names field from the above dictionary\n",
    "print(user_dict[\"Names\"])"
   ]
  },
  {
   "cell_type": "code",
   "execution_count": 40,
   "id": "0e0e78ac-d7f1-421c-a4bf-6d4e42543b04",
   "metadata": {},
   "outputs": [],
   "source": [
    "# Insert new key value pair into a dictionary - call it \"Sub_status\"\n",
    "sub_status_list = (True, True, False, False, True)\n",
    "user_dict[\"sub_status\"] = sub_status_list"
   ]
  },
  {
   "cell_type": "code",
   "execution_count": 42,
   "id": "6b6611ff-70dc-4fa1-985e-78b73086530d",
   "metadata": {},
   "outputs": [
    {
     "name": "stdout",
     "output_type": "stream",
     "text": [
      "{'Names': ('Alice Kim', 'Eric Lee', 'Paul Kim', 'Ben Kim', 'Brian Wu'), 'YOB': (1965, 1983, 1994, 1972, 1994), 'Age': (58, 40, 29, 51, 29), 'Sub_status': (True, True, False, False, True), 'sub_status': (True, True, False, False, True)}\n"
     ]
    }
   ],
   "source": [
    "print(user_dict)"
   ]
  },
  {
   "cell_type": "code",
   "execution_count": 44,
   "id": "dcef859e-6b9b-426b-80b4-61e1b82ccb3a",
   "metadata": {},
   "outputs": [
    {
     "name": "stdout",
     "output_type": "stream",
     "text": [
      "5\n"
     ]
    }
   ],
   "source": [
    "print(len(user_dict.keys()))"
   ]
  },
  {
   "cell_type": "markdown",
   "id": "0083c887-f791-441d-95b0-1806c739b2ee",
   "metadata": {},
   "source": [
    "# Problem Statement: Temperature Data set\n",
    "You are provided with data of hourly temperature readings for seven consecutive days(Mon-Sun) for a particular week in Seattle, and the objective is to extract relevant information from the dataset."
   ]
  },
  {
   "cell_type": "code",
   "execution_count": 46,
   "id": "9801a6c2-42c5-4b9b-a794-bfa071547e67",
   "metadata": {},
   "outputs": [],
   "source": [
    "# Hourly temperature data for a week\n",
    "temp_list = [[281.72, 281.72, 281.71, 281.70, 281.69, 281.69, 281.68, 281.67, 281.66, 281.66, 281.65, 281.64, 281.63, 281.63, 281.62, 282.71, 285.05, 287.97, 290.61, 292.06, 293.68, 295.32, 295.18, 296.11],\n",
    "             [295.24, 294.38, 292.28, 291.12, 289.93, 287.87, 287.14, 286.54, 286.16, 285.31, 284.30, 283.96, 283.60, 283.23, 283.50, 284.57, 285.64, 286.71, 287.42, 288.61, 289.13, 289.41, 289.18, 288.95],\n",
    "             [288.79, 287.47, 286.01, 284.85, 283.91, 283.31, 283.07, 283.15, 282.51, 281.98, 281.49, 281.14, 280.59, 279.65, 279.15, 279.72, 282.40, 284.72, 286.03, 287.19, 288.68, 289.56, 290.05, 289.98],\n",
    "             [289.60, 288.40, 286.38, 285.56, 284.45, 283.92, 283.25, 282.59, 281.92, 281.78, 281.63, 281.08, 280.64, 281.14, 280.08, 280.70, 282.98, 284.62, 286.61, 287.45, 289.22, 290.21, 289.94, 290.01],\n",
    "             [289.85, 288.82, 287.60, 285.82, 284.58, 284.12, 283.63, 282.98, 282.68, 282.38, 281.77, 281.47, 281.06, 280.55, 280.65, 281.00, 283.49, 286.17, 287.58, 289.49, 292.11, 292.85, 292.69, 292.85],\n",
    "             [292.05, 290.34, 288.05, 286.46, 285.37, 285.04, 284.38, 283.73, 283.07, 282.87, 280.77, 280.32, 280.01, 279.77, 279.54, 279.63, 282.48, 287.17, 289.47, 291.63, 293.42, 293.95, 294.78, 294.10],\n",
    "             [293.62, 291.88, 290.03, 288.43, 287.15, 286.78, 286.32, 285.17, 283.78, 282.96, 282.93, 281.96, 282.02, 281.26, 280.25, 281.01, 283.15, 286.49, 289.87, 291.42, 292.46, 293.35, 294.32, 294.85]]"
   ]
  },
  {
   "cell_type": "code",
   "execution_count": 47,
   "id": "fd94ab27-a4cb-4594-9e9c-b876780f48f8",
   "metadata": {},
   "outputs": [
    {
     "name": "stdout",
     "output_type": "stream",
     "text": [
      "281.96\n"
     ]
    }
   ],
   "source": [
    "# Output the temperature for Sunday noon, 7th day, 12th hour\n",
    "print(temp_list[6][11])"
   ]
  },
  {
   "cell_type": "code",
   "execution_count": null,
   "id": "8078d203-bd49-414f-9479-e49eda3822cc",
   "metadata": {},
   "outputs": [],
   "source": [
    "# Output the highest temp on Sunday\n",
    "print(max("
   ]
  }
 ],
 "metadata": {
  "kernelspec": {
   "display_name": "Python 3 (ipykernel)",
   "language": "python",
   "name": "python3"
  },
  "language_info": {
   "codemirror_mode": {
    "name": "ipython",
    "version": 3
   },
   "file_extension": ".py",
   "mimetype": "text/x-python",
   "name": "python",
   "nbconvert_exporter": "python",
   "pygments_lexer": "ipython3",
   "version": "3.12.4"
  }
 },
 "nbformat": 4,
 "nbformat_minor": 5
}

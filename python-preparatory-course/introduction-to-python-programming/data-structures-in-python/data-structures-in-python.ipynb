{
 "cells": [
  {
   "cell_type": "markdown",
   "id": "f8f07fdd-21f4-4058-9599-a4e6d0a6610c",
   "metadata": {},
   "source": [
    "In the last session, we had a look at the String data type which could be used to store character values. Now let's try building an application which records a customer's detail and assign it a unique user id number generated randomly."
   ]
  },
  {
   "cell_type": "code",
   "execution_count": 1,
   "id": "4f86b492-d755-464a-bbef-67e950276e61",
   "metadata": {},
   "outputs": [
    {
     "name": "stdin",
     "output_type": "stream",
     "text": [
      "What's your name : Thang\n",
      "What's your number : 29\n"
     ]
    }
   ],
   "source": [
    "# We would ask the user for his name and mobile number\n",
    "name = input(\"What's your name :\")\n",
    "number = input(\"What's your number :\")"
   ]
  },
  {
   "cell_type": "code",
   "execution_count": 2,
   "id": "f84e9d29-42c7-48ce-9e09-4a7883bc4430",
   "metadata": {},
   "outputs": [
    {
     "name": "stdout",
     "output_type": "stream",
     "text": [
      "Thang 29\n"
     ]
    }
   ],
   "source": [
    "print(name, number)"
   ]
  },
  {
   "cell_type": "code",
   "execution_count": 3,
   "id": "99c9c50a-e476-4a90-bc2e-f58f13e65a39",
   "metadata": {},
   "outputs": [
    {
     "name": "stdout",
     "output_type": "stream",
     "text": [
      "839\n"
     ]
    }
   ],
   "source": [
    "from random import seed\n",
    "from random import randint\n",
    "\n",
    "value = randint(100, 999)\n",
    "print(value)"
   ]
  },
  {
   "cell_type": "code",
   "execution_count": 4,
   "id": "692c982c-fd91-4d34-a6bc-9aefd94df4fc",
   "metadata": {},
   "outputs": [
    {
     "name": "stdout",
     "output_type": "stream",
     "text": [
      "Thang 29 839\n"
     ]
    }
   ],
   "source": [
    "print(name, number, value)"
   ]
  },
  {
   "cell_type": "code",
   "execution_count": 5,
   "id": "fa1ab60d-bc96-454a-bcef-ab2e5f29e595",
   "metadata": {},
   "outputs": [
    {
     "name": "stdout",
     "output_type": "stream",
     "text": [
      "['Thang', '29', 839]\n"
     ]
    }
   ],
   "source": [
    "list = [name, number, value]\n",
    "print(list)"
   ]
  },
  {
   "cell_type": "markdown",
   "id": "36559ca6-3174-48cf-835f-33b73db68e25",
   "metadata": {},
   "source": [
    "<h1 style=\"color:Brown\">Lists</h1>\n",
    "\n",
    "- Lists are an ordered sequnce of mixed data types.\n",
    "- Lists are written as comma-separated  elements within square brackets"
   ]
  },
  {
   "cell_type": "code",
   "execution_count": 6,
   "id": "bee14505-0d96-4537-9aa1-0b16d39509a5",
   "metadata": {},
   "outputs": [
    {
     "name": "stdout",
     "output_type": "stream",
     "text": [
      "['India', 23, 6, 'Mumbai']\n"
     ]
    }
   ],
   "source": [
    "# Introduction\n",
    "L = [\"India\", 23, 6, \"Mumbai\"]\n",
    "print(L)"
   ]
  },
  {
   "cell_type": "code",
   "execution_count": 7,
   "id": "a493ab84-a82b-426b-a44d-0956de239fdc",
   "metadata": {},
   "outputs": [
    {
     "name": "stdout",
     "output_type": "stream",
     "text": [
      "['Chemistry', 'Biology', [1994, 2004], 4]\n"
     ]
    }
   ],
   "source": [
    "# Nested List\n",
    "L = [\"Chemistry\", \"Biology\", [1994, 2004], 4]\n",
    "print(L)"
   ]
  },
  {
   "cell_type": "code",
   "execution_count": 8,
   "id": "e5b983a9-45ad-4ebd-9ff7-8ea19e60531e",
   "metadata": {},
   "outputs": [
    {
     "name": "stdout",
     "output_type": "stream",
     "text": [
      "Chemistry\n"
     ]
    }
   ],
   "source": [
    "# Indexing\n",
    "print(L[0])"
   ]
  },
  {
   "cell_type": "code",
   "execution_count": 9,
   "id": "9a1096f6-9db6-4472-8c3c-7d16c223031b",
   "metadata": {},
   "outputs": [
    {
     "name": "stdout",
     "output_type": "stream",
     "text": [
      "[1994, 2004]\n"
     ]
    }
   ],
   "source": [
    "print(L[2])"
   ]
  },
  {
   "cell_type": "code",
   "execution_count": 10,
   "id": "be24f296-ebdd-465e-ab91-f3b2359b4bdc",
   "metadata": {},
   "outputs": [
    {
     "name": "stdout",
     "output_type": "stream",
     "text": [
      "4\n"
     ]
    }
   ],
   "source": [
    "print(L[-1])"
   ]
  },
  {
   "cell_type": "code",
   "execution_count": 11,
   "id": "0e2e8a2c-9a2b-4f68-95a7-d460cd64dba7",
   "metadata": {},
   "outputs": [
    {
     "name": "stdout",
     "output_type": "stream",
     "text": [
      "[1994, 2004]\n"
     ]
    }
   ],
   "source": [
    "print(L[-2])"
   ]
  },
  {
   "cell_type": "code",
   "execution_count": 12,
   "id": "53e14d54-733f-4b3d-a9b9-642dfd682770",
   "metadata": {},
   "outputs": [
    {
     "name": "stdout",
     "output_type": "stream",
     "text": [
      "1994\n"
     ]
    }
   ],
   "source": [
    "print(L[-2][0])"
   ]
  },
  {
   "cell_type": "code",
   "execution_count": 13,
   "id": "9446a925-8003-4b9b-b676-1600c1ffba10",
   "metadata": {},
   "outputs": [
    {
     "name": "stdout",
     "output_type": "stream",
     "text": [
      "['Biology', [1994, 2004]]\n"
     ]
    }
   ],
   "source": [
    "# Slicing\n",
    "print(L[1:3])"
   ]
  },
  {
   "cell_type": "code",
   "execution_count": 14,
   "id": "604f3c46-b03c-4daa-9283-b3b620f50b0b",
   "metadata": {},
   "outputs": [
    {
     "name": "stdout",
     "output_type": "stream",
     "text": [
      "True\n",
      "False\n"
     ]
    }
   ],
   "source": [
    "# Membership in Lists\n",
    "L1 = [1, 2, 3, 4]\n",
    "print(1 in L1)\n",
    "print(20 in L1)"
   ]
  },
  {
   "cell_type": "code",
   "execution_count": 15,
   "id": "db1f57f2-fc86-4b2d-973e-734c3930f63a",
   "metadata": {},
   "outputs": [
    {
     "data": {
      "text/plain": [
       "['Chemistry', 'Biology', [1994, 2004], 4]"
      ]
     },
     "execution_count": 15,
     "metadata": {},
     "output_type": "execute_result"
    }
   ],
   "source": [
    "# List Concatanetion\n",
    "L"
   ]
  },
  {
   "cell_type": "code",
   "execution_count": 16,
   "id": "a4ef2521-c3bf-46d7-98da-514395308075",
   "metadata": {},
   "outputs": [
    {
     "name": "stdout",
     "output_type": "stream",
     "text": [
      "['Chemistry', 'Biology', [1994, 2004], 4, 5, 8]\n"
     ]
    }
   ],
   "source": [
    "new_L = L + [5, 8]\n",
    "print(new_L)"
   ]
  },
  {
   "cell_type": "code",
   "execution_count": 17,
   "id": "a2f22f37-80bf-4f87-b5a7-19ab9c6746e9",
   "metadata": {},
   "outputs": [
    {
     "name": "stdout",
     "output_type": "stream",
     "text": [
      "['Chemistry', 'Physics', [1994, 2004], 4]\n"
     ]
    }
   ],
   "source": [
    "# Replace \"Biology\" with \"Physics\"\n",
    "L = ['Chemistry', 'Biology', [1994, 2004], 4]\n",
    "\n",
    "L[1] = \"Physics\"\n",
    "print(L)"
   ]
  },
  {
   "cell_type": "code",
   "execution_count": 18,
   "id": "de480cc5-34a3-48f6-83f0-4a2a890e8415",
   "metadata": {},
   "outputs": [
    {
     "name": "stdout",
     "output_type": "stream",
     "text": [
      "['Chemistry', 'Biology', [1994, 2004], 4, 5, 8]\n"
     ]
    }
   ],
   "source": [
    "# extend()\n",
    "L = ['Chemistry', 'Biology', [1994, 2004], 4]\n",
    "\n",
    "L.extend([5, 8])\n",
    "print(L)"
   ]
  },
  {
   "cell_type": "code",
   "execution_count": 19,
   "id": "461381a2-56c7-44a0-b490-a423ec624328",
   "metadata": {},
   "outputs": [
    {
     "name": "stdout",
     "output_type": "stream",
     "text": [
      "['Chemistry', 'Biology', [1994, 2004], 4, 5, 8, [5, 8]]\n"
     ]
    }
   ],
   "source": [
    "# append()\n",
    "L = ['Chemistry', 'Biology', [1994, 2004], 4, 5, 8]\n",
    "\n",
    "L.append([5, 8])\n",
    "print(L)"
   ]
  },
  {
   "cell_type": "code",
   "execution_count": 20,
   "id": "c44ca62f-8ef1-4f5c-89b1-3d1cd9dcd786",
   "metadata": {},
   "outputs": [
    {
     "name": "stdout",
     "output_type": "stream",
     "text": [
      "['Chemistry', 'Biology', [1994, 2004], 4, 5, 8, [5, 8], 123]\n"
     ]
    }
   ],
   "source": [
    "L = ['Chemistry', 'Biology', [1994, 2004], 4, 5, 8, [5, 8]]\n",
    "\n",
    "L.append(123)\n",
    "print(L)"
   ]
  },
  {
   "cell_type": "code",
   "execution_count": 21,
   "id": "a680ee90-cc18-423d-9a28-33b72dfa343c",
   "metadata": {},
   "outputs": [
    {
     "name": "stdout",
     "output_type": "stream",
     "text": [
      "['Biology', [1994, 2004], 4, 5, 8, [5, 8], 123]\n"
     ]
    }
   ],
   "source": [
    "# del Command\n",
    "L = [\"Chemistry\", \"Biology\", [1994, 2004], 4, 5, 8, [5, 8], 123]\n",
    "\n",
    "del L[0]\n",
    "print(L)"
   ]
  },
  {
   "cell_type": "code",
   "execution_count": 22,
   "id": "40d5b1ff-7937-412b-8553-01ba1744219d",
   "metadata": {},
   "outputs": [
    {
     "name": "stdout",
     "output_type": "stream",
     "text": [
      "[[1994, 2004], 4, 5, 8, [5, 8], 123]\n"
     ]
    }
   ],
   "source": [
    "L = [\"Chemistry\", \"Biology\", [1994, 2004], 4, 5, 8, [5, 8], 123]\n",
    "\n",
    "del L[0:2]\n",
    "print(L)"
   ]
  },
  {
   "cell_type": "code",
   "execution_count": 23,
   "id": "7bca0368-1b8e-4c8a-bb72-67b9c6a98f1e",
   "metadata": {},
   "outputs": [
    {
     "name": "stdout",
     "output_type": "stream",
     "text": [
      "8\n",
      "['Chemistry', 'Biology', [1994, 2004], 4, 5]\n"
     ]
    }
   ],
   "source": [
    "# pop()\n",
    "L = [\"Chemistry\", \"Biology\", [1994, 2004], 4, 5, 8]\n",
    "\n",
    "print(L.pop())\n",
    "print(L)"
   ]
  },
  {
   "cell_type": "code",
   "execution_count": 24,
   "id": "1e692591-f6b3-4a11-8cb1-994a0a1bb421",
   "metadata": {},
   "outputs": [
    {
     "name": "stdout",
     "output_type": "stream",
     "text": [
      "['Chemistry', [1994, 2004], 4, 5, 8]\n"
     ]
    }
   ],
   "source": [
    "# remove\n",
    "L = [\"Chemistry\", \"Biology\", [1994, 2004], 4, 5, 8]\n",
    "\n",
    "L.remove(\"Biology\")\n",
    "print(L)"
   ]
  },
  {
   "cell_type": "code",
   "execution_count": 25,
   "id": "f57eccb9-3170-4d90-b40e-db4e477ad670",
   "metadata": {},
   "outputs": [
    {
     "name": "stdout",
     "output_type": "stream",
     "text": [
      "[1, 3, 8, 24, 32]\n"
     ]
    }
   ],
   "source": [
    "# Sorting Lists\n",
    "L = [32, 24, 1, 3, 8]\n",
    "\n",
    "L.sort()\n",
    "print(L)"
   ]
  },
  {
   "cell_type": "code",
   "execution_count": 26,
   "id": "54afa656-a318-4fec-8830-9efd9f3e1755",
   "metadata": {},
   "outputs": [
    {
     "name": "stdout",
     "output_type": "stream",
     "text": [
      "[32, 24, 8, 3, 1]\n"
     ]
    }
   ],
   "source": [
    "L.sort(reverse=True)\n",
    "print(L)"
   ]
  },
  {
   "cell_type": "markdown",
   "id": "0b059734-6e61-4739-adfd-0b00d31bee99",
   "metadata": {},
   "source": [
    "#### Difference between sort and sorted"
   ]
  },
  {
   "cell_type": "code",
   "execution_count": 27,
   "id": "04c4fa60-24b4-4f7b-883c-bb227da09303",
   "metadata": {},
   "outputs": [
    {
     "name": "stdout",
     "output_type": "stream",
     "text": [
      "['Orange', 'Strawberry', 'Mango']\n"
     ]
    }
   ],
   "source": [
    "A = [\"Orange\", \"Strawberry\", \"Mango\"]\n",
    "print(A)"
   ]
  },
  {
   "cell_type": "code",
   "execution_count": 28,
   "id": "559832e6-649e-4129-8434-b5426715fca9",
   "metadata": {},
   "outputs": [
    {
     "name": "stdout",
     "output_type": "stream",
     "text": [
      "['Mango', 'Orange', 'Strawberry']\n",
      "None\n"
     ]
    }
   ],
   "source": [
    "B = A.sort()\n",
    "print(A)\n",
    "print(B)"
   ]
  },
  {
   "cell_type": "code",
   "execution_count": 29,
   "id": "df003e7a-cc20-4129-b484-3db2827865a3",
   "metadata": {},
   "outputs": [
    {
     "name": "stdout",
     "output_type": "stream",
     "text": [
      "['Orange', 'Strawberry', 'Mango']\n",
      "['Mango', 'Orange', 'Strawberry']\n"
     ]
    }
   ],
   "source": [
    "A = [\"Orange\", \"Strawberry\", \"Mango\"]\n",
    "C = sorted(A)\n",
    "print(A)\n",
    "print(C)"
   ]
  },
  {
   "cell_type": "markdown",
   "id": "20ebca20-a60f-4dcf-9d97-4466643b1344",
   "metadata": {},
   "source": [
    "- Question"
   ]
  },
  {
   "cell_type": "code",
   "execution_count": 30,
   "id": "1904898b-e58a-49bc-b319-b23246a61c97",
   "metadata": {},
   "outputs": [],
   "source": [
    "# Indexing from the End\n",
    "# Suppose list_1 is [2, 33, 222, 14, 25]. What is list_1[-5]?"
   ]
  },
  {
   "cell_type": "code",
   "execution_count": 31,
   "id": "92f917f5-a11f-44df-9b13-2d27b9623e62",
   "metadata": {},
   "outputs": [
    {
     "name": "stdout",
     "output_type": "stream",
     "text": [
      "2\n"
     ]
    }
   ],
   "source": [
    "list_1 = [2, 33, 222, 14, 25]\n",
    "print(list_1[-5])"
   ]
  },
  {
   "cell_type": "code",
   "execution_count": 32,
   "id": "aa56678f-c8dc-4b42-afa8-07b9b564ced2",
   "metadata": {},
   "outputs": [],
   "source": [
    "# I Lost Everything!\n",
    "# What would be the output of the code above?"
   ]
  },
  {
   "cell_type": "code",
   "execution_count": 33,
   "id": "16b4e31c-db36-4825-a567-59c999e15343",
   "metadata": {},
   "outputs": [
    {
     "name": "stdout",
     "output_type": "stream",
     "text": [
      "[]\n"
     ]
    }
   ],
   "source": [
    "word = ['1','2','3','4']\n",
    "word[ : ] = [ ] \n",
    "print(word)"
   ]
  },
  {
   "cell_type": "code",
   "execution_count": 34,
   "id": "aec0f8db-c8a5-4345-8a8a-90b738e9736d",
   "metadata": {},
   "outputs": [],
   "source": [
    "# Sorted List\n",
    "# Consider the following list:"
   ]
  },
  {
   "cell_type": "code",
   "execution_count": 35,
   "id": "d43179a9-9075-4310-927d-cae350d194c6",
   "metadata": {},
   "outputs": [
    {
     "name": "stdout",
     "output_type": "stream",
     "text": [
      "['five', 'four', 'one', 'six', 'three', 'two']\n",
      "['one', 'two', 'three', 'four', 'five', 'six']\n"
     ]
    }
   ],
   "source": [
    "L = ['one','two','three', 'four', 'five', 'six']\n",
    "print(sorted(L))\n",
    "print (L)"
   ]
  },
  {
   "cell_type": "markdown",
   "id": "f9702ec5-b0bc-4444-9c19-517383fd8b17",
   "metadata": {},
   "source": [
    "- Practice"
   ]
  },
  {
   "cell_type": "markdown",
   "id": "e752d698-3cff-44c3-989a-6d30aafc0738",
   "metadata": {},
   "source": [
    "<h5>List_remove_append</h5>\n",
    "<b>Description</b><br>\n",
    "Remove SPSS from input_list=['SAS', 'R', 'PYTHON', 'SPSS'] and add 'SPARK' in its place.<br>\n",
    "<br>\n",
    "<b>Sample Input:</b><br>\n",
    "['SAS', 'R', 'PYTHON', 'SPSS']<br>\n",
    "<br>\n",
    "<b>Sample Output:</b><br>\n",
    "['SAS', 'R', 'PYTHON', 'SPARK']<br>\n",
    "<br>\n",
    "<b>Execution time limit</b><br>\n",
    "15 seconds"
   ]
  },
  {
   "cell_type": "code",
   "execution_count": 36,
   "id": "5159835f-dd72-4dc4-bdd7-82359ee93a16",
   "metadata": {},
   "outputs": [
    {
     "name": "stdout",
     "output_type": "stream",
     "text": [
      "['SAS', 'R', 'PYTHON', 'SPARK']\n"
     ]
    }
   ],
   "source": [
    "input_list = ['SAS', 'R', 'PYTHON', 'SPSS']\n",
    "input_list[3] = \"SPARK\"\n",
    "print(input_list)"
   ]
  },
  {
   "cell_type": "markdown",
   "id": "46d02d83-9be0-430f-b950-d5358867ba66",
   "metadata": {},
   "source": [
    "<h5>List to String</h5>\n",
    "<b>Description</b><br>\n",
    "Convert a list ['Pythons syntax is easy to learn', 'Pythons syntax is very clear'] to a string using ‘&’. The sample output of this string will be:<br>\n",
    "<i>Pythons syntax is easy to learn & Pythons syntax is very clear</i><br>\n",
    "Note that there is a space on both sides of '&' (as usual in English sentences).<br>\n",
    "<br>\n",
    "<b>Execution time limit</b><br>\n",
    "15 seconds"
   ]
  },
  {
   "cell_type": "code",
   "execution_count": 37,
   "id": "b6968448-20d9-4d01-9712-b8391e1ab486",
   "metadata": {},
   "outputs": [
    {
     "name": "stdout",
     "output_type": "stream",
     "text": [
      "Pythons syntax is easy to learn & Pythons syntax is very clear\n"
     ]
    }
   ],
   "source": [
    "input_list = ['Pythons syntax is easy to learn', 'Pythons syntax is very clear']\n",
    "print(\"{0} & {1}\".format(input_list[0], input_list[1]))"
   ]
  },
  {
   "cell_type": "markdown",
   "id": "e5f96eb0-f8d5-447d-bf9e-62ad69991059",
   "metadata": {},
   "source": [
    "#### Shadow Copying"
   ]
  },
  {
   "cell_type": "code",
   "execution_count": 38,
   "id": "94e5dfec-2725-498f-b13a-417d9628df12",
   "metadata": {},
   "outputs": [],
   "source": [
    "A = [\"Orange\", \"Strawberry\", \"Mango\"]"
   ]
  },
  {
   "cell_type": "code",
   "execution_count": 39,
   "id": "ce5619e2-ea7f-4331-918e-6821e397484c",
   "metadata": {},
   "outputs": [],
   "source": [
    "B = A"
   ]
  },
  {
   "cell_type": "code",
   "execution_count": 40,
   "id": "9682e95a-a032-4417-98f4-a8fbdc590955",
   "metadata": {},
   "outputs": [
    {
     "name": "stdout",
     "output_type": "stream",
     "text": [
      "['Orange', 'Strawberry', 'Mango'] ['Orange', 'Strawberry', 'Mango']\n"
     ]
    }
   ],
   "source": [
    "print(A, B)"
   ]
  },
  {
   "cell_type": "code",
   "execution_count": 41,
   "id": "fcb77b09-67c0-4895-8d0c-4e221da3a51c",
   "metadata": {},
   "outputs": [
    {
     "name": "stdout",
     "output_type": "stream",
     "text": [
      "['Apple', 'Strawberry', 'Mango'] ['Apple', 'Strawberry', 'Mango']\n"
     ]
    }
   ],
   "source": [
    "A[0] = \"Apple\"\n",
    "print(A, B)"
   ]
  },
  {
   "cell_type": "code",
   "execution_count": 42,
   "id": "4010624e-8dda-4a4b-b22d-e23c5c57d7d4",
   "metadata": {},
   "outputs": [
    {
     "name": "stdout",
     "output_type": "stream",
     "text": [
      "['Orange', 'Strawberry', 'Mango'] ['Orange', 'Strawberry', 'Mango']\n"
     ]
    }
   ],
   "source": [
    "A = [\"Orange\", \"Strawberry\", \"Mango\"]\n",
    "B = A[:]\n",
    "print(A, B)"
   ]
  },
  {
   "cell_type": "code",
   "execution_count": 43,
   "id": "2baa430b-e5f7-4a4e-b3a5-923ce2626ce5",
   "metadata": {},
   "outputs": [
    {
     "name": "stdout",
     "output_type": "stream",
     "text": [
      "['Apple', 'Strawberry', 'Mango'] ['Orange', 'Strawberry', 'Mango']\n"
     ]
    }
   ],
   "source": [
    "A[0] = \"Apple\"\n",
    "print(A, B)"
   ]
  },
  {
   "cell_type": "markdown",
   "id": "1a5c8db2-ef2d-40d6-8cdb-7edbfded60fa",
   "metadata": {},
   "source": [
    "- Question"
   ]
  },
  {
   "cell_type": "code",
   "execution_count": 44,
   "id": "472ffcaa-7c12-4c02-904b-6ce36e2682ae",
   "metadata": {},
   "outputs": [],
   "source": [
    "# I Will Find You, Python.\n",
    "# How will I extract Python from the nested list"
   ]
  },
  {
   "cell_type": "code",
   "execution_count": 45,
   "id": "2cb05cd3-3cc7-4050-a5cc-c5144c6d3fd2",
   "metadata": {},
   "outputs": [
    {
     "name": "stdout",
     "output_type": "stream",
     "text": [
      "Python\n"
     ]
    }
   ],
   "source": [
    "input_list =  [['SAS','R'],['Tableau','SQL'],['Python','Java']]\n",
    "print(input_list[2][0])"
   ]
  },
  {
   "cell_type": "markdown",
   "id": "ed2655ca-e5a4-4f2d-8642-fa46e08013c5",
   "metadata": {},
   "source": [
    "- Practice"
   ]
  },
  {
   "cell_type": "markdown",
   "id": "5b166ff8-6bd4-4346-96bc-730ec8dccdf8",
   "metadata": {},
   "source": [
    "<h5>String Split</h5>\n",
    "<b>Description</b><br>\n",
    "Split the string input_str = 'Kumar_Ravi_003' to the person's second name, first name and unique customer code. In this example, second_name= 'Kumar', first_name= 'Ravi', customer_code = '003'.<br>\n",
    "A sample output of the input 'Kumar_Ravi_003' is:<br>\n",
    "<i>Ravi</i><br>\n",
    "<i>Kumar</i><br>\n",
    "<i>003</i><br>\n",
    "Note that you need to <b>print in the order</b> first name, last name and customer code.<br>\n",
    "<br>\n",
    "<b>Execution time limit</b><br>\n",
    "15 seconds"
   ]
  },
  {
   "cell_type": "code",
   "execution_count": 46,
   "id": "b4734271-a65f-4805-bf4f-1f94d4d35f2d",
   "metadata": {},
   "outputs": [
    {
     "name": "stdout",
     "output_type": "stream",
     "text": [
      "Ravi\n",
      "Kumar\n",
      "003\n"
     ]
    }
   ],
   "source": [
    "input_str = \"Kumar_Ravi_003\"\n",
    "\n",
    "print(input_str.split(\"_\")[1])\n",
    "print(input_str.split(\"_\")[0])\n",
    "print(input_str.split(\"_\")[2])"
   ]
  },
  {
   "cell_type": "markdown",
   "id": "1fbed55b-595a-4d8f-9052-3da4e178b1c8",
   "metadata": {},
   "source": [
    "Hmm, that works. But what if I would like to add some security and make user id un-changeable or as we call it in programming - immutable, in that case, we'll use a tuple. \n",
    "\n",
    "So in this session, we are going to learn more about another new word or a data type actually which is called \"Tuple\""
   ]
  },
  {
   "cell_type": "markdown",
   "id": "79370e16-57a7-4aee-945e-954090ca49be",
   "metadata": {},
   "source": [
    "<h1 style=\"color:Brown\">Tuples</h1>\n",
    "\n",
    "- Tuples are an ordered sequence of mixed data types.\n",
    "- Tuples are written as comma-separated  elements within parenthesis"
   ]
  },
  {
   "cell_type": "code",
   "execution_count": 47,
   "id": "d3537793-8912-4314-9c37-23e61d981b5d",
   "metadata": {},
   "outputs": [
    {
     "name": "stdout",
     "output_type": "stream",
     "text": [
      "('disco', 12, 4.5)\n"
     ]
    }
   ],
   "source": [
    "t = (\"disco\", 12, 4.5)\n",
    "print(t)"
   ]
  },
  {
   "cell_type": "code",
   "execution_count": 48,
   "id": "59c3350a-8eeb-413d-a17b-92c6d71990c3",
   "metadata": {},
   "outputs": [
    {
     "data": {
      "text/plain": [
       "tuple"
      ]
     },
     "execution_count": 48,
     "metadata": {},
     "output_type": "execute_result"
    }
   ],
   "source": [
    "type(t)"
   ]
  },
  {
   "cell_type": "markdown",
   "id": "1d924f70-6cab-43c8-b3c4-4e23f6295cb1",
   "metadata": {},
   "source": [
    "<h3>Tuples can be defined is various ways</h3>"
   ]
  },
  {
   "cell_type": "markdown",
   "id": "21f7e349-508b-439c-bd3a-8a0d0948dddb",
   "metadata": {},
   "source": [
    "#### A tuple can be defined without using parenthesis"
   ]
  },
  {
   "cell_type": "code",
   "execution_count": 49,
   "id": "374befff-ddda-436e-9c13-311696b1a414",
   "metadata": {},
   "outputs": [
    {
     "name": "stdout",
     "output_type": "stream",
     "text": [
      "(1, 2, 3, 4)\n"
     ]
    }
   ],
   "source": [
    "sample_tuple = 1, 2, 3, 4\n",
    "print(sample_tuple)"
   ]
  },
  {
   "cell_type": "markdown",
   "id": "f7e34a90-0617-4162-9d56-ff87ba8e4c57",
   "metadata": {},
   "source": [
    "#### A tuple can be defined without using parenthesis"
   ]
  },
  {
   "cell_type": "code",
   "execution_count": 50,
   "id": "7706f58b-62aa-4e09-b9a9-f79c76a7e9f1",
   "metadata": {},
   "outputs": [
    {
     "name": "stdout",
     "output_type": "stream",
     "text": [
      "(1,)\n"
     ]
    }
   ],
   "source": [
    "sample_tuple = 1,\n",
    "print (sample_tuple)"
   ]
  },
  {
   "cell_type": "code",
   "execution_count": 51,
   "id": "4d364557-1be9-499e-b1c5-8ee6824a2167",
   "metadata": {},
   "outputs": [
    {
     "data": {
      "text/plain": [
       "int"
      ]
     },
     "execution_count": 51,
     "metadata": {},
     "output_type": "execute_result"
    }
   ],
   "source": [
    "sample_tuple = 1 # This is not a tuple\n",
    "type(sample_tuple)"
   ]
  },
  {
   "cell_type": "code",
   "execution_count": 52,
   "id": "40085eb2-2bdd-4720-bab7-2cb05c4b4ad3",
   "metadata": {},
   "outputs": [
    {
     "data": {
      "text/plain": [
       "int"
      ]
     },
     "execution_count": 52,
     "metadata": {},
     "output_type": "execute_result"
    }
   ],
   "source": [
    "sample_tuple = (1) # This is not a tuple\n",
    "type(sample_tuple)"
   ]
  },
  {
   "cell_type": "markdown",
   "id": "8d85b5f7-90e4-4846-811f-1c556d451fcc",
   "metadata": {},
   "source": [
    "### Indexing in tuples"
   ]
  },
  {
   "cell_type": "code",
   "execution_count": 53,
   "id": "2e699e72-32e9-4ea3-8611-bacc4801c55e",
   "metadata": {},
   "outputs": [
    {
     "name": "stdout",
     "output_type": "stream",
     "text": [
      "('Behzah', 84, 'Python')\n"
     ]
    }
   ],
   "source": [
    "t = (\"Behzah\", 84, \"Python\")\n",
    "print(t)"
   ]
  },
  {
   "cell_type": "code",
   "execution_count": 54,
   "id": "a9560210-18d5-4c43-97f6-262af2c3e8d9",
   "metadata": {},
   "outputs": [
    {
     "name": "stdout",
     "output_type": "stream",
     "text": [
      "Python\n"
     ]
    }
   ],
   "source": [
    "print(t[-1])"
   ]
  },
  {
   "cell_type": "code",
   "execution_count": 55,
   "id": "2e2f7e75-34b6-49d8-817b-5ebb52c5cef2",
   "metadata": {},
   "outputs": [
    {
     "name": "stdout",
     "output_type": "stream",
     "text": [
      "84\n"
     ]
    }
   ],
   "source": [
    "print(t[-2])"
   ]
  },
  {
   "cell_type": "markdown",
   "id": "de9c199c-ccae-4159-8611-8464b262301b",
   "metadata": {},
   "source": [
    "### Slicing"
   ]
  },
  {
   "cell_type": "code",
   "execution_count": 56,
   "id": "29ae7fcb-3e54-4852-ac5d-6f827a74ec7d",
   "metadata": {},
   "outputs": [
    {
     "name": "stdout",
     "output_type": "stream",
     "text": [
      "('Mumbai', 84, 'Python', 5, 2, 1)\n"
     ]
    }
   ],
   "source": [
    "t = (\"Mumbai\", 84, \"Python\", 5, 2, 1)\n",
    "print(t)"
   ]
  },
  {
   "cell_type": "code",
   "execution_count": 57,
   "id": "90f33578-fa51-4f49-bdf1-56971cba41bf",
   "metadata": {},
   "outputs": [
    {
     "name": "stdout",
     "output_type": "stream",
     "text": [
      "('Mumbai', 84, 'Python')\n"
     ]
    }
   ],
   "source": [
    "# Slicing first 3 elements from t\n",
    "print(t[0:3])"
   ]
  },
  {
   "cell_type": "code",
   "execution_count": 58,
   "id": "7d0130a9-6e01-4ba8-9f8a-49132ef6f45c",
   "metadata": {},
   "outputs": [
    {
     "name": "stdout",
     "output_type": "stream",
     "text": [
      "(2, 1)\n"
     ]
    }
   ],
   "source": [
    "# Slicing first 3 elements from t\n",
    "print(t[-2:])"
   ]
  },
  {
   "cell_type": "code",
   "execution_count": 59,
   "id": "1e99a2e6-dd26-47c3-bd04-93824fd583a4",
   "metadata": {},
   "outputs": [
    {
     "name": "stdout",
     "output_type": "stream",
     "text": [
      "6\n"
     ]
    }
   ],
   "source": [
    "# no. of elements in tuple t\n",
    "print(len(t))"
   ]
  },
  {
   "cell_type": "markdown",
   "id": "c5821617-1d0f-4e1f-9c41-daf4c0e19d4c",
   "metadata": {},
   "source": [
    "#### Cancatenating tuples"
   ]
  },
  {
   "cell_type": "code",
   "execution_count": 60,
   "id": "5546a6fd-e4fa-4a31-860e-fc1be22b4fb2",
   "metadata": {},
   "outputs": [],
   "source": [
    "tup1 = (\"This\", \"is\", \"session\", 2)\n",
    "tup2 = (\"on\", \"tuples\")"
   ]
  },
  {
   "cell_type": "code",
   "execution_count": 61,
   "id": "d6f11385-1b8c-4369-a08d-4b2513128102",
   "metadata": {},
   "outputs": [],
   "source": [
    "# Adding contents of tup2 to tup1 and storing in tup3\n",
    "tup3 = tup1 + tup2"
   ]
  },
  {
   "cell_type": "code",
   "execution_count": 62,
   "id": "7a4ef18f-72ee-46fa-a3ce-9220cad67c12",
   "metadata": {},
   "outputs": [
    {
     "name": "stdout",
     "output_type": "stream",
     "text": [
      "('This', 'is', 'session', 2, 'on', 'tuples')\n"
     ]
    }
   ],
   "source": [
    "print(tup3)"
   ]
  },
  {
   "cell_type": "markdown",
   "id": "18ecf354-780d-4c64-85b1-60c3effa942d",
   "metadata": {},
   "source": [
    "#### sum() - min() - max()"
   ]
  },
  {
   "cell_type": "code",
   "execution_count": 63,
   "id": "dc61326c-294f-4de9-a0b3-b12ee255c37f",
   "metadata": {},
   "outputs": [
    {
     "name": "stdout",
     "output_type": "stream",
     "text": [
      "19\n"
     ]
    }
   ],
   "source": [
    "t = (2, 4, 10, 4, -1)\n",
    "print(sum(t))"
   ]
  },
  {
   "cell_type": "code",
   "execution_count": 64,
   "id": "23ada016-2300-4eac-8153-6a96b36301e4",
   "metadata": {},
   "outputs": [
    {
     "name": "stdout",
     "output_type": "stream",
     "text": [
      "-1\n"
     ]
    }
   ],
   "source": [
    "print(min(t))"
   ]
  },
  {
   "cell_type": "code",
   "execution_count": 65,
   "id": "24f11cba-b3e0-4fba-a66d-ec19b57cfc74",
   "metadata": {},
   "outputs": [
    {
     "name": "stdout",
     "output_type": "stream",
     "text": [
      "10\n"
     ]
    }
   ],
   "source": [
    "print(max(t))"
   ]
  },
  {
   "cell_type": "code",
   "execution_count": 66,
   "id": "419a765a-1049-4a48-a5a1-6729912cdceb",
   "metadata": {},
   "outputs": [
    {
     "ename": "TypeError",
     "evalue": "'<' not supported between instances of 'str' and 'int'",
     "output_type": "error",
     "traceback": [
      "\u001b[1;31m---------------------------------------------------------------------------\u001b[0m",
      "\u001b[1;31mTypeError\u001b[0m                                 Traceback (most recent call last)",
      "Cell \u001b[1;32mIn[66], line 2\u001b[0m\n\u001b[0;32m      1\u001b[0m t \u001b[38;5;241m=\u001b[39m (\u001b[38;5;241m2\u001b[39m, \u001b[38;5;124m\"\u001b[39m\u001b[38;5;124mPython\u001b[39m\u001b[38;5;124m\"\u001b[39m, \u001b[38;5;241m10\u001b[39m, \u001b[38;5;241m4\u001b[39m, \u001b[38;5;241m-\u001b[39m\u001b[38;5;241m1\u001b[39m)\n\u001b[1;32m----> 2\u001b[0m \u001b[38;5;28mprint\u001b[39m(\u001b[38;5;28;43mmin\u001b[39;49m\u001b[43m(\u001b[49m\u001b[43mt\u001b[49m\u001b[43m)\u001b[49m)\n",
      "\u001b[1;31mTypeError\u001b[0m: '<' not supported between instances of 'str' and 'int'"
     ]
    }
   ],
   "source": [
    "t = (2, \"Python\", 10, 4, -1)\n",
    "print(min(t))"
   ]
  },
  {
   "cell_type": "markdown",
   "id": "b2e119ee-ae88-4672-a004-877ce31ad993",
   "metadata": {},
   "source": [
    "- Question"
   ]
  },
  {
   "cell_type": "code",
   "execution_count": 67,
   "id": "929b5511-adac-4fa5-a831-8749d38d0327",
   "metadata": {},
   "outputs": [],
   "source": [
    "# Tuple manipulation\n",
    "# What will the tuple return with sum, min and max function?"
   ]
  },
  {
   "cell_type": "code",
   "execution_count": 68,
   "id": "99a7001d-7147-40fc-8f92-7ff551bf785c",
   "metadata": {},
   "outputs": [
    {
     "name": "stdout",
     "output_type": "stream",
     "text": [
      "14.2\n",
      "2\n",
      "5\n"
     ]
    }
   ],
   "source": [
    "t = (2,3.2,4,5)\n",
    "print(sum(t))\n",
    "print(min(t))\n",
    "print(max(t))"
   ]
  },
  {
   "cell_type": "code",
   "execution_count": 69,
   "id": "5348d28b-858d-467c-b419-abfa6048b829",
   "metadata": {},
   "outputs": [],
   "source": [
    "# Tuples\n",
    "# Let's say you have a tuple as x = (1,2,3) and while executing x[2] = 5, what will x return?"
   ]
  },
  {
   "cell_type": "code",
   "execution_count": 70,
   "id": "807b8de7-9f03-4e3d-83ee-05f0b44f5165",
   "metadata": {},
   "outputs": [
    {
     "ename": "TypeError",
     "evalue": "'tuple' object does not support item assignment",
     "output_type": "error",
     "traceback": [
      "\u001b[1;31m---------------------------------------------------------------------------\u001b[0m",
      "\u001b[1;31mTypeError\u001b[0m                                 Traceback (most recent call last)",
      "Cell \u001b[1;32mIn[70], line 2\u001b[0m\n\u001b[0;32m      1\u001b[0m x \u001b[38;5;241m=\u001b[39m (\u001b[38;5;241m1\u001b[39m, \u001b[38;5;241m2\u001b[39m, \u001b[38;5;241m3\u001b[39m)\n\u001b[1;32m----> 2\u001b[0m \u001b[43mx\u001b[49m\u001b[43m[\u001b[49m\u001b[38;5;241;43m2\u001b[39;49m\u001b[43m]\u001b[49m \u001b[38;5;241m=\u001b[39m \u001b[38;5;241m5\u001b[39m\n",
      "\u001b[1;31mTypeError\u001b[0m: 'tuple' object does not support item assignment"
     ]
    }
   ],
   "source": [
    "x = (1, 2, 3)\n",
    "x[2] = 5"
   ]
  },
  {
   "cell_type": "code",
   "execution_count": 71,
   "id": "1d62e596-de75-4878-9051-c9396b10e157",
   "metadata": {},
   "outputs": [],
   "source": [
    "# It's the Time to Disco!\n",
    "# What would be the output here?"
   ]
  },
  {
   "cell_type": "code",
   "execution_count": 72,
   "id": "6a2e4051-a5c2-4883-bef6-d3e323e33e73",
   "metadata": {},
   "outputs": [
    {
     "name": "stdout",
     "output_type": "stream",
     "text": [
      "s\n"
     ]
    }
   ],
   "source": [
    "t = (\"disco\", 12, 4.5)\n",
    "print(t[0][2])"
   ]
  },
  {
   "cell_type": "markdown",
   "id": "babdf64a-8997-4a11-ae48-179ada2c9d90",
   "metadata": {},
   "source": [
    "### Immutability of tuples"
   ]
  },
  {
   "cell_type": "code",
   "execution_count": 73,
   "id": "4994d9af-a358-4a93-9732-0619fda5c37e",
   "metadata": {},
   "outputs": [
    {
     "name": "stdout",
     "output_type": "stream",
     "text": [
      "('USA', 4, 3, 'Disco', 7.5)\n"
     ]
    }
   ],
   "source": [
    "t = (\"USA\", 4, 3, \"Disco\", 7.5)\n",
    "print(t)"
   ]
  },
  {
   "cell_type": "code",
   "execution_count": 74,
   "id": "6fe79554-f1a2-4403-914e-83619d5fe464",
   "metadata": {},
   "outputs": [
    {
     "ename": "TypeError",
     "evalue": "'tuple' object does not support item assignment",
     "output_type": "error",
     "traceback": [
      "\u001b[1;31m---------------------------------------------------------------------------\u001b[0m",
      "\u001b[1;31mTypeError\u001b[0m                                 Traceback (most recent call last)",
      "Cell \u001b[1;32mIn[74], line 1\u001b[0m\n\u001b[1;32m----> 1\u001b[0m \u001b[43mt\u001b[49m\u001b[43m[\u001b[49m\u001b[38;5;241;43m3\u001b[39;49m\u001b[43m]\u001b[49m \u001b[38;5;241m=\u001b[39m \u001b[38;5;124m\"\u001b[39m\u001b[38;5;124mHard Rock\u001b[39m\u001b[38;5;124m\"\u001b[39m\n",
      "\u001b[1;31mTypeError\u001b[0m: 'tuple' object does not support item assignment"
     ]
    }
   ],
   "source": [
    "t[3] = \"Hard Rock\""
   ]
  },
  {
   "cell_type": "code",
   "execution_count": 75,
   "id": "ddd8d3fa-5ee5-44b0-8dae-57596c793ae2",
   "metadata": {},
   "outputs": [
    {
     "name": "stdout",
     "output_type": "stream",
     "text": [
      "('USA', 4, 3, 'Hard Rock', 7.5)\n"
     ]
    }
   ],
   "source": [
    "new_t = t[0:3] + (\"Hard Rock\",) + t[4:]\n",
    "print(new_t)"
   ]
  },
  {
   "cell_type": "code",
   "execution_count": 76,
   "id": "11e73f36-58e1-42d4-a9c2-cb9f7a7261a9",
   "metadata": {},
   "outputs": [
    {
     "name": "stdout",
     "output_type": "stream",
     "text": [
      "('USA', 4, 3, 'Disco', 7.5)\n"
     ]
    }
   ],
   "source": [
    "print(t)"
   ]
  },
  {
   "cell_type": "markdown",
   "id": "10e8cefa-938b-4f19-a235-40284bd2769b",
   "metadata": {},
   "source": [
    "### Sorting a tuple"
   ]
  },
  {
   "cell_type": "code",
   "execution_count": 77,
   "id": "dc665f12-f20f-4ec1-a0c1-fa1b702fe4af",
   "metadata": {},
   "outputs": [
    {
     "name": "stdout",
     "output_type": "stream",
     "text": [
      "(2, 3, 5, 10, -1)\n"
     ]
    }
   ],
   "source": [
    "t = (2, 3, 5, 10, -1)\n",
    "print(t)"
   ]
  },
  {
   "cell_type": "code",
   "execution_count": 78,
   "id": "9dc10110-a404-4233-84ed-535553f8cb92",
   "metadata": {},
   "outputs": [
    {
     "name": "stdout",
     "output_type": "stream",
     "text": [
      "(-1, 2, 3, 5, 10)\n"
     ]
    }
   ],
   "source": [
    "x = sorted(t)\n",
    "y = tuple(x)\n",
    "print(y)"
   ]
  },
  {
   "cell_type": "markdown",
   "id": "08e8234c-339e-4f05-82ea-6333c5a33660",
   "metadata": {},
   "source": [
    "### Nested Tuples"
   ]
  },
  {
   "cell_type": "code",
   "execution_count": 79,
   "id": "0f8261a0-cfbd-400f-a338-751d2a503eb6",
   "metadata": {},
   "outputs": [
    {
     "name": "stdout",
     "output_type": "stream",
     "text": [
      "(1, 5, 'Disco', ('Python', 'Java'))\n"
     ]
    }
   ],
   "source": [
    "t = (1, 5, \"Disco\", (\"Python\", \"Java\"))\n",
    "print(t)"
   ]
  },
  {
   "cell_type": "code",
   "execution_count": 80,
   "id": "de1fd9a7-d7c8-4e6c-9946-51196f4f3e09",
   "metadata": {},
   "outputs": [
    {
     "name": "stdout",
     "output_type": "stream",
     "text": [
      "Java\n"
     ]
    }
   ],
   "source": [
    "print(t[3][1])"
   ]
  },
  {
   "cell_type": "markdown",
   "id": "b8edbe5a-dfde-4b6f-951a-c55791d6f621",
   "metadata": {},
   "source": [
    "### Packing and Unpacking In Tuples"
   ]
  },
  {
   "cell_type": "code",
   "execution_count": 81,
   "id": "5d80638d-3d6e-4c8c-b297-8848bbaed5c9",
   "metadata": {},
   "outputs": [
    {
     "name": "stdout",
     "output_type": "stream",
     "text": [
      "(1, 2, 3, 4)\n"
     ]
    }
   ],
   "source": [
    "t = (1, 2, 3, 4) # Packing\n",
    "print(t)"
   ]
  },
  {
   "cell_type": "code",
   "execution_count": 82,
   "id": "1e138881-9ced-4aac-9bf5-4fea7990093a",
   "metadata": {},
   "outputs": [
    {
     "name": "stdout",
     "output_type": "stream",
     "text": [
      "3\n"
     ]
    }
   ],
   "source": [
    "(a, b, c, d) = t # Unpacking\n",
    "print(c)"
   ]
  },
  {
   "cell_type": "code",
   "execution_count": 83,
   "id": "9d856991-6a32-4b4f-a660-902e4a5f06e3",
   "metadata": {},
   "outputs": [
    {
     "ename": "ValueError",
     "evalue": "too many values to unpack (expected 3)",
     "output_type": "error",
     "traceback": [
      "\u001b[1;31m---------------------------------------------------------------------------\u001b[0m",
      "\u001b[1;31mValueError\u001b[0m                                Traceback (most recent call last)",
      "Cell \u001b[1;32mIn[83], line 1\u001b[0m\n\u001b[1;32m----> 1\u001b[0m (a, b, c) \u001b[38;5;241m=\u001b[39m t \u001b[38;5;66;03m# Unpacking\u001b[39;00m\n\u001b[0;32m      2\u001b[0m \u001b[38;5;28mprint\u001b[39m(c)\n",
      "\u001b[1;31mValueError\u001b[0m: too many values to unpack (expected 3)"
     ]
    }
   ],
   "source": [
    "(a, b, c) = t # Unpacking\n",
    "print(c)"
   ]
  },
  {
   "cell_type": "markdown",
   "id": "4d40e358-dc0e-49cf-b004-5f58908901e1",
   "metadata": {},
   "source": [
    "#### dir() - to view the attributes or methods of an object"
   ]
  },
  {
   "cell_type": "code",
   "execution_count": 84,
   "id": "283443ec-9bf9-48eb-ba2b-c53721ba2cf3",
   "metadata": {},
   "outputs": [
    {
     "name": "stdout",
     "output_type": "stream",
     "text": [
      "['__add__', '__class__', '__class_getitem__', '__contains__', '__delattr__', '__dir__', '__doc__', '__eq__', '__format__', '__ge__', '__getattribute__', '__getitem__', '__getnewargs__', '__getstate__', '__gt__', '__hash__', '__init__', '__init_subclass__', '__iter__', '__le__', '__len__', '__lt__', '__mul__', '__ne__', '__new__', '__reduce__', '__reduce_ex__', '__repr__', '__rmul__', '__setattr__', '__sizeof__', '__str__', '__subclasshook__', 'count', 'index']\n"
     ]
    }
   ],
   "source": [
    "t = () # Empty tuple\n",
    "print(dir(t))"
   ]
  },
  {
   "cell_type": "code",
   "execution_count": 85,
   "id": "41dcf6f4-824d-4ea1-97af-b8e00b0e7aff",
   "metadata": {},
   "outputs": [
    {
     "data": {
      "text/plain": [
       "tuple"
      ]
     },
     "execution_count": 85,
     "metadata": {},
     "output_type": "execute_result"
    }
   ],
   "source": [
    "t = (1,5,\"Disco\", (\"Python\", \"Java\"))\n",
    "type(t[3])"
   ]
  },
  {
   "cell_type": "markdown",
   "id": "7ccaa82c-f6ca-4272-8461-c03b9e3c14bc",
   "metadata": {},
   "source": [
    "- Question"
   ]
  },
  {
   "cell_type": "code",
   "execution_count": 86,
   "id": "7027f63b-242f-4d05-afe5-cf38018c320f",
   "metadata": {},
   "outputs": [],
   "source": [
    "# Tuple Indexing\n",
    "# Suppose t = (1, 2, 4, 3).\n",
    "# Which of the following statements would result in an error?\n",
    "# More than one option are correct"
   ]
  },
  {
   "cell_type": "code",
   "execution_count": 87,
   "id": "b5f2974a-e1ad-4fe7-af0d-b8a2d7d34e63",
   "metadata": {},
   "outputs": [
    {
     "ename": "IndexError",
     "evalue": "tuple index out of range",
     "output_type": "error",
     "traceback": [
      "\u001b[1;31m---------------------------------------------------------------------------\u001b[0m",
      "\u001b[1;31mIndexError\u001b[0m                                Traceback (most recent call last)",
      "Cell \u001b[1;32mIn[87], line 2\u001b[0m\n\u001b[0;32m      1\u001b[0m t \u001b[38;5;241m=\u001b[39m (\u001b[38;5;241m1\u001b[39m, \u001b[38;5;241m2\u001b[39m, \u001b[38;5;241m4\u001b[39m, \u001b[38;5;241m3\u001b[39m)\n\u001b[1;32m----> 2\u001b[0m \u001b[38;5;28mprint\u001b[39m(\u001b[43mt\u001b[49m\u001b[43m[\u001b[49m\u001b[38;5;241;43m4\u001b[39;49m\u001b[43m]\u001b[49m)\n",
      "\u001b[1;31mIndexError\u001b[0m: tuple index out of range"
     ]
    }
   ],
   "source": [
    "t = (1, 2, 4, 3)\n",
    "print(t[4])"
   ]
  },
  {
   "cell_type": "code",
   "execution_count": 88,
   "id": "830cfec0-5270-4924-aed5-307fe7730ef4",
   "metadata": {},
   "outputs": [
    {
     "ename": "TypeError",
     "evalue": "'tuple' object does not support item assignment",
     "output_type": "error",
     "traceback": [
      "\u001b[1;31m---------------------------------------------------------------------------\u001b[0m",
      "\u001b[1;31mTypeError\u001b[0m                                 Traceback (most recent call last)",
      "Cell \u001b[1;32mIn[88], line 2\u001b[0m\n\u001b[0;32m      1\u001b[0m t \u001b[38;5;241m=\u001b[39m (\u001b[38;5;241m1\u001b[39m, \u001b[38;5;241m2\u001b[39m, \u001b[38;5;241m4\u001b[39m, \u001b[38;5;241m3\u001b[39m)\n\u001b[1;32m----> 2\u001b[0m \u001b[43mt\u001b[49m\u001b[43m[\u001b[49m\u001b[38;5;241;43m3\u001b[39;49m\u001b[43m]\u001b[49m \u001b[38;5;241m=\u001b[39m \u001b[38;5;241m5\u001b[39m\n",
      "\u001b[1;31mTypeError\u001b[0m: 'tuple' object does not support item assignment"
     ]
    }
   ],
   "source": [
    "t = (1, 2, 4, 3)\n",
    "t[3] = 5"
   ]
  },
  {
   "cell_type": "code",
   "execution_count": 89,
   "id": "73e63f1f-8b3e-4b88-a62f-c4cfb53033fc",
   "metadata": {},
   "outputs": [
    {
     "name": "stdout",
     "output_type": "stream",
     "text": [
      "()\n"
     ]
    }
   ],
   "source": [
    "t = (1, 2, 4, 3)\n",
    "print(t[1:-4])"
   ]
  },
  {
   "cell_type": "code",
   "execution_count": 90,
   "id": "be19111f-e1c3-481b-bab4-3201711a1b17",
   "metadata": {},
   "outputs": [
    {
     "name": "stdout",
     "output_type": "stream",
     "text": [
      "4\n"
     ]
    }
   ],
   "source": [
    "t = (1, 2, 4, 3)\n",
    "print(len(t))"
   ]
  },
  {
   "cell_type": "code",
   "execution_count": 91,
   "id": "c4ad9b9c-2c1f-44e7-ac2e-e00cbf42c4bd",
   "metadata": {},
   "outputs": [],
   "source": [
    "# Creating a Tuple\n",
    "# Which of the following declarations can be used to create a Python tuple?\n",
    "# More than one option may be correct."
   ]
  },
  {
   "cell_type": "code",
   "execution_count": 92,
   "id": "017a7f40-316c-4184-a3bc-85aec0f39658",
   "metadata": {},
   "outputs": [
    {
     "data": {
      "text/plain": [
       "str"
      ]
     },
     "execution_count": 92,
     "metadata": {},
     "output_type": "execute_result"
    }
   ],
   "source": [
    "x = ('2')\n",
    "type(x)"
   ]
  },
  {
   "cell_type": "code",
   "execution_count": 93,
   "id": "bafb8750-0e5b-4657-bf58-9ad0ed100754",
   "metadata": {},
   "outputs": [
    {
     "data": {
      "text/plain": [
       "tuple"
      ]
     },
     "execution_count": 93,
     "metadata": {},
     "output_type": "execute_result"
    }
   ],
   "source": [
    "x = 1, 2,\n",
    "type(x)"
   ]
  },
  {
   "cell_type": "code",
   "execution_count": 94,
   "id": "ecc9f1d3-53cb-43be-84b0-8e32c3dbfade",
   "metadata": {},
   "outputs": [
    {
     "data": {
      "text/plain": [
       "tuple"
      ]
     },
     "execution_count": 94,
     "metadata": {},
     "output_type": "execute_result"
    }
   ],
   "source": [
    "x = ((1,2,3), 4,5)\n",
    "type(x)"
   ]
  },
  {
   "cell_type": "code",
   "execution_count": 95,
   "id": "f86217c7-9fd4-4301-8b1b-6a8637174c3a",
   "metadata": {},
   "outputs": [
    {
     "ename": "NameError",
     "evalue": "name 'Hello' is not defined",
     "output_type": "error",
     "traceback": [
      "\u001b[1;31m---------------------------------------------------------------------------\u001b[0m",
      "\u001b[1;31mNameError\u001b[0m                                 Traceback (most recent call last)",
      "Cell \u001b[1;32mIn[95], line 1\u001b[0m\n\u001b[1;32m----> 1\u001b[0m x \u001b[38;5;241m=\u001b[39m (\u001b[43mHello\u001b[49m,\u001b[38;5;124m'\u001b[39m\u001b[38;5;124m2\u001b[39m\u001b[38;5;124m'\u001b[39m,\u001b[38;5;124m'\u001b[39m\u001b[38;5;124m3\u001b[39m\u001b[38;5;124m'\u001b[39m)\n\u001b[0;32m      2\u001b[0m \u001b[38;5;28mtype\u001b[39m(x)\n",
      "\u001b[1;31mNameError\u001b[0m: name 'Hello' is not defined"
     ]
    }
   ],
   "source": [
    "x = (Hello,'2','3')\n",
    "type(x)"
   ]
  },
  {
   "cell_type": "code",
   "execution_count": 96,
   "id": "e4de163a-0f66-4651-8d7a-2a5371dc8eb4",
   "metadata": {},
   "outputs": [],
   "source": [
    "# A List and a Tuple Together?\n",
    "# Can a list contain an integer as an element?\n",
    "# Yes"
   ]
  },
  {
   "cell_type": "code",
   "execution_count": 97,
   "id": "43e5c317-1ee3-4b7f-8f01-d7a638e8656b",
   "metadata": {},
   "outputs": [
    {
     "name": "stdout",
     "output_type": "stream",
     "text": [
      "[1, 2, 3, 4, 5]\n",
      "[1, 2, (3, 4), 5]\n",
      "[1, 'hello', 3.14, (2, 3), [4, 5]]\n"
     ]
    }
   ],
   "source": [
    "# List Containing Integers\n",
    "my_list = [1, 2, 3, 4, 5]\n",
    "print(my_list)  # Output: [1, 2, 3, 4, 5]\n",
    "\n",
    "# List Containing a Tuple\n",
    "my_list = [1, 2, (3, 4), 5]\n",
    "print(my_list)  # Output: [1, 2, (3, 4), 5]\n",
    "\n",
    "# List Containing Mixed Data Types\n",
    "my_list = [1, \"hello\", 3.14, (2, 3), [4, 5]]\n",
    "print(my_list)  # Output: [1, 'hello', 3.14, (2, 3), [4, 5]]"
   ]
  },
  {
   "cell_type": "markdown",
   "id": "01c8fe84-f7e2-42f4-aedc-3bd9986217d3",
   "metadata": {},
   "source": [
    "- Practice"
   ]
  },
  {
   "cell_type": "markdown",
   "id": "a4c29a66-25aa-41f0-a48a-b6545d92b72e",
   "metadata": {},
   "source": [
    "<h5>Tuple</h5>\n",
    "<b>Description</b><br>\n",
    "Add the element ‘Python’ to a tuple input_tuple = ('Monty Python', 'British', 1969). Since tuples are immutable, one way to do this is to convert the tuple to a list, add the element, and convert it back to a tuple.<br>\n",
    "<br>\n",
    "<b>Sample Input:</b><br>\n",
    "('Monty Python', 'British', 1969)<br>\n",
    "<br>\n",
    "<b>Sample Output:</b><br>\n",
    "('Monty Python', 'British', 1969, 'Python')<br>\n",
    "<br>\n",
    "<b>Execution time limit</b><br>\n",
    "15 seconds"
   ]
  },
  {
   "cell_type": "code",
   "execution_count": 98,
   "id": "9e45c749-c23d-4536-8cae-e5d37a16676a",
   "metadata": {},
   "outputs": [
    {
     "name": "stdout",
     "output_type": "stream",
     "text": [
      "('Monty Python', 'British', 1969, 'Python')\n"
     ]
    }
   ],
   "source": [
    "input_tuple = ('Monty Python', 'British', 1969)\n",
    "new_tuple = input_tuple + ('Python',)\n",
    "print(new_tuple)"
   ]
  },
  {
   "cell_type": "markdown",
   "id": "906c63db-17f9-47c7-9411-186b13375ea3",
   "metadata": {},
   "source": [
    "Now that we know how to store multiple items together let us build another app that could store userid of our customers, which were randomly generated.\n",
    "\n",
    "We have the following requirements from the app -\n",
    "1. It shouldn't store duplicate values in the data-set\n",
    "2. Since the userid are randomly generated the order doesn't matter\n",
    "3. We need mutability i.e. if we want to delete a particular value we should be able to do so\n",
    "4. We might frequently want to check whether a user-id is part of the existing data set so it should be able to perform this operation fast\n",
    "\n",
    "For this use case, we could either use a unique function and maintain our list, but that would be comparatively time-consuming, so let's look at another data type provided by Python, which would be the best fit here."
   ]
  },
  {
   "cell_type": "markdown",
   "id": "8513dfae-e996-47ea-b2a8-1a1366de43b1",
   "metadata": {},
   "source": [
    "<h1 style=\"color:Brown\">Sets</h1>\n",
    "\n",
    "- Sets are a type of collection like lists and tuples, storing mixed data.\n",
    "- Sets are enclosed within curly brackets and elements are written as comma-separated.\n",
    "- Sets are unordered\n",
    "- Sets do not allow duplicates"
   ]
  },
  {
   "cell_type": "code",
   "execution_count": 99,
   "id": "479c59a4-5ff9-4159-82b3-15141ed95764",
   "metadata": {},
   "outputs": [
    {
     "data": {
      "text/plain": [
       "list"
      ]
     },
     "execution_count": 99,
     "metadata": {},
     "output_type": "execute_result"
    }
   ],
   "source": [
    "l = [1, 3, 2, 4, 5, 5]\n",
    "type(l)"
   ]
  },
  {
   "cell_type": "code",
   "execution_count": 100,
   "id": "acc445b3-03d9-4108-abb7-4421b473f83d",
   "metadata": {},
   "outputs": [
    {
     "name": "stdout",
     "output_type": "stream",
     "text": [
      "{1, 2, 3, 4, 5}\n"
     ]
    }
   ],
   "source": [
    "set_l = set(l)\n",
    "print(set_l)"
   ]
  },
  {
   "cell_type": "code",
   "execution_count": 101,
   "id": "934c8367-8b04-4136-a3b0-351829561d27",
   "metadata": {},
   "outputs": [
    {
     "data": {
      "text/plain": [
       "set"
      ]
     },
     "execution_count": 101,
     "metadata": {},
     "output_type": "execute_result"
    }
   ],
   "source": [
    "type(set_l)"
   ]
  },
  {
   "cell_type": "code",
   "execution_count": 102,
   "id": "9a6b3693-1441-4ed7-b0ad-4c9bac3d9c65",
   "metadata": {},
   "outputs": [
    {
     "name": "stdout",
     "output_type": "stream",
     "text": [
      "5\n"
     ]
    }
   ],
   "source": [
    "print(len(set_l))"
   ]
  },
  {
   "cell_type": "code",
   "execution_count": 103,
   "id": "6db30d25-c563-4364-87b7-2cefba6bfa88",
   "metadata": {},
   "outputs": [
    {
     "ename": "TypeError",
     "evalue": "'set' object is not subscriptable",
     "output_type": "error",
     "traceback": [
      "\u001b[1;31m---------------------------------------------------------------------------\u001b[0m",
      "\u001b[1;31mTypeError\u001b[0m                                 Traceback (most recent call last)",
      "Cell \u001b[1;32mIn[103], line 1\u001b[0m\n\u001b[1;32m----> 1\u001b[0m \u001b[43mset_l\u001b[49m\u001b[43m[\u001b[49m\u001b[38;5;241;43m0\u001b[39;49m\u001b[43m]\u001b[49m\n",
      "\u001b[1;31mTypeError\u001b[0m: 'set' object is not subscriptable"
     ]
    }
   ],
   "source": [
    "set_l[0]"
   ]
  },
  {
   "cell_type": "code",
   "execution_count": 104,
   "id": "de3d487e-0dbc-43c4-be57-0e8b6a4588c4",
   "metadata": {},
   "outputs": [
    {
     "name": "stdout",
     "output_type": "stream",
     "text": [
      "{1, 2, 3, 4, 5}\n"
     ]
    }
   ],
   "source": [
    "a = {1, 2, 3, 4, 5}\n",
    "print(a)"
   ]
  },
  {
   "cell_type": "code",
   "execution_count": 105,
   "id": "fc26f642-3dbb-431a-be2a-a92d0322ed9c",
   "metadata": {},
   "outputs": [
    {
     "name": "stdout",
     "output_type": "stream",
     "text": [
      "{1, 2, 3, 4, 5, 'Australia'}\n"
     ]
    }
   ],
   "source": [
    "a.add(\"Australia\") #mutable\n",
    "print(a)"
   ]
  },
  {
   "cell_type": "code",
   "execution_count": 106,
   "id": "d3f60162-613c-4422-a6cc-05715fa2b330",
   "metadata": {},
   "outputs": [
    {
     "name": "stdout",
     "output_type": "stream",
     "text": [
      "{1, 2, 3, 4, 5}\n"
     ]
    }
   ],
   "source": [
    "a.remove(\"Australia\")\n",
    "print(a)"
   ]
  },
  {
   "cell_type": "code",
   "execution_count": 107,
   "id": "0e5b938d-8d1c-4b71-8aa2-501d78b21c79",
   "metadata": {},
   "outputs": [
    {
     "name": "stdout",
     "output_type": "stream",
     "text": [
      "{0, 2, 4, 6, 8} {1, 2, 3, 4, 5}\n"
     ]
    }
   ],
   "source": [
    "# Set Operations\n",
    "\n",
    "A = {0, 2, 4, 6, 8}\n",
    "B = {1, 2, 3, 4, 5}\n",
    "print(A, B)"
   ]
  },
  {
   "cell_type": "code",
   "execution_count": 108,
   "id": "32bdcb85-ea1c-4433-906a-eb7599c282eb",
   "metadata": {},
   "outputs": [
    {
     "name": "stdout",
     "output_type": "stream",
     "text": [
      "{0, 1, 2, 3, 4, 5, 6, 8}\n",
      "{0, 1, 2, 3, 4, 5, 6, 8}\n"
     ]
    }
   ],
   "source": [
    "print (A | B) # Union\n",
    "print (A.union(B))"
   ]
  },
  {
   "cell_type": "code",
   "execution_count": 109,
   "id": "0ef1d638-c4f2-4867-b967-007ecd06f13f",
   "metadata": {},
   "outputs": [
    {
     "name": "stdout",
     "output_type": "stream",
     "text": [
      "{2, 4}\n",
      "{2, 4}\n"
     ]
    }
   ],
   "source": [
    "print (A & B) # Intersection\n",
    "print (A.intersection(B))"
   ]
  },
  {
   "cell_type": "code",
   "execution_count": 110,
   "id": "fb640c97-bdbd-44af-8e86-326cda20e99d",
   "metadata": {},
   "outputs": [
    {
     "name": "stdout",
     "output_type": "stream",
     "text": [
      "{0, 8, 6}\n",
      "{0, 8, 6}\n"
     ]
    }
   ],
   "source": [
    "print (A - B) # Difference\n",
    "print (A.difference(B))"
   ]
  },
  {
   "cell_type": "code",
   "execution_count": 111,
   "id": "61eccb5f-a98a-4d9b-98ee-f9c3a3f79579",
   "metadata": {},
   "outputs": [
    {
     "name": "stdout",
     "output_type": "stream",
     "text": [
      "{0, 1, 3, 5, 6, 8}\n"
     ]
    }
   ],
   "source": [
    "print (A ^ B) # Symmetric difference"
   ]
  },
  {
   "cell_type": "code",
   "execution_count": 112,
   "id": "30eb2fe1-e8de-41b7-87c6-bb24c61abc99",
   "metadata": {},
   "outputs": [
    {
     "name": "stdout",
     "output_type": "stream",
     "text": [
      "{0, 1, 3, 5, 6, 8}\n"
     ]
    }
   ],
   "source": [
    "print((A.union(B)).difference(A.intersection(B)))"
   ]
  },
  {
   "cell_type": "markdown",
   "id": "ae65d0cb-ea38-4d20-82af-3b9dea6d8e03",
   "metadata": {},
   "source": [
    "- Practice"
   ]
  },
  {
   "cell_type": "markdown",
   "id": "91152fad-c31b-4cf2-a5bc-c59aa7daab99",
   "metadata": {},
   "source": [
    "<h5>Sets Practice</h5>\n",
    "<b>Description</b><br>\n",
    "Let’s say you have two lists A and B. Identify the elements which are common in the two lists A and B and return them in a sorted manner. For example<br>\n",
    "<br>\n",
    "<b>Sample Input:</b><br>\n",
    "A = [5, 1, 3, 4, 4, 5, 6, 7]<br>\n",
    "B = [3, 3, 5, 5, 1, 7, 2]<br>\n",
    "<br>\n",
    "<b>Sample Output:</b><br>\n",
    "[1, 3, 5, 7]<br>\n",
    "<br>\n",
    "If you observe the sample output here you can see that\n",
    "\r",
    "1. Though value 5 is repeated twice in both lists, in the final output it is present only once.<br>\n",
    "2. The values are returned in a sorted manner with values incresing.<br>\n",
    "\n",
    "<b>Execution time limit</b><br>\n",
    "15 seconds"
   ]
  },
  {
   "cell_type": "code",
   "execution_count": 113,
   "id": "74d0427d-8309-4800-aeb9-4d89a58b80d4",
   "metadata": {},
   "outputs": [
    {
     "ename": "TypeError",
     "evalue": "'list' object is not callable",
     "output_type": "error",
     "traceback": [
      "\u001b[1;31m---------------------------------------------------------------------------\u001b[0m",
      "\u001b[1;31mTypeError\u001b[0m                                 Traceback (most recent call last)",
      "Cell \u001b[1;32mIn[113], line 3\u001b[0m\n\u001b[0;32m      1\u001b[0m list_1 \u001b[38;5;241m=\u001b[39m [\u001b[38;5;241m5\u001b[39m, \u001b[38;5;241m1\u001b[39m, \u001b[38;5;241m3\u001b[39m, \u001b[38;5;241m4\u001b[39m, \u001b[38;5;241m4\u001b[39m, \u001b[38;5;241m5\u001b[39m, \u001b[38;5;241m6\u001b[39m, \u001b[38;5;241m7\u001b[39m]\n\u001b[0;32m      2\u001b[0m list_2 \u001b[38;5;241m=\u001b[39m [\u001b[38;5;241m3\u001b[39m, \u001b[38;5;241m3\u001b[39m, \u001b[38;5;241m5\u001b[39m, \u001b[38;5;241m5\u001b[39m, \u001b[38;5;241m1\u001b[39m ,\u001b[38;5;241m7\u001b[39m ,\u001b[38;5;241m2\u001b[39m]\n\u001b[1;32m----> 3\u001b[0m \u001b[38;5;28mprint\u001b[39m(\u001b[38;5;28;43mlist\u001b[39;49m\u001b[43m(\u001b[49m\u001b[38;5;28;43mset\u001b[39;49m\u001b[43m(\u001b[49m\u001b[43mlist_1\u001b[49m\u001b[43m)\u001b[49m\u001b[38;5;241;43m.\u001b[39;49m\u001b[43mintersection\u001b[49m\u001b[43m(\u001b[49m\u001b[43mlist_2\u001b[49m\u001b[43m)\u001b[49m\u001b[43m)\u001b[49m)\n",
      "\u001b[1;31mTypeError\u001b[0m: 'list' object is not callable"
     ]
    }
   ],
   "source": [
    "list_1 = [5, 1, 3, 4, 4, 5, 6, 7]\n",
    "list_2 = [3, 3, 5, 5, 1 ,7 ,2]\n",
    "print(list(set(list_1).intersection(list_2)))"
   ]
  },
  {
   "cell_type": "markdown",
   "id": "8b274a5d-a046-4de0-bff3-03efafb18b0b",
   "metadata": {},
   "source": [
    "- Question"
   ]
  },
  {
   "cell_type": "code",
   "execution_count": 114,
   "id": "5ec29c0b-b7cd-42a9-8afd-3dd26f05552a",
   "metadata": {},
   "outputs": [],
   "source": [
    "# I Am Unique\n",
    "# What gets printed with the following set of instructions?"
   ]
  },
  {
   "cell_type": "code",
   "execution_count": 115,
   "id": "010777ef-4fb8-4c81-b908-5c94751a0fd3",
   "metadata": {},
   "outputs": [
    {
     "name": "stdout",
     "output_type": "stream",
     "text": [
      "4\n"
     ]
    }
   ],
   "source": [
    "nums = set([1,1,2,3,3,3,4])\n",
    "print(len(nums))"
   ]
  },
  {
   "cell_type": "markdown",
   "id": "43065a95-25f1-4282-be76-57971ac46d19",
   "metadata": {},
   "source": [
    "In this session, we are going to talk about dictionaries. In Python, we use dictionaries to store key-value pairs.\n",
    "Here is an example -\n",
    "Let's take the example of a customer as seen earlier.\n",
    "Now a customer could have multiple attributes such as \n",
    "1. Name\n",
    "2. Email\n",
    "3. Userid\n",
    "4. Address \n",
    "5. Phone number\n",
    "\n",
    "Now each of these attributes would be our key and corresponding we'll have values against each on them\n",
    "\n",
    "With a dictionary, we can store a bunch of key-value pairs, let us now see have a look at the 'Dictionary' data type in Python"
   ]
  },
  {
   "cell_type": "markdown",
   "id": "a3571358-19ca-48aa-a351-44aee8baadec",
   "metadata": {},
   "source": [
    "<h1 style=\"color:Brown\">Dictionaries</h1>\n",
    "\n",
    "- A dictionary stores element as keys and values pairs.\n",
    "- The key is like an index, it's is always unique and immutable. \n",
    "- The values are the objects that contain information.\n",
    "- Values are accessed using their keys.\n",
    "- Each key is followed by a value separated by a colon. \n",
    "- The values can be immutable, mutable, and duplicates. \n",
    "- Each key and value pair is separated by a comma enclosed inside curly brackets."
   ]
  },
  {
   "cell_type": "code",
   "execution_count": 116,
   "id": "dcc244ff-7d0e-4156-ab6f-b471052e84dc",
   "metadata": {},
   "outputs": [
    {
     "name": "stdout",
     "output_type": "stream",
     "text": [
      "{'India': 'INR', 'USA': 'USD', 'French': 'Euro'}\n"
     ]
    }
   ],
   "source": [
    "d = {\"India\" : \"INR\", \"USA\" : \"USD\", \"French\" : \"Euro\"}\n",
    "print(d)"
   ]
  },
  {
   "cell_type": "code",
   "execution_count": 117,
   "id": "a206806e-c547-4795-b098-6ae7813a7462",
   "metadata": {},
   "outputs": [
    {
     "name": "stdout",
     "output_type": "stream",
     "text": [
      "USD INR\n"
     ]
    }
   ],
   "source": [
    "print(d[\"USA\"], d[\"India\"])"
   ]
  },
  {
   "cell_type": "code",
   "execution_count": 118,
   "id": "df2f3569-9dfe-4fe8-b7a6-0ea59fba2d76",
   "metadata": {},
   "outputs": [
    {
     "name": "stdout",
     "output_type": "stream",
     "text": [
      "{'India': 'INR', 'USA': '$', 'French': 'Euro'}\n"
     ]
    }
   ],
   "source": [
    "# Replace the value for a key in a dictionary\n",
    "d[\"USA\"] = \"$\"\n",
    "print(d)"
   ]
  },
  {
   "cell_type": "code",
   "execution_count": 119,
   "id": "663c9776-0803-4041-8b62-5ab0351101e3",
   "metadata": {},
   "outputs": [
    {
     "name": "stdout",
     "output_type": "stream",
     "text": [
      "{'India': 'INR', 'USA': '$', 'French': 'Euro', 'Japan': 'Yen'}\n"
     ]
    }
   ],
   "source": [
    "# Insert a new key-value pair\n",
    "d[\"Japan\"] = \"Yen\"\n",
    "print(d)"
   ]
  },
  {
   "cell_type": "code",
   "execution_count": 120,
   "id": "74a3ea88-3449-4b80-be96-e38a5f0fc4cf",
   "metadata": {},
   "outputs": [
    {
     "name": "stdout",
     "output_type": "stream",
     "text": [
      "{'India': 'INR', 'USA': '$', 'Japan': 'Yen'}\n"
     ]
    }
   ],
   "source": [
    "# Delete a new key-value pair\n",
    "del d[\"French\"]\n",
    "print(d)"
   ]
  },
  {
   "cell_type": "code",
   "execution_count": 121,
   "id": "bdf5cec1-ab9c-40de-8ff7-63b4ea8fb745",
   "metadata": {},
   "outputs": [
    {
     "ename": "KeyError",
     "evalue": "'French'",
     "output_type": "error",
     "traceback": [
      "\u001b[1;31m---------------------------------------------------------------------------\u001b[0m",
      "\u001b[1;31mKeyError\u001b[0m                                  Traceback (most recent call last)",
      "Cell \u001b[1;32mIn[121], line 1\u001b[0m\n\u001b[1;32m----> 1\u001b[0m \u001b[43md\u001b[49m\u001b[43m[\u001b[49m\u001b[38;5;124;43m\"\u001b[39;49m\u001b[38;5;124;43mFrench\u001b[39;49m\u001b[38;5;124;43m\"\u001b[39;49m\u001b[43m]\u001b[49m\n",
      "\u001b[1;31mKeyError\u001b[0m: 'French'"
     ]
    }
   ],
   "source": [
    "d[\"French\"]"
   ]
  },
  {
   "cell_type": "code",
   "execution_count": 122,
   "id": "2f4f5006-6117-4c5e-bfc5-1515839caa2a",
   "metadata": {},
   "outputs": [
    {
     "data": {
      "text/plain": [
       "['India', 'Japan', 'USA']"
      ]
     },
     "execution_count": 122,
     "metadata": {},
     "output_type": "execute_result"
    }
   ],
   "source": [
    "# Sorting a dictionary\n",
    "sorted(d)"
   ]
  },
  {
   "cell_type": "code",
   "execution_count": 123,
   "id": "b647a2d3-7165-4284-addd-b3d9ca1e68cf",
   "metadata": {},
   "outputs": [
    {
     "data": {
      "text/plain": [
       "dict_values(['INR', 'USD', 'Euro'])"
      ]
     },
     "execution_count": 123,
     "metadata": {},
     "output_type": "execute_result"
    }
   ],
   "source": [
    "d = {\"India\" : \"INR\", \"USA\" : \"USD\", \"French\" : \"Euro\"}\n",
    "\n",
    "# extract all the values\n",
    "d.values()"
   ]
  },
  {
   "cell_type": "code",
   "execution_count": 124,
   "id": "5aeed941-398c-4bfc-970f-3b6b654990a6",
   "metadata": {},
   "outputs": [
    {
     "data": {
      "text/plain": [
       "dict_keys(['India', 'USA', 'French'])"
      ]
     },
     "execution_count": 124,
     "metadata": {},
     "output_type": "execute_result"
    }
   ],
   "source": [
    "# extract all the keys\n",
    "d.keys()"
   ]
  },
  {
   "cell_type": "code",
   "execution_count": 125,
   "id": "a7a50bf9-e543-4aa1-965f-56de441c9749",
   "metadata": {},
   "outputs": [
    {
     "name": "stdout",
     "output_type": "stream",
     "text": [
      "{'India': 'INR', 'USA': '$', 'French': 'Euro'}\n"
     ]
    }
   ],
   "source": [
    "# update() method\n",
    "d.update({'USA':'$'})\n",
    "print(d)"
   ]
  },
  {
   "cell_type": "markdown",
   "id": "bab1e4d8-149f-47bf-9d07-b00e4e790ea6",
   "metadata": {},
   "source": [
    "- Question"
   ]
  },
  {
   "cell_type": "code",
   "execution_count": 126,
   "id": "e0d58e75-66ee-4475-ba48-ef52c0f04232",
   "metadata": {},
   "outputs": [],
   "source": [
    "# Dictionary\n",
    "# Using this document, answer the following question:\n",
    "# Which of the following statements create a dictionary? Select all the options that apply. (More than one option may be correct.)"
   ]
  },
  {
   "cell_type": "code",
   "execution_count": 127,
   "id": "e8c939e0-6b53-4fce-9a6b-1841b1e394f8",
   "metadata": {},
   "outputs": [
    {
     "data": {
      "text/plain": [
       "dict"
      ]
     },
     "execution_count": 127,
     "metadata": {},
     "output_type": "execute_result"
    }
   ],
   "source": [
    "d = {}\n",
    "type(d)"
   ]
  },
  {
   "cell_type": "code",
   "execution_count": 128,
   "id": "cf2060a6-d76b-4529-a3fb-072e4e457d56",
   "metadata": {},
   "outputs": [
    {
     "data": {
      "text/plain": [
       "dict"
      ]
     },
     "execution_count": 128,
     "metadata": {},
     "output_type": "execute_result"
    }
   ],
   "source": [
    "d = {'a':1, 'b':2}\n",
    "type(d)"
   ]
  },
  {
   "cell_type": "code",
   "execution_count": 129,
   "id": "bf02e723-69ea-4db3-9809-6c1cd2dc48ff",
   "metadata": {},
   "outputs": [
    {
     "data": {
      "text/plain": [
       "dict"
      ]
     },
     "execution_count": 129,
     "metadata": {},
     "output_type": "execute_result"
    }
   ],
   "source": [
    "d = dict(a=1, b=2)\n",
    "type(d)"
   ]
  },
  {
   "cell_type": "code",
   "execution_count": 130,
   "id": "145ee07a-94fd-43e4-a658-3bb529a63be4",
   "metadata": {},
   "outputs": [
    {
     "ename": "SyntaxError",
     "evalue": "invalid syntax (658412872.py, line 1)",
     "output_type": "error",
     "traceback": [
      "\u001b[1;36m  Cell \u001b[1;32mIn[130], line 1\u001b[1;36m\u001b[0m\n\u001b[1;33m    d = ('a':1, 'b':2)\u001b[0m\n\u001b[1;37m            ^\u001b[0m\n\u001b[1;31mSyntaxError\u001b[0m\u001b[1;31m:\u001b[0m invalid syntax\n"
     ]
    }
   ],
   "source": [
    "d = ('a':1, 'b':2)\n",
    "type(d)"
   ]
  },
  {
   "cell_type": "code",
   "execution_count": 131,
   "id": "916015aa-00da-4384-a8c0-0872ee1cbcfd",
   "metadata": {},
   "outputs": [],
   "source": [
    "# Dictionary Operation\n",
    "# Suppose dict_1 = {\"Python'':40, \"R'':45}. What command should be used to delete the entry \"R\"?"
   ]
  },
  {
   "cell_type": "code",
   "execution_count": 132,
   "id": "560b2042-657f-4a63-9c71-ebdc4a68b5d9",
   "metadata": {},
   "outputs": [
    {
     "ename": "SyntaxError",
     "evalue": "invalid syntax (3209470079.py, line 2)",
     "output_type": "error",
     "traceback": [
      "\u001b[1;36m  Cell \u001b[1;32mIn[132], line 2\u001b[1;36m\u001b[0m\n\u001b[1;33m    dict_1.delete('R':45)\u001b[0m\n\u001b[1;37m                     ^\u001b[0m\n\u001b[1;31mSyntaxError\u001b[0m\u001b[1;31m:\u001b[0m invalid syntax\n"
     ]
    }
   ],
   "source": [
    "dict_1 = {\"Python\":40, \"R\":45}\n",
    "dict_1.delete('R':45)\n",
    "print(dict_1)"
   ]
  },
  {
   "cell_type": "code",
   "execution_count": 133,
   "id": "a37d3133-9b3a-4503-a92e-668876490f09",
   "metadata": {},
   "outputs": [
    {
     "name": "stdout",
     "output_type": "stream",
     "text": [
      "{'Python': 40}\n"
     ]
    }
   ],
   "source": [
    "dict_1 = {\"Python\":40, \"R\":45}\n",
    "del dict_1['R']\n",
    "print(dict_1)"
   ]
  },
  {
   "cell_type": "code",
   "execution_count": 134,
   "id": "ac918876-330b-4d91-8225-1f04b9dc9f59",
   "metadata": {},
   "outputs": [
    {
     "ename": "NameError",
     "evalue": "name 'dict_1' is not defined",
     "output_type": "error",
     "traceback": [
      "\u001b[1;31m---------------------------------------------------------------------------\u001b[0m",
      "\u001b[1;31mNameError\u001b[0m                                 Traceback (most recent call last)",
      "Cell \u001b[1;32mIn[134], line 3\u001b[0m\n\u001b[0;32m      1\u001b[0m dict_1 \u001b[38;5;241m=\u001b[39m {\u001b[38;5;124m\"\u001b[39m\u001b[38;5;124mPython\u001b[39m\u001b[38;5;124m\"\u001b[39m:\u001b[38;5;241m40\u001b[39m, \u001b[38;5;124m\"\u001b[39m\u001b[38;5;124mR\u001b[39m\u001b[38;5;124m\"\u001b[39m:\u001b[38;5;241m45\u001b[39m}\n\u001b[0;32m      2\u001b[0m \u001b[38;5;28;01mdel\u001b[39;00m dict_1\n\u001b[1;32m----> 3\u001b[0m \u001b[38;5;28mprint\u001b[39m(\u001b[43mdict_1\u001b[49m)\n",
      "\u001b[1;31mNameError\u001b[0m: name 'dict_1' is not defined"
     ]
    }
   ],
   "source": [
    "dict_1 = {\"Python\":40, \"R\":45}\n",
    "del dict_1\n",
    "print(dict_1)"
   ]
  },
  {
   "cell_type": "code",
   "execution_count": 135,
   "id": "8db81ecd-d6f1-4e36-91b4-34210d6b26f2",
   "metadata": {},
   "outputs": [
    {
     "ename": "SyntaxError",
     "evalue": "invalid syntax (2629544868.py, line 2)",
     "output_type": "error",
     "traceback": [
      "\u001b[1;36m  Cell \u001b[1;32mIn[135], line 2\u001b[1;36m\u001b[0m\n\u001b[1;33m    del dict_1('R':40)\u001b[0m\n\u001b[1;37m                  ^\u001b[0m\n\u001b[1;31mSyntaxError\u001b[0m\u001b[1;31m:\u001b[0m invalid syntax\n"
     ]
    }
   ],
   "source": [
    "dict_1 = {\"Python\":40, \"R\":45}\n",
    "del dict_1('R':40)\n",
    "print(dict_1)"
   ]
  },
  {
   "cell_type": "code",
   "execution_count": 136,
   "id": "d9523a0e-2aec-4bcf-93f0-a5352e6539fb",
   "metadata": {},
   "outputs": [],
   "source": [
    "# Dictionary to List\n",
    "# What would be the output of the following set of instructions?"
   ]
  },
  {
   "cell_type": "code",
   "execution_count": 137,
   "id": "8e241e35-e959-4b82-a883-bf282a349cf9",
   "metadata": {},
   "outputs": [
    {
     "ename": "TypeError",
     "evalue": "'list' object is not callable",
     "output_type": "error",
     "traceback": [
      "\u001b[1;31m---------------------------------------------------------------------------\u001b[0m",
      "\u001b[1;31mTypeError\u001b[0m                                 Traceback (most recent call last)",
      "Cell \u001b[1;32mIn[137], line 2\u001b[0m\n\u001b[0;32m      1\u001b[0m d \u001b[38;5;241m=\u001b[39m {\u001b[38;5;124m'\u001b[39m\u001b[38;5;124mPython\u001b[39m\u001b[38;5;124m'\u001b[39m:\u001b[38;5;241m40\u001b[39m, \u001b[38;5;124m'\u001b[39m\u001b[38;5;124mR\u001b[39m\u001b[38;5;124m'\u001b[39m:\u001b[38;5;241m45\u001b[39m}\n\u001b[1;32m----> 2\u001b[0m \u001b[38;5;28mprint\u001b[39m(\u001b[38;5;28;43mlist\u001b[39;49m\u001b[43m(\u001b[49m\u001b[43md\u001b[49m\u001b[38;5;241;43m.\u001b[39;49m\u001b[43mkeys\u001b[49m\u001b[43m(\u001b[49m\u001b[43m)\u001b[49m\u001b[43m)\u001b[49m)\n",
      "\u001b[1;31mTypeError\u001b[0m: 'list' object is not callable"
     ]
    }
   ],
   "source": [
    "d = {'Python':40, 'R':45}\n",
    "print(list(d.keys()))"
   ]
  },
  {
   "cell_type": "markdown",
   "id": "df8660bc-c0e5-4b0c-bf95-1291e0395920",
   "metadata": {},
   "source": [
    "- Practice"
   ]
  },
  {
   "cell_type": "markdown",
   "id": "ba6a6847-d152-4321-bc2b-e8f54fb0a54e",
   "metadata": {},
   "source": [
    "<h5>Dictionary Coding</h5>\n",
    "<b>Description</b><br>\n",
    "Write code to fetch the profession of the employee with Employee id - 104 from an employee input given in the form of a dictionary where key represent employ id and values represent the name, age, and profession (in the same order).<br>\n",
    "<br>\n",
    "<b>Sample Input:</b><br>\n",
    "Employee_data = {101 : ['Shiva', 24, 'Content Strategist'], 102 : ['Udit', 25, 'Content Strategist'], 103 : ['Sonam', 28, 'Sr Manager'], 104 : ['Ansari', 29, 'Product Lead'], 105 : ['Huzefa', 32, 'Project Manager']}<br>\n",
    "<br>\n",
    "<b>Sample Output:</b><br>\n",
    "'Product Lead'<br>\n",
    "<br>\n",
    "Note: Assume that employee data would be available in the data provided to young.<br>\n",
    "<br>\n",
    "<b>Execution time limit</b><br>\n",
    "15 seconds"
   ]
  },
  {
   "cell_type": "code",
   "execution_count": 138,
   "id": "effaa971-7f84-4c1c-be28-b4841f4e5e94",
   "metadata": {},
   "outputs": [
    {
     "name": "stdout",
     "output_type": "stream",
     "text": [
      "Product Lead\n"
     ]
    }
   ],
   "source": [
    "employee_data = {101:['Shiva', 24, 'Content Strategist'], 102:['Udit', 25, 'Content Strategist'], 103:['Sonam', 28, 'Sr Manager'], 104:['Ansari', 29, 'Product Lead'], 105:['Huzefa', 32, 'Project Manager']}\n",
    "print(employee_data[104][2])"
   ]
  },
  {
   "cell_type": "markdown",
   "id": "53279636-7221-479a-86ae-1f3211c3cb74",
   "metadata": {},
   "source": [
    "<h5>Dict_Error</h5>\n",
    "<b>Description</b><br>\n",
    "From a Dictionary input_dict = {'Name' : 'Monty', 'Profession' : 'Singer'}, get the value of a key ‘Label’ which is not a part of the dictionary, in such a way that Python doesn't hit an error. If the key does not exist in the dictionary, Python should return 'NA'.<br>\n",
    "<br>\n",
    "<b>Sample Input:</b><br>\n",
    "{'Name' : 'Monty', 'Profession' : 'Singer' }<br>\n",
    "<br>\n",
    "<b>Sample Output:</b><br>\n",
    "NA<br>\n",
    "<br>\n",
    "<b>Execution time limit</b><br>\n",
    "15 seconds"
   ]
  },
  {
   "cell_type": "code",
   "execution_count": 139,
   "id": "0c073f5f-9159-4c44-98c2-41fb6e521b6a",
   "metadata": {},
   "outputs": [
    {
     "name": "stdout",
     "output_type": "stream",
     "text": [
      "NA\n"
     ]
    }
   ],
   "source": [
    "input_dict = {'Name': 'Monty', 'Profession': 'Singer'}\n",
    "input_dict['Label'] = 'NA'\n",
    "print(input_dict['Label'])"
   ]
  },
  {
   "cell_type": "markdown",
   "id": "ef049e5a-fb1e-44fa-b73c-880371df1709",
   "metadata": {},
   "source": [
    "<h5>List of Values in a Dictionary.</h5>\n",
    "<b>Description</b><br>\n",
    "Create a SORTED list of all values from the dictionary input_dict = {'Jack Dorsey' : 'Twitter' , 'Tim Cook' : 'Apple','Jeff Bezos' : 'Amazon' ,'Mukesh Ambani' : 'RJIO'}<br>\n",
    "<br>\n",
    "<b>Sample Input:</b><br>\n",
    "{'Jack Dorsey' : 'Twitter' , 'Tim Cook' : 'Apple','Jeff Bezos' : 'Amazon' ,'Mukesh Ambani' : 'RJIO'}<br>\n",
    "<br>\n",
    "<b>Sample Output:</b><br>\n",
    "﻿['Amazon', 'Apple', 'RJIO', 'Twitter']<br>\n",
    "<br>\n",
    "<b>Execution time limit</b><br>\n",
    "15 seconds"
   ]
  },
  {
   "cell_type": "code",
   "execution_count": 140,
   "id": "ed366fab-1403-48f1-89b3-1f6ec043b15d",
   "metadata": {},
   "outputs": [
    {
     "name": "stdout",
     "output_type": "stream",
     "text": [
      "['Amazon', 'Apple', 'RJIO', 'Twitter']\n"
     ]
    }
   ],
   "source": [
    "input_dict = {'Jack Dorsey' : 'Twitter' , 'Tim Cook' : 'Apple','Jeff Bezos' : 'Amazon' ,'Mukesh Ambani' : 'RJIO'}\n",
    "print(sorted(input_dict.values()))"
   ]
  }
 ],
 "metadata": {
  "kernelspec": {
   "display_name": "Python 3 (ipykernel)",
   "language": "python",
   "name": "python3"
  },
  "language_info": {
   "codemirror_mode": {
    "name": "ipython",
    "version": 3
   },
   "file_extension": ".py",
   "mimetype": "text/x-python",
   "name": "python",
   "nbconvert_exporter": "python",
   "pygments_lexer": "ipython3",
   "version": "3.12.4"
  }
 },
 "nbformat": 4,
 "nbformat_minor": 5
}

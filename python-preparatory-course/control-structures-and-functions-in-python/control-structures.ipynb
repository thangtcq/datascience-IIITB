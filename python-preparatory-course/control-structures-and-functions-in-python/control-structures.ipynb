{
 "cells": [
  {
   "cell_type": "markdown",
   "id": "507fbf69-9a27-4016-8b50-53a4fbce188a",
   "metadata": {},
   "source": [
    "# Control Structures and Functions\n",
    "Control structures are the essence of programming; they help computers do what they do best: automate repetitive tasks intelligently. The most common control structures are if-else statements, for and while loops, and list and dictionary comprehensions. This session will cover all these concepts."
   ]
  },
  {
   "cell_type": "markdown",
   "id": "b7eec4e8-d7c6-40f8-b919-3a28d1518a88",
   "metadata": {},
   "source": [
    "### If statements\n",
    "\"IF\" statements are imperative in Python and they help us build programs that could make decisions based on a specified condition\n",
    "\n",
    "*   If I am tired, I'll go to bed\n",
    "\n",
    "*   If I am hungry, I'll order food\n",
    "\n",
    "Notice all these applications start with the word 'IF' and that is the first way we are going to control our applications.\n",
    "\n",
    "And before writing down a code to mimic a decision, let us first look at the relational operators that would help us test or define some kind of relation between two entities.\n",
    "\n",
    "Relational operators are used to test equality or inequality of a condition and that condition might change based on your preference.\n",
    "\n",
    "```\n",
    "Example -\n",
    "If its raining == True:\n",
    "  I'll get an umbrella\n",
    "\n",
    "```"
   ]
  },
  {
   "cell_type": "markdown",
   "id": "2a7ad41a-4472-4205-9113-7f2a377e5a85",
   "metadata": {},
   "source": [
    "<h2 style = \"color:Brown\"> Relational Operators</h2>\n",
    "\n",
    "- Compares the values on either side of the operator and returns and boolean value as True or False."
   ]
  },
  {
   "cell_type": "markdown",
   "id": "a751272f-addf-4a1b-9634-3c86f47f6bb7",
   "metadata": {},
   "source": [
    "#### Double equal to operator"
   ]
  },
  {
   "cell_type": "code",
   "execution_count": 1,
   "id": "4ca041db-40aa-4f1e-87b6-89c7514baac8",
   "metadata": {},
   "outputs": [
    {
     "data": {
      "text/plain": [
       "True"
      ]
     },
     "execution_count": 1,
     "metadata": {},
     "output_type": "execute_result"
    }
   ],
   "source": [
    "10 == 10"
   ]
  },
  {
   "cell_type": "code",
   "execution_count": 2,
   "id": "204224ac-f576-4dac-a30f-725a53b28356",
   "metadata": {},
   "outputs": [],
   "source": [
    "a = 5"
   ]
  },
  {
   "cell_type": "code",
   "execution_count": 3,
   "id": "01f82774-35b9-4e15-9cd9-85d53571a1ed",
   "metadata": {},
   "outputs": [
    {
     "data": {
      "text/plain": [
       "True"
      ]
     },
     "execution_count": 3,
     "metadata": {},
     "output_type": "execute_result"
    }
   ],
   "source": [
    "a == 5"
   ]
  },
  {
   "cell_type": "markdown",
   "id": "2b6a7db9-594a-41f3-ad30-5f453db71d85",
   "metadata": {},
   "source": [
    "<h4 style = \"color:Red\">Note</h3>\n",
    "\n",
    "##### '=' is an assignment operator; it is used to assign value to a variable on the left.\n",
    "\n",
    "##### '==' is a relational operator; it is used for comparision of equality."
   ]
  },
  {
   "cell_type": "code",
   "execution_count": 4,
   "id": "d0f95f19-4ef7-4517-aab4-79a4e9c96b62",
   "metadata": {},
   "outputs": [
    {
     "data": {
      "text/plain": [
       "False"
      ]
     },
     "execution_count": 4,
     "metadata": {},
     "output_type": "execute_result"
    }
   ],
   "source": [
    "10 == 5"
   ]
  },
  {
   "cell_type": "markdown",
   "id": "28da424d-f84e-4eae-9d3c-708ef6949d9b",
   "metadata": {},
   "source": [
    "#### Not equal to operator"
   ]
  },
  {
   "cell_type": "code",
   "execution_count": 5,
   "id": "cbe0cc68-8e8e-4e78-a343-a72a12280bf0",
   "metadata": {},
   "outputs": [
    {
     "data": {
      "text/plain": [
       "True"
      ]
     },
     "execution_count": 5,
     "metadata": {},
     "output_type": "execute_result"
    }
   ],
   "source": [
    "10 != 5"
   ]
  },
  {
   "cell_type": "markdown",
   "id": "768a2868-0e45-49f4-ae42-124bc1a23917",
   "metadata": {},
   "source": [
    "#### Greater than operator"
   ]
  },
  {
   "cell_type": "code",
   "execution_count": 6,
   "id": "9622b027-f1c2-4d3d-a4a3-e1f25148d080",
   "metadata": {},
   "outputs": [
    {
     "data": {
      "text/plain": [
       "True"
      ]
     },
     "execution_count": 6,
     "metadata": {},
     "output_type": "execute_result"
    }
   ],
   "source": [
    "10 > 5"
   ]
  },
  {
   "cell_type": "markdown",
   "id": "22537128-29c5-4c3d-ad62-855bb2c85384",
   "metadata": {},
   "source": [
    "#### Less than operator"
   ]
  },
  {
   "cell_type": "code",
   "execution_count": 7,
   "id": "61bac6f8-b73f-41a1-a459-05fa129e1f15",
   "metadata": {},
   "outputs": [
    {
     "data": {
      "text/plain": [
       "False"
      ]
     },
     "execution_count": 7,
     "metadata": {},
     "output_type": "execute_result"
    }
   ],
   "source": [
    "10 < 5"
   ]
  },
  {
   "cell_type": "markdown",
   "id": "1c06484d-88e5-477d-9390-b96b4fa6d078",
   "metadata": {},
   "source": [
    "#### Greater than equal to operator"
   ]
  },
  {
   "cell_type": "code",
   "execution_count": 8,
   "id": "40510aae-109f-403d-9477-68252756f802",
   "metadata": {},
   "outputs": [
    {
     "data": {
      "text/plain": [
       "False"
      ]
     },
     "execution_count": 8,
     "metadata": {},
     "output_type": "execute_result"
    }
   ],
   "source": [
    "10 <= 5"
   ]
  },
  {
   "cell_type": "markdown",
   "id": "e91cec86-7ebc-4758-af70-736485ea1aa7",
   "metadata": {},
   "source": [
    "#### Less than equal to operator"
   ]
  },
  {
   "cell_type": "code",
   "execution_count": 9,
   "id": "b2a3a698-5a16-4245-b94d-4f6ad6869147",
   "metadata": {},
   "outputs": [
    {
     "data": {
      "text/plain": [
       "True"
      ]
     },
     "execution_count": 9,
     "metadata": {},
     "output_type": "execute_result"
    }
   ],
   "source": [
    "10 >= 5"
   ]
  },
  {
   "cell_type": "markdown",
   "id": "e4c7f052-e00e-4896-b203-ccf58df33941",
   "metadata": {},
   "source": [
    "<h2 style = \"color:Brown\">Decision Making</h2>\n",
    "\n",
    "Now let's get back to writing a conditional statement with the 'if' condition\n",
    "\n",
    "To do that we would write it 'if' followed by an expression"
   ]
  },
  {
   "cell_type": "markdown",
   "id": "530dc6b2-b294-456f-83e8-c051a50b7688",
   "metadata": {},
   "source": [
    "#### Write a program to check value in variable x is less than 99"
   ]
  },
  {
   "cell_type": "code",
   "execution_count": 10,
   "id": "c1116ea1-4378-410c-8788-4003a41157ee",
   "metadata": {},
   "outputs": [
    {
     "name": "stdout",
     "output_type": "stream",
     "text": [
      "45 is less than 99\n"
     ]
    }
   ],
   "source": [
    "x = 45\n",
    "\n",
    "if x < 99:\n",
    "    #Inside if-statement\n",
    "    print(x, \"is less than 99\")\n",
    "else:\n",
    "    print(x, \"is greater than 99\")"
   ]
  },
  {
   "cell_type": "code",
   "execution_count": 11,
   "id": "bb35841c-8575-4a53-8238-0eee8efe1812",
   "metadata": {},
   "outputs": [
    {
     "name": "stdout",
     "output_type": "stream",
     "text": [
      "450 is greater than 99\n"
     ]
    }
   ],
   "source": [
    "x = 450\n",
    "\n",
    "if x < 99:\n",
    "    #Inside if-statement\n",
    "    print(x, \"is less than 99\")\n",
    "else:\n",
    "    print(x, \"is greater than 99\")"
   ]
  },
  {
   "cell_type": "markdown",
   "id": "6bdc4a43-91dd-4d63-8daf-931c055c9249",
   "metadata": {},
   "source": [
    "#### Write a code to return YES if x lies in the range of 1000 to 1100, else return NO?"
   ]
  },
  {
   "cell_type": "code",
   "execution_count": 12,
   "id": "5a001bfa-14ab-4f81-ba25-35701b561912",
   "metadata": {},
   "outputs": [
    {
     "name": "stdout",
     "output_type": "stream",
     "text": [
      "No\n"
     ]
    }
   ],
   "source": [
    "x = 395\n",
    "\n",
    "if (x < 1000):\n",
    "    #Inside if-statement\n",
    "    print('No')\n",
    "else:\n",
    "    if (x > 1100 ):\n",
    "        print('No')\n",
    "    else:\n",
    "        print('Yes')"
   ]
  },
  {
   "cell_type": "code",
   "execution_count": 13,
   "id": "051d49c6-e103-4b18-bb8b-30537fbdfe3f",
   "metadata": {},
   "outputs": [
    {
     "name": "stdout",
     "output_type": "stream",
     "text": [
      "No\n"
     ]
    }
   ],
   "source": [
    "x = 395\n",
    "\n",
    "if (x > 1000 and x < 1100):\n",
    "    print('Yes')\n",
    "else:\n",
    "    print('No')"
   ]
  },
  {
   "cell_type": "markdown",
   "id": "27b09ea9-756c-436b-9e9a-d404e7427a6a",
   "metadata": {},
   "source": [
    "## Logical Operators\n",
    "We use logical operators in situations where we have multiple conditions\n",
    "\n",
    "#### AND\n",
    "#### OR\n",
    "#### NOR\n",
    "#### XOR\n",
    "\n",
    "Are some of the common and most widely used logical operators\n",
    "You can learn more about them from this link: https://pythonlessons.net/python-logic-gates/"
   ]
  },
  {
   "cell_type": "markdown",
   "id": "f8b7f2b1-4d09-4f8a-937a-60b09d11c638",
   "metadata": {},
   "source": [
    "#### Write a program to record the age of visitor and allows him to an exclusive children's day party hosted by Mr. Obama only if he or she is above 60 years or below 18 years of age"
   ]
  },
  {
   "cell_type": "code",
   "execution_count": 14,
   "id": "9b857945-9da5-441c-b38e-35d78403f295",
   "metadata": {},
   "outputs": [
    {
     "name": "stdout",
     "output_type": "stream",
     "text": [
      "Sorry!! you do not fit in the age criteria\n"
     ]
    }
   ],
   "source": [
    "x = 29\n",
    "if x <= 18 or x >= 60 :\n",
    "    print(\"Welcome to Party!!\")\n",
    "else:\n",
    "    print(\"Sorry!! you do not fit in the age criteria\")"
   ]
  },
  {
   "cell_type": "markdown",
   "id": "89bbf11e-f0a5-41de-a354-d7fb3183824a",
   "metadata": {},
   "source": [
    "#### Write a program which offers various discounts based on purchase bills"
   ]
  },
  {
   "cell_type": "code",
   "execution_count": 15,
   "id": "d0628a66-215d-4c12-9293-d937d72d14bd",
   "metadata": {},
   "outputs": [
    {
     "name": "stdout",
     "output_type": "stream",
     "text": [
      "You won a discount voucher of flat 1000 on next purchase\n"
     ]
    }
   ],
   "source": [
    "shoppinng_total = 550\n",
    "if shoppinng_total >= 500:\n",
    "    print(\"You won a discount voucher of flat 1000 on next purchase\")\n",
    "elif shoppinng_total >= 250:\n",
    "    print(\"You won a discount voucher of flat 500 on next purchase\")\n",
    "elif shoppinng_total >= 100:\n",
    "    print(\"You won a discount voucher of flat 100 on next purchase\")    \n",
    "else:\n",
    "    print(\"OOPS!! no discount for you!!!\")"
   ]
  },
  {
   "cell_type": "markdown",
   "id": "e4503991-3d82-492e-a843-ed47e5394839",
   "metadata": {},
   "source": [
    "#### Example on nested if-else"
   ]
  },
  {
   "cell_type": "code",
   "execution_count": 16,
   "id": "25d494d3-27e5-4182-87ff-fa0e39872284",
   "metadata": {},
   "outputs": [],
   "source": [
    "world_cups = {2019 : ['England', 'New Zealand'], 2015 : [\"Australia\", \"New Zealand\"], 2011 : [\"India\", \"Sri Lanka\"], 2007 : [\"Australia\", \"Sri Lanka\"], 2003 : [\"Australia\", \"India\"]}"
   ]
  },
  {
   "cell_type": "code",
   "execution_count": 17,
   "id": "dbb42a18-ae48-4781-b9d9-adefda6fbe71",
   "metadata": {},
   "outputs": [
    {
     "data": {
      "text/plain": [
       "dict_keys([2019, 2015, 2011, 2007, 2003])"
      ]
     },
     "execution_count": 17,
     "metadata": {},
     "output_type": "execute_result"
    }
   ],
   "source": [
    "world_cups.keys()"
   ]
  },
  {
   "cell_type": "code",
   "execution_count": 18,
   "id": "2f408421-f44b-4f28-81fe-49c62133f95f",
   "metadata": {},
   "outputs": [
    {
     "data": {
      "text/plain": [
       "['Australia', 'India']"
      ]
     },
     "execution_count": 18,
     "metadata": {},
     "output_type": "execute_result"
    }
   ],
   "source": [
    "world_cups[2003]"
   ]
  },
  {
   "cell_type": "code",
   "execution_count": 19,
   "id": "2c270c9c-ad16-4b8c-944b-96b1b7c6f9f5",
   "metadata": {},
   "outputs": [],
   "source": [
    "year = 2023"
   ]
  },
  {
   "cell_type": "code",
   "execution_count": 20,
   "id": "0ffc3bf0-031f-4338-a6a2-46ec1f0cc54e",
   "metadata": {},
   "outputs": [
    {
     "data": {
      "text/plain": [
       "2023"
      ]
     },
     "execution_count": 20,
     "metadata": {},
     "output_type": "execute_result"
    }
   ],
   "source": [
    "year"
   ]
  },
  {
   "cell_type": "code",
   "execution_count": 21,
   "id": "2217bad9-d901-4157-9c1c-4a1779011960",
   "metadata": {},
   "outputs": [
    {
     "name": "stdout",
     "output_type": "stream",
     "text": [
      "World cup wasn't played in 2023\n"
     ]
    }
   ],
   "source": [
    "if year in world_cups:\n",
    "    #v Do some stuff\n",
    "    if \"New Zealand\" in world_cups[year]:\n",
    "        print(\"New Zealand made it to Finals\")\n",
    "    else:\n",
    "        print(\"New Zealand could not make it to Finals\")\n",
    "else:\n",
    "    print(\"World cup wasn't played in\", year)"
   ]
  },
  {
   "cell_type": "code",
   "execution_count": 22,
   "id": "ca99be3b-b68c-483b-9770-b1ba2ee61a43",
   "metadata": {},
   "outputs": [
    {
     "ename": "KeyError",
     "evalue": "2023",
     "output_type": "error",
     "traceback": [
      "\u001b[1;31m---------------------------------------------------------------------------\u001b[0m",
      "\u001b[1;31mKeyError\u001b[0m                                  Traceback (most recent call last)",
      "Cell \u001b[1;32mIn[22], line 1\u001b[0m\n\u001b[1;32m----> 1\u001b[0m \u001b[43mworld_cups\u001b[49m\u001b[43m[\u001b[49m\u001b[43myear\u001b[49m\u001b[43m]\u001b[49m\n",
      "\u001b[1;31mKeyError\u001b[0m: 2023"
     ]
    }
   ],
   "source": [
    "world_cups[year]"
   ]
  },
  {
   "cell_type": "markdown",
   "id": "e5830102-f68e-4d31-bf2d-50aa94839189",
   "metadata": {},
   "source": [
    "- Question"
   ]
  },
  {
   "cell_type": "code",
   "execution_count": null,
   "id": "7b1c10fd-85ba-4495-a868-7f5123fc8d2b",
   "metadata": {},
   "outputs": [],
   "source": [
    "#The If-Else Construct\n",
    "#What is the output of the following code?"
   ]
  },
  {
   "cell_type": "code",
   "execution_count": 23,
   "id": "209e8a5a-0c55-4bb0-ae6f-76a1070a38a0",
   "metadata": {},
   "outputs": [
    {
     "ename": "IndentationError",
     "evalue": "expected an indented block after 'if' statement on line 2 (378220059.py, line 3)",
     "output_type": "error",
     "traceback": [
      "\u001b[1;36m  Cell \u001b[1;32mIn[23], line 3\u001b[1;36m\u001b[0m\n\u001b[1;33m    print('YES')\u001b[0m\n\u001b[1;37m    ^\u001b[0m\n\u001b[1;31mIndentationError\u001b[0m\u001b[1;31m:\u001b[0m expected an indented block after 'if' statement on line 2\n"
     ]
    }
   ],
   "source": [
    "X = 12\n",
    "if (X > 10 & X < 15):\n",
    "print('YES')\n",
    "else:\n",
    "print('No')"
   ]
  },
  {
   "cell_type": "code",
   "execution_count": 24,
   "id": "ef263471-b3fd-498c-949a-12a98c5c893e",
   "metadata": {},
   "outputs": [],
   "source": [
    "#Maximum of Three Numbers\n",
    "#Complete the piece of code to print a maximum of three variables, a, b and c."
   ]
  },
  {
   "cell_type": "code",
   "execution_count": 25,
   "id": "3c098064-293e-4a03-bbf8-b154c8421709",
   "metadata": {},
   "outputs": [
    {
     "name": "stdout",
     "output_type": "stream",
     "text": [
      "a\n"
     ]
    }
   ],
   "source": [
    "a = 10\n",
    "b = 16\n",
    "c = 20\n",
    "if (a > b,c):\n",
    "    print(\"a\")\n",
    "elif (b > a,c):\n",
    "    print(\"b\")\n",
    "else:\n",
    "     print(\"c\")"
   ]
  },
  {
   "cell_type": "code",
   "execution_count": 26,
   "id": "9c2d5218-fd50-4770-b2e7-34e695357793",
   "metadata": {},
   "outputs": [
    {
     "name": "stdout",
     "output_type": "stream",
     "text": [
      "c\n"
     ]
    }
   ],
   "source": [
    "a = 10\n",
    "b = 16\n",
    "c = 20\n",
    "if (a > b and a > c):\n",
    "    print(\"a\")\n",
    "elif (b > a and b > c):\n",
    "    print(\"b\")\n",
    "else:\n",
    "     print(\"c\")"
   ]
  },
  {
   "cell_type": "code",
   "execution_count": 27,
   "id": "9d2cf087-e7f6-4dc5-90cf-02aa00af7232",
   "metadata": {},
   "outputs": [
    {
     "name": "stdout",
     "output_type": "stream",
     "text": [
      "b\n"
     ]
    }
   ],
   "source": [
    "a = 10\n",
    "b = 16\n",
    "c = 20\n",
    "if (c < a and c < b):\n",
    "    print(\"a\")\n",
    "elif (a < b):\n",
    "    print(\"b\")\n",
    "else:\n",
    "     print(\"c\")"
   ]
  },
  {
   "cell_type": "code",
   "execution_count": 28,
   "id": "2fef3cbc-cd3c-4838-9373-608783428966",
   "metadata": {},
   "outputs": [
    {
     "name": "stdout",
     "output_type": "stream",
     "text": [
      "a\n"
     ]
    }
   ],
   "source": [
    "a = 10\n",
    "b = 16\n",
    "c = 20\n",
    "if (b < a, a > c):\n",
    "    print(\"a\")\n",
    "elif (b > a, c < b):\n",
    "    print(\"b\")\n",
    "else:\n",
    "     print(\"c\")"
   ]
  },
  {
   "cell_type": "code",
   "execution_count": 29,
   "id": "6e97b28d-fb14-4e1c-bede-41c4592bae99",
   "metadata": {},
   "outputs": [],
   "source": [
    "#Reverse Engineering\n",
    "#Which of the following sequences of inputs would give the output 'C' 'A' 'D' 'B' over multiple iterations?"
   ]
  },
  {
   "cell_type": "code",
   "execution_count": 30,
   "id": "92a9daea-e264-4e02-a881-e248c6e9cb40",
   "metadata": {},
   "outputs": [
    {
     "name": "stdout",
     "output_type": "stream",
     "text": [
      "C\n",
      "A\n",
      "C\n",
      "B\n"
     ]
    }
   ],
   "source": [
    "input_list = [74, 93, 74, 88]\n",
    "for score in input_list:\n",
    "    if score >= 90:\n",
    "       print('A')\n",
    "    elif score >=80:\n",
    "       print('B')\n",
    "    elif score >= 70:\n",
    "       print('C')\n",
    "    elif score >= 60:\n",
    "       print('D')\n",
    "    else:\n",
    "       print('F')"
   ]
  },
  {
   "cell_type": "code",
   "execution_count": 31,
   "id": "3d6cad66-0939-42f1-85c3-3c282c106a0a",
   "metadata": {},
   "outputs": [
    {
     "name": "stdout",
     "output_type": "stream",
     "text": [
      "C\n",
      "A\n",
      "C\n",
      "B\n"
     ]
    }
   ],
   "source": [
    "input_list = [72, 93, 70, 85]\n",
    "for score in input_list:\n",
    "    if score >= 90:\n",
    "       print('A')\n",
    "    elif score >=80:\n",
    "       print('B')\n",
    "    elif score >= 70:\n",
    "       print('C')\n",
    "    elif score >= 60:\n",
    "       print('D')\n",
    "    else:\n",
    "       print('F')"
   ]
  },
  {
   "cell_type": "code",
   "execution_count": 32,
   "id": "fca0b858-84bd-4667-b03d-a6bea69e4b8f",
   "metadata": {},
   "outputs": [
    {
     "name": "stdout",
     "output_type": "stream",
     "text": [
      "C\n",
      "A\n",
      "D\n",
      "B\n"
     ]
    }
   ],
   "source": [
    "input_list = [70, 91, 67, 88]\n",
    "for score in input_list:\n",
    "    if score >= 90:\n",
    "       print('A')\n",
    "    elif score >=80:\n",
    "       print('B')\n",
    "    elif score >= 70:\n",
    "       print('C')\n",
    "    elif score >= 60:\n",
    "       print('D')\n",
    "    else:\n",
    "       print('F')"
   ]
  },
  {
   "cell_type": "code",
   "execution_count": 33,
   "id": "ee9096ce-2039-4700-8083-c6d7b3313712",
   "metadata": {},
   "outputs": [
    {
     "name": "stdout",
     "output_type": "stream",
     "text": [
      "C\n",
      "A\n",
      "F\n",
      "F\n"
     ]
    }
   ],
   "source": [
    "input_list = [78, 96, 35, 40]\n",
    "for score in input_list:\n",
    "    if score >= 90:\n",
    "       print('A')\n",
    "    elif score >=80:\n",
    "       print('B')\n",
    "    elif score >= 70:\n",
    "       print('C')\n",
    "    elif score >= 60:\n",
    "       print('D')\n",
    "    else:\n",
    "       print('F')"
   ]
  },
  {
   "cell_type": "code",
   "execution_count": 34,
   "id": "8d3f5663-ee93-4c1f-b49f-7ab24efdcce2",
   "metadata": {},
   "outputs": [],
   "source": [
    "#Can You Guess the Output?\n",
    "#What will the following segment of code print? Try doing this verbally."
   ]
  },
  {
   "cell_type": "code",
   "execution_count": 35,
   "id": "f54fd1b4-b8dd-4031-93b0-86005b40d803",
   "metadata": {},
   "outputs": [
    {
     "name": "stdout",
     "output_type": "stream",
     "text": [
      "B\n"
     ]
    }
   ],
   "source": [
    "if (10 < 0) and (0 < -10):\n",
    "    print(\"A\")\n",
    "elif (10 > 0) or False:\n",
    "    print(\"B\")\n",
    "else:\n",
    "    print(\"C\")"
   ]
  },
  {
   "cell_type": "code",
   "execution_count": 36,
   "id": "a44a5c46-3422-481f-b98b-8b7824f30a81",
   "metadata": {},
   "outputs": [],
   "source": [
    "#A Search for the Truth\n",
    "#What will the following segment of code print? Try solving it verbally."
   ]
  },
  {
   "cell_type": "code",
   "execution_count": 37,
   "id": "f6ef2559-b1bd-4730-b9fe-bae2feb971a0",
   "metadata": {},
   "outputs": [
    {
     "name": "stdout",
     "output_type": "stream",
     "text": [
      "B\n"
     ]
    }
   ],
   "source": [
    "if True or True:\n",
    "    if False and True or False:\n",
    "        print('A')\n",
    "    elif False and False or True and True:\n",
    "        print('B')\n",
    "    else:\n",
    "        print('C')\n",
    "else:\n",
    "    print('D')"
   ]
  },
  {
   "cell_type": "markdown",
   "id": "bd4f9fdc-afdc-4aa3-a215-67f00ad48cac",
   "metadata": {},
   "source": [
    "<h5>If-Else</h5>\n",
    "<b>Description</b><br>\n",
    "Write a code to check if the string in input_str starts with a vowel or not. Print capital YES or NO.<br>\n",
    "For example, if input_str = 'analytics' then, your output should print 'YES'.<br>\n",
    "<br>\n",
    "<b>Sample Input:</b><br>\n",
    "alpha<br>\n",
    "<br>\n",
    "<b>Sample Output:</b><br>\n",
    "YES<br>\n",
    "<br>\n",
    "<b>Execution time limit</b><br>\n",
    "15 seconds"
   ]
  },
  {
   "cell_type": "code",
   "execution_count": 38,
   "id": "ccf4ffb9-3d55-4c5b-b88e-ba9d06257dea",
   "metadata": {},
   "outputs": [
    {
     "name": "stdout",
     "output_type": "stream",
     "text": [
      "YES\n"
     ]
    }
   ],
   "source": [
    "input_str = 'Amit'\n",
    "list_vowel = ['u', 'e', 'o', 'a', 'i', 'U', 'E', 'O', 'A', 'I']\n",
    "\n",
    "if input_str[0] in list_vowel:\n",
    "    print('YES')\n",
    "else:\n",
    "    print('NO')"
   ]
  },
  {
   "cell_type": "code",
   "execution_count": 39,
   "id": "6f6c5369-88d3-4b0c-97bb-a112e4e86fcb",
   "metadata": {},
   "outputs": [
    {
     "name": "stdout",
     "output_type": "stream",
     "text": [
      "NO\n"
     ]
    }
   ],
   "source": [
    "input_str = 'soham'\n",
    "list_vowel = ['u', 'e', 'o', 'a', 'i', 'U', 'E', 'O', 'A', 'I']\n",
    "if input_str[0] in list_vowel:\n",
    "    print('YES')\n",
    "else:\n",
    "    print('NO')"
   ]
  },
  {
   "cell_type": "code",
   "execution_count": 40,
   "id": "9318b12f-c872-46d1-ac30-c1bb65bd2d4e",
   "metadata": {},
   "outputs": [
    {
     "name": "stdout",
     "output_type": "stream",
     "text": [
      "NO\n"
     ]
    }
   ],
   "source": [
    "input_str = 'beta'\n",
    "list_vowel = ['u', 'e', 'o', 'a', 'i', 'U', 'E', 'O', 'A', 'I']\n",
    "if input_str[0] in list_vowel:\n",
    "    print('YES')\n",
    "else:\n",
    "    print('NO')"
   ]
  },
  {
   "cell_type": "code",
   "execution_count": 41,
   "id": "5d53f2c8-9bac-44e4-a80c-fe7416cb1c33",
   "metadata": {},
   "outputs": [
    {
     "name": "stdout",
     "output_type": "stream",
     "text": [
      "YES\n"
     ]
    }
   ],
   "source": [
    "input_str = 'alpha'\n",
    "list_vowel = ['u', 'e', 'o', 'a', 'i', 'U', 'E', 'O', 'A', 'I']\n",
    "if input_str[0] in list_vowel:\n",
    "    print('YES')\n",
    "else:\n",
    "    print('NO')"
   ]
  },
  {
   "cell_type": "markdown",
   "id": "cd5678de-3623-4150-ab06-a402027f75d9",
   "metadata": {},
   "source": [
    "<h2 style = \"color:Brown\">Loops and Iterations</h2>\n",
    "\n",
    "Let’s look at a small example where you have a person’s income and expense data across five months in the form of a list, and you want to compute his savings across these five months. You may be thinking of doing this manually by taking the first elements from the two lists and subtracting them, then again taking the second elements and subtracting, and so on. This may look simple, but let’s say it is across 10 or 20 years. Would you do the same? \n",
    "\n",
    "This is where the concept of iteration comes in handy, as you are repeating the same operation multiple times. With this in mind, let’s learn more about it.\n",
    "\n",
    "Let's start with a simple 'While' loop - \n",
    "##### A while loop begins with a keyword 'While' followed by an expression \n",
    "##### So While this condition is satisfied keep running the loop"
   ]
  },
  {
   "cell_type": "code",
   "execution_count": 42,
   "id": "52d94990-25da-4b49-b276-ae57ecc7e51b",
   "metadata": {},
   "outputs": [
    {
     "name": "stdin",
     "output_type": "stream",
     "text": [
      "Enter your four digit pin:  123\n",
      "Invalid input, please try again:  1234\n"
     ]
    },
    {
     "name": "stdout",
     "output_type": "stream",
     "text": [
      "Pin validation successful.\n"
     ]
    }
   ],
   "source": [
    "#Let's create a pin checker which we generally have in our phones or ATMs\n",
    "pin = input(\"Enter your four digit pin: \")\n",
    "while pin != '1234':\n",
    "    pin = input('Invalid input, please try again: ')\n",
    "print(\"Pin validation successful.\")"
   ]
  },
  {
   "cell_type": "code",
   "execution_count": 43,
   "id": "ecfc2244-bb4f-420f-8c3e-0f60fc320837",
   "metadata": {},
   "outputs": [
    {
     "name": "stdin",
     "output_type": "stream",
     "text": [
      "Enter your four digit pin:  1\n",
      "Invalid input, please try again:  1235\n",
      "Invalid input, please try again:  1236\n"
     ]
    },
    {
     "ename": "SystemExit",
     "evalue": "Too many invalid attempts",
     "output_type": "error",
     "traceback": [
      "An exception has occurred, use %tb to see the full traceback.\n",
      "\u001b[1;31mSystemExit\u001b[0m\u001b[1;31m:\u001b[0m Too many invalid attempts\n"
     ]
    },
    {
     "name": "stderr",
     "output_type": "stream",
     "text": [
      "C:\\Users\\thang\\AppData\\Roaming\\Python\\Python312\\site-packages\\IPython\\core\\interactiveshell.py:3585: UserWarning: To exit: use 'exit', 'quit', or Ctrl-D.\n",
      "  warn(\"To exit: use 'exit', 'quit', or Ctrl-D.\", stacklevel=1)\n"
     ]
    }
   ],
   "source": [
    "#Now if we want to add a maximum number of tries allowed condition we'll use the if loop\n",
    "import sys    #Required for exiting the code and displaying an error\n",
    "pin = input(\"Enter your four digit pin: \")\n",
    "attempt_count = 1\n",
    "while pin != '1234':\n",
    "    if attempt_count >= 3:\n",
    "        sys.exit(\"Too many invalid attempts\")   #Error code\n",
    "    pin = input('Invalid input, please try again: ')  \n",
    "    attempt_count += 1\n",
    "print(\"Pin validation successful.\")"
   ]
  },
  {
   "cell_type": "code",
   "execution_count": 44,
   "id": "7901a2e4-2401-448d-9dfc-00daf6402dd9",
   "metadata": {},
   "outputs": [
    {
     "name": "stdin",
     "output_type": "stream",
     "text": [
      "Enter your four digit pin:  1\n",
      "Invalid input, please try again:  123\n",
      "Invalid input, please try again:  1236\n"
     ]
    },
    {
     "ename": "SystemExit",
     "evalue": "Too many invalid attempts",
     "output_type": "error",
     "traceback": [
      "An exception has occurred, use %tb to see the full traceback.\n",
      "\u001b[1;31mSystemExit\u001b[0m\u001b[1;31m:\u001b[0m Too many invalid attempts\n"
     ]
    }
   ],
   "source": [
    "#Now if we want to add a maximum number of tries allowed condition we'll use the if loop\n",
    "import sys    #Required for exiting the code and displaying an error\n",
    "pin = input(\"Enter your four digit pin: \")\n",
    "attempt_count = 1\n",
    "while pin != '1234':\n",
    "    if attempt_count >= 3:\n",
    "        sys.exit(\"Too many invalid attempts\")   #Error code\n",
    "    pin = input('Invalid input, please try again: ')  \n",
    "    attempt_count += 1\n",
    "print(\"Pin validation successful.\")"
   ]
  },
  {
   "cell_type": "markdown",
   "id": "9badb367-35d7-4a2a-a6ce-c1ffb2dc6125",
   "metadata": {},
   "source": [
    "Type <i>Markdown</i> and LaTeX: a<sup>2</sup>"
   ]
  },
  {
   "cell_type": "code",
   "execution_count": 45,
   "id": "54aa27c5-d2e0-4f85-a1d8-91edae39d38e",
   "metadata": {},
   "outputs": [
    {
     "name": "stdout",
     "output_type": "stream",
     "text": [
      "1\n",
      "3\n",
      "4\n",
      "2\n",
      "5\n",
      "6\n"
     ]
    }
   ],
   "source": [
    "#Iterate over list of integers\n",
    "l = [1,3,4,2,5,6]\n",
    "for i in l:\n",
    "    print(i)"
   ]
  },
  {
   "cell_type": "code",
   "execution_count": 46,
   "id": "883274ee-569f-4bdf-ab29-99533d7dbb11",
   "metadata": {},
   "outputs": [
    {
     "name": "stdout",
     "output_type": "stream",
     "text": [
      "T\n",
      "h\n",
      "ắ\n",
      "n\n",
      "g\n",
      " \n",
      "T\n",
      "r\n",
      "ư\n",
      "ơ\n",
      "n\n",
      "g\n"
     ]
    }
   ],
   "source": [
    "#Iterate over a string\n",
    "string = \"Thắng Trương\"\n",
    "for ch in string:\n",
    "    print(ch)"
   ]
  },
  {
   "cell_type": "code",
   "execution_count": 47,
   "id": "4a132544-1720-41c0-a8d9-6e22db553b64",
   "metadata": {},
   "outputs": [
    {
     "name": "stdout",
     "output_type": "stream",
     "text": [
      "T:h:ắ:n:g: :T:r:ư:ơ:n:g:"
     ]
    }
   ],
   "source": [
    "#Iterate over a string - modify print using end\n",
    "string = \"Thắng Trương\"\n",
    "for ch in string:\n",
    "    print(ch, end = \":\")    #Default value of end = \"\\n\""
   ]
  },
  {
   "cell_type": "code",
   "execution_count": 48,
   "id": "661e4503-6e3e-494f-9c62-8a2b594afe86",
   "metadata": {},
   "outputs": [
    {
     "name": "stdout",
     "output_type": "stream",
     "text": [
      "1 ['Sam', 24]\n",
      "2 ['Rob', 25]\n",
      "3 ['Jack', 26]\n",
      "4 ['Cornor', 24]\n",
      "5 ['Trump', 27]\n"
     ]
    }
   ],
   "source": [
    "#Iterating over a dictionary\n",
    "students_data = {1:['Sam', 24] , 2:['Rob',25], 3:['Jack', 26], 4:['Cornor',24], 5:['Trump',27]}\n",
    "for key, val in students_data.items():\n",
    "    print(key, val)"
   ]
  },
  {
   "cell_type": "code",
   "execution_count": 49,
   "id": "234c8353-fc7c-4e22-bc42-ab96564ffdff",
   "metadata": {},
   "outputs": [
    {
     "name": "stdout",
     "output_type": "stream",
     "text": [
      "1\n",
      "2\n",
      "3\n",
      "4\n",
      "5\n"
     ]
    }
   ],
   "source": [
    "#Iterate over keys of a dictionary\n",
    "for key in students_data.keys():\n",
    "    print(key)"
   ]
  },
  {
   "cell_type": "code",
   "execution_count": 50,
   "id": "15130196-e5d1-4476-95ca-9f6ce61e9a85",
   "metadata": {},
   "outputs": [
    {
     "name": "stdout",
     "output_type": "stream",
     "text": [
      "[2, 6, 15, 4, 8]\n"
     ]
    }
   ],
   "source": [
    "L1 = [10, 20, 30, 24, 18]\n",
    "L2 = [8, 14, 15, 20, 10]\n",
    "L3 = [0, 1, 2, 3, 4]\n",
    "for i in L3:\n",
    "    L3[i] = L1[i] - L2[i]\n",
    "print(L3)"
   ]
  },
  {
   "cell_type": "code",
   "execution_count": 51,
   "id": "f69bc4df-4917-4ce2-8f49-fc12a1b6dda5",
   "metadata": {},
   "outputs": [
    {
     "name": "stdout",
     "output_type": "stream",
     "text": [
      "range(1, 101)\n"
     ]
    }
   ],
   "source": [
    "#Generate range of values.\n",
    "print(range(1, 101))"
   ]
  },
  {
   "cell_type": "code",
   "execution_count": 52,
   "id": "4e3bfc5a-463d-4693-affb-ba0a53fb86bf",
   "metadata": {},
   "outputs": [
    {
     "name": "stdout",
     "output_type": "stream",
     "text": [
      "[1, 2, 3, 4, 5, 6, 7, 8, 9, 10, 11, 12, 13, 14, 15, 16, 17, 18, 19, 20, 21, 22, 23, 24, 25, 26, 27, 28, 29, 30, 31, 32, 33, 34, 35, 36, 37, 38, 39, 40, 41, 42, 43, 44, 45, 46, 47, 48, 49, 50, 51, 52, 53, 54, 55, 56, 57, 58, 59, 60, 61, 62, 63, 64, 65, 66, 67, 68, 69, 70, 71, 72, 73, 74, 75, 76, 77, 78, 79, 80, 81, 82, 83, 84, 85, 86, 87, 88, 89, 90, 91, 92, 93, 94, 95, 96, 97, 98, 99, 100]\n"
     ]
    }
   ],
   "source": [
    "l = list(range(1,101))\n",
    "print(l)"
   ]
  },
  {
   "cell_type": "code",
   "execution_count": 53,
   "id": "286a4903-a0bf-4c16-9327-9ca0925dec8c",
   "metadata": {},
   "outputs": [
    {
     "name": "stdout",
     "output_type": "stream",
     "text": [
      "1 2 3 4 5 6 7 8 9 10 11 12 13 14 15 16 17 18 19 20 21 22 23 24 25 26 27 28 29 30 31 32 33 34 35 36 37 38 39 40 41 42 43 44 45 46 47 48 49 50 51 52 53 54 55 56 57 58 59 60 61 62 63 64 65 66 67 68 69 70 71 72 73 74 75 76 77 78 79 80 81 82 83 84 85 86 87 88 89 90 91 92 93 94 95 96 97 98 99 100 "
     ]
    }
   ],
   "source": [
    "#Iterate over range of values\n",
    "for i in range(1, 101):\n",
    "    print(i, end = \" \")"
   ]
  },
  {
   "cell_type": "code",
   "execution_count": 54,
   "id": "0a7232d1-c9de-461b-a15e-bba59da968d7",
   "metadata": {},
   "outputs": [
    {
     "name": "stdout",
     "output_type": "stream",
     "text": [
      "[1, 3, 5, 7, 9, 11, 13, 15, 17, 19, 21, 23, 25, 27, 29, 31, 33, 35, 37, 39, 41, 43, 45, 47, 49, 51, 53, 55, 57, 59, 61, 63, 65, 67, 69, 71, 73, 75, 77, 79, 81, 83, 85, 87, 89, 91, 93, 95, 97, 99]\n"
     ]
    }
   ],
   "source": [
    "#Different variations in range\n",
    "#Gives numbers from 1 to 100 with a step count of 2\n",
    "print(list(range(1, 100, 2) ))"
   ]
  },
  {
   "cell_type": "code",
   "execution_count": 55,
   "id": "029661f1-ea56-4049-9e37-72bddafe8b82",
   "metadata": {},
   "outputs": [
    {
     "name": "stdout",
     "output_type": "stream",
     "text": [
      "[100, 99, 98, 97, 96, 95, 94, 93, 92, 91, 90, 89, 88, 87, 86, 85, 84, 83, 82, 81, 80, 79, 78, 77, 76, 75, 74, 73, 72, 71, 70, 69, 68, 67, 66, 65, 64, 63, 62, 61, 60, 59, 58, 57, 56, 55, 54, 53, 52, 51, 50, 49, 48, 47, 46, 45, 44, 43, 42, 41, 40, 39, 38, 37, 36, 35, 34, 33, 32, 31, 30, 29, 28, 27, 26, 25, 24, 23, 22, 21, 20, 19, 18, 17, 16, 15, 14, 13, 12, 11, 10, 9, 8, 7, 6, 5, 4, 3, 2, 1]\n"
     ]
    }
   ],
   "source": [
    "#Gives a reversed sequence of numbers from 100 to 1\n",
    "print(list(range(100, 0, -1)))"
   ]
  },
  {
   "cell_type": "markdown",
   "id": "2063e217-7bf5-435b-a177-5673da7f08fa",
   "metadata": {},
   "source": [
    "####Ex. Write a program to print prime numbers between 1 to 20"
   ]
  },
  {
   "cell_type": "code",
   "execution_count": 56,
   "id": "9842f849-e048-4c56-94b1-f680f84090ea",
   "metadata": {},
   "outputs": [
    {
     "name": "stdout",
     "output_type": "stream",
     "text": [
      "1\n",
      "2\n",
      "3\n",
      "4 is not prime 2\n",
      "5\n",
      "6 is not prime 2\n",
      "7\n",
      "8 is not prime 2\n",
      "9 is not prime 3\n",
      "10 is not prime 2\n",
      "11\n",
      "12 is not prime 2\n",
      "13\n",
      "14 is not prime 2\n",
      "15 is not prime 3\n",
      "16 is not prime 2\n",
      "17\n",
      "18 is not prime 2\n",
      "19\n"
     ]
    }
   ],
   "source": [
    "for n in range(1, 20):    #n = 7\n",
    "    flag = True\n",
    "    for i in range(2, n):    #i = 2, 3, 4, 5, 6\n",
    "        if n % i == 0:\n",
    "            #n is not a prime number, it is better to exit the inner for loop\n",
    "            print(n, \"is not prime\", i)\n",
    "            flag = False\n",
    "            break\n",
    "    #Whether to print(i) or not\n",
    "    if flag:    #n is prime\n",
    "        print(n)"
   ]
  },
  {
   "cell_type": "markdown",
   "id": "93a0c897-a410-46c1-bb2a-8949e6ca997e",
   "metadata": {},
   "source": [
    "- Question"
   ]
  },
  {
   "cell_type": "code",
   "execution_count": 57,
   "id": "e0bcc5d0-2562-4a1c-96fd-ce55987b71d1",
   "metadata": {},
   "outputs": [],
   "source": [
    "#Complete the Code\n",
    "#Complete this piece of code for calculating the element-wise difference between two lists and storing them in L3.\n",
    "#[Assume that the lists are of the same length.]"
   ]
  },
  {
   "cell_type": "code",
   "execution_count": 58,
   "id": "60f5ebe5-68cc-4784-ae34-7a68fa19f1bb",
   "metadata": {},
   "outputs": [
    {
     "ename": "TypeError",
     "evalue": "'list' object cannot be interpreted as an integer",
     "output_type": "error",
     "traceback": [
      "\u001b[1;31m---------------------------------------------------------------------------\u001b[0m",
      "\u001b[1;31mTypeError\u001b[0m                                 Traceback (most recent call last)",
      "Cell \u001b[1;32mIn[58], line 4\u001b[0m\n\u001b[0;32m      2\u001b[0m L2 \u001b[38;5;241m=\u001b[39m [\u001b[38;5;241m8\u001b[39m, \u001b[38;5;241m14\u001b[39m, \u001b[38;5;241m15\u001b[39m, \u001b[38;5;241m20\u001b[39m, \u001b[38;5;241m10\u001b[39m]\n\u001b[0;32m      3\u001b[0m L3 \u001b[38;5;241m=\u001b[39m []\n\u001b[1;32m----> 4\u001b[0m \u001b[38;5;28;01mfor\u001b[39;00m i \u001b[38;5;129;01min\u001b[39;00m \u001b[38;5;28;43mrange\u001b[39;49m\u001b[43m(\u001b[49m\u001b[43mL1\u001b[49m\u001b[43m)\u001b[49m:\n\u001b[0;32m      5\u001b[0m     L3\u001b[38;5;241m.\u001b[39mappend(L2 \u001b[38;5;241m-\u001b[39m L1)\n\u001b[0;32m      6\u001b[0m \u001b[38;5;28mprint\u001b[39m(L3)\n",
      "\u001b[1;31mTypeError\u001b[0m: 'list' object cannot be interpreted as an integer"
     ]
    }
   ],
   "source": [
    "L1 = [10, 20, 30, 24, 18]\n",
    "L2 = [8, 14, 15, 20, 10]\n",
    "L3 = []\n",
    "for i in range(L1):\n",
    "    L3.append(L2 - L1)\n",
    "print(L3)"
   ]
  },
  {
   "cell_type": "code",
   "execution_count": 59,
   "id": "4df163ca-c0fa-4e26-a250-8d4e1e58f4b5",
   "metadata": {},
   "outputs": [
    {
     "ename": "TypeError",
     "evalue": "'list' object is not callable",
     "output_type": "error",
     "traceback": [
      "\u001b[1;31m---------------------------------------------------------------------------\u001b[0m",
      "\u001b[1;31mTypeError\u001b[0m                                 Traceback (most recent call last)",
      "Cell \u001b[1;32mIn[59], line 5\u001b[0m\n\u001b[0;32m      3\u001b[0m L3 \u001b[38;5;241m=\u001b[39m []\n\u001b[0;32m      4\u001b[0m \u001b[38;5;28;01mfor\u001b[39;00m i \u001b[38;5;129;01min\u001b[39;00m \u001b[38;5;28mrange\u001b[39m(\u001b[38;5;28mlen\u001b[39m(L1) \u001b[38;5;241m+\u001b[39m \u001b[38;5;241m1\u001b[39m):\n\u001b[1;32m----> 5\u001b[0m     L3\u001b[38;5;241m.\u001b[39mpop(\u001b[43mL2\u001b[49m\u001b[43m(\u001b[49m\u001b[43mi\u001b[49m\u001b[43m)\u001b[49m \u001b[38;5;241m-\u001b[39m L1(i))\n\u001b[0;32m      6\u001b[0m \u001b[38;5;28mprint\u001b[39m(L3)\n",
      "\u001b[1;31mTypeError\u001b[0m: 'list' object is not callable"
     ]
    }
   ],
   "source": [
    "L1 = [10, 20, 30, 24, 18]\n",
    "L2 = [8, 14, 15, 20, 10]\n",
    "L3 = []\n",
    "for i in range(len(L1) + 1):\n",
    "    L3.pop(L2(i) - L1(i))\n",
    "print(L3)"
   ]
  },
  {
   "cell_type": "code",
   "execution_count": 60,
   "id": "69cfa5d7-da0c-45a1-847f-d4a3c71e06c8",
   "metadata": {},
   "outputs": [
    {
     "name": "stdout",
     "output_type": "stream",
     "text": [
      "[-2, -6, -15, -4, -8]\n"
     ]
    }
   ],
   "source": [
    "L1 = [10, 20, 30, 24, 18]\n",
    "L2 = [8, 14, 15, 20, 10]\n",
    "L3 = []\n",
    "for i in range(len(L2)):\n",
    "    L3.append(L2[i] - L1[i])\n",
    "print(L3)"
   ]
  },
  {
   "cell_type": "code",
   "execution_count": 61,
   "id": "2ed7c754-e9c5-49c3-9822-f9a74fc4556b",
   "metadata": {},
   "outputs": [
    {
     "ename": "TypeError",
     "evalue": "'list' object is not callable",
     "output_type": "error",
     "traceback": [
      "\u001b[1;31m---------------------------------------------------------------------------\u001b[0m",
      "\u001b[1;31mTypeError\u001b[0m                                 Traceback (most recent call last)",
      "Cell \u001b[1;32mIn[61], line 5\u001b[0m\n\u001b[0;32m      3\u001b[0m L3 \u001b[38;5;241m=\u001b[39m []\n\u001b[0;32m      4\u001b[0m \u001b[38;5;28;01mfor\u001b[39;00m i \u001b[38;5;129;01min\u001b[39;00m \u001b[38;5;28mrange\u001b[39m(\u001b[38;5;28mlen\u001b[39m(L1)):\n\u001b[1;32m----> 5\u001b[0m     L3\u001b[38;5;241m.\u001b[39mappend(\u001b[43mL2\u001b[49m\u001b[43m(\u001b[49m\u001b[43mi\u001b[49m\u001b[43m)\u001b[49m \u001b[38;5;241m-\u001b[39m L1(i))\n\u001b[0;32m      6\u001b[0m \u001b[38;5;28mprint\u001b[39m(L3)\n",
      "\u001b[1;31mTypeError\u001b[0m: 'list' object is not callable"
     ]
    }
   ],
   "source": [
    "L1 = [10, 20, 30, 24, 18]\n",
    "L2 = [8, 14, 15, 20, 10]\n",
    "L3 = []\n",
    "for i in range(len(L1)):\n",
    "    L3.append(L2(i) - L1(i))\n",
    "print(L3)"
   ]
  },
  {
   "cell_type": "markdown",
   "id": "841921fe-0148-49bc-805d-6a4034bb8ea5",
   "metadata": {},
   "source": [
    "<h5>Iterations</h5>\n",
    "<b>Description</b><br>\n",
    "You are given a list of string elements and asked to return a list which contains each element of the string in title case or in other words first character of the string would be in upper case and remaining all characters in lower case<br>\n",
    "<br>\n",
    "<b>Sample Input:</b><br>\n",
    "['VARMA', 'raj', 'Gupta', 'SaNdeeP']<br>\n",
    "<br>\n",
    "<b>Sample Output:</b><br>\n",
    "['Varma', 'Raj', 'Gupta', 'Sandeep']<br>\n",
    "<br>\n",
    "<b>Execution time limit</b><br>\n",
    "10 seconds"
   ]
  },
  {
   "cell_type": "code",
   "execution_count": 62,
   "id": "3b05556b-7cc4-4222-bb0f-18948b47ca7a",
   "metadata": {},
   "outputs": [
    {
     "name": "stdout",
     "output_type": "stream",
     "text": [
      "['Varma', 'Raj', 'Gupta', 'Sandeep']\n"
     ]
    }
   ],
   "source": [
    "input_list = ['VARMA', 'raj', 'Gupta', 'SaNdeeP']\n",
    "updated_list = []\n",
    "for i in input_list:\n",
    "    updated_list.append(i.capitalize())\n",
    "print(updated_list)"
   ]
  },
  {
   "cell_type": "code",
   "execution_count": 63,
   "id": "fd327e9b-0468-44f0-91ac-8575c6fc6a92",
   "metadata": {},
   "outputs": [
    {
     "name": "stdout",
     "output_type": "stream",
     "text": [
      "['Aman', 'Pihu', 'Sneha']\n"
     ]
    }
   ],
   "source": [
    "input_list = ['AmAn', 'PiHu', 'SNEHA']\n",
    "updated_list = []\n",
    "for i in input_list:\n",
    "    updated_list.append(i.capitalize())\n",
    "print(updated_list)"
   ]
  },
  {
   "cell_type": "code",
   "execution_count": 64,
   "id": "4eff7535-4100-4fa3-a14c-f88ff37c601f",
   "metadata": {},
   "outputs": [
    {
     "name": "stdout",
     "output_type": "stream",
     "text": [
      "['Tom', 'Pulak', 'Sneha', 'Lucky']\n"
     ]
    }
   ],
   "source": [
    "input_list = ['tom', 'PULAK', 'SNEHA', 'lUcky']\n",
    "updated_list = []\n",
    "for i in input_list:\n",
    "    updated_list.append(i.capitalize())\n",
    "print(updated_list)"
   ]
  },
  {
   "cell_type": "markdown",
   "id": "f8f1438a-4242-49cf-be0a-5d7b55ccdec5",
   "metadata": {},
   "source": [
    "- Question"
   ]
  },
  {
   "cell_type": "code",
   "execution_count": 65,
   "id": "0d9868c5-4a18-4fc9-a2a9-5080b7773bd4",
   "metadata": {},
   "outputs": [],
   "source": [
    "#What's with all the Negativity?\n",
    "#Which of the following would create a list of negative even numbers from -100 to 0 (-100 included and 0 not included)?\n",
    "#[More than one option may be correct.]"
   ]
  },
  {
   "cell_type": "code",
   "execution_count": 66,
   "id": "baac90b8-d7d3-49c8-b41c-2be24d69bc92",
   "metadata": {},
   "outputs": [
    {
     "name": "stdout",
     "output_type": "stream",
     "text": [
      "[]\n"
     ]
    }
   ],
   "source": [
    "print(list(range(0, -101, 2)))"
   ]
  },
  {
   "cell_type": "code",
   "execution_count": 67,
   "id": "92922c38-4fb9-4beb-9357-68bfbe2e010e",
   "metadata": {},
   "outputs": [
    {
     "name": "stdout",
     "output_type": "stream",
     "text": [
      "[-100, -98, -96, -94, -92, -90, -88, -86, -84, -82, -80, -78, -76, -74, -72, -70, -68, -66, -64, -62, -60, -58, -56, -54, -52, -50, -48, -46, -44, -42, -40, -38, -36, -34, -32, -30, -28, -26, -24, -22, -20, -18, -16, -14, -12, -10, -8, -6, -4, -2]\n"
     ]
    }
   ],
   "source": [
    "print(list(range(-100, -1, 2)))"
   ]
  },
  {
   "cell_type": "code",
   "execution_count": 68,
   "id": "b1f9dfdd-24ab-468f-b515-c2f2b3151a21",
   "metadata": {},
   "outputs": [
    {
     "name": "stdout",
     "output_type": "stream",
     "text": [
      "[-100, -98, -96, -94, -92, -90, -88, -86, -84, -82, -80, -78, -76, -74, -72, -70, -68, -66, -64, -62, -60, -58, -56, -54, -52, -50, -48, -46, -44, -42, -40, -38, -36, -34, -32, -30, -28, -26, -24, -22, -20, -18, -16, -14, -12, -10, -8, -6, -4, -2]\n"
     ]
    }
   ],
   "source": [
    "print(sorted(set(range(-2, -101, -2))))"
   ]
  },
  {
   "cell_type": "code",
   "execution_count": 69,
   "id": "19d44253-6d54-4fb4-80c9-171dededed20",
   "metadata": {},
   "outputs": [
    {
     "name": "stdout",
     "output_type": "stream",
     "text": [
      "[-100, -98, -96, -94, -92, -90, -88, -86, -84, -82, -80, -78, -76, -74, -72, -70, -68, -66, -64, -62, -60, -58, -56, -54, -52, -50, -48, -46, -44, -42, -40, -38, -36, -34, -32, -30, -28, -26, -24, -22, -20, -18, -16, -14, -12, -10, -8, -6, -4, -2]\n"
     ]
    }
   ],
   "source": [
    "l = []\n",
    "for i in range(-100, 0):\n",
    "    if(i % 2 == 0):\n",
    "        l.append(i)\n",
    "print(l)"
   ]
  },
  {
   "cell_type": "code",
   "execution_count": 70,
   "id": "113527e2-2bc0-415c-8d1c-04c38305c57b",
   "metadata": {},
   "outputs": [],
   "source": [
    "#Of Fish, Birds, and Mammals\n",
    "#Using the following document, answer the following questions.\n",
    "#What will the output of the following code be?"
   ]
  },
  {
   "cell_type": "code",
   "execution_count": 71,
   "id": "daeab5b6-de61-4b6f-a84c-eeec3b0c3cf0",
   "metadata": {},
   "outputs": [
    {
     "name": "stdout",
     "output_type": "stream",
     "text": [
      "0\n",
      "1\n",
      "2\n"
     ]
    }
   ],
   "source": [
    "d = {0: 'Fish', 1: 'Bird', 2: 'Mammal'}\n",
    "for i in d:\n",
    "    print(i)"
   ]
  },
  {
   "cell_type": "markdown",
   "id": "ab6e7d91-c9d4-4866-b2ec-f3357bcc487d",
   "metadata": {},
   "source": [
    "<h2 style = \"color:Brown\">Comprehensions</h2>"
   ]
  },
  {
   "cell_type": "code",
   "execution_count": 72,
   "id": "f98e1232-5242-4d47-9f8a-2a75b6fba75a",
   "metadata": {},
   "outputs": [
    {
     "name": "stdout",
     "output_type": "stream",
     "text": [
      "[11, 5, 4, 6, 14]\n"
     ]
    }
   ],
   "source": [
    "l1 = [\"automobiles\", \"Honda\", \"Benz\", \"Suzuki\", \"Morris Garages\" ]\n",
    "l2 = []\n",
    "for i in l1 :\n",
    "    l2.append(len(i))\n",
    "print(l2)"
   ]
  },
  {
   "cell_type": "markdown",
   "id": "f1d0193d-fa33-4dde-9eb5-37885b37ee50",
   "metadata": {},
   "source": [
    "####The Functional Approach"
   ]
  },
  {
   "cell_type": "code",
   "execution_count": 73,
   "id": "0b925e22-aeb3-46ee-bef2-7f050ceb48d8",
   "metadata": {},
   "outputs": [
    {
     "name": "stdout",
     "output_type": "stream",
     "text": [
      "['automobiles', 'Honda', 'Benz', 'Suzuki', 'Morris Garages']\n"
     ]
    }
   ],
   "source": [
    "l1 = [\"automobiles\", \"Honda\", \"Benz\", \"Suzuki\", \"Morris Garages\" ]\n",
    "print(l1)"
   ]
  },
  {
   "cell_type": "code",
   "execution_count": 74,
   "id": "7443b16f-ac7f-458d-a72d-a98919fbde5f",
   "metadata": {},
   "outputs": [
    {
     "name": "stdout",
     "output_type": "stream",
     "text": [
      "[11, 5, 4, 6, 14]\n"
     ]
    }
   ],
   "source": [
    "l2 = []\n",
    "for word in l1:\n",
    "    l2.append(len(word))\n",
    "print(l2)"
   ]
  },
  {
   "cell_type": "markdown",
   "id": "f90142e5-4fb2-4dd5-b214-71040d6be056",
   "metadata": {},
   "source": [
    "#### The Functional Approach"
   ]
  },
  {
   "cell_type": "markdown",
   "id": "996c63a6-e293-4ff3-90e5-978be92220b7",
   "metadata": {},
   "source": [
    "l2 = [len(i) for i in l1]\n",
    "print(l2)"
   ]
  },
  {
   "cell_type": "code",
   "execution_count": 75,
   "id": "d6849bc5-bd55-47da-91b3-36fcce64c1c9",
   "metadata": {},
   "outputs": [
    {
     "name": "stdout",
     "output_type": "stream",
     "text": [
      "[11, 5, 4, 6, 14]\n"
     ]
    }
   ],
   "source": [
    "#Example on list comprehension\n",
    "l1 = [\"automobiles\", \"Honda\", \"Benz\", \"Suzuki\", \"Morris Garages\" ]\n",
    "#Create a list consisting of length of each element from the above list\n",
    "l2 = [len(i) for i in l1]\n",
    "print(l2)"
   ]
  },
  {
   "cell_type": "code",
   "execution_count": 76,
   "id": "05b41de9-5f59-4f0f-90b0-b72a32eeb73f",
   "metadata": {},
   "outputs": [
    {
     "name": "stdout",
     "output_type": "stream",
     "text": [
      "[2, 6, 15, 4, 8]\n"
     ]
    }
   ],
   "source": [
    "L1 = [10, 20, 30, 24, 18]\n",
    "L2 = [8, 14, 15, 20, 10]\n",
    "L3 = []\n",
    "for  i in range(len(L1)):\n",
    "    L3.append(L1[i] - L2[i])\n",
    "print(L3)"
   ]
  },
  {
   "cell_type": "code",
   "execution_count": 77,
   "id": "1b6b76ed-3304-401d-a7cd-3038e1813326",
   "metadata": {},
   "outputs": [
    {
     "name": "stdout",
     "output_type": "stream",
     "text": [
      "[2, 6, 15, 4, 8]\n"
     ]
    }
   ],
   "source": [
    "#Using list comprehension\n",
    "L1 = [10, 20, 30, 24, 18]\n",
    "L2 = [8, 14, 15, 20, 10]\n",
    "L3 = [L1[i] - L2[i] for i  in range(0, len(L1))]\n",
    "print(L3)"
   ]
  },
  {
   "cell_type": "code",
   "execution_count": 78,
   "id": "abef3617-8598-42dc-8573-96e0a7b0d87f",
   "metadata": {},
   "outputs": [
    {
     "name": "stdout",
     "output_type": "stream",
     "text": [
      "automobiles  -  11\n",
      "Honda  -  5\n",
      "Benz  -  4\n",
      "Suzuki  -  6\n",
      "Morris Garages  -  14\n"
     ]
    }
   ],
   "source": [
    "#Iterating over l1 and l2 simultaneously\n",
    "for i,j in zip(l1, l2):\n",
    "    print(i, \" - \", j)"
   ]
  },
  {
   "cell_type": "markdown",
   "id": "7cb57349-b72b-4de3-af4c-f1c6724e65c4",
   "metadata": {},
   "source": [
    "#### Dictionary comprehension"
   ]
  },
  {
   "cell_type": "code",
   "execution_count": 79,
   "id": "a3ecfd04-8e0b-4b3b-b0ed-2afe54f1d9bf",
   "metadata": {},
   "outputs": [
    {
     "name": "stdout",
     "output_type": "stream",
     "text": [
      "{'automobiles': 11, 'Honda': 5, 'Benz': 4, 'Suzuki': 6, 'Morris Garages': 14}\n"
     ]
    }
   ],
   "source": [
    "#Example on dictionary comprehension\n",
    "l1 = [\"automobiles\", \"Honda\", \"Benz\", \"Suzuki\", \"Morris Garages\" ]\n",
    "#Create a dictionary consisting of element and length of each element from the above list\n",
    "d = {i : len(i) for i in l1}\n",
    "print(d)"
   ]
  },
  {
   "cell_type": "code",
   "execution_count": 80,
   "id": "883371ea-d4b9-4c99-99fc-76d98cce9b11",
   "metadata": {},
   "outputs": [
    {
     "name": "stdout",
     "output_type": "stream",
     "text": [
      "{2: 4, 4: 16, 6: 36, 8: 64, 10: 100, 12: 144, 14: 196, 16: 256, 18: 324, 20: 400}\n"
     ]
    }
   ],
   "source": [
    "#Creating a dictionary consisting of even natural numbers as key and square of each element as value \n",
    "ordinary_dict = {}\n",
    "for i in range(2, 21):\n",
    "    if i % 2 == 0:\n",
    "        ordinary_dict[i] = i ** 2\n",
    "print(ordinary_dict)"
   ]
  },
  {
   "cell_type": "code",
   "execution_count": 81,
   "id": "7264906a-fa94-4ca5-8677-e7af574c45ef",
   "metadata": {},
   "outputs": [
    {
     "name": "stdout",
     "output_type": "stream",
     "text": [
      "{2: 4, 4: 16, 6: 36, 8: 64, 10: 100, 12: 144, 14: 196, 16: 256, 18: 324, 20: 400}\n"
     ]
    }
   ],
   "source": [
    "#Using dictionary comprehension\n",
    "updated_dict = {i : i ** 2 for i in range(2, 21) if i % 2 == 0}\n",
    "print(updated_dict)"
   ]
  },
  {
   "cell_type": "markdown",
   "id": "5e380a7a-310d-40f3-ae39-ea0f5e97849f",
   "metadata": {},
   "source": [
    "#### Set Comprehensions\n",
    "\n",
    "#### Ex . Write a program which takes a word as input from user and returns vowels from the word"
   ]
  },
  {
   "cell_type": "code",
   "execution_count": 82,
   "id": "dac55125-daa7-4c97-9b78-c6f95707c457",
   "metadata": {},
   "outputs": [],
   "source": [
    "word = 'Victory'"
   ]
  },
  {
   "cell_type": "code",
   "execution_count": 83,
   "id": "c67ed23a-03d8-4b9e-b8d7-5e6414a4c2a1",
   "metadata": {},
   "outputs": [
    {
     "name": "stdout",
     "output_type": "stream",
     "text": [
      "{'i', 'o'}\n"
     ]
    }
   ],
   "source": [
    "vowels = {i for i in word if i in \"aeiou\"}\n",
    "print(vowels)"
   ]
  },
  {
   "cell_type": "code",
   "execution_count": 84,
   "id": "ea0d5769-4b1b-4064-b4ba-de59c48802ba",
   "metadata": {},
   "outputs": [
    {
     "name": "stdout",
     "output_type": "stream",
     "text": [
      "{'i', 'o'}\n"
     ]
    }
   ],
   "source": [
    "vowels = {char for char in word if char in \"aeiou\"}\n",
    "print(vowels)"
   ]
  },
  {
   "cell_type": "code",
   "execution_count": 85,
   "id": "e45f3d01-a724-4406-8b36-29ad57713bb3",
   "metadata": {},
   "outputs": [
    {
     "name": "stdout",
     "output_type": "stream",
     "text": [
      "[6, 12, 18, 24, 30, 36, 42, 48, 54, 60]\n"
     ]
    }
   ],
   "source": [
    "#Normal For loop\n",
    "list1 = []\n",
    "for n in range(1, 11):\n",
    "    list1.append(n * 6)\n",
    "print(list1)"
   ]
  },
  {
   "cell_type": "code",
   "execution_count": 86,
   "id": "9bb1c30f-92ab-4785-96aa-a9ca4f99b4b1",
   "metadata": {},
   "outputs": [
    {
     "name": "stdout",
     "output_type": "stream",
     "text": [
      "[6, 12, 18, 24, 30, 36, 42, 48, 54, 60]\n"
     ]
    }
   ],
   "source": [
    "#List comprehension\n",
    "#[<the_expression> for <the_element> in <the_iterable>]\n",
    "list1 = [n * 6 for n in range(1,11)]\n",
    "print(list1)"
   ]
  },
  {
   "cell_type": "code",
   "execution_count": 87,
   "id": "e8d8e4cf-7577-4b3e-81c1-80837a249975",
   "metadata": {},
   "outputs": [
    {
     "name": "stdout",
     "output_type": "stream",
     "text": [
      "[12, 24, 36, 48, 60]\n"
     ]
    }
   ],
   "source": [
    "#Applying list comprehension with a condition\n",
    "list1 = []\n",
    "for n in range(1, 11):\n",
    "    if n % 2 == 0:\n",
    "        list1.append(n * 6)\n",
    "print(list1)"
   ]
  },
  {
   "cell_type": "code",
   "execution_count": 88,
   "id": "a34d2ffc-a6ec-4053-8857-2aab82044e37",
   "metadata": {},
   "outputs": [
    {
     "name": "stdout",
     "output_type": "stream",
     "text": [
      "[12, 24, 36, 48, 60]\n"
     ]
    }
   ],
   "source": [
    "#Using list comprehensions\n",
    "#[<the_expression> for <the_element> in <the_iterable> if <the_condition>]\n",
    "list1 = [n * 6 for n in range(1, 11) if n % 2 == 0]\n",
    "print(list1)"
   ]
  },
  {
   "cell_type": "code",
   "execution_count": 89,
   "id": "4d08d0e9-1add-402c-8c51-5b598b459971",
   "metadata": {},
   "outputs": [
    {
     "name": "stdout",
     "output_type": "stream",
     "text": [
      "[5, 12, 15, 24, 25, 36, 35, 48, 45, 60]\n"
     ]
    }
   ],
   "source": [
    "#Applying list comprehension with if-else condition\n",
    "list1 = []\n",
    "for n in range(1, 11):\n",
    "    if n % 2 == 0:\n",
    "        list1.append(n * 6)\n",
    "    else:\n",
    "        list1.append(n * 5)\n",
    "print(list1)"
   ]
  },
  {
   "cell_type": "code",
   "execution_count": 90,
   "id": "978365da-393e-486b-86ed-2cbd0d42e39b",
   "metadata": {},
   "outputs": [
    {
     "name": "stdout",
     "output_type": "stream",
     "text": [
      "[5, 12, 15, 24, 25, 36, 35, 48, 45, 60]\n"
     ]
    }
   ],
   "source": [
    "#Using list comprehensions\n",
    "#<the_expression> if <the_condition> else <other_expression> for <the_element> in <the_iterable>]\n",
    "list1 = [n * 6 if n % 2 == 0 else n * 5 for n in range(1, 11)]\n",
    "print(list1)"
   ]
  },
  {
   "cell_type": "code",
   "execution_count": 91,
   "id": "2a1e45e4-cbf1-45b3-872e-3dcb92a0e34a",
   "metadata": {},
   "outputs": [
    {
     "name": "stdout",
     "output_type": "stream",
     "text": [
      "[1, 2, 3, 4, 5, 6, 7, 8, 9, 10, 2, 4, 6, 8, 10, 12, 14, 16, 18, 20, 3, 6, 9, 12, 15, 18, 21, 24, 27, 30]\n"
     ]
    }
   ],
   "source": [
    "#Applying list comprehension with Nested loops\n",
    "list1 =[]\n",
    "for i in range(1, 4):\n",
    "    for j in range(1, 11):\n",
    "        list1.append(i * j)\n",
    "print(list1)"
   ]
  },
  {
   "cell_type": "code",
   "execution_count": 92,
   "id": "8b082f94-5d1b-440c-ac82-992f26aa0c3e",
   "metadata": {},
   "outputs": [
    {
     "name": "stdout",
     "output_type": "stream",
     "text": [
      "[1, 2, 3, 4, 5, 6, 7, 8, 9, 10, 2, 4, 6, 8, 10, 12, 14, 16, 18, 20, 3, 6, 9, 12, 15, 18, 21, 24, 27, 30]\n"
     ]
    }
   ],
   "source": [
    "#Using list comprehensions\n",
    "#[ <the_expression> for <element_a> in <iterable_a> (optional if <condition_a>)\n",
    "#for <element_b> in <iterable_b> (optional if <condition_b>)\n",
    "#for <element_c> in <iterable_c> (optional if <condition_c>)\n",
    "#... and so on ...]\n",
    "list1 = [i * j for i in range(1, 4) for j in range(1, 11)]\n",
    "print(list1)"
   ]
  },
  {
   "cell_type": "markdown",
   "id": "42814418-16d7-489f-9dcd-e6539bd1e0f5",
   "metadata": {},
   "source": [
    "<h5>List Comprehension</h5>\n",
    "<b>Description</b><br>\n",
    "You are given an integer 'n' as the input. Create a list comprehension containing the squares of the integers from 1 till n^2 (including 1 and n), and print the list.<br>\n",
    "<br>\n",
    "<b>Sample Input:</b><br>\n",
    "4<br>\n",
    "<br>\n",
    "<b>Sample Output:</b><br>\n",
    "[1, 4, 9, 16]<br>\n",
    "<br>\n",
    "<b>Execution time limit</b><br>\n",
    "15 seconds"
   ]
  },
  {
   "cell_type": "code",
   "execution_count": 93,
   "id": "eff090ae-072a-4ff6-87de-f814311ccfed",
   "metadata": {},
   "outputs": [
    {
     "name": "stdout",
     "output_type": "stream",
     "text": [
      "[1, 4, 9, 16]\n"
     ]
    }
   ],
   "source": [
    "n = 4\n",
    "final_list = [n ** 2 for n in range(1, n+1)]\n",
    "print(final_list)"
   ]
  },
  {
   "cell_type": "markdown",
   "id": "487ff654-d202-4ef1-b85a-c990de82c07a",
   "metadata": {},
   "source": [
    "<h5>List Comprehensions</h5>\n",
    "<b>Description</b><br>\n",
    "Extract the words that start with a vowel from a list input_list=[wood, old, apple, big, item, euphoria] using list comprehensions.<br>\n",
    "<br>\n",
    "<b>Sample Input:</b><br>\n",
    "['wood', 'old', 'apple', 'big', 'item', 'euphoria']<br>\n",
    "<br>\n",
    "<b>Sample Output:</b><br>\n",
    "['old', 'apple', 'item', 'euphoria']<br>\n",
    "<br>\n",
    "<b>Execution time limit</b><br>\n",
    "15 seconds"
   ]
  },
  {
   "cell_type": "code",
   "execution_count": 94,
   "id": "f487abe8-d00c-4cba-a043-4506d257e029",
   "metadata": {},
   "outputs": [
    {
     "name": "stdout",
     "output_type": "stream",
     "text": [
      "['old', 'apple', 'item', 'euphoria']\n"
     ]
    }
   ],
   "source": [
    "input_list = ['wood', 'old', 'apple', 'big', 'item', 'euphoria']\n",
    "final = [word for word in input_list if word[0].lower() in 'aeiou']\n",
    "print(final)"
   ]
  },
  {
   "cell_type": "markdown",
   "id": "71a673aa-6fff-43de-96ab-f92988c18139",
   "metadata": {},
   "source": [
    "- Question"
   ]
  },
  {
   "cell_type": "code",
   "execution_count": 95,
   "id": "0b65e793-cf7c-4c56-80e8-47890093b260",
   "metadata": {},
   "outputs": [
    {
     "ename": "NameError",
     "evalue": "name 'output_list' is not defined",
     "output_type": "error",
     "traceback": [
      "\u001b[1;31m---------------------------------------------------------------------------\u001b[0m",
      "\u001b[1;31mNameError\u001b[0m                                 Traceback (most recent call last)",
      "Cell \u001b[1;32mIn[95], line 8\u001b[0m\n\u001b[0;32m      6\u001b[0m     \u001b[38;5;28;01mif\u001b[39;00m val \u001b[38;5;241m%\u001b[39m \u001b[38;5;241m3\u001b[39m \u001b[38;5;241m==\u001b[39m \u001b[38;5;241m0\u001b[39m:\n\u001b[0;32m      7\u001b[0m         output_dict[val] \u001b[38;5;241m=\u001b[39m val \u001b[38;5;241m*\u001b[39m\u001b[38;5;241m*\u001b[39m \u001b[38;5;241m3\u001b[39m\n\u001b[1;32m----> 8\u001b[0m \u001b[38;5;28mprint\u001b[39m(\u001b[43moutput_list\u001b[49m)\n\u001b[0;32m      9\u001b[0m \u001b[38;5;66;03m#Now, what would be corresponding dictionary comprehension for the code involved in dictionary creation? \u001b[39;00m\n",
      "\u001b[1;31mNameError\u001b[0m: name 'output_list' is not defined"
     ]
    }
   ],
   "source": [
    "#Dictionary Comprehension\n",
    "#Following is the code to create a dictionary where the keys are multiples of 3 among the first 100 natural numbers and each value is the cube of the key.\n",
    "input_list = list(range(1, 100))\n",
    "output_dict = {}\n",
    "for val in input_list:\n",
    "    if val % 3 == 0:\n",
    "        output_dict[val] = val ** 3\n",
    "print(output_list)\n",
    "#Now, what would be corresponding dictionary comprehension for the code involved in dictionary creation? "
   ]
  },
  {
   "cell_type": "code",
   "execution_count": 96,
   "id": "8df7e5b2-74b8-4ede-a7cc-91238388032d",
   "metadata": {},
   "outputs": [
    {
     "ename": "SyntaxError",
     "evalue": "invalid syntax (970454001.py, line 1)",
     "output_type": "error",
     "traceback": [
      "\u001b[1;36m  Cell \u001b[1;32mIn[96], line 1\u001b[1;36m\u001b[0m\n\u001b[1;33m    output_dict = [val : val ** 3 for val in input_list if val % 3 = 0]\u001b[0m\n\u001b[1;37m                       ^\u001b[0m\n\u001b[1;31mSyntaxError\u001b[0m\u001b[1;31m:\u001b[0m invalid syntax\n"
     ]
    }
   ],
   "source": [
    "output_dict = [val : val ** 3 for val in input_list if val % 3 = 0]\n",
    "print(output_list)"
   ]
  },
  {
   "cell_type": "code",
   "execution_count": 97,
   "id": "7e9ce9e6-cdcc-46e5-9572-975dcdf3612d",
   "metadata": {},
   "outputs": [
    {
     "ename": "SyntaxError",
     "evalue": "invalid syntax (3534781971.py, line 1)",
     "output_type": "error",
     "traceback": [
      "\u001b[1;36m  Cell \u001b[1;32mIn[97], line 1\u001b[1;36m\u001b[0m\n\u001b[1;33m    output_dict = {for val in input_list if val % 3 == 0 val : val ** 3}\u001b[0m\n\u001b[1;37m                   ^\u001b[0m\n\u001b[1;31mSyntaxError\u001b[0m\u001b[1;31m:\u001b[0m invalid syntax\n"
     ]
    }
   ],
   "source": [
    "output_dict = {for val in input_list if val % 3 == 0 val : val ** 3}\n",
    "print(output_list)"
   ]
  },
  {
   "cell_type": "code",
   "execution_count": 98,
   "id": "876d30ff-06bd-4b5f-ad03-35ca33740b8a",
   "metadata": {},
   "outputs": [
    {
     "ename": "SyntaxError",
     "evalue": "invalid syntax (475744090.py, line 1)",
     "output_type": "error",
     "traceback": [
      "\u001b[1;36m  Cell \u001b[1;32mIn[98], line 1\u001b[1;36m\u001b[0m\n\u001b[1;33m    output_dict = {if val % 3 == 0 val : val ** 3 for val in input_list}\u001b[0m\n\u001b[1;37m                   ^\u001b[0m\n\u001b[1;31mSyntaxError\u001b[0m\u001b[1;31m:\u001b[0m invalid syntax\n"
     ]
    }
   ],
   "source": [
    "output_dict = {if val % 3 == 0 val : val ** 3 for val in input_list}\n",
    "print(output_list)"
   ]
  },
  {
   "cell_type": "code",
   "execution_count": 99,
   "id": "508d0428-b453-4684-ba10-e8fa4d13d651",
   "metadata": {},
   "outputs": [
    {
     "ename": "NameError",
     "evalue": "name 'output_list' is not defined",
     "output_type": "error",
     "traceback": [
      "\u001b[1;31m---------------------------------------------------------------------------\u001b[0m",
      "\u001b[1;31mNameError\u001b[0m                                 Traceback (most recent call last)",
      "Cell \u001b[1;32mIn[99], line 2\u001b[0m\n\u001b[0;32m      1\u001b[0m output_dict \u001b[38;5;241m=\u001b[39m {val : val \u001b[38;5;241m*\u001b[39m\u001b[38;5;241m*\u001b[39m \u001b[38;5;241m3\u001b[39m \u001b[38;5;28;01mfor\u001b[39;00m val \u001b[38;5;129;01min\u001b[39;00m input_list \u001b[38;5;28;01mif\u001b[39;00m val \u001b[38;5;241m%\u001b[39m \u001b[38;5;241m3\u001b[39m \u001b[38;5;241m==\u001b[39m \u001b[38;5;241m0\u001b[39m}\n\u001b[1;32m----> 2\u001b[0m \u001b[38;5;28mprint\u001b[39m(\u001b[43moutput_list\u001b[49m)\n",
      "\u001b[1;31mNameError\u001b[0m: name 'output_list' is not defined"
     ]
    }
   ],
   "source": [
    "output_dict = {val : val ** 3 for val in input_list if val % 3 == 0}\n",
    "print(output_list)"
   ]
  },
  {
   "cell_type": "code",
   "execution_count": 100,
   "id": "4cb92d85-93a4-4859-9766-bc3d6d4cc43a",
   "metadata": {},
   "outputs": [
    {
     "name": "stdout",
     "output_type": "stream",
     "text": [
      "['ad', 'ae', 'af', 'bd', 'be', 'bf', 'cd', 'ce', 'cf']\n"
     ]
    }
   ],
   "source": [
    "#List Comprehension\n",
    "#What will the output of the following code be?\n",
    "print([i + j for i in \"abc\" for j in \"def\"])"
   ]
  },
  {
   "cell_type": "code",
   "execution_count": 101,
   "id": "f30a447e-03c8-4446-ac38-4f0cf9e76de4",
   "metadata": {},
   "outputs": [
    {
     "name": "stdout",
     "output_type": "stream",
     "text": [
      "{'A': 'aaa', 'C': 'ccc', 'B': 'bbb', 'D': 'ddd'}\n"
     ]
    }
   ],
   "source": [
    "#Dictionary Comprehension\n",
    "#What will the output of the following code be?\n",
    "d = {x.upper() : x * 3 for x in 'acbd'}\n",
    "print(d)"
   ]
  },
  {
   "cell_type": "markdown",
   "id": "14986c2c-a16c-4204-92ee-85702ee4b0e8",
   "metadata": {},
   "source": [
    "<h2 style = \"color:Brown\">Functions</h2>\n",
    "\n",
    "#### Ex. Write a function which takes a value as a parameter and returns its factorial"
   ]
  },
  {
   "cell_type": "code",
   "execution_count": 102,
   "id": "fba4fa14-a3a4-4277-a9f9-530032ac2fe5",
   "metadata": {},
   "outputs": [
    {
     "data": {
      "text/plain": [
       "120"
      ]
     },
     "execution_count": 102,
     "metadata": {},
     "output_type": "execute_result"
    }
   ],
   "source": [
    "#5! = 5 * 4 * 3 * 2 * 1 = 120\n",
    "#n! = n * (n-1) * (n-2) * ... * 3 * 2 * 1\n",
    "def factorial(n):\n",
    "    fact = 1\n",
    "    for i in range (1, n + 1):\n",
    "        #fact = fact * i\n",
    "        fact *= i\n",
    "    return fact\n",
    "factorial(5)"
   ]
  },
  {
   "cell_type": "markdown",
   "id": "cfd0f0c8-5139-4e04-9939-b5fe094ba936",
   "metadata": {},
   "source": [
    "<h5>Function</h5>\n",
    "<b>Description</b><br>\n",
    "Create a function squared(), which takes x and y as arguments and returns the x ** y value. For e.g., if x = 2 and y = 3 , then the output is 8.<br>\n",
    "<br>\n",
    "<b>Sample Input:</b><br>\n",
    "['6', '7']<br>\n",
    "<br>\n",
    "<b>Sample Output:</b><br>\n",
    "279936<br>\n",
    "<br>\n",
    "<b>Execution time limit</b><br>\n",
    "15 seconds"
   ]
  },
  {
   "cell_type": "code",
   "execution_count": 103,
   "id": "d46c70ba-0c98-4853-84b7-c3638a2f3e97",
   "metadata": {},
   "outputs": [
    {
     "name": "stdout",
     "output_type": "stream",
     "text": [
      "27\n"
     ]
    }
   ],
   "source": [
    "input_list = ['3', '3']\n",
    "x = int(input_list[0])\n",
    "y = int(input_list[1])\n",
    "def squared(x,y):\n",
    "   return x**y\n",
    "print(squared(x,y))"
   ]
  },
  {
   "cell_type": "code",
   "execution_count": 104,
   "id": "65c19a4e-9941-42c2-9dd3-ec58b0a760cf",
   "metadata": {},
   "outputs": [
    {
     "name": "stdout",
     "output_type": "stream",
     "text": [
      "64\n"
     ]
    }
   ],
   "source": [
    "input_list = ['4', '3']\n",
    "x = int(input_list[0])\n",
    "y = int(input_list[1])\n",
    "def squared(x,y):\n",
    "   return x**y\n",
    "print(squared(x,y))"
   ]
  },
  {
   "cell_type": "code",
   "execution_count": 105,
   "id": "7790c785-ea98-4e36-9741-aa645e185bbd",
   "metadata": {},
   "outputs": [
    {
     "name": "stdout",
     "output_type": "stream",
     "text": [
      "25\n"
     ]
    }
   ],
   "source": [
    "input_list = ['5', '2']\n",
    "x = int(input_list[0])\n",
    "y = int(input_list[1])\n",
    "def squared(x,y):\n",
    "   return x**y\n",
    "print(squared(x,y))"
   ]
  },
  {
   "cell_type": "code",
   "execution_count": 106,
   "id": "a55fa363-3c36-4369-9f12-9b178e076dcf",
   "metadata": {},
   "outputs": [
    {
     "name": "stdout",
     "output_type": "stream",
     "text": [
      "279936\n"
     ]
    }
   ],
   "source": [
    "input_list = ['6', '7']\n",
    "x = int(input_list[0])\n",
    "y = int(input_list[1])\n",
    "def squared(x,y):\n",
    "   return x**y\n",
    "print(squared(x,y))"
   ]
  },
  {
   "cell_type": "markdown",
   "id": "7f6a247d-bb78-4c6b-aa06-281c35a186e6",
   "metadata": {},
   "source": [
    "#### Function Arguments"
   ]
  },
  {
   "cell_type": "code",
   "execution_count": 107,
   "id": "86b89ba5-724a-4977-9e80-e955d3517bfa",
   "metadata": {},
   "outputs": [],
   "source": [
    "def func(name, age = 35):  #Default parameter\n",
    "    print(\"name: \", name)\n",
    "    print(\"age: \", age)"
   ]
  },
  {
   "cell_type": "code",
   "execution_count": 108,
   "id": "cf67156f-8b95-4cf5-b15e-0e0d6e297bc2",
   "metadata": {},
   "outputs": [
    {
     "name": "stdout",
     "output_type": "stream",
     "text": [
      "name:  Thắng\n",
      "age:  29\n"
     ]
    }
   ],
   "source": [
    "func(\"Thắng\", 29)"
   ]
  },
  {
   "cell_type": "code",
   "execution_count": 109,
   "id": "6dbbf778-61b7-4c39-b97a-7a073f544fbf",
   "metadata": {},
   "outputs": [
    {
     "name": "stdout",
     "output_type": "stream",
     "text": [
      "name:  Thắng\n",
      "age:  35\n"
     ]
    }
   ],
   "source": [
    "func(\"Thắng\")"
   ]
  },
  {
   "cell_type": "code",
   "execution_count": 110,
   "id": "87dc4247-b42d-4e8c-8e47-caade6116ac3",
   "metadata": {},
   "outputs": [
    {
     "name": "stdout",
     "output_type": "stream",
     "text": [
      "name :  Thắng\n",
      "age :  35\n",
      "city :  Hồ Chí Minh\n"
     ]
    }
   ],
   "source": [
    "def func(name, age = 35, city = \"Hà Nội\"):\n",
    "    print(\"name : \", name)\n",
    "    print(\"age : \", age)\n",
    "    print(\"city : \", city)\n",
    "func(\"Thắng\", city = \"Hồ Chí Minh\") #Key-word argument"
   ]
  },
  {
   "cell_type": "code",
   "execution_count": 111,
   "id": "d1c85c0b-0c21-4ef8-bde1-4b8c0bbf5e9a",
   "metadata": {},
   "outputs": [
    {
     "name": "stdout",
     "output_type": "stream",
     "text": [
      "name :  Thắng\n",
      "age :  Hồ Chí Minh\n",
      "city :  Hà Nội\n"
     ]
    }
   ],
   "source": [
    "func(\"Thắng\", \"Hồ Chí Minh\")"
   ]
  },
  {
   "cell_type": "code",
   "execution_count": 112,
   "id": "97db0d13-0967-44a5-9fa9-fc8494d6ce32",
   "metadata": {},
   "outputs": [
    {
     "name": "stdout",
     "output_type": "stream",
     "text": [
      "name :  Thắng\n",
      "age :  29\n",
      "city :  Hồ Chí Minh\n"
     ]
    }
   ],
   "source": [
    "func(\"Thắng\", 29, \"Hồ Chí Minh\") #Key-word argument"
   ]
  },
  {
   "cell_type": "code",
   "execution_count": 113,
   "id": "2c709481-2f22-46ed-96b7-a83d50ba2e2f",
   "metadata": {},
   "outputs": [
    {
     "name": "stdout",
     "output_type": "stream",
     "text": [
      "(1, 3, 'abc')\n"
     ]
    }
   ],
   "source": [
    "def var_func(*args):\n",
    "    print(args)\n",
    "var_func(1, 3, \"abc\")"
   ]
  },
  {
   "cell_type": "code",
   "execution_count": 114,
   "id": "6410d55a-ce3d-4baf-b4ee-b35ccb5678dc",
   "metadata": {},
   "outputs": [
    {
     "name": "stdout",
     "output_type": "stream",
     "text": [
      "[2, 6, 15, 4, 8]\n"
     ]
    }
   ],
   "source": [
    "def list_diff(list1,list2):\n",
    "    list3 = []\n",
    "    for  i in range(0, len(list1)):\n",
    "        list3.append(list1[i] - list2[i])\n",
    "    return list3\n",
    "L1 = [10, 20, 30, 24, 18]\n",
    "L2 = [8, 14, 15, 20, 10]\n",
    "print(list_diff(L1, L2))"
   ]
  },
  {
   "cell_type": "markdown",
   "id": "2e016f5d-bff5-4921-acbf-7b2d65c8650d",
   "metadata": {},
   "source": [
    "- Question"
   ]
  },
  {
   "cell_type": "code",
   "execution_count": 115,
   "id": "676b0a34-b1a3-46bb-887a-a872239e0745",
   "metadata": {},
   "outputs": [
    {
     "ename": "SyntaxError",
     "evalue": "invalid syntax (1104459724.py, line 4)",
     "output_type": "error",
     "traceback": [
      "\u001b[1;36m  Cell \u001b[1;32mIn[115], line 4\u001b[1;36m\u001b[0m\n\u001b[1;33m    func(x, y):\u001b[0m\n\u001b[1;37m              ^\u001b[0m\n\u001b[1;31mSyntaxError\u001b[0m\u001b[1;31m:\u001b[0m invalid syntax\n"
     ]
    }
   ],
   "source": [
    "#To Err is Human\n",
    "#Identify the error/errors in the given code to apply the function \n",
    "#(x ∗ y + x + y) on x, y and finally return the value.\n",
    "func(x, y):\n",
    "    z = x * y + x + y\n",
    "func(2)\n",
    "#(More than one option may be correct.)\n",
    "\n",
    "#Keyword missing in the function definition -> Correct\n",
    "#Return the statement missing in the code -> Correct\n",
    "#Error in function call -> Correct\n",
    "#Error in the equation used in the code -> Incorrect"
   ]
  },
  {
   "cell_type": "code",
   "execution_count": 116,
   "id": "7e69f259-ad29-4e8c-951c-e9cd889b5a93",
   "metadata": {},
   "outputs": [
    {
     "data": {
      "text/plain": [
       "23"
      ]
     },
     "execution_count": 116,
     "metadata": {},
     "output_type": "execute_result"
    }
   ],
   "source": [
    "#Function Call for a Function Call\n",
    "#What would be the output of the following code?\n",
    "def func(x, y = 1):\n",
    "    z = x * y + x + y\n",
    "    return z\n",
    "func(2, func(3))"
   ]
  },
  {
   "cell_type": "code",
   "execution_count": 117,
   "id": "aa730426-d6d2-4d61-9fe5-0337884385f4",
   "metadata": {},
   "outputs": [
    {
     "ename": "TypeError",
     "evalue": "func() missing 1 required positional argument: 'y'",
     "output_type": "error",
     "traceback": [
      "\u001b[1;31m---------------------------------------------------------------------------\u001b[0m",
      "\u001b[1;31mTypeError\u001b[0m                                 Traceback (most recent call last)",
      "Cell \u001b[1;32mIn[117], line 6\u001b[0m\n\u001b[0;32m      4\u001b[0m     z \u001b[38;5;241m=\u001b[39m x \u001b[38;5;241m*\u001b[39m y \u001b[38;5;241m+\u001b[39m x \u001b[38;5;241m+\u001b[39m y\n\u001b[0;32m      5\u001b[0m     \u001b[38;5;28;01mreturn\u001b[39;00m z\n\u001b[1;32m----> 6\u001b[0m func(\u001b[38;5;241m2\u001b[39m, \u001b[43mfunc\u001b[49m\u001b[43m(\u001b[49m\u001b[38;5;241;43m3\u001b[39;49m\u001b[43m)\u001b[49m)\n",
      "\u001b[1;31mTypeError\u001b[0m: func() missing 1 required positional argument: 'y'"
     ]
    }
   ],
   "source": [
    "#Function Call for a Function Call - II\n",
    "#What would be the output of the following code?\n",
    "def func(x, y):\n",
    "    z = x * y + x + y\n",
    "    return z\n",
    "func(2, func(3))"
   ]
  },
  {
   "cell_type": "code",
   "execution_count": 118,
   "id": "5d5ee7b7-5b8f-4674-b775-dd5eb5570074",
   "metadata": {},
   "outputs": [
    {
     "data": {
      "text/plain": [
       "35"
      ]
     },
     "execution_count": 118,
     "metadata": {},
     "output_type": "execute_result"
    }
   ],
   "source": [
    "#Function Call for a Function Call Returns\n",
    "#What is the output of the following code?\n",
    "def func(x = 1 ,y = 2):\n",
    "    z = x * y + x + y\n",
    "    return z\n",
    "func(2, func(3))"
   ]
  },
  {
   "cell_type": "code",
   "execution_count": 119,
   "id": "d154fe9d-1b58-4b1a-aae6-9c6dea01e986",
   "metadata": {},
   "outputs": [
    {
     "name": "stdout",
     "output_type": "stream",
     "text": [
      "[-2, 33, 46, 78, 1]\n"
     ]
    }
   ],
   "source": [
    "#Function Parameters\n",
    "#Functions can be used inside a list comprehension too. An example to create a list, the elements of which would be the result of applying the function x² − 2x − 2 on each element in the list = [2, 7, 8, 10, 3] is shown below:\n",
    "L1 = [2, 7, 8, 10, 3]\n",
    "def func(y):\n",
    "    return y ** 2- 2 * y - 2\n",
    "ans_list = [func(x) for x in L1]\n",
    "print(ans_list)\n",
    "#The missing parts of the code include _____."
   ]
  },
  {
   "cell_type": "markdown",
   "id": "116f0750-00cc-40f5-94fb-5c4ec823cb2c",
   "metadata": {},
   "source": [
    "<h5>Lambda</h5>\n",
    "<b>Description</b><br>\n",
    "Create a lambda function 'greater', which takes two arguments x and y and return x if x>y otherwise y. If x = 2 and y= 3, then the output should be 3.<br>\n",
    "<br>\n",
    "<b>Sample Input:</b><br>\n",
    "['9', '3']<br>\n",
    "<br>\n",
    "<b>Sample Output:</b><br>\n",
    "9<br>\n",
    "<br>\n",
    "<b>Execution time limit</b><br>\n",
    "15 secondsds"
   ]
  },
  {
   "cell_type": "code",
   "execution_count": 120,
   "id": "fb54a966-886e-482c-868b-ee04c301549f",
   "metadata": {},
   "outputs": [
    {
     "name": "stdout",
     "output_type": "stream",
     "text": [
      "6\n"
     ]
    }
   ],
   "source": [
    "input_list = ['6', '5']\n",
    "a = int(input_list[0])\n",
    "b = int(input_list[1])\n",
    "\n",
    "greater = lambda a,b: a if a>b else b\n",
    "\n",
    "print(greater(a,b))"
   ]
  },
  {
   "cell_type": "code",
   "execution_count": 121,
   "id": "3529ae1a-a65a-4a69-baa1-9721ad5f79c3",
   "metadata": {},
   "outputs": [
    {
     "name": "stdout",
     "output_type": "stream",
     "text": [
      "3\n"
     ]
    }
   ],
   "source": [
    "input_list = ['2', '3']\n",
    "a = int(input_list[0])\n",
    "b = int(input_list[1])\n",
    "\n",
    "greater = lambda a,b: a if a>b else b\n",
    "\n",
    "print(greater(a,b))"
   ]
  },
  {
   "cell_type": "code",
   "execution_count": 122,
   "id": "a949d6ec-45ec-4f6b-a759-df7f41e4df02",
   "metadata": {},
   "outputs": [
    {
     "name": "stdout",
     "output_type": "stream",
     "text": [
      "9\n"
     ]
    }
   ],
   "source": [
    "input_list = ['9', '3']\n",
    "a = int(input_list[0])\n",
    "b = int(input_list[1])\n",
    "\n",
    "greater = lambda a,b: a if a>b else b\n",
    "\n",
    "print(greater(a,b))"
   ]
  },
  {
   "cell_type": "markdown",
   "id": "4e205052-d72d-4dd1-88a7-fb03f20c4496",
   "metadata": {},
   "source": [
    "- Question"
   ]
  },
  {
   "cell_type": "code",
   "execution_count": 123,
   "id": "3be6f643-7a2a-4a54-b17a-59f96af84523",
   "metadata": {},
   "outputs": [
    {
     "data": {
      "text/plain": [
       "9996"
      ]
     },
     "execution_count": 123,
     "metadata": {},
     "output_type": "execute_result"
    }
   ],
   "source": [
    "#Lambdas\n",
    "#What is the output of this program?\n",
    "\n",
    "min = (lambda x, y: x if x < y else y)\n",
    "min(101 * 99, 102 * 98)"
   ]
  },
  {
   "cell_type": "markdown",
   "id": "70be434d-cd1b-4023-baa1-87652e77cfb9",
   "metadata": {},
   "source": [
    "<h2 style = \"color:Brown\">Lambda Function</h2>"
   ]
  },
  {
   "cell_type": "code",
   "execution_count": 124,
   "id": "390e0717-0c99-4c35-9fe8-6bffcbca1264",
   "metadata": {},
   "outputs": [
    {
     "name": "stdout",
     "output_type": "stream",
     "text": [
      "even\n"
     ]
    }
   ],
   "source": [
    "#Write a lambda function to check a number is even or odd\n",
    "f = lambda x: \"even\" if x % 2 == 0 else \"odd\"\n",
    "print(f(10))"
   ]
  },
  {
   "cell_type": "markdown",
   "id": "30693fc2-5b8e-41a0-a246-065db726a1df",
   "metadata": {},
   "source": [
    "<h2 style = \"color:Brown\">map - filter - reduce</h2>"
   ]
  },
  {
   "cell_type": "code",
   "execution_count": 125,
   "id": "c406c152-745f-42f0-9585-68458cf6e60f",
   "metadata": {},
   "outputs": [
    {
     "name": "stdout",
     "output_type": "stream",
     "text": [
      "INDIA\n"
     ]
    }
   ],
   "source": [
    "countries = [\"India\", \"Japan\", \"Italy\", \"Vietnam\"]\n",
    "f = lambda x : x.upper()\n",
    "print(f(\"India\"))"
   ]
  },
  {
   "cell_type": "code",
   "execution_count": 126,
   "id": "af8b81a9-c67a-4b80-968b-244cc1cb3f74",
   "metadata": {},
   "outputs": [
    {
     "name": "stdout",
     "output_type": "stream",
     "text": [
      "['INDIA', 'JAPAN', 'ITALY', 'VIETNAM']\n"
     ]
    }
   ],
   "source": [
    "capital_countries = []\n",
    "for country in countries:\n",
    "    capital_countries.append(f(country))\n",
    "print(capital_countries)"
   ]
  },
  {
   "cell_type": "code",
   "execution_count": 127,
   "id": "652ee216-b2dc-4a5f-9c1f-0aff29239748",
   "metadata": {},
   "outputs": [
    {
     "name": "stdout",
     "output_type": "stream",
     "text": [
      "<map object at 0x00000191503AFF10>\n"
     ]
    }
   ],
   "source": [
    "print(map(lambda x : x.upper(), countries))"
   ]
  },
  {
   "cell_type": "code",
   "execution_count": 128,
   "id": "e6f8a63b-d2a5-4c0c-b797-197bba28eabe",
   "metadata": {},
   "outputs": [
    {
     "name": "stdout",
     "output_type": "stream",
     "text": [
      "['INDIA', 'JAPAN', 'ITALY', 'VIETNAM']\n"
     ]
    }
   ],
   "source": [
    "#map (function, collection_or_list)\n",
    "print(list(map(lambda x : x.upper(), countries)))"
   ]
  },
  {
   "cell_type": "markdown",
   "id": "72963900-d01b-412f-8904-db28d47d0777",
   "metadata": {},
   "source": [
    "#### Some more examples on map - filter - reduce"
   ]
  },
  {
   "cell_type": "code",
   "execution_count": 129,
   "id": "b760fef3-695f-4ece-8694-74a09a8ec5e5",
   "metadata": {},
   "outputs": [
    {
     "name": "stdout",
     "output_type": "stream",
     "text": [
      "[4, 16, 25]\n"
     ]
    }
   ],
   "source": [
    "L1 = [2, 4, 5]\n",
    "f_square = lambda x : x ** 2\n",
    "print(list(map(f_square, L1)))"
   ]
  },
  {
   "cell_type": "code",
   "execution_count": 130,
   "id": "180f1426-08d5-4357-87fe-4eaaecc98f9b",
   "metadata": {},
   "outputs": [
    {
     "name": "stdout",
     "output_type": "stream",
     "text": [
      "<map object at 0x00000191503AFB50>\n",
      "[4, 16, 25]\n"
     ]
    }
   ],
   "source": [
    "L1 = [2, 4, 5]\n",
    "print(map(lambda x : x ** 2, L1))\n",
    "print(list(map(lambda x : x ** 2, L1)))"
   ]
  },
  {
   "cell_type": "markdown",
   "id": "c4619200-41c3-4f5e-af82-03aaf01ba665",
   "metadata": {},
   "source": [
    "#### Defining a function and using it in map"
   ]
  },
  {
   "cell_type": "code",
   "execution_count": 131,
   "id": "beb33cca-8132-4000-817c-29fecf30503b",
   "metadata": {},
   "outputs": [
    {
     "name": "stdout",
     "output_type": "stream",
     "text": [
      "[4, 16, 25]\n"
     ]
    }
   ],
   "source": [
    "L1 = [2, 4, 5]\n",
    "def squareit(n):\n",
    "    return n ** 2\n",
    "print(list(map(squareit, L1)))"
   ]
  },
  {
   "cell_type": "code",
   "execution_count": 132,
   "id": "28e39be4-4868-4c5c-953f-8b9fefc12462",
   "metadata": {},
   "outputs": [
    {
     "name": "stdout",
     "output_type": "stream",
     "text": [
      "[2, 4, 6, 8]\n"
     ]
    }
   ],
   "source": [
    "list_numbers = (1,2,3,4)\n",
    "sample_map = map(lambda x : x * 2, list_numbers)\n",
    "print(list(sample_map))"
   ]
  },
  {
   "cell_type": "code",
   "execution_count": 133,
   "id": "f0a99929-3c05-4b85-b395-c5ef208197a3",
   "metadata": {},
   "outputs": [
    {
     "name": "stdout",
     "output_type": "stream",
     "text": [
      "[2, 4, 6, 8]\n"
     ]
    }
   ],
   "source": [
    "def multi(x):\n",
    "    return x * 2\n",
    "list_numbers = [1, 2, 3, 4]\n",
    "sample_map = map(multi, list_numbers)\n",
    "print(list(sample_map))"
   ]
  },
  {
   "cell_type": "markdown",
   "id": "2a561677-89ce-45dc-ba45-5377e2e7494f",
   "metadata": {},
   "source": [
    "#### Filter function to return the multiples of 3"
   ]
  },
  {
   "cell_type": "code",
   "execution_count": 134,
   "id": "a7f4ed41-60c8-4886-8ab9-ee5e19732faf",
   "metadata": {},
   "outputs": [],
   "source": [
    "my_list = [3, 4, 5, 6, 7, 8, 9]\n",
    "divby3 = lambda x : x % 3 == 0"
   ]
  },
  {
   "cell_type": "code",
   "execution_count": 135,
   "id": "1c18c824-1898-4260-856e-fdf502b8a9ad",
   "metadata": {},
   "outputs": [
    {
     "name": "stdout",
     "output_type": "stream",
     "text": [
      "True\n"
     ]
    }
   ],
   "source": [
    "print(divby3(6))"
   ]
  },
  {
   "cell_type": "code",
   "execution_count": 136,
   "id": "5498ba0c-e8a0-4b99-80a2-e41d93df93e6",
   "metadata": {},
   "outputs": [
    {
     "name": "stdout",
     "output_type": "stream",
     "text": [
      "[3, 6, 9]\n"
     ]
    }
   ],
   "source": [
    "div = filter(divby3, my_list)\n",
    "print(list(div))"
   ]
  },
  {
   "cell_type": "markdown",
   "id": "0a42a433-ba47-4869-880b-226a3f4e1bd4",
   "metadata": {},
   "source": [
    "#### Ex. Write a python program to count the students above age 18"
   ]
  },
  {
   "cell_type": "code",
   "execution_count": 137,
   "id": "20ff00c3-11ea-4354-8cb3-3a795fdc12ce",
   "metadata": {},
   "outputs": [
    {
     "name": "stdout",
     "output_type": "stream",
     "text": [
      "{1: ['Sam', 15], 2: ['Rob', 18], 3: ['Kyle', 16], 4: ['Cornor', 19], 5: ['Trump', 20]}\n"
     ]
    }
   ],
   "source": [
    "students_data = {1:['Sam', 15] , 2:['Rob', 18], 3:['Kyle', 16], 4:['Cornor', 19], 5:['Trump', 20]}\n",
    "print(students_data)"
   ]
  },
  {
   "cell_type": "code",
   "execution_count": 138,
   "id": "6a3917ce-a795-4499-8914-6b4e47b50333",
   "metadata": {},
   "outputs": [
    {
     "name": "stdout",
     "output_type": "stream",
     "text": [
      "2\n"
     ]
    }
   ],
   "source": [
    "print(len(list(filter(lambda x : x[1] > 18, students_data.values()))))"
   ]
  },
  {
   "cell_type": "markdown",
   "id": "33ab3f32-eda0-4147-9a80-693189f6295e",
   "metadata": {},
   "source": [
    "#### Reduce to return product of elements"
   ]
  },
  {
   "cell_type": "code",
   "execution_count": 139,
   "id": "ee9af7f0-d51b-4237-9fa7-bbe466740011",
   "metadata": {},
   "outputs": [
    {
     "name": "stdout",
     "output_type": "stream",
     "text": [
      "6\n"
     ]
    }
   ],
   "source": [
    "from functools import reduce\n",
    "q = reduce(lambda x, y : x * y, range(1, 4))\n",
    "print(q)"
   ]
  },
  {
   "cell_type": "code",
   "execution_count": 140,
   "id": "a478e8c1-f48d-49d9-8373-3573dc0d2813",
   "metadata": {},
   "outputs": [
    {
     "data": {
      "text/plain": [
       "'PaulTed'"
      ]
     },
     "execution_count": 140,
     "metadata": {},
     "output_type": "execute_result"
    }
   ],
   "source": [
    "from functools import reduce\n",
    "list_1 = ['Paul', 'Ted']\n",
    "reduce(lambda x, y : x + y, list_1)"
   ]
  }
 ],
 "metadata": {
  "kernelspec": {
   "display_name": "Python 3 (ipykernel)",
   "language": "python",
   "name": "python3"
  },
  "language_info": {
   "codemirror_mode": {
    "name": "ipython",
    "version": 3
   },
   "file_extension": ".py",
   "mimetype": "text/x-python",
   "name": "python",
   "nbconvert_exporter": "python",
   "pygments_lexer": "ipython3",
   "version": "3.12.4"
  }
 },
 "nbformat": 4,
 "nbformat_minor": 5
}

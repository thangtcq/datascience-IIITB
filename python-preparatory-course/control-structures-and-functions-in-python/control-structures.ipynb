{
 "cells": [
  {
   "cell_type": "markdown",
   "id": "507fbf69-9a27-4016-8b50-53a4fbce188a",
   "metadata": {},
   "source": [
    "# Control Structures and Functions\n",
    "Control structures are the essence of programming; they help computers do what they do best: automate repetitive tasks intelligently. The most common control structures are if-else statements, for and while loops, and list and dictionary comprehensions. This session will cover all these concepts."
   ]
  },
  {
   "cell_type": "markdown",
   "id": "b7eec4e8-d7c6-40f8-b919-3a28d1518a88",
   "metadata": {},
   "source": [
    "### If statements\n",
    "\"IF\" statements are imperative in Python and they help us build programs that could make decisions based on a specified condition\n",
    "\n",
    "*   If I am tired, I'll go to bed\n",
    "\n",
    "*   If I am hungry, I'll order food\n",
    "\n",
    "Notice all these applications start with the word 'IF' and that is the first way we are going to control our applications.\n",
    "\n",
    "And before writing down a code to mimic a decision, let us first look at the relational operators that would help us test or define some kind of relation between two entities.\n",
    "\n",
    "Relational operators are used to test equality or inequality of a condition and that condition might change based on your preference.\n",
    "\n",
    "```\n",
    "Example -\n",
    "If its raining == True:\n",
    "  I'll get an umbrella\n",
    "\n",
    "```"
   ]
  },
  {
   "cell_type": "markdown",
   "id": "2a7ad41a-4472-4205-9113-7f2a377e5a85",
   "metadata": {},
   "source": [
    "<h2 style = \"color:Brown\"> Relational Operators</h2>\n",
    "\n",
    "- Compares the values on either side of the operator and returns and boolean value as True or False."
   ]
  },
  {
   "cell_type": "markdown",
   "id": "a751272f-addf-4a1b-9634-3c86f47f6bb7",
   "metadata": {},
   "source": [
    "#### Double equal to operator"
   ]
  },
  {
   "cell_type": "code",
   "execution_count": 1,
   "id": "4ca041db-40aa-4f1e-87b6-89c7514baac8",
   "metadata": {},
   "outputs": [
    {
     "data": {
      "text/plain": [
       "True"
      ]
     },
     "execution_count": 1,
     "metadata": {},
     "output_type": "execute_result"
    }
   ],
   "source": [
    "10 == 10"
   ]
  },
  {
   "cell_type": "code",
   "execution_count": 2,
   "id": "204224ac-f576-4dac-a30f-725a53b28356",
   "metadata": {},
   "outputs": [],
   "source": [
    "a = 5"
   ]
  },
  {
   "cell_type": "code",
   "execution_count": 3,
   "id": "01f82774-35b9-4e15-9cd9-85d53571a1ed",
   "metadata": {},
   "outputs": [
    {
     "data": {
      "text/plain": [
       "True"
      ]
     },
     "execution_count": 3,
     "metadata": {},
     "output_type": "execute_result"
    }
   ],
   "source": [
    "a == 5"
   ]
  },
  {
   "cell_type": "markdown",
   "id": "2b6a7db9-594a-41f3-ad30-5f453db71d85",
   "metadata": {},
   "source": [
    "<h4 style = \"color:Red\">Note</h3>\n",
    "\n",
    "##### '=' is an assignment operator; it is used to assign value to a variable on the left.\n",
    "\n",
    "##### '==' is a relational operator; it is used for comparision of equality."
   ]
  },
  {
   "cell_type": "code",
   "execution_count": 4,
   "id": "d0f95f19-4ef7-4517-aab4-79a4e9c96b62",
   "metadata": {},
   "outputs": [
    {
     "data": {
      "text/plain": [
       "False"
      ]
     },
     "execution_count": 4,
     "metadata": {},
     "output_type": "execute_result"
    }
   ],
   "source": [
    "10 == 5"
   ]
  },
  {
   "cell_type": "markdown",
   "id": "28da424d-f84e-4eae-9d3c-708ef6949d9b",
   "metadata": {},
   "source": [
    "#### Not equal to operator"
   ]
  },
  {
   "cell_type": "code",
   "execution_count": 5,
   "id": "cbe0cc68-8e8e-4e78-a343-a72a12280bf0",
   "metadata": {},
   "outputs": [
    {
     "data": {
      "text/plain": [
       "True"
      ]
     },
     "execution_count": 5,
     "metadata": {},
     "output_type": "execute_result"
    }
   ],
   "source": [
    "10 != 5"
   ]
  },
  {
   "cell_type": "markdown",
   "id": "768a2868-0e45-49f4-ae42-124bc1a23917",
   "metadata": {},
   "source": [
    "#### Greater than operator"
   ]
  },
  {
   "cell_type": "code",
   "execution_count": 6,
   "id": "9622b027-f1c2-4d3d-a4a3-e1f25148d080",
   "metadata": {},
   "outputs": [
    {
     "data": {
      "text/plain": [
       "True"
      ]
     },
     "execution_count": 6,
     "metadata": {},
     "output_type": "execute_result"
    }
   ],
   "source": [
    "10 > 5"
   ]
  },
  {
   "cell_type": "markdown",
   "id": "22537128-29c5-4c3d-ad62-855bb2c85384",
   "metadata": {},
   "source": [
    "#### Less than operator"
   ]
  },
  {
   "cell_type": "code",
   "execution_count": 7,
   "id": "61bac6f8-b73f-41a1-a459-05fa129e1f15",
   "metadata": {},
   "outputs": [
    {
     "data": {
      "text/plain": [
       "False"
      ]
     },
     "execution_count": 7,
     "metadata": {},
     "output_type": "execute_result"
    }
   ],
   "source": [
    "10 < 5"
   ]
  },
  {
   "cell_type": "markdown",
   "id": "1c06484d-88e5-477d-9390-b96b4fa6d078",
   "metadata": {},
   "source": [
    "#### Greater than equal to operator"
   ]
  },
  {
   "cell_type": "code",
   "execution_count": 8,
   "id": "40510aae-109f-403d-9477-68252756f802",
   "metadata": {},
   "outputs": [
    {
     "data": {
      "text/plain": [
       "False"
      ]
     },
     "execution_count": 8,
     "metadata": {},
     "output_type": "execute_result"
    }
   ],
   "source": [
    "10 <= 5"
   ]
  },
  {
   "cell_type": "markdown",
   "id": "e91cec86-7ebc-4758-af70-736485ea1aa7",
   "metadata": {},
   "source": [
    "#### Less than equal to operator"
   ]
  },
  {
   "cell_type": "code",
   "execution_count": 9,
   "id": "b2a3a698-5a16-4245-b94d-4f6ad6869147",
   "metadata": {},
   "outputs": [
    {
     "data": {
      "text/plain": [
       "True"
      ]
     },
     "execution_count": 9,
     "metadata": {},
     "output_type": "execute_result"
    }
   ],
   "source": [
    "10 >= 5"
   ]
  },
  {
   "cell_type": "markdown",
   "id": "e4c7f052-e00e-4896-b203-ccf58df33941",
   "metadata": {},
   "source": [
    "<h2 style = \"color:Brown\">Decision Making</h2>\n",
    "\n",
    "Now let's get back to writing a conditional statement with the 'if' condition\n",
    "\n",
    "To do that we would write it 'if' followed by an expression"
   ]
  },
  {
   "cell_type": "markdown",
   "id": "530dc6b2-b294-456f-83e8-c051a50b7688",
   "metadata": {},
   "source": [
    "#### Write a program to check value in variable x is less than 99"
   ]
  },
  {
   "cell_type": "code",
   "execution_count": 10,
   "id": "c1116ea1-4378-410c-8788-4003a41157ee",
   "metadata": {},
   "outputs": [
    {
     "name": "stdout",
     "output_type": "stream",
     "text": [
      "45 is less than 99\n"
     ]
    }
   ],
   "source": [
    "x = 45\n",
    "\n",
    "if x < 99:\n",
    "    # Inside if-statement\n",
    "    print(x, \"is less than 99\")\n",
    "else:\n",
    "    print(x, \"is greater than 99\")"
   ]
  },
  {
   "cell_type": "code",
   "execution_count": 11,
   "id": "bb35841c-8575-4a53-8238-0eee8efe1812",
   "metadata": {},
   "outputs": [
    {
     "name": "stdout",
     "output_type": "stream",
     "text": [
      "450 is greater than 99\n"
     ]
    }
   ],
   "source": [
    "x = 450\n",
    "\n",
    "if x < 99:\n",
    "    # Inside if-statement\n",
    "    print(x, \"is less than 99\")\n",
    "else:\n",
    "    print(x, \"is greater than 99\")"
   ]
  },
  {
   "cell_type": "markdown",
   "id": "6bdc4a43-91dd-4d63-8daf-931c055c9249",
   "metadata": {},
   "source": [
    "#### Write a code to return YES if x lies in the range of 1000 to 1100, else return NO?"
   ]
  },
  {
   "cell_type": "code",
   "execution_count": 12,
   "id": "5a001bfa-14ab-4f81-ba25-35701b561912",
   "metadata": {},
   "outputs": [
    {
     "name": "stdout",
     "output_type": "stream",
     "text": [
      "No\n"
     ]
    }
   ],
   "source": [
    "x = 395\n",
    "\n",
    "if (x < 1000):\n",
    "    # Inside if-statement\n",
    "    print('No')\n",
    "else:\n",
    "    if (x > 1100 ):\n",
    "        print('No')\n",
    "    else:\n",
    "        print('Yes')"
   ]
  },
  {
   "cell_type": "code",
   "execution_count": 13,
   "id": "051d49c6-e103-4b18-bb8b-30537fbdfe3f",
   "metadata": {},
   "outputs": [
    {
     "name": "stdout",
     "output_type": "stream",
     "text": [
      "No\n"
     ]
    }
   ],
   "source": [
    "x = 395\n",
    "\n",
    "if (x > 1000 and x < 1100):\n",
    "    print('Yes')\n",
    "else:\n",
    "    print('No')"
   ]
  },
  {
   "cell_type": "markdown",
   "id": "27b09ea9-756c-436b-9e9a-d404e7427a6a",
   "metadata": {},
   "source": [
    "## Logical Operators\n",
    "We use logical operators in situations where we have multiple conditions\n",
    "\n",
    "####   AND\n",
    "####   OR\n",
    "####   NOR\n",
    "####   XOR\n",
    "\n",
    "Are some of the common and most widely used logical operators\n",
    "You can learn more about them from this link: https://pythonlessons.net/python-logic-gates/"
   ]
  },
  {
   "cell_type": "markdown",
   "id": "f8b7f2b1-4d09-4f8a-937a-60b09d11c638",
   "metadata": {},
   "source": [
    "#### Write a program to record the age of visitor and allows him to an exclusive children's day party hosted by Mr. Obama only if he or she is above 60 years or below 18 years of age"
   ]
  },
  {
   "cell_type": "code",
   "execution_count": 14,
   "id": "9b857945-9da5-441c-b38e-35d78403f295",
   "metadata": {},
   "outputs": [
    {
     "name": "stdin",
     "output_type": "stream",
     "text": [
      "Enter your age :  29\n"
     ]
    },
    {
     "name": "stdout",
     "output_type": "stream",
     "text": [
      "Sorry!! you do not fit in the age criteria\n"
     ]
    }
   ],
   "source": [
    "x = int(input(\"Enter your age : \"))\n",
    "\n",
    "if x <= 18 or x >= 60 :\n",
    "    print(\"Welcome to Party!!\")\n",
    "else:\n",
    "    print(\"Sorry!! you do not fit in the age criteria\")"
   ]
  },
  {
   "cell_type": "markdown",
   "id": "89bbf11e-f0a5-41de-a354-d7fb3183824a",
   "metadata": {},
   "source": [
    "#### Write a program which offers various discounts based on purchase bills"
   ]
  },
  {
   "cell_type": "code",
   "execution_count": 15,
   "id": "d0628a66-215d-4c12-9293-d937d72d14bd",
   "metadata": {},
   "outputs": [
    {
     "name": "stdout",
     "output_type": "stream",
     "text": [
      "You won a discount voucher of flat 1000 on next purchase\n"
     ]
    }
   ],
   "source": [
    "shoppinng_total = 550\n",
    "\n",
    "if shoppinng_total >= 500:\n",
    "    print(\"You won a discount voucher of flat 1000 on next purchase\")\n",
    "elif shoppinng_total >= 250:\n",
    "    print(\"You won a discount voucher of flat 500 on next purchase\")\n",
    "elif shoppinng_total >= 100:\n",
    "    print(\"You won a discount voucher of flat 100 on next purchase\")    \n",
    "else:\n",
    "    print(\"OOPS!! no discount for you!!!\")"
   ]
  },
  {
   "cell_type": "markdown",
   "id": "e4503991-3d82-492e-a843-ed47e5394839",
   "metadata": {},
   "source": [
    "#### Example on nested if-else"
   ]
  },
  {
   "cell_type": "code",
   "execution_count": 16,
   "id": "25d494d3-27e5-4182-87ff-fa0e39872284",
   "metadata": {},
   "outputs": [],
   "source": [
    "world_cups = {2019 : ['England', 'New Zealand'], 2015 : [\"Australia\", \"New Zealand\"], 2011 : [\"India\", \"Sri Lanka\"], 2007 : [\"Australia\", \"Sri Lanka\"], 2003 : [\"Australia\", \"India\"]}"
   ]
  },
  {
   "cell_type": "code",
   "execution_count": 17,
   "id": "dbb42a18-ae48-4781-b9d9-adefda6fbe71",
   "metadata": {},
   "outputs": [
    {
     "data": {
      "text/plain": [
       "dict_keys([2019, 2015, 2011, 2007, 2003])"
      ]
     },
     "execution_count": 17,
     "metadata": {},
     "output_type": "execute_result"
    }
   ],
   "source": [
    "world_cups.keys()"
   ]
  },
  {
   "cell_type": "code",
   "execution_count": 18,
   "id": "2f408421-f44b-4f28-81fe-49c62133f95f",
   "metadata": {},
   "outputs": [
    {
     "data": {
      "text/plain": [
       "['Australia', 'India']"
      ]
     },
     "execution_count": 18,
     "metadata": {},
     "output_type": "execute_result"
    }
   ],
   "source": [
    "world_cups[2003]"
   ]
  },
  {
   "cell_type": "code",
   "execution_count": 19,
   "id": "2c270c9c-ad16-4b8c-944b-96b1b7c6f9f5",
   "metadata": {},
   "outputs": [
    {
     "name": "stdin",
     "output_type": "stream",
     "text": [
      "Enter year to check New Zealand made it to Finals in 20th century:  2003\n"
     ]
    }
   ],
   "source": [
    "year = int(input(\"Enter year to check New Zealand made it to Finals in 20th century: \"))"
   ]
  },
  {
   "cell_type": "code",
   "execution_count": 20,
   "id": "0ffc3bf0-031f-4338-a6a2-46ec1f0cc54e",
   "metadata": {},
   "outputs": [
    {
     "data": {
      "text/plain": [
       "2003"
      ]
     },
     "execution_count": 20,
     "metadata": {},
     "output_type": "execute_result"
    }
   ],
   "source": [
    "year"
   ]
  },
  {
   "cell_type": "code",
   "execution_count": 21,
   "id": "2217bad9-d901-4157-9c1c-4a1779011960",
   "metadata": {},
   "outputs": [
    {
     "name": "stdout",
     "output_type": "stream",
     "text": [
      "New Zealand could not make it to Finals\n"
     ]
    }
   ],
   "source": [
    "if year in world_cups:\n",
    "    #v Do some stuff\n",
    "    if \"New Zealand\" in world_cups[year]:\n",
    "        print(\"New Zealand made it to Finals\")\n",
    "    else:\n",
    "        print(\"New Zealand could not make it to Finals\")\n",
    "else:\n",
    "    print(\"World cup wasn't played in\", year)"
   ]
  },
  {
   "cell_type": "code",
   "execution_count": 22,
   "id": "ca99be3b-b68c-483b-9770-b1ba2ee61a43",
   "metadata": {},
   "outputs": [
    {
     "data": {
      "text/plain": [
       "['Australia', 'India']"
      ]
     },
     "execution_count": 22,
     "metadata": {},
     "output_type": "execute_result"
    }
   ],
   "source": [
    "world_cups[year]"
   ]
  },
  {
   "cell_type": "markdown",
   "id": "e5830102-f68e-4d31-bf2d-50aa94839189",
   "metadata": {},
   "source": [
    "- Question"
   ]
  },
  {
   "cell_type": "code",
   "execution_count": 23,
   "id": "7b1c10fd-85ba-4495-a868-7f5123fc8d2b",
   "metadata": {},
   "outputs": [],
   "source": [
    "# The If-Else Construct\n",
    "# What is the output of the following code?"
   ]
  },
  {
   "cell_type": "code",
   "execution_count": 24,
   "id": "209e8a5a-0c55-4bb0-ae6f-76a1070a38a0",
   "metadata": {},
   "outputs": [
    {
     "ename": "IndentationError",
     "evalue": "expected an indented block after 'if' statement on line 3 (1825208694.py, line 4)",
     "output_type": "error",
     "traceback": [
      "\u001b[1;36m  Cell \u001b[1;32mIn[24], line 4\u001b[1;36m\u001b[0m\n\u001b[1;33m    print('YES')\u001b[0m\n\u001b[1;37m    ^\u001b[0m\n\u001b[1;31mIndentationError\u001b[0m\u001b[1;31m:\u001b[0m expected an indented block after 'if' statement on line 3\n"
     ]
    }
   ],
   "source": [
    "X = 12\n",
    "\n",
    "if (X > 10 & X < 15):\n",
    "print('YES')\n",
    "else:\n",
    "print('No')"
   ]
  },
  {
   "cell_type": "code",
   "execution_count": 25,
   "id": "ef263471-b3fd-498c-949a-12a98c5c893e",
   "metadata": {},
   "outputs": [],
   "source": [
    "# Maximum of Three Numbers\n",
    "# Complete the piece of code to print a maximum of three variables, a, b and c."
   ]
  },
  {
   "cell_type": "code",
   "execution_count": 26,
   "id": "3c098064-293e-4a03-bbf8-b154c8421709",
   "metadata": {},
   "outputs": [
    {
     "name": "stdout",
     "output_type": "stream",
     "text": [
      "a\n"
     ]
    }
   ],
   "source": [
    "a = 10\n",
    "b = 16\n",
    "c = 20\n",
    "\n",
    "if (a > b,c):\n",
    "    print(\"a\")\n",
    "elif (b > a,c):\n",
    "    print(\"b\")\n",
    "else:\n",
    "     print(\"c\")"
   ]
  },
  {
   "cell_type": "code",
   "execution_count": 27,
   "id": "9c2d5218-fd50-4770-b2e7-34e695357793",
   "metadata": {},
   "outputs": [
    {
     "name": "stdout",
     "output_type": "stream",
     "text": [
      "c\n"
     ]
    }
   ],
   "source": [
    "a = 10\n",
    "b = 16\n",
    "c = 20\n",
    "\n",
    "if (a > b and a > c):\n",
    "    print(\"a\")\n",
    "elif (b > a and b > c):\n",
    "    print(\"b\")\n",
    "else:\n",
    "     print(\"c\")"
   ]
  },
  {
   "cell_type": "code",
   "execution_count": 28,
   "id": "9d2cf087-e7f6-4dc5-90cf-02aa00af7232",
   "metadata": {},
   "outputs": [
    {
     "name": "stdout",
     "output_type": "stream",
     "text": [
      "b\n"
     ]
    }
   ],
   "source": [
    "a = 10\n",
    "b = 16\n",
    "c = 20\n",
    "\n",
    "if (c < a and c < b):\n",
    "    print(\"a\")\n",
    "elif (a < b):\n",
    "    print(\"b\")\n",
    "else:\n",
    "     print(\"c\")"
   ]
  },
  {
   "cell_type": "code",
   "execution_count": 29,
   "id": "2fef3cbc-cd3c-4838-9373-608783428966",
   "metadata": {},
   "outputs": [
    {
     "name": "stdout",
     "output_type": "stream",
     "text": [
      "a\n"
     ]
    }
   ],
   "source": [
    "a = 10\n",
    "b = 16\n",
    "c = 20\n",
    "\n",
    "if (b < a, a > c):\n",
    "    print(\"a\")\n",
    "elif (b > a, c < b):\n",
    "    print(\"b\")\n",
    "else:\n",
    "     print(\"c\")"
   ]
  },
  {
   "cell_type": "code",
   "execution_count": 30,
   "id": "6e97b28d-fb14-4e1c-bede-41c4592bae99",
   "metadata": {},
   "outputs": [],
   "source": [
    "# Reverse Engineering\n",
    "# Which of the following sequences of inputs would give the output 'C' 'A' 'D' 'B' over multiple iterations?"
   ]
  },
  {
   "cell_type": "code",
   "execution_count": 31,
   "id": "92a9daea-e264-4e02-a881-e248c6e9cb40",
   "metadata": {},
   "outputs": [
    {
     "name": "stdout",
     "output_type": "stream",
     "text": [
      "C\n",
      "A\n",
      "C\n",
      "B\n"
     ]
    }
   ],
   "source": [
    "input_list = [74, 93, 74, 88]\n",
    "\n",
    "for score in input_list:\n",
    "    if score >= 90:\n",
    "       print('A')\n",
    "    elif score >=80:\n",
    "       print('B')\n",
    "    elif score >= 70:\n",
    "       print('C')\n",
    "    elif score >= 60:\n",
    "       print('D')\n",
    "    else:\n",
    "       print('F')"
   ]
  },
  {
   "cell_type": "code",
   "execution_count": 32,
   "id": "3d6cad66-0939-42f1-85c3-3c282c106a0a",
   "metadata": {},
   "outputs": [
    {
     "name": "stdout",
     "output_type": "stream",
     "text": [
      "C\n",
      "A\n",
      "C\n",
      "B\n"
     ]
    }
   ],
   "source": [
    "input_list = [72, 93, 70, 85]\n",
    "\n",
    "for score in input_list:\n",
    "    if score >= 90:\n",
    "       print('A')\n",
    "    elif score >=80:\n",
    "       print('B')\n",
    "    elif score >= 70:\n",
    "       print('C')\n",
    "    elif score >= 60:\n",
    "       print('D')\n",
    "    else:\n",
    "       print('F')"
   ]
  },
  {
   "cell_type": "code",
   "execution_count": 33,
   "id": "fca0b858-84bd-4667-b03d-a6bea69e4b8f",
   "metadata": {},
   "outputs": [
    {
     "name": "stdout",
     "output_type": "stream",
     "text": [
      "C\n",
      "A\n",
      "D\n",
      "B\n"
     ]
    }
   ],
   "source": [
    "input_list = [70, 91, 67, 88]\n",
    "\n",
    "for score in input_list:\n",
    "    if score >= 90:\n",
    "       print('A')\n",
    "    elif score >=80:\n",
    "       print('B')\n",
    "    elif score >= 70:\n",
    "       print('C')\n",
    "    elif score >= 60:\n",
    "       print('D')\n",
    "    else:\n",
    "       print('F')"
   ]
  },
  {
   "cell_type": "code",
   "execution_count": 34,
   "id": "ee9096ce-2039-4700-8083-c6d7b3313712",
   "metadata": {},
   "outputs": [
    {
     "name": "stdout",
     "output_type": "stream",
     "text": [
      "C\n",
      "A\n",
      "F\n",
      "F\n"
     ]
    }
   ],
   "source": [
    "input_list = [78, 96, 35, 40]\n",
    "\n",
    "for score in input_list:\n",
    "    if score >= 90:\n",
    "       print('A')\n",
    "    elif score >=80:\n",
    "       print('B')\n",
    "    elif score >= 70:\n",
    "       print('C')\n",
    "    elif score >= 60:\n",
    "       print('D')\n",
    "    else:\n",
    "       print('F')"
   ]
  },
  {
   "cell_type": "code",
   "execution_count": 35,
   "id": "8d3f5663-ee93-4c1f-b49f-7ab24efdcce2",
   "metadata": {},
   "outputs": [],
   "source": [
    "# Can You Guess the Output?\n",
    "# What will the following segment of code print? Try doing this verbally."
   ]
  },
  {
   "cell_type": "code",
   "execution_count": 36,
   "id": "f54fd1b4-b8dd-4031-93b0-86005b40d803",
   "metadata": {},
   "outputs": [
    {
     "name": "stdout",
     "output_type": "stream",
     "text": [
      "B\n"
     ]
    }
   ],
   "source": [
    "if (10 < 0) and (0 < -10):\n",
    "    print(\"A\")\n",
    "elif (10 > 0) or False:\n",
    "    print(\"B\")\n",
    "else:\n",
    "    print(\"C\")"
   ]
  },
  {
   "cell_type": "code",
   "execution_count": 37,
   "id": "a44a5c46-3422-481f-b98b-8b7824f30a81",
   "metadata": {},
   "outputs": [],
   "source": [
    "# A Search for the Truth\n",
    "# What will the following segment of code print? Try solving it verbally."
   ]
  },
  {
   "cell_type": "code",
   "execution_count": 38,
   "id": "f6ef2559-b1bd-4730-b9fe-bae2feb971a0",
   "metadata": {},
   "outputs": [
    {
     "name": "stdout",
     "output_type": "stream",
     "text": [
      "B\n"
     ]
    }
   ],
   "source": [
    "if True or True:\n",
    "    if False and True or False:\n",
    "        print('A')\n",
    "    elif False and False or True and True:\n",
    "        print('B')\n",
    "    else:\n",
    "        print('C')\n",
    "else:\n",
    "    print('D')"
   ]
  },
  {
   "cell_type": "markdown",
   "id": "bd4f9fdc-afdc-4aa3-a215-67f00ad48cac",
   "metadata": {},
   "source": [
    "<h5>If-Else</h5>\n",
    "<b>Description</b><br>\n",
    "Write a code to check if the string in input_str starts with a vowel or not. Print capital YES or NO.<br>\n",
    "For example, if input_str = 'analytics' then, your output should print 'YES'.<br>\n",
    "<br>\n",
    "<b>Sample Input:</b><br>\n",
    "alpha<br>\n",
    "<br>\n",
    "<b>Sample Output:</b><br>\n",
    "YES<br>\n",
    "<br>\n",
    "<b>Execution time limit</b><br>\n",
    "15 seconds"
   ]
  },
  {
   "cell_type": "code",
   "execution_count": 39,
   "id": "ccf4ffb9-3d55-4c5b-b88e-ba9d06257dea",
   "metadata": {},
   "outputs": [
    {
     "name": "stdout",
     "output_type": "stream",
     "text": [
      "YES\n"
     ]
    }
   ],
   "source": [
    "input_str = 'Amit'\n",
    "\n",
    "list_vowel = ['u', 'e', 'o', 'a', 'i', 'U', 'E', 'O', 'A', 'I']\n",
    "\n",
    "if input_str[0] in list_vowel:\n",
    "    print('YES')\n",
    "else:\n",
    "    print('NO')"
   ]
  },
  {
   "cell_type": "code",
   "execution_count": 40,
   "id": "6f6c5369-88d3-4b0c-97bb-a112e4e86fcb",
   "metadata": {},
   "outputs": [
    {
     "name": "stdout",
     "output_type": "stream",
     "text": [
      "NO\n"
     ]
    }
   ],
   "source": [
    "input_str = 'soham'\n",
    "\n",
    "list_vowel = ['u', 'e', 'o', 'a', 'i', 'U', 'E', 'O', 'A', 'I']\n",
    "\n",
    "if input_str[0] in list_vowel:\n",
    "    print('YES')\n",
    "else:\n",
    "    print('NO')"
   ]
  },
  {
   "cell_type": "code",
   "execution_count": 41,
   "id": "9318b12f-c872-46d1-ac30-c1bb65bd2d4e",
   "metadata": {},
   "outputs": [
    {
     "name": "stdout",
     "output_type": "stream",
     "text": [
      "NO\n"
     ]
    }
   ],
   "source": [
    "input_str = 'beta'\n",
    "\n",
    "list_vowel = ['u', 'e', 'o', 'a', 'i', 'U', 'E', 'O', 'A', 'I']\n",
    "\n",
    "if input_str[0] in list_vowel:\n",
    "    print('YES')\n",
    "else:\n",
    "    print('NO')"
   ]
  },
  {
   "cell_type": "code",
   "execution_count": 42,
   "id": "5d53f2c8-9bac-44e4-a80c-fe7416cb1c33",
   "metadata": {},
   "outputs": [
    {
     "name": "stdout",
     "output_type": "stream",
     "text": [
      "YES\n"
     ]
    }
   ],
   "source": [
    "input_str = 'alpha'\n",
    "\n",
    "list_vowel = ['u', 'e', 'o', 'a', 'i', 'U', 'E', 'O', 'A', 'I']\n",
    "\n",
    "if input_str[0] in list_vowel:\n",
    "    print('YES')\n",
    "else:\n",
    "    print('NO')"
   ]
  }
 ],
 "metadata": {
  "kernelspec": {
   "display_name": "Python 3 (ipykernel)",
   "language": "python",
   "name": "python3"
  },
  "language_info": {
   "codemirror_mode": {
    "name": "ipython",
    "version": 3
   },
   "file_extension": ".py",
   "mimetype": "text/x-python",
   "name": "python",
   "nbconvert_exporter": "python",
   "pygments_lexer": "ipython3",
   "version": "3.12.4"
  }
 },
 "nbformat": 4,
 "nbformat_minor": 5
}

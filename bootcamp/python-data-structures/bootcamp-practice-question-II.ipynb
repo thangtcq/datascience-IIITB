{
 "cells": [
  {
   "cell_type": "markdown",
   "metadata": {},
   "source": [
    "<h5>Substring with maximum uppercase characters</h5>\n",
    "<b>Description</b><br>\n",
    "Given a string, write a Python program to find the largest substring of uppercase characters and print the length of that substring. Check the sample inputs and outputs for a better understanding.<br>\n",
    "<br>\n",
    "<b>Input:</b><br>\n",
    "String<br>\n",
    "<br>\n",
    "<b>Output:</b><br>\n",
    "String<br>\n",
    "<br>\n",
    "<b>Sample Input:</b><br>\n",
    "I lovE PRogrAMMING<br>\n",
    "<br>\n",
    "<b>Sample Output:</b><br>\n",
    "6<br>\n",
    "<br>\n",
    "<b>Explanation:</b><br>\n",
    "AMMING is the largest substring with all characters in uppercase continuously<br>\n",
    "<br>\n",
    "<b>Sample Input:</b><br>\n",
    "MuMbaI is in MAHArashTRA<br>\n",
    "<br>\n",
    "<b>Sample Output:</b><br>\n",
    "4<br>\n",
    "<br>\n",
    "<b>Explanation:</b><br>\n",
    "MAHA is the largest substring with all characters in uppercase continuously.<br>\n",
    "<br>\n",
    "<b>Sample Input:</b><br>\n",
    "India WOn the WOrLD CUP<br>\n",
    "<br>\n",
    "<b>Sample Output:</b><br>\n",
    "3<br>\n",
    "<br>\n",
    "<b>Explanation:</b><br>\n",
    "CUP is the largest substring with all characters in uppercase continuously.<br>\n",
    "<br>\n",
    "<b>Execution time limit</b><br>\n",
    "10 seconds"
   ]
  },
  {
   "cell_type": "code",
   "execution_count": 1,
   "metadata": {},
   "outputs": [
    {
     "name": "stdout",
     "output_type": "stream",
     "text": [
      "6\n"
     ]
    }
   ],
   "source": [
    "#Take input\n",
    "test_str = 'I lovE PRogrAMMING'\n",
    "\n",
    "#When a character in the string is a uppercase, cnt will count the number of #continuous uppercase characters from that index\n",
    "cnt = 0\n",
    "#Max_run stores the final maximum count which is to be displayed as answer\n",
    "max_run = 0\n",
    "\n",
    "for i in range(0,len(test_str)):\n",
    "    #Updating run count on uppercase \n",
    "    if test_str[i].isupper():\n",
    "        cnt = cnt+1\n",
    "    #On encountering lowercase, update the cnt with 0 and start counting the continuous uppercase run again. max_run  already has the count of this run stored.\n",
    "    #Updating the value of max_run with cnt, if the current 'cnt' is greater than the previous 'max_run'\n",
    "    else:\n",
    "        if cnt >= max_run:\n",
    "            max_run = cnt\n",
    "        cnt = 0\n",
    "#For boundary cases - when there is a potential longest substring at the end of the string        \n",
    "if cnt >= max_run:\n",
    "    max_run = cnt\n",
    "    \n",
    "#Printing result \n",
    "print(max_run)"
   ]
  },
  {
   "cell_type": "code",
   "execution_count": 2,
   "metadata": {},
   "outputs": [
    {
     "name": "stdout",
     "output_type": "stream",
     "text": [
      "4\n"
     ]
    }
   ],
   "source": [
    "#Take input\n",
    "test_str = 'MuMbaI is in MAHArashTRA'\n",
    "\n",
    "#When a character in the string is a uppercase, cnt will count the number of #continuous uppercase characters from that index\n",
    "cnt = 0\n",
    "#Max_run stores the final maximum count which is to be displayed as answer\n",
    "max_run = 0\n",
    "\n",
    "for i in range(0,len(test_str)):\n",
    "    #Updating run count on uppercase \n",
    "    if test_str[i].isupper():\n",
    "        cnt = cnt+1\n",
    "    #On encountering lowercase, update the cnt with 0 and start counting the continuous uppercase run again. max_run  already has the count of this run stored.\n",
    "    #Updating the value of max_run with cnt, if the current 'cnt' is greater than the previous 'max_run'\n",
    "    else:\n",
    "        if cnt >= max_run:\n",
    "            max_run = cnt\n",
    "        cnt = 0\n",
    "#For boundary cases - when there is a potential longest substring at the end of the string        \n",
    "if cnt >= max_run:\n",
    "    max_run = cnt\n",
    "    \n",
    "#Printing result \n",
    "print(max_run)"
   ]
  },
  {
   "cell_type": "code",
   "execution_count": 3,
   "metadata": {},
   "outputs": [
    {
     "name": "stdout",
     "output_type": "stream",
     "text": [
      "3\n"
     ]
    }
   ],
   "source": [
    "#Take input\n",
    "test_str = 'India WOn the WOrLD CUP'\n",
    "\n",
    "#When a character in the string is a uppercase, cnt will count the number of #continuous uppercase characters from that index\n",
    "cnt = 0\n",
    "#Max_run stores the final maximum count which is to be displayed as answer\n",
    "max_run = 0\n",
    "\n",
    "for i in range(0,len(test_str)):\n",
    "    #Updating run count on uppercase \n",
    "    if test_str[i].isupper():\n",
    "        cnt = cnt+1\n",
    "    #On encountering lowercase, update the cnt with 0 and start counting the continuous uppercase run again. max_run  already has the count of this run stored.\n",
    "    #Updating the value of max_run with cnt, if the current 'cnt' is greater than the previous 'max_run'\n",
    "    else:\n",
    "        if cnt >= max_run:\n",
    "            max_run = cnt\n",
    "        cnt = 0\n",
    "#For boundary cases - when there is a potential longest substring at the end of the string        \n",
    "if cnt >= max_run:\n",
    "    max_run = cnt\n",
    "    \n",
    "#Printing result \n",
    "print(max_run)"
   ]
  },
  {
   "cell_type": "code",
   "execution_count": 4,
   "metadata": {},
   "outputs": [
    {
     "name": "stdout",
     "output_type": "stream",
     "text": [
      "5\n"
     ]
    }
   ],
   "source": [
    "#Take input\n",
    "test_str = 'MachINE leARNINg is part of Data ANALyTiCS'\n",
    "\n",
    "#When a character in the string is a uppercase, cnt will count the number of #continuous uppercase characters from that index\n",
    "cnt = 0\n",
    "#Max_run stores the final maximum count which is to be displayed as answer\n",
    "max_run = 0\n",
    "\n",
    "for i in range(0,len(test_str)):\n",
    "    #Updating run count on uppercase \n",
    "    if test_str[i].isupper():\n",
    "        cnt = cnt+1\n",
    "    #On encountering lowercase, update the cnt with 0 and start counting the continuous uppercase run again. max_run  already has the count of this run stored.\n",
    "    #Updating the value of max_run with cnt, if the current 'cnt' is greater than the previous 'max_run'\n",
    "    else:\n",
    "        if cnt >= max_run:\n",
    "            max_run = cnt\n",
    "        cnt = 0\n",
    "#For boundary cases - when there is a potential longest substring at the end of the string        \n",
    "if cnt >= max_run:\n",
    "    max_run = cnt\n",
    "    \n",
    "#Printing result \n",
    "print(max_run)"
   ]
  },
  {
   "cell_type": "code",
   "execution_count": 5,
   "metadata": {},
   "outputs": [
    {
     "name": "stdout",
     "output_type": "stream",
     "text": [
      "3\n"
     ]
    }
   ],
   "source": [
    "#Take input\n",
    "test_str = 'WelCoME TO inDIA'\n",
    "\n",
    "#When a character in the string is a uppercase, cnt will count the number of #continuous uppercase characters from that index\n",
    "cnt = 0\n",
    "#Max_run stores the final maximum count which is to be displayed as answer\n",
    "max_run = 0\n",
    "\n",
    "for i in range(0,len(test_str)):\n",
    "    #Updating run count on uppercase \n",
    "    if test_str[i].isupper():\n",
    "        cnt = cnt+1\n",
    "    #On encountering lowercase, update the cnt with 0 and start counting the continuous uppercase run again. max_run  already has the count of this run stored.\n",
    "    #Updating the value of max_run with cnt, if the current 'cnt' is greater than the previous 'max_run'\n",
    "    else:\n",
    "        if cnt >= max_run:\n",
    "            max_run = cnt\n",
    "        cnt = 0\n",
    "#For boundary cases - when there is a potential longest substring at the end of the string        \n",
    "if cnt >= max_run:\n",
    "    max_run = cnt\n",
    "    \n",
    "#Printing result \n",
    "print(max_run)"
   ]
  },
  {
   "cell_type": "markdown",
   "metadata": {},
   "source": [
    "<h5>Sorting list of tuples</h5>\n",
    "<b>Description</b><br>\n",
    "A class of students attempt an exam in two parts: 'Aptitude' and 'Physics'. The marks of all the students are stored as a list of tuples, and each student's marks (in Aptitude and Physics) are stored in each tuple. Your task is to write a Python program to sort the list of tuples in decreasing order of the Physics scores of the students.<br>\n",
    "Note - Marks of both the subjects are ranged between 1-100, and no two students have scored the same marks in Physics.<br>\n",
    "<br>\n",
    "<b>Input:</b><br>\n",
    "List of tuples<br>\n",
    "<br>\n",
    "<b>Output:</b><br>\n",
    "List of tuples<br>\n",
    "<br>\n",
    "<b>Sample Input:</b><br>\n",
    "[(45,77), (88,87), (67,98), (33,31)]<br>\n",
    "<br>\n",
    "In (45,77), which is the first element in the list, 45 and 77 are the scores of a student in aptitude and physics respectively.<br>\n",
    "<br>\n",
    "<b>Sample Output:</b><br>\n",
    "[(67,98), (88,87), (45,77), (33,31)]<br>\n",
    "<br>\n",
    "<b>Sample Input:</b><br>\n",
    "[(45,23), (45,88), (45,98), (45,44)]<br>\n",
    "<br>\n",
    "<b>Sample Output:</b><br>\n",
    "[(45,98), (45,88), (45,44), (45,23)]<br>\n",
    "<br>\n",
    "<b>Sample Input:</b><br>\n",
    "[(55,77), (34,90), (67,100), (90,0)]<br>\n",
    "<br>\n",
    "<b>Sample Output:</b><br>\n",
    "[(67,100), (34,90), (55,77), (90,0)]<br>\n",
    "<br>\n",
    "<b>Execution time limit</b><br>\n",
    "10 seconds"
   ]
  },
  {
   "cell_type": "code",
   "execution_count": 6,
   "metadata": {},
   "outputs": [
    {
     "name": "stdout",
     "output_type": "stream",
     "text": [
      "[(67, 98), (88, 87), (45, 77), (33, 31)]\n"
     ]
    }
   ],
   "source": [
    "#Take input\n",
    "input_list = [(45,77), (88,87), (67,98), (33,31)]\n",
    "\n",
    "#Printing the sorted list of tuples \n",
    "print(sorted(input_list, key = lambda x: x[1], reverse = True))"
   ]
  },
  {
   "cell_type": "code",
   "execution_count": 7,
   "metadata": {},
   "outputs": [
    {
     "name": "stdout",
     "output_type": "stream",
     "text": [
      "[(45, 98), (45, 88), (45, 44), (45, 23)]\n"
     ]
    }
   ],
   "source": [
    "#Take input\n",
    "input_list = [(45,23), (45,88), (45,98), (45,44)]\n",
    "\n",
    "#Printing the sorted list of tuples \n",
    "print(sorted(input_list, key = lambda x: x[1], reverse = True))"
   ]
  },
  {
   "cell_type": "code",
   "execution_count": 8,
   "metadata": {},
   "outputs": [
    {
     "name": "stdout",
     "output_type": "stream",
     "text": [
      "[(67, 100), (34, 90), (55, 77), (90, 0)]\n"
     ]
    }
   ],
   "source": [
    "#Take input\n",
    "input_list = [(55,77), (34,90), (67,100), (90,0)]\n",
    "\n",
    "#Printing the sorted list of tuples \n",
    "print(sorted(input_list, key = lambda x: x[1], reverse = True))"
   ]
  },
  {
   "cell_type": "code",
   "execution_count": 9,
   "metadata": {},
   "outputs": [
    {
     "name": "stdout",
     "output_type": "stream",
     "text": [
      "[(54, 80), (100, 71), (67, 10), (100, 0)]\n"
     ]
    }
   ],
   "source": [
    "#Take input\n",
    "input_list = [(100,71), (54,80), (67,10), (100,0)]\n",
    "\n",
    "#Printing the sorted list of tuples \n",
    "print(sorted(input_list, key = lambda x: x[1], reverse = True))"
   ]
  },
  {
   "cell_type": "code",
   "execution_count": 10,
   "metadata": {},
   "outputs": [
    {
     "name": "stdout",
     "output_type": "stream",
     "text": [
      "[(91, 100), (100, 88), (100, 23), (100, 20)]\n"
     ]
    }
   ],
   "source": [
    "#Take input\n",
    "input_list = [(100,88), (100,20), (91,100), (100,23)]\n",
    "\n",
    "#Printing the sorted list of tuples \n",
    "print(sorted(input_list, key = lambda x: x[1], reverse = True))"
   ]
  },
  {
   "cell_type": "markdown",
   "metadata": {},
   "source": [
    "<h5>Divisibility check</h5>\n",
    "<b>Description</b><br>\n",
    "Given an integer 'n', your task is to write a Python code to find whether 'n' is divisible by all its digits or not. If they divide the number, then the number 'n' is a happy number. Otherwise, it is a sad number.<br>\n",
    "The number 'n' may be provided with commas. At first, you have to clean the number (by removing the commas involved) and then check whether the number is happy or sad.<br>\n",
    "<br>\n",
    "<b>Input:</b><br>\n",
    "String<br>\n",
    "<br>\n",
    "<b>Output:</b><br>\n",
    "String<br>\n",
    "<br>\n",
    "<b>Sample Input:</b><br>\n",
    "2,128<br>\n",
    "<br>\n",
    "<b>Sample Output:</b><br>\n",
    "Happy Number<br>\n",
    "<br>\n",
    "<b>Sample Input:</b><br>\n",
    "256<br>\n",
    "<br>\n",
    "<b>Sample Output:</b><br>\n",
    "Sad Number<br>\n",
    "<br>\n",
    "<b>Sample Input:</b><br>\n",
    "1124<br>\n",
    "<br>\n",
    "<b>Sample Output:</b><br>\n",
    "Happy Number<br>\n",
    "<br>\n",
    "<b>Execution time limit</b><br>\n",
    "10 seconds"
   ]
  },
  {
   "cell_type": "code",
   "execution_count": 11,
   "metadata": {},
   "outputs": [
    {
     "name": "stdout",
     "output_type": "stream",
     "text": [
      "Happy Number\n"
     ]
    }
   ],
   "source": [
    "#Take input\n",
    "input_text = '128'\n",
    "input_text = input_text.replace(',', '')\n",
    "input_number = int(input_text)\n",
    "is_happy_number = True\n",
    "\n",
    "#Function to check if all digits of n divide it or not\n",
    "for digit in input_text:\n",
    "    if digit != '0' and input_number % int(digit) != 0:\n",
    "        is_happy_number = False\n",
    "        break\n",
    "\n",
    "#Print result\n",
    "if is_happy_number:\n",
    "    print(\"Happy Number\")\n",
    "else:\n",
    "    print(\"Sad Number\")"
   ]
  },
  {
   "cell_type": "code",
   "execution_count": 12,
   "metadata": {},
   "outputs": [
    {
     "name": "stdout",
     "output_type": "stream",
     "text": [
      "Sad Number\n"
     ]
    }
   ],
   "source": [
    "#Take input\n",
    "input_text = '256'\n",
    "input_text = input_text.replace(',', '')\n",
    "input_number = int(input_text)\n",
    "is_happy_number = True\n",
    "\n",
    "#Function to check if all digits of n divide it or not\n",
    "for digit in input_text:\n",
    "    if digit != '0' and input_number % int(digit) != 0:\n",
    "        is_happy_number = False\n",
    "        break\n",
    "\n",
    "#Print result\n",
    "if is_happy_number:\n",
    "    print(\"Happy Number\")\n",
    "else:\n",
    "    print(\"Sad Number\")"
   ]
  },
  {
   "cell_type": "code",
   "execution_count": 13,
   "metadata": {},
   "outputs": [
    {
     "name": "stdout",
     "output_type": "stream",
     "text": [
      "Happy Number\n"
     ]
    }
   ],
   "source": [
    "#Take input\n",
    "input_text = '1,124'\n",
    "input_text = input_text.replace(',', '')\n",
    "input_number = int(input_text)\n",
    "is_happy_number = True\n",
    "\n",
    "#Function to check if all digits of n divide it or not\n",
    "for digit in input_text:\n",
    "    if digit != '0' and input_number % int(digit) != 0:\n",
    "        is_happy_number = False\n",
    "        break\n",
    "\n",
    "#Print result\n",
    "if is_happy_number:\n",
    "    print(\"Happy Number\")\n",
    "else:\n",
    "    print(\"Sad Number\")"
   ]
  },
  {
   "cell_type": "code",
   "execution_count": 14,
   "metadata": {},
   "outputs": [
    {
     "name": "stdout",
     "output_type": "stream",
     "text": [
      "Sad Number\n"
     ]
    }
   ],
   "source": [
    "#Take input\n",
    "input_text = '8,845'\n",
    "input_text = input_text.replace(',', '')\n",
    "input_number = int(input_text)\n",
    "is_happy_number = True\n",
    "\n",
    "#Function to check if all digits of n divide it or not\n",
    "for digit in input_text:\n",
    "    if digit != '0' and input_number % int(digit) != 0:\n",
    "        is_happy_number = False\n",
    "        break\n",
    "\n",
    "#Print result\n",
    "if is_happy_number:\n",
    "    print(\"Happy Number\")\n",
    "else:\n",
    "    print(\"Sad Number\")"
   ]
  },
  {
   "cell_type": "code",
   "execution_count": 15,
   "metadata": {},
   "outputs": [
    {
     "name": "stdout",
     "output_type": "stream",
     "text": [
      "Happy Number\n"
     ]
    }
   ],
   "source": [
    "#Take input\n",
    "input_text = '1,111'\n",
    "input_text = input_text.replace(',', '')\n",
    "input_number = int(input_text)\n",
    "is_happy_number = True\n",
    "\n",
    "#Function to check if all digits of n divide it or not\n",
    "for digit in input_text:\n",
    "    if digit != '0' and input_number % int(digit) != 0:\n",
    "        is_happy_number = False\n",
    "        break\n",
    "\n",
    "#Print result\n",
    "if is_happy_number:\n",
    "    print(\"Happy Number\")\n",
    "else:\n",
    "    print(\"Sad Number\")"
   ]
  }
 ],
 "metadata": {
  "kernelspec": {
   "display_name": "Python 3 (ipykernel)",
   "language": "python",
   "name": "python3"
  },
  "language_info": {
   "codemirror_mode": {
    "name": "ipython",
    "version": 3
   },
   "file_extension": ".py",
   "mimetype": "text/x-python",
   "name": "python",
   "nbconvert_exporter": "python",
   "pygments_lexer": "ipython3",
   "version": "3.12.4"
  }
 },
 "nbformat": 4,
 "nbformat_minor": 4
}

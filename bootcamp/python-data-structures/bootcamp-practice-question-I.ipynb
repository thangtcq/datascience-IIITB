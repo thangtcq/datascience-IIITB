{
 "cells": [
  {
   "cell_type": "markdown",
   "metadata": {},
   "source": [
    "<h5>List sum</h5>\n",
    "<b>Description</b><br>\n",
    "Suppose you want to know the total score of the Indian cricket team in a given match. To do so, your task is to find the sum of all the scores of the Indian team players. The scores are provided as a list, with each element as an individual score of the players. Also, there is a condition that if the number of elements in the list is more than 11, then it is an invalid input and the output should be -1.<br>\n",
    "<br>\n",
    "<b>Input:</b><br>\n",
    "List<br>\n",
    "<br>\n",
    "<b>Output:</b><br>\n",
    "An integer<br>\n",
    "<br>\n",
    "<b>Sample Input:</b><br>\n",
    "[11, 13, 101, 14, 33, 141]<br>\n",
    "<br>\n",
    "<b>Sample Output:</b><br>\n",
    "313<br>\n",
    "<br>\n",
    "<b>Sample Input:</b><br>\n",
    "[11, 13, 101, 14, 33, 141, 12, 144, 54, 67, 8, 11]<br>\n",
    "<br>\n",
    "<b>Sample Output:</b><br>\n",
    "-1<br>\n",
    "<br>\n",
    "<b>Sample Input:</b><br>\n",
    "[100, 80, 30, 10, 0, 1, 2, 0]<br>\n",
    "<br>\n",
    "<b>Sample Output:</b><br>\n",
    "223<br>\n",
    "<br>\n",
    "<b>Execution time limit</b><br>\n",
    "10 seconds"
   ]
  },
  {
   "cell_type": "code",
   "execution_count": 1,
   "metadata": {},
   "outputs": [
    {
     "name": "stdout",
     "output_type": "stream",
     "text": [
      "313\n"
     ]
    }
   ],
   "source": [
    "#Take scores list as input\n",
    "scores = [11, 13, 101, 14, 33, 141]\n",
    "\n",
    "#If the number of score entries in the list is greater than 11, return -1\n",
    "if len(scores) > 11:\n",
    "    print(-1)\n",
    "\n",
    "#Calculate the sum of scores\n",
    "else:\n",
    "    print(sum(scores))"
   ]
  },
  {
   "cell_type": "code",
   "execution_count": 2,
   "metadata": {},
   "outputs": [
    {
     "name": "stdout",
     "output_type": "stream",
     "text": [
      "-1\n"
     ]
    }
   ],
   "source": [
    "#Take scores list as input\n",
    "scores = [11, 13, 101, 14, 33, 141, 12, 144, 54, 67, 8, 11]\n",
    "\n",
    "#If the number of score entries in the list is greater than 11, return -1\n",
    "if len(scores) > 11:\n",
    "    print(-1)\n",
    "\n",
    "#Calculate the sum of scores\n",
    "else:\n",
    "    print(sum(scores))"
   ]
  },
  {
   "cell_type": "code",
   "execution_count": 3,
   "metadata": {},
   "outputs": [
    {
     "name": "stdout",
     "output_type": "stream",
     "text": [
      "223\n"
     ]
    }
   ],
   "source": [
    "#Take scores list as input\n",
    "scores = [100, 80, 30, 10, 0, 1, 2, 0]\n",
    "\n",
    "#If the number of score entries in the list is greater than 11, return -1\n",
    "if len(scores) > 11:\n",
    "    print(-1)\n",
    "\n",
    "#Calculate the sum of scores\n",
    "else:\n",
    "    print(sum(scores))"
   ]
  },
  {
   "cell_type": "code",
   "execution_count": 4,
   "metadata": {},
   "outputs": [
    {
     "name": "stdout",
     "output_type": "stream",
     "text": [
      "257\n"
     ]
    }
   ],
   "source": [
    "#Take scores list as input\n",
    "scores = [17, 0, 0, 140, 100]\n",
    "\n",
    "#If the number of score entries in the list is greater than 11, return -1\n",
    "if len(scores) > 11:\n",
    "    print(-1)\n",
    "\n",
    "#Calculate the sum of scores\n",
    "else:\n",
    "    print(sum(scores))"
   ]
  },
  {
   "cell_type": "code",
   "execution_count": 5,
   "metadata": {},
   "outputs": [
    {
     "name": "stdout",
     "output_type": "stream",
     "text": [
      "-1\n"
     ]
    }
   ],
   "source": [
    "#Take scores list as input\n",
    "scores = [11, 15, 10, 4, 23, 101, 12, 131, 5, 6, 0, 110]\n",
    "\n",
    "#If the number of score entries in the list is greater than 11, return -1\n",
    "if len(scores) > 11:\n",
    "    print(-1)\n",
    "\n",
    "#Calculate the sum of scores\n",
    "else:\n",
    "    print(sum(scores))"
   ]
  },
  {
   "cell_type": "markdown",
   "metadata": {},
   "source": [
    "<h5>Length of list elements</h5>\n",
    "<b>Description</b><br>\n",
    "Given a list of strings, write a program to find the number of strings whose length is greater than or equal to K, where K is a positive integer.<br>\n",
    "<br>\n",
    "<b>Input:</b><br>\n",
    "List of strings and an integer<br>\n",
    "<br>\n",
    "<b>Output:</b><br>\n",
    "Integer<br>\n",
    "<br>\n",
    "<b>Sample Input:</b><br>\n",
    "[Mumbai, Hyderabad, Calicut, Chennai]<br>\n",
    "9<br>\n",
    "<br>\n",
    "<b>Sample Output:</b><br>\n",
    "1<br>\n",
    "<br>\n",
    "<b>Sample Input:</b><br>\n",
    "[Datascience, Data Analyst, Programmer, Manager]<br>\n",
    "8<br>\n",
    "<br>\n",
    "<b>Sample Output:</b><br>\n",
    "3<br>\n",
    "<br>\n",
    "<b>Execution time limit</b><br>\n",
    "10 seconds"
   ]
  },
  {
   "cell_type": "code",
   "execution_count": 6,
   "metadata": {},
   "outputs": [
    {
     "name": "stdout",
     "output_type": "stream",
     "text": [
      "3\n"
     ]
    }
   ],
   "source": [
    "#Take input\n",
    "input_list = ['Datascience', 'Dataanalyst', 'Programmer', 'Manager']\n",
    "K = 8\n",
    "\n",
    "#Initialising a count variagble that tracks the number of elements in the list with length > k\n",
    "count = 0\n",
    "\n",
    "#Looping through the list and check the length of each element. Increase the count by 1 if the length is greater than K\n",
    "for i in input_list:\n",
    "\tif len(i) >= K:\n",
    "\t    count = count+1\n",
    "\t    \n",
    "print(count)"
   ]
  },
  {
   "cell_type": "code",
   "execution_count": 7,
   "metadata": {},
   "outputs": [
    {
     "name": "stdout",
     "output_type": "stream",
     "text": [
      "2\n"
     ]
    }
   ],
   "source": [
    "#Take input\n",
    "input_list = ['Barcelona', 'Real Madrid', 'Arsenal']\n",
    "K = 8\n",
    "\n",
    "#Initialising a count variagble that tracks the number of elements in the list with length > k\n",
    "count = 0\n",
    "\n",
    "#Looping through the list and check the length of each element. Increase the count by 1 if the length is greater than K\n",
    "for i in input_list:\n",
    "\tif len(i) >= K:\n",
    "\t    count = count+1\n",
    "\t    \n",
    "print(count)"
   ]
  },
  {
   "cell_type": "code",
   "execution_count": 8,
   "metadata": {},
   "outputs": [
    {
     "name": "stdout",
     "output_type": "stream",
     "text": [
      "9\n"
     ]
    }
   ],
   "source": [
    "#Take input\n",
    "input_list = ['India', 'Australia', 'Srilanka', 'Newzeland', 'Pakistan', 'Syria', 'Iran', 'Russia', 'England']\n",
    "K = 3\n",
    "\n",
    "#Initialising a count variagble that tracks the number of elements in the list with length > k\n",
    "count = 0\n",
    "\n",
    "#Looping through the list and check the length of each element. Increase the count by 1 if the length is greater than K\n",
    "for i in input_list:\n",
    "\tif len(i) >= K:\n",
    "\t    count = count+1\n",
    "\t    \n",
    "print(count)"
   ]
  },
  {
   "cell_type": "code",
   "execution_count": 9,
   "metadata": {},
   "outputs": [
    {
     "name": "stdout",
     "output_type": "stream",
     "text": [
      "1\n"
     ]
    }
   ],
   "source": [
    "#Take input\n",
    "input_list = ['Mumbai', 'Hyderabad', 'Calicut', 'Chennai']\n",
    "K = 9\n",
    "\n",
    "#Initialising a count variagble that tracks the number of elements in the list with length > k\n",
    "count = 0\n",
    "\n",
    "#Looping through the list and check the length of each element. Increase the count by 1 if the length is greater than K\n",
    "for i in input_list:\n",
    "\tif len(i) >= K:\n",
    "\t    count = count+1\n",
    "\t    \n",
    "print(count)"
   ]
  },
  {
   "cell_type": "markdown",
   "metadata": {},
   "source": [
    "<h5>Increment list elements</h5>\n",
    "<b>Description</b><br>\n",
    "Given a list of strings, increment the value of the numeric strings by 'k'.<br>\n",
    "Hint: The function isdigit() may be useful here.<br>\n",
    "<br>\n",
    "<b>Input:</b><br>\n",
    "A list in the first line and an integer in the second line<br>\n",
    "<br>\n",
    "<b>Output:</b><br>\n",
    "A list<br>\n",
    "<br>\n",
    "<b>Sample Input:</b><br>\n",
    "['Python', '123', 'Data']<br>\n",
    "4<br>\n",
    "<br>\n",
    "<b>Sample Output:</b><br>\n",
    "['Python', '127', 'Data']<br>\n",
    "<br>\n",
    "<b>Sample Input:</b><br>\n",
    "['upGrad', '1991', 'Mumbai']<br>\n",
    "0<br>\n",
    "<br>\n",
    "<b>Sample Output:</b><br>\n",
    "['upGrad', '1991', 'Mumbai']<br>\n",
    "<br>\n",
    "<b>Sample Input:</b><br>\n",
    "['Data Science', '100', '10']<br>\n",
    "10<br>\n",
    "<br>\n",
    "<b>Sample Output:</b><br>\n",
    "['Data Science', '110', '20']<br>\n",
    "<br>\n",
    "<b>Execution time limit</b><br>\n",
    "10 seconds"
   ]
  },
  {
   "cell_type": "code",
   "execution_count": 10,
   "metadata": {},
   "outputs": [
    {
     "name": "stdout",
     "output_type": "stream",
     "text": [
      "['boy', '127', 'Girl']\n"
     ]
    }
   ],
   "source": [
    "#Take input\n",
    "input_list = ['boy', '123', 'Girl']\n",
    "K = 4\n",
    "\n",
    "#Function that takes the input list and increment value as an argument \n",
    "for i in range(len(input_list)):\n",
    "    #Incrementing on testing for digit, increment by K or else continue the loop \n",
    "    if input_list[i].isdigit(): \n",
    "        input_list[i] = str(int(input_list[i])+K)\n",
    "    else: \n",
    "        continue\n",
    "print(input_list)"
   ]
  },
  {
   "cell_type": "code",
   "execution_count": 11,
   "metadata": {},
   "outputs": [
    {
     "name": "stdout",
     "output_type": "stream",
     "text": [
      "['upGrad', '1991', 'mumbai']\n"
     ]
    }
   ],
   "source": [
    "#Take input\n",
    "input_list = ['upGrad', '1991', 'mumbai']\n",
    "K = 0\n",
    "\n",
    "#Function that takes the input list and increment value as an argument \n",
    "for i in range(len(input_list)):\n",
    "    #Incrementing on testing for digit, increment by K or else continue the loop \n",
    "    if input_list[i].isdigit(): \n",
    "        input_list[i] = str(int(input_list[i])+K)\n",
    "    else: \n",
    "        continue\n",
    "print(input_list)"
   ]
  },
  {
   "cell_type": "code",
   "execution_count": 12,
   "metadata": {},
   "outputs": [
    {
     "name": "stdout",
     "output_type": "stream",
     "text": [
      "['Data Science', '110', '20']\n"
     ]
    }
   ],
   "source": [
    "#Take input\n",
    "input_list = ['Data Science', '100', '10']\n",
    "K = 10\n",
    "\n",
    "#Function that takes the input list and increment value as an argument \n",
    "for i in range(len(input_list)):\n",
    "    #Incrementing on testing for digit, increment by K or else continue the loop \n",
    "    if input_list[i].isdigit(): \n",
    "        input_list[i] = str(int(input_list[i])+K)\n",
    "    else: \n",
    "        continue\n",
    "print(input_list)"
   ]
  },
  {
   "cell_type": "code",
   "execution_count": 13,
   "metadata": {},
   "outputs": [
    {
     "name": "stdout",
     "output_type": "stream",
     "text": [
      "['python', 'Java', '2090']\n"
     ]
    }
   ],
   "source": [
    "#Take input\n",
    "input_list = ['python', 'Java', '1990']\n",
    "K = 100\n",
    "\n",
    "#Function that takes the input list and increment value as an argument \n",
    "for i in range(len(input_list)):\n",
    "    #Incrementing on testing for digit, increment by K or else continue the loop \n",
    "    if input_list[i].isdigit(): \n",
    "        input_list[i] = str(int(input_list[i])+K)\n",
    "    else: \n",
    "        continue\n",
    "print(input_list)"
   ]
  },
  {
   "cell_type": "code",
   "execution_count": 14,
   "metadata": {},
   "outputs": [
    {
     "name": "stdout",
     "output_type": "stream",
     "text": [
      "['India', 'Japan', 'China', 'Pakistan', 'Sri Lanka', 'Indonesia', '1920', '120']\n"
     ]
    }
   ],
   "source": [
    "#Take input\n",
    "input_list = ['India', 'Japan', 'China', 'Pakistan', 'Sri Lanka', 'Indonesia', '1800', '0']\n",
    "K = 120\n",
    "\n",
    "#Function that takes the input list and increment value as an argument \n",
    "for i in range(len(input_list)):\n",
    "    #Incrementing on testing for digit, increment by K or else continue the loop \n",
    "    if input_list[i].isdigit(): \n",
    "        input_list[i] = str(int(input_list[i])+K)\n",
    "    else: \n",
    "        continue\n",
    "print(input_list)"
   ]
  },
  {
   "cell_type": "markdown",
   "metadata": {},
   "source": [
    "<h5>Slicing a list</h5>\n",
    "<b>Description</b><br>\n",
    "Given a list of strings and an integer K, write a python code to print all the elements from the K th position till the end of the list.<br>\n",
    "Note: Assume that K (a positive integer) will always be less than or equal to the length of the list<br>\n",
    "<br>\n",
    "<b>Input:</b><br>\n",
    "A list of strings in the first line and an integer in the second line of the input.<br>\n",
    "<br>\n",
    "<b>Output:</b><br>\n",
    "A list<br>\n",
    "<br>\n",
    "<b>Sample Input:</b><br>\n",
    "['Mumbai', 'Delhi', 'Australia', 'Nigeria', 'USA', 'London', 'Canada']<br>\n",
    "2<br>\n",
    "<br>\n",
    "<b>Sample Output:</b><br>\n",
    "['Delhi', 'Australia', 'Nigeria', 'USA', 'London', 'Canada']<br>\n",
    "<br>\n",
    "<b>Sample Input:</b><br>\n",
    "['Chennai', 'Vizag', 'Austria', 'Germany', 'Japan']<br>\n",
    "3<br>\n",
    "<br>\n",
    "<b>Sample Output:</b><br>\n",
    "['Austria', 'Germany', 'Japan']<br>\n",
    "<br>\n",
    "<b>Execution time limit</b><br>\n",
    "10 seconds"
   ]
  },
  {
   "cell_type": "code",
   "execution_count": 15,
   "metadata": {},
   "outputs": [
    {
     "name": "stdout",
     "output_type": "stream",
     "text": [
      "['Delhi', 'Australia', 'Nigeria', 'USA', 'London', 'Canada']\n"
     ]
    }
   ],
   "source": [
    "#Take input\n",
    "import ast\n",
    "input_lst = ['Mumbai', 'Delhi', 'Australia', 'Nigeria', 'USA', 'London', 'Canada']\n",
    "K = 2\n",
    "\n",
    "print(input_lst[K-1:len(input_lst)])"
   ]
  },
  {
   "cell_type": "code",
   "execution_count": 16,
   "metadata": {},
   "outputs": [
    {
     "name": "stdout",
     "output_type": "stream",
     "text": [
      "['Austria', 'Germany', 'Japan']\n"
     ]
    }
   ],
   "source": [
    "#Take input\n",
    "import ast\n",
    "input_lst = ['Chennai', 'Vizag', 'Austria', 'Germany', 'Japan']\n",
    "K = 3\n",
    "\n",
    "print(input_lst[K-1:len(input_lst)])"
   ]
  },
  {
   "cell_type": "code",
   "execution_count": 17,
   "metadata": {},
   "outputs": [
    {
     "name": "stdout",
     "output_type": "stream",
     "text": [
      "['Murry', 'Muller', 'Neymar']\n"
     ]
    }
   ],
   "source": [
    "#Take input\n",
    "import ast\n",
    "input_lst = ['Ronaldo', 'Messi', 'Countinho', 'Murry', 'Muller', 'Neymar']\n",
    "K = 4\n",
    "\n",
    "print(input_lst[K-1:len(input_lst)])"
   ]
  },
  {
   "cell_type": "code",
   "execution_count": 18,
   "metadata": {},
   "outputs": [
    {
     "name": "stdout",
     "output_type": "stream",
     "text": [
      "['Sachin', 'Dravid', 'Kohli', 'Rohit', 'Vijay']\n"
     ]
    }
   ],
   "source": [
    "#Take input\n",
    "import ast\n",
    "input_lst = ['Sachin', 'Dravid', 'Kohli', 'Rohit', 'Vijay']\n",
    "K = 1\n",
    "\n",
    "print(input_lst[K-1:len(input_lst)])"
   ]
  }
 ],
 "metadata": {
  "kernelspec": {
   "display_name": "Python 3 (ipykernel)",
   "language": "python",
   "name": "python3"
  },
  "language_info": {
   "codemirror_mode": {
    "name": "ipython",
    "version": 3
   },
   "file_extension": ".py",
   "mimetype": "text/x-python",
   "name": "python",
   "nbconvert_exporter": "python",
   "pygments_lexer": "ipython3",
   "version": "3.12.4"
  }
 },
 "nbformat": 4,
 "nbformat_minor": 4
}

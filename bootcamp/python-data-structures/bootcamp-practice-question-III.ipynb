{
 "cells": [
  {
   "cell_type": "markdown",
   "metadata": {},
   "source": [
    "<h5>Updating the dictionary keys</h5>\n",
    "<b>Description</b><br>\n",
    "You are provided with a dictionary containing the names of different football clubs as keys and the name of the main player of the corresponding team as values. When the main player of a team retires, one of their teammates steps up to fill in their role as the main player.<br>\n",
    "You're also provided with a list which contains the names of the football clubs for which the current main players are retiring and the names of the corresponding new main player. Your task is to update the values in the original dictionary with the names of the new main players.<br>\n",
    "<br>\n",
    "<b>Input:</b><br>\n",
    "The input consists of a dictionary with different football clubs' names and their main player. In the next line, you will be provided with a list of the new players who have taken up the main roles.<br>\n",
    "<br>\n",
    "<b>Output:</b><br>\n",
    "Dictionary<br>\n",
    "<br>\n",
    "<b>Sample Input:</b><br>\n",
    "{'Barcelona': 'Messi', 'Real Madrid': 'Benzema', 'PSG': 'Neymar'}<br>\n",
    "[['Barcelona', 'Griezmann'], ['PSG', 'Ramos']]<br>\n",
    "<br>\n",
    "<b>Sample Output:</b><br>\n",
    "{'Barcelona':'Griezmann', 'Real Madrid': 'Benzema', 'PSG': 'Ramos'}<br>\n",
    "<br>\n",
    "<b>Sample Input:</b><br>\n",
    "{'Liverpool':'A', 'Real Madrid': 'B', 'Chelsea': 'C'}<br>\n",
    "[['Liverpool', 'R']]<br>\n",
    "<br>\n",
    "<b>Sample Output:</b><br>\n",
    "{'Liverpool':'R', 'Real Madrid': 'B', 'Chelsea': 'C'}<br>\n",
    "<br>\n",
    "<b>Sample Input:</b><br>\n",
    "{'Atletico Madrid': 'D', 'Juventus': 'B', 'Chelsea': 'C'}<br>\n",
    "[['Juventus', 'G'], ['Chelsea', 'H']]<br>\n",
    "<br>\n",
    "<b>Sample Output:</b><br>\n",
    "{'Atletico Madrid': 'D', 'Juventus': 'G', 'Chelsea': 'H'}<br>\n",
    "<br>\n",
    "<b>Execution time limit</b><br>\n",
    "10 seconds"
   ]
  },
  {
   "cell_type": "code",
   "execution_count": 1,
   "metadata": {},
   "outputs": [
    {
     "name": "stdout",
     "output_type": "stream",
     "text": [
      "{'Barcelona': 'Griezmann', 'Real Madrid': 'Benzema', 'PSG': 'Ramos'}\n"
     ]
    }
   ],
   "source": [
    "#Take input\n",
    "input_dict = {'Barcelona': 'Messi', 'Real Madrid': 'Benzema', 'PSG': 'Neymar'}\n",
    "input_list = [['Barcelona', 'Griezmann'], ['PSG', 'Ramos']]\n",
    "\n",
    "for club, new_player in input_list:\n",
    "    if club in input_dict:\n",
    "        input_dict[club] = new_player\n",
    "print(input_dict)"
   ]
  },
  {
   "cell_type": "code",
   "execution_count": 2,
   "metadata": {},
   "outputs": [
    {
     "name": "stdout",
     "output_type": "stream",
     "text": [
      "{'Liverpool': 'R', 'Real Madrid': 'B', 'Chelsea': 'C'}\n"
     ]
    }
   ],
   "source": [
    "#Take input\n",
    "input_dict = {'Liverpool': 'A' , 'Real Madrid': 'B', 'Chelsea': 'C' }\n",
    "input_list = [['Liverpool', 'R']]\n",
    "\n",
    "for club, new_player in input_list:\n",
    "    if club in input_dict:\n",
    "        input_dict[club] = new_player\n",
    "print(input_dict)"
   ]
  },
  {
   "cell_type": "code",
   "execution_count": 3,
   "metadata": {},
   "outputs": [
    {
     "name": "stdout",
     "output_type": "stream",
     "text": [
      "{'Atletico Madrid': 'D', 'Juventus': 'G', 'Chelsea': 'H'}\n"
     ]
    }
   ],
   "source": [
    "#Take input\n",
    "input_dict = {'Atletico Madrid': 'D' , 'Juventus': 'B', 'Chelsea': 'C' }\n",
    "input_list = [['Juventus', 'G'], ['Chelsea', 'H']]\n",
    "\n",
    "for club, new_player in input_list:\n",
    "    if club in input_dict:\n",
    "        input_dict[club] = new_player\n",
    "print(input_dict)"
   ]
  },
  {
   "cell_type": "code",
   "execution_count": 4,
   "metadata": {},
   "outputs": [
    {
     "name": "stdout",
     "output_type": "stream",
     "text": [
      "{'Atletico Madrid': 'A', 'Manchester United': 'N', 'Arsenal': 'Z'}\n"
     ]
    }
   ],
   "source": [
    "#Take input\n",
    "input_dict = {'Atletico Madrid': 'F' , 'Manchester United': 'N', 'Arsenal': 'C' }\n",
    "input_list = [['Atletico Madrid', 'A'], ['Arsenal', 'Z']]\n",
    "\n",
    "for club, new_player in input_list:\n",
    "    if club in input_dict:\n",
    "        input_dict[club] = new_player\n",
    "print(input_dict)"
   ]
  },
  {
   "cell_type": "code",
   "execution_count": 5,
   "metadata": {},
   "outputs": [
    {
     "name": "stdout",
     "output_type": "stream",
     "text": [
      "{'Real  Madrid': 'R', 'Manchester City': 'D', 'Bayern Munich': 'U'}\n"
     ]
    }
   ],
   "source": [
    "#Take input\n",
    "input_dict = {'Real  Madrid': 'M' , 'Manchester City': 'C', 'Bayern Munich': 'B'}\n",
    "input_list = [['Real  Madrid', 'R'], ['Manchester City', 'D'], ['Bayern Munich', 'U']]\n",
    "\n",
    "for club, new_player in input_list:\n",
    "    if club in input_dict:\n",
    "        input_dict[club] = new_player\n",
    "print(input_dict)"
   ]
  },
  {
   "cell_type": "markdown",
   "metadata": {},
   "source": [
    "<h5>List average</h5>\n",
    "<b>Description</b><br>\n",
    "Suppose you are working as a Marketing Lead in a company and you want to recruit new employees in your team (which already consists of 10 members) to carry out the company's major project. You select the employees based on five parameters: A, B, C, D and E. The value of each parameter is represented on a scale of 1 to 10. The present average value of these parameters for your team is given to you in a list (in the same order). You recruit a person only if their scores do not reduce the average score of more than two parameters of your team. If they are recruited, print the output as 'Selected'. If not, print the output as 'Rejected'.<br>\n",
    "<br>\n",
    "<b>Input:</b><br>\n",
    "Two lists, where the first list is the average scores of the team in the five parameters, and the second list is the scores of the new employee in all the five parameters. The parameter order is the same for both the lists, which is A, B, C, D and E.<br>\n",
    "<br>\n",
    "<b>Output:</b><br>\n",
    "String<br>\n",
    "<br>\n",
    "<b>Sample Input:</b><br>\n",
    "['8', '4', '6', '9', '7']<br>\n",
    "['1', '1.1', '1.2', '1.2', '2.3']<br>\n",
    "<br>\n",
    "<b>Sample Output:</b><br>\n",
    "Rejected<br>\n",
    "<br>\n",
    "<b>Sample Input:</b><br>\n",
    "['10', '5', '6', '9', '7']<br>\n",
    "['10', ' 9.8', '7.2', '1.66', '4.3']<br>\n",
    "<br>\n",
    "<b>Sample Output:</b><br>\n",
    "Selected<br>\n",
    "<br>\n",
    "<b>Sample Input:</b><br>\n",
    "['8', '5.66', '6.5', '10', '10']<br>\n",
    "['7', '10', '6', '7', '9']<br>\n",
    "<br>\n",
    "<b>Sample Output:</b><br>\n",
    "Rejected<br>\n",
    "<br>\n",
    "<b>Execution time limit</b><br>\n",
    "10 seconds"
   ]
  },
  {
   "cell_type": "code",
   "execution_count": 6,
   "metadata": {},
   "outputs": [
    {
     "name": "stdout",
     "output_type": "stream",
     "text": [
      "Rejected\n"
     ]
    }
   ],
   "source": [
    "#Take input\n",
    "input_list_1 = ['8', '4', '6', '9', '7']\n",
    "input_list_2 = ['1', '1.1', '1.2', '1.2', '2.3']\n",
    "\n",
    "reduced_parameters = 0\n",
    "\n",
    "for i in range(len(input_list_1)):\n",
    "    if float(input_list_2[i]) < float(input_list_1[i]):\n",
    "        reduced_parameters += 1\n",
    "\n",
    "if reduced_parameters > 2:\n",
    "    print(\"Rejected\")\n",
    "else:\n",
    "    print(\"Selected\")"
   ]
  },
  {
   "cell_type": "code",
   "execution_count": 7,
   "metadata": {},
   "outputs": [
    {
     "name": "stdout",
     "output_type": "stream",
     "text": [
      "Selected\n"
     ]
    }
   ],
   "source": [
    "#Take input\n",
    "input_list_1 = ['10', '5', '6', '9', '7']\n",
    "input_list_2 = ['10', '9.8', '7.2', '1.66', '4.3']\n",
    "\n",
    "reduced_parameters = 0\n",
    "\n",
    "for i in range(len(input_list_1)):\n",
    "    if float(input_list_2[i]) < float(input_list_1[i]):\n",
    "        reduced_parameters += 1\n",
    "\n",
    "if reduced_parameters > 2:\n",
    "    print(\"Rejected\")\n",
    "else:\n",
    "    print(\"Selected\")"
   ]
  },
  {
   "cell_type": "code",
   "execution_count": 8,
   "metadata": {},
   "outputs": [
    {
     "name": "stdout",
     "output_type": "stream",
     "text": [
      "Selected\n"
     ]
    }
   ],
   "source": [
    "#Take input\n",
    "input_list_1 = ['4', '5', '6', '10', '10']\n",
    "input_list_2 = ['7', '10', '6', '7', '9']\n",
    "\n",
    "reduced_parameters = 0\n",
    "\n",
    "for i in range(len(input_list_1)):\n",
    "    if float(input_list_2[i]) < float(input_list_1[i]):\n",
    "        reduced_parameters += 1\n",
    "\n",
    "if reduced_parameters > 2:\n",
    "    print(\"Rejected\")\n",
    "else:\n",
    "    print(\"Selected\")"
   ]
  },
  {
   "cell_type": "code",
   "execution_count": 9,
   "metadata": {},
   "outputs": [
    {
     "name": "stdout",
     "output_type": "stream",
     "text": [
      "Selected\n"
     ]
    }
   ],
   "source": [
    "#Take input\n",
    "input_list_1 = ['8', '5', '6', '4.7', '10']\n",
    "input_list_2 = ['10', '10', '10', '7', '10']\n",
    "\n",
    "reduced_parameters = 0\n",
    "\n",
    "for i in range(len(input_list_1)):\n",
    "    if float(input_list_2[i]) < float(input_list_1[i]):\n",
    "        reduced_parameters += 1\n",
    "\n",
    "if reduced_parameters > 2:\n",
    "    print(\"Rejected\")\n",
    "else:\n",
    "    print(\"Selected\")"
   ]
  },
  {
   "cell_type": "markdown",
   "metadata": {},
   "source": [
    "<h5>Merge dictionaries</h5>\n",
    "<b>Description</b><br>\n",
    "Write a python code to merge two dictionaries into a single dictionary.<br>\n",
    "<br>\n",
    "<b>Input:</b><br>\n",
    "Two dictionaries, one in each line<br>\n",
    "<br>\n",
    "<b>Output:</b><br>\n",
    "A Dictionary<br>\n",
    "<br>\n",
    "<b>Sample Input:</b><br>\n",
    "{'a': 10, 'b': 8}<br>\n",
    "{'d': 6, 'c': 4}<br>\n",
    "<br>\n",
    "<b>Sample Output:</b><br>\n",
    "{'c': 4, 'a': 10, 'b': 8, 'd': 6}<br>\n",
    "<br>\n",
    "<b>Sample Input:</b><br>\n",
    "{'a': 110, 'b': 88}<br>\n",
    "{'d': 62, 'c': 44}<br>\n",
    "<br>\n",
    "<b>Sample Output:</b><br>\n",
    "Rejected<br>\n",
    "<br>\n",
    "<b>Execution time limit</b><br>\n",
    "10 seconds"
   ]
  },
  {
   "cell_type": "code",
   "execution_count": 10,
   "metadata": {},
   "outputs": [
    {
     "name": "stdout",
     "output_type": "stream",
     "text": [
      "{'A': 100, 'B': 8, 'E': 63, 'D': 43}\n"
     ]
    }
   ],
   "source": [
    "#Take input\n",
    "input_dict_1 = {'A': 100, 'B': 8}\n",
    "input_dict_2 = {'E': 63, 'D': 43}\n",
    "\n",
    "merged_dict = {**input_dict_1, **input_dict_2}\n",
    "print(merged_dict)"
   ]
  },
  {
   "cell_type": "code",
   "execution_count": 11,
   "metadata": {},
   "outputs": [
    {
     "name": "stdout",
     "output_type": "stream",
     "text": [
      "{'A': 'Python', 'B': 'Java', 'E': 'Ruby', 'D': 'Rails'}\n"
     ]
    }
   ],
   "source": [
    "#Take input\n",
    "input_dict_1 = {'A': 'Python', 'B': 'Java'}\n",
    "input_dict_2 = {'E': 'Ruby', 'D': 'Rails'}\n",
    "\n",
    "merged_dict = {**input_dict_1, **input_dict_2}\n",
    "print(merged_dict)"
   ]
  },
  {
   "cell_type": "code",
   "execution_count": 12,
   "metadata": {},
   "outputs": [
    {
     "name": "stdout",
     "output_type": "stream",
     "text": [
      "{'a': 10, 'b': 8, 'd': 6, 'c': 4}\n"
     ]
    }
   ],
   "source": [
    "#Take input\n",
    "input_dict_1 = {'a': 10, 'b': 8}\n",
    "input_dict_2 = {'d': 6, 'c': 4}\n",
    "\n",
    "merged_dict = {**input_dict_1, **input_dict_2}\n",
    "print(merged_dict)"
   ]
  }
 ],
 "metadata": {
  "kernelspec": {
   "display_name": "Python 3 (ipykernel)",
   "language": "python",
   "name": "python3"
  },
  "language_info": {
   "codemirror_mode": {
    "name": "ipython",
    "version": 3
   },
   "file_extension": ".py",
   "mimetype": "text/x-python",
   "name": "python",
   "nbconvert_exporter": "python",
   "pygments_lexer": "ipython3",
   "version": "3.12.4"
  }
 },
 "nbformat": 4,
 "nbformat_minor": 4
}

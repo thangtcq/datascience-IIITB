{
 "cells": [
  {
   "cell_type": "markdown",
   "metadata": {},
   "source": [
    "<h5>Multiplication Table</h5>\n",
    "<b>Description</b><br>\n",
    "Write a program to display the multiplication table of a given number.<br>\n",
    "<br>\n",
    "<b>Input:</b><br>\n",
    "A positive integer<br>\n",
    "<br>\n",
    "<b>Output:</b><br>\n",
    "Multiplication table<br>\n",
    "<br>\n",
    "<b>Sample Input:</b><br>\n",
    "5<br>\n",
    "<br>\n",
    "<b>Sample Output:</b><br>\n",
    "5 * 1 = 5<br>\n",
    "5 * 2 = 10<br>\n",
    "5 * 3 = 15<br>\n",
    "5 * 4 = 20<br>\n",
    "5 * 5 = 25<br>\n",
    "5 * 6 = 30<br>\n",
    "5 * 7 = 35<br>\n",
    "5 * 8 = 40<br>\n",
    "5 * 9 = 45<br>\n",
    "5 * 10 = 50<br>\n",
    "<br>\n",
    "<b>Execution time limit</b><br>\n",
    "15 seconds"
   ]
  },
  {
   "cell_type": "code",
   "execution_count": 1,
   "metadata": {},
   "outputs": [
    {
     "name": "stdout",
     "output_type": "stream",
     "text": [
      "5 * 1 = 5\n",
      "5 * 2 = 10\n",
      "5 * 3 = 15\n",
      "5 * 4 = 20\n",
      "5 * 5 = 25\n",
      "5 * 6 = 30\n",
      "5 * 7 = 35\n",
      "5 * 8 = 40\n",
      "5 * 9 = 45\n",
      "5 * 10 = 50\n"
     ]
    }
   ],
   "source": [
    "n = 5\n",
    "for i in range(1, 11):\n",
    "    print(f\"{n} * {i} = {n * i}\")"
   ]
  },
  {
   "cell_type": "code",
   "execution_count": 2,
   "metadata": {},
   "outputs": [
    {
     "name": "stdout",
     "output_type": "stream",
     "text": [
      "9 * 1 = 9\n",
      "9 * 2 = 18\n",
      "9 * 3 = 27\n",
      "9 * 4 = 36\n",
      "9 * 5 = 45\n",
      "9 * 6 = 54\n",
      "9 * 7 = 63\n",
      "9 * 8 = 72\n",
      "9 * 9 = 81\n",
      "9 * 10 = 90\n"
     ]
    }
   ],
   "source": [
    "n = 9\n",
    "for i in range(1, 11):\n",
    "    print(f\"{n} * {i} = {n * i}\")"
   ]
  },
  {
   "cell_type": "markdown",
   "metadata": {},
   "source": [
    "<h5>Character frequency</h5>\n",
    "<b>Description</b><br>\n",
    "Write a program to accept a string value from the user and accept a char value from the user and find out the total occurrence of the char value in the string value. Note that the count is not case-sensitive<br>\n",
    "<br>\n",
    "<b>Input:</b><br>\n",
    "A string and a character whose occurrence is to be found<br>\n",
    "<br>\n",
    "<b>Output:</b><br>\n",
    "An integer<br>\n",
    "<br>\n",
    "<b>Sample Input:</b><br>\n",
    "Python Programming<br>\n",
    "P<br>\n",
    "<br>\n",
    "<b>Sample Output:</b><br>\n",
    "2<br>\n",
    "<br>\n",
    "<b>Sample Input:</b><br>\n",
    "This is my first program<br>\n",
    "t<br>\n",
    "<br>\n",
    "<b>Sample Output:</b><br>\n",
    "2<br>\n",
    "<br>\n",
    "<b>Execution time limit</b><br>\n",
    "15 seconds"
   ]
  },
  {
   "cell_type": "code",
   "execution_count": 3,
   "metadata": {},
   "outputs": [
    {
     "name": "stdout",
     "output_type": "stream",
     "text": [
      "2\n"
     ]
    }
   ],
   "source": [
    "input_string = \"Python Programming\"\n",
    "input_char = \"P\"\n",
    "\n",
    "input_string = input_string.lower()\n",
    "input_char = input_char.lower()\n",
    "print(input_string.count(input_char))"
   ]
  },
  {
   "cell_type": "code",
   "execution_count": 4,
   "metadata": {},
   "outputs": [
    {
     "name": "stdout",
     "output_type": "stream",
     "text": [
      "2\n"
     ]
    }
   ],
   "source": [
    "input_string = \"This is my first program\"\n",
    "input_char = \"t\"\n",
    "\n",
    "input_string = input_string.lower()\n",
    "input_char = input_char.lower()\n",
    "print(input_string.count(input_char))"
   ]
  },
  {
   "cell_type": "markdown",
   "metadata": {},
   "source": [
    "<h5>Sum of digits</h5>\n",
    "<b>Description</b><br>\n",
    "Write a program to calculate the sum of the digits of a given number<br>\n",
    "<br>\n",
    "<b>Input:</b><br>\n",
    "An n digit number<br>\n",
    "<br>\n",
    "<b>Output:</b><br>\n",
    "Sum of the digits<br>\n",
    "<br>\n",
    "<b>Sample Input:</b><br>\n",
    "983<br>\n",
    "<br>\n",
    "<b>Sample Output:</b><br>\n",
    "20<br>\n",
    "<br>\n",
    "<b>Sample Input:</b><br>\n",
    "5241<br>\n",
    "<br>\n",
    "<b>Sample Output:</b><br>\n",
    "12<br>\n",
    "<br>\n",
    "<b>Execution time limit</b><br>\n",
    "20 seconds"
   ]
  },
  {
   "cell_type": "code",
   "execution_count": 5,
   "metadata": {},
   "outputs": [
    {
     "name": "stdout",
     "output_type": "stream",
     "text": [
      "20\n"
     ]
    }
   ],
   "source": [
    "n = 983\n",
    "\n",
    "total = 0\n",
    "for digit in str(n):\n",
    "    total += int(digit)\n",
    "\n",
    "print(total)"
   ]
  },
  {
   "cell_type": "code",
   "execution_count": 6,
   "metadata": {},
   "outputs": [
    {
     "name": "stdout",
     "output_type": "stream",
     "text": [
      "12\n"
     ]
    }
   ],
   "source": [
    "n = 5241\n",
    "\n",
    "total = 0\n",
    "for digit in str(n):\n",
    "    total += int(digit)\n",
    "\n",
    "print(total)"
   ]
  },
  {
   "cell_type": "markdown",
   "metadata": {},
   "source": [
    "<h5>Count the digits</h5>\n",
    "<b>Description</b><br>\n",
    "Write a program to accept a number from the user and count the zeros, odd digits and non-zero even digits from the entered number.<br>\n",
    "<br>\n",
    "<b>Input:</b><br>\n",
    "A positive integer of n digits<br>\n",
    "<br>\n",
    "<b>Output:</b><br>\n",
    "Three integers representing the occurrences of zeros, odd digits and non-zero even digits from the entered number.<br>\n",
    "<br>\n",
    "<b>Sample Input:</b><br>\n",
    "1030<br>\n",
    "<br>\n",
    "<b>Sample Output:</b><br>\n",
    "Number of odd digits: 2<br>\n",
    "Number of non-zero even digits: 0<br>\n",
    "Number of zeros: 2<br>\n",
    "<br>\n",
    "<b>Execution time limit</b><br>\n",
    "20 seconds"
   ]
  },
  {
   "cell_type": "code",
   "execution_count": 7,
   "metadata": {},
   "outputs": [
    {
     "name": "stdout",
     "output_type": "stream",
     "text": [
      "Number of odd digits: 2\n",
      "Number of non-zero even digits: 0\n",
      "Number of zeros: 2\n"
     ]
    }
   ],
   "source": [
    "input_int = 1030\n",
    "num_zeros = 0\n",
    "num_odds = 0\n",
    "num_non_zero_evens = 0\n",
    "\n",
    "for digit in str(input_int):\n",
    "    if digit == '0':\n",
    "        num_zeros += 1\n",
    "    elif int(digit) % 2 == 1:\n",
    "        num_odds += 1\n",
    "    elif int(digit) % 2 == 0:\n",
    "        num_non_zero_evens += 1\n",
    "\n",
    "print(f\"Number of odd digits: {num_odds}\")\n",
    "print(f\"Number of non-zero even digits: {num_non_zero_evens}\")\n",
    "print(f\"Number of zeros: {num_zeros}\")"
   ]
  },
  {
   "cell_type": "code",
   "execution_count": 8,
   "metadata": {},
   "outputs": [
    {
     "name": "stdout",
     "output_type": "stream",
     "text": [
      "Number of odd digits: 1\n",
      "Number of non-zero even digits: 1\n",
      "Number of zeros: 2\n"
     ]
    }
   ],
   "source": [
    "input_int = 3080\n",
    "num_zeros = 0\n",
    "num_odds = 0\n",
    "num_non_zero_evens = 0\n",
    "\n",
    "for digit in str(input_int):\n",
    "    if digit == '0':\n",
    "        num_zeros += 1\n",
    "    elif int(digit) % 2 == 1:\n",
    "        num_odds += 1\n",
    "    elif int(digit) % 2 == 0:\n",
    "        num_non_zero_evens += 1\n",
    "\n",
    "print(f\"Number of odd digits: {num_odds}\")\n",
    "print(f\"Number of non-zero even digits: {num_non_zero_evens}\")\n",
    "print(f\"Number of zeros: {num_zeros}\")"
   ]
  },
  {
   "cell_type": "markdown",
   "metadata": {},
   "source": [
    "<h5>String manipulation</h5>\n",
    "<b>Description</b><br>\n",
    "Write a program that takes a string as the input and does the following:<br>\n",
    "    -Removes the numbers, special characters<br>\n",
    "    -Converts uppercase letters to lowercase letters, and vice versa <br>\n",
    "<br>\n",
    "<b>Input:</b><br>\n",
    "A string<br>\n",
    "<br>\n",
    "<b>Output:</b><br>\n",
    "A string with numbers, special characters removed, upper and lower cases swapped<br>\n",
    "<br>\n",
    "<b>Sample Input:</b><br>\n",
    "Programming1234<br>\n",
    "<br>\n",
    "<b>Sample Output:</b><br>\n",
    "pROGRAMMING<br>\n",
    "<br>\n",
    "<b>Sample Input:</b><br>\n",
    "Programming is 100% fun<br>\n",
    "<br>\n",
    "<b>Sample Output:</b><br>\n",
    "pROGRAMMINGISFUN<br>\n",
    "<br>\n",
    "<b>Execution time limit</b><br>\n",
    "15 seconds"
   ]
  },
  {
   "cell_type": "code",
   "execution_count": 9,
   "metadata": {},
   "outputs": [
    {
     "name": "stdout",
     "output_type": "stream",
     "text": [
      "pROGRAMMING\n"
     ]
    }
   ],
   "source": [
    "input_string = \"Programming1234\"\n",
    "\n",
    "result = ''\n",
    "for char in input_string:\n",
    "    if char.isalpha():  # Kiểm tra xem ký tự có phải là chữ cái không\n",
    "        if char.islower():\n",
    "            result += char.upper()\n",
    "        else:\n",
    "            result += char.lower()\n",
    "\n",
    "print(result)"
   ]
  },
  {
   "cell_type": "code",
   "execution_count": 10,
   "metadata": {},
   "outputs": [
    {
     "name": "stdout",
     "output_type": "stream",
     "text": [
      "pROGRAMMINGISFUN\n"
     ]
    }
   ],
   "source": [
    "input_string = \"Programming is 100% fun\"\n",
    "\n",
    "result = ''\n",
    "for char in input_string:\n",
    "    if char.isalpha():  # Kiểm tra xem ký tự có phải là chữ cái không\n",
    "        if char.islower():\n",
    "            result += char.upper()\n",
    "        else:\n",
    "            result += char.lower()\n",
    "\n",
    "print(result)"
   ]
  }
 ],
 "metadata": {
  "kernelspec": {
   "display_name": "Python 3 (ipykernel)",
   "language": "python",
   "name": "python3"
  },
  "language_info": {
   "codemirror_mode": {
    "name": "ipython",
    "version": 3
   },
   "file_extension": ".py",
   "mimetype": "text/x-python",
   "name": "python",
   "nbconvert_exporter": "python",
   "pygments_lexer": "ipython3",
   "version": "3.12.4"
  }
 },
 "nbformat": 4,
 "nbformat_minor": 4
}

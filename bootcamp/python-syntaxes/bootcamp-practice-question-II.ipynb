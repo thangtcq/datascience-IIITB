{
 "cells": [
  {
   "cell_type": "markdown",
   "id": "f822d9df-6719-4943-8ecf-bffa98bb0bf8",
   "metadata": {},
   "source": [
    "<h5>Digit or Alphabet</h5>\n",
    "<b>Description</b><br>\n",
    "Write a program to display whether the input is a digit or a letter of the alphabet.<br>\n",
    "<br>\n",
    "<b>Input:</b><br>\n",
    "A digit or a letter of the alphabet<br>\n",
    "<br>\n",
    "<b>Output:</b><br>\n",
    "Displays whether the given output is an integer or a letter of the alphabet<br>\n",
    "<br>\n",
    "<b>Sample Input:</b><br>\n",
    "1<br>\n",
    "<br>\n",
    "<b>Sample Output:</b><br>\n",
    "Integer<br>\n",
    "<br>\n",
    "<b>Sample Input:</b><br>\n",
    "b<br>\n",
    "<br>\n",
    "<b>Sample Output:</b><br>\n",
    "Alphabet<br>\n",
    "<br>\n",
    "<b>Execution time limit</b><br>\n",
    "15 seconds"
   ]
  },
  {
   "cell_type": "code",
   "execution_count": 1,
   "id": "bfb65e8d-ac09-454b-a894-ee2bc67bb62c",
   "metadata": {},
   "outputs": [
    {
     "name": "stdout",
     "output_type": "stream",
     "text": [
      "Integer\n"
     ]
    }
   ],
   "source": [
    "# Take input\n",
    "inp = \"1\"\n",
    "\n",
    "if inp.isdigit():\n",
    "    print(\"Integer\")\n",
    "elif inp.isalpha():\n",
    "    print(\"Alphabet\")\n",
    "else:\n",
    "    print(\"Invalid input\")"
   ]
  },
  {
   "cell_type": "code",
   "execution_count": 2,
   "id": "b248a317-999b-4961-893b-d8d35142555f",
   "metadata": {},
   "outputs": [
    {
     "name": "stdout",
     "output_type": "stream",
     "text": [
      "Alphabet\n"
     ]
    }
   ],
   "source": [
    "# Take input\n",
    "inp = \"b\"\n",
    "\n",
    "if inp.isdigit():\n",
    "    print(\"Integer\")\n",
    "elif inp.isalpha():\n",
    "    print(\"Alphabet\")\n",
    "else:\n",
    "    print(\"Invalid input\")"
   ]
  },
  {
   "cell_type": "markdown",
   "id": "c88bf563-b6cb-4fd6-9831-5d8fd12d4c55",
   "metadata": {},
   "source": [
    "<h5>ASCII values</h5>\n",
    "<b>Description</b><br>\n",
    "Write a program to accept a character and display its next and previous character.<br>\n",
    "Hint: Make use of Ascii values here.<br>\n",
    "<br>\n",
    "<b>Input:</b><br>\n",
    "A character<br>\n",
    "<br>\n",
    "<b>Output:</b><br>\n",
    "Previous character and the next character of the given character<br>\n",
    "<br>\n",
    "<b>Sample Input:</b><br>\n",
    "D<br>\n",
    "<br>\n",
    "<b>Sample Output:</b><br>\n",
    "C<br>\n",
    "E<br>\n",
    "<br>\n",
    "<b>Sample Input:</b><br>\n",
    "8<br>\n",
    "<br>\n",
    "<b>Sample Output:</b><br>\n",
    "7<br>\n",
    "9<br>\n",
    "<br>\n",
    "<b>Sample Input:</b><br>\n",
    "@<br>\n",
    "<br>\n",
    "<b>Sample Output:</b><br>\n",
    "?<br>\n",
    "A<br>\n",
    "<br>\n",
    "<b>Execution time limit</b><br>\n",
    "15 seconds"
   ]
  },
  {
   "cell_type": "code",
   "execution_count": 3,
   "id": "19775445-a224-4621-8a34-522b52757b97",
   "metadata": {},
   "outputs": [
    {
     "name": "stdout",
     "output_type": "stream",
     "text": [
      "6\n",
      "8\n"
     ]
    }
   ],
   "source": [
    "# Take input\n",
    "inp = \"7\"\n",
    "\n",
    "print(chr(ord(inp) - 1))\n",
    "print(chr(ord(inp) + 1))"
   ]
  },
  {
   "cell_type": "code",
   "execution_count": 4,
   "id": "67449853-ed25-4174-af5d-7a6670fc287a",
   "metadata": {},
   "outputs": [
    {
     "name": "stdout",
     "output_type": "stream",
     "text": [
      "C\n",
      "E\n"
     ]
    }
   ],
   "source": [
    "# Take input\n",
    "inp = \"D\"\n",
    "\n",
    "print(chr(ord(inp) - 1))\n",
    "print(chr(ord(inp) + 1))"
   ]
  },
  {
   "cell_type": "code",
   "execution_count": 5,
   "id": "0e2c28f0-58c2-4ef1-b661-1eebb85d984c",
   "metadata": {},
   "outputs": [
    {
     "name": "stdout",
     "output_type": "stream",
     "text": [
      "?\n",
      "A\n"
     ]
    }
   ],
   "source": [
    "# Take input\n",
    "inp = \"@\"\n",
    "\n",
    "print(chr(ord(inp) - 1))\n",
    "print(chr(ord(inp) + 1))"
   ]
  },
  {
   "cell_type": "markdown",
   "id": "3f6e2ed4-c8fe-44e4-b56b-0859f72b0cda",
   "metadata": {},
   "source": [
    "<h5>No Vowels</h5>\n",
    "<b>Description</b><br>\n",
    "Write a program to accept a string from the user, delete all vowels from the string and display the result.<br>\n",
    "<br>\n",
    "<b>Input:</b><br>\n",
    "A string<br>\n",
    "<br>\n",
    "<b>Output:</b><br>\n",
    "A string with vowels removed<br>\n",
    "<br>\n",
    "<b>Sample Input:</b><br>\n",
    "Upgrad<br>\n",
    "<br>\n",
    "<b>Sample Output:</b><br>\n",
    "pgrd<br>\n",
    "<br>\n",
    "<b>Sample Input:</b><br>\n",
    "Python Programming<br>\n",
    "<br>\n",
    "<b>Sample Output:</b><br>\n",
    "Pythn Prgrmmng<br>\n",
    "<br>\n",
    "<b>Execution time limit</b><br>\n",
    "15 seconds"
   ]
  },
  {
   "cell_type": "code",
   "execution_count": 6,
   "id": "0142a1f8-b530-4b0e-aec4-f701be39967a",
   "metadata": {},
   "outputs": [
    {
     "name": "stdout",
     "output_type": "stream",
     "text": [
      "pgrd\n"
     ]
    }
   ],
   "source": [
    "input_string = \"Upgrad\"\n",
    "\n",
    "vowels = ['a', 'e', 'i', 'o', 'u', 'A', 'E', 'I', 'O', 'U']\n",
    "result = \"\"\n",
    "for char in input_string:\n",
    "    if char not in vowels:\n",
    "        result += char\n",
    "\n",
    "print(result)"
   ]
  },
  {
   "cell_type": "code",
   "execution_count": 7,
   "id": "071b452f-df41-4b06-9c66-4e1ee7354741",
   "metadata": {},
   "outputs": [
    {
     "name": "stdout",
     "output_type": "stream",
     "text": [
      "Pythn Prgrmmng\n"
     ]
    }
   ],
   "source": [
    "input_string = \"Python Programming\"\n",
    "\n",
    "vowels = ['a', 'e', 'i', 'o', 'u', 'A', 'E', 'I', 'O', 'U']\n",
    "result = \"\"\n",
    "for char in input_string:\n",
    "    if char not in vowels:\n",
    "        result += char\n",
    "\n",
    "print(result)"
   ]
  },
  {
   "cell_type": "markdown",
   "id": "74544929-4572-45d2-85c8-63a892688b2f",
   "metadata": {},
   "source": [
    "<h5>Valid triangle</h5>\n",
    "<b>Description</b><br>\n",
    "Write a program to accept three sides of a triangle as the input and print whether the triangle is valid or not.<br>\n",
    "(A triangle is valid if the sum of any two sides is greater than the third side.)<br>\n",
    "<br>\n",
    "<b>Input:</b><br>\n",
    "Three sides of a triangle separated by a space<br>\n",
    "<br>\n",
    "<b>Output:</b><br>\n",
    "Whether the given triangle is \"Valid\" or \"Invalid\"<br>\n",
    "<br>\n",
    "<b>Sample Input:</b><br>\n",
    "3 4 5<br>\n",
    "<br>\n",
    "<b>Sample Output:</b><br>\n",
    "Valid<br>\n",
    "<br>\n",
    "<b>Sample Input:</b><br>\n",
    "1 4 5<br>\n",
    "<br>\n",
    "<b>Sample Output:</b><br>\n",
    "Invalid<br>\n",
    "<br>\n",
    "<b>Execution time limit</b><br>\n",
    "15 seconds"
   ]
  },
  {
   "cell_type": "code",
   "execution_count": 8,
   "id": "8cbfae6e-a61e-4182-aad5-7064df8404cf",
   "metadata": {},
   "outputs": [
    {
     "name": "stdout",
     "output_type": "stream",
     "text": [
      "Valid\n"
     ]
    }
   ],
   "source": [
    "input = \"3 4 5\"\n",
    "a, b, c = input.split()\n",
    "a, b, c = int(a), int(b), int(c)\n",
    "\n",
    "if ((a + b > c) and (a + c > b) and (b + c > a)):\n",
    "    print(\"Valid\")\n",
    "else:\n",
    "    print(\"Invalid\")"
   ]
  },
  {
   "cell_type": "code",
   "execution_count": 9,
   "id": "c3b460c5-7a59-4bd5-85b7-8df53100e2f5",
   "metadata": {},
   "outputs": [
    {
     "name": "stdout",
     "output_type": "stream",
     "text": [
      "Invalid\n"
     ]
    }
   ],
   "source": [
    "input = \"1 4 5\"\n",
    "a, b, c = input.split()\n",
    "a, b, c = int(a), int(b), int(c)\n",
    "\n",
    "if ((a + b > c) and (a + c > b) and (b + c > a)):\n",
    "    print(\"Valid\")\n",
    "else:\n",
    "    print(\"Invalid\")"
   ]
  }
 ],
 "metadata": {
  "kernelspec": {
   "display_name": "Python 3 (ipykernel)",
   "language": "python",
   "name": "python3"
  },
  "language_info": {
   "codemirror_mode": {
    "name": "ipython",
    "version": 3
   },
   "file_extension": ".py",
   "mimetype": "text/x-python",
   "name": "python",
   "nbconvert_exporter": "python",
   "pygments_lexer": "ipython3",
   "version": "3.12.4"
  }
 },
 "nbformat": 4,
 "nbformat_minor": 5
}

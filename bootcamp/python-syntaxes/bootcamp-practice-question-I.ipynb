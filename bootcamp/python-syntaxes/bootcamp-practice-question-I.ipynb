{
 "cells": [
  {
   "cell_type": "markdown",
   "id": "0200337b-da34-442b-9db0-0629bc8e7494",
   "metadata": {},
   "source": [
    "#### Data Types in Python:\n",
    "\n",
    "What will be the output of the following code snippet?"
   ]
  },
  {
   "cell_type": "code",
   "execution_count": 1,
   "id": "83a476fd-321a-4b36-98b2-521afabe5cc2",
   "metadata": {},
   "outputs": [
    {
     "name": "stdout",
     "output_type": "stream",
     "text": [
      "<class 'str'>\n"
     ]
    }
   ],
   "source": [
    "number = '159'\n",
    "print(type(number))"
   ]
  },
  {
   "cell_type": "markdown",
   "id": "0c36e233-15ea-4a6e-8953-bf7bbb48e1ed",
   "metadata": {},
   "source": [
    "#### Data Types in Python:\n",
    "\n",
    "What will be the output of the following code snippet?"
   ]
  },
  {
   "cell_type": "code",
   "execution_count": 2,
   "id": "2ed66a34-2c2d-44f6-aac1-74d5300ebe47",
   "metadata": {},
   "outputs": [
    {
     "name": "stdout",
     "output_type": "stream",
     "text": [
      "34.0\n"
     ]
    }
   ],
   "source": [
    "number = 34.721\n",
    "print(float(int(number)))"
   ]
  },
  {
   "cell_type": "markdown",
   "id": "a734817d-dbae-4ac3-981e-cecb2b222c15",
   "metadata": {},
   "source": [
    "#### Data Types in Python:\n",
    "\n",
    "What will be the output of the following code snippet?"
   ]
  },
  {
   "cell_type": "code",
   "execution_count": 3,
   "id": "da415617-78ca-4c58-92dc-2ef25b4a03c4",
   "metadata": {},
   "outputs": [
    {
     "ename": "NameError",
     "evalue": "name 'Alex' is not defined",
     "output_type": "error",
     "traceback": [
      "\u001b[1;31m---------------------------------------------------------------------------\u001b[0m",
      "\u001b[1;31mNameError\u001b[0m                                 Traceback (most recent call last)",
      "Cell \u001b[1;32mIn[3], line 1\u001b[0m\n\u001b[1;32m----> 1\u001b[0m name \u001b[38;5;241m=\u001b[39m \u001b[43mAlex\u001b[49m\n\u001b[0;32m      2\u001b[0m \u001b[38;5;28mprint\u001b[39m(\u001b[38;5;28mtype\u001b[39m(name))\n",
      "\u001b[1;31mNameError\u001b[0m: name 'Alex' is not defined"
     ]
    }
   ],
   "source": [
    "name = Alex\n",
    "print(type(name))"
   ]
  },
  {
   "cell_type": "markdown",
   "id": "52ff5916-130b-41d8-b16e-a97ac9545fef",
   "metadata": {},
   "source": [
    "#### Arithmetic operations:\n",
    "\n",
    "What will be the output of the following code snippet?"
   ]
  },
  {
   "cell_type": "code",
   "execution_count": 4,
   "id": "329c2adf-2a9f-40e9-bad5-00d5e3a3c1f7",
   "metadata": {},
   "outputs": [
    {
     "name": "stdout",
     "output_type": "stream",
     "text": [
      "0.0\n"
     ]
    }
   ],
   "source": [
    "a = 8.9\n",
    "b = 2\n",
    "c = 5\n",
    "print(a//b//c)"
   ]
  },
  {
   "cell_type": "markdown",
   "id": "3d2f975b-3c62-47e0-a2d2-7451bff10af3",
   "metadata": {},
   "source": [
    "#### Arithmetic operations:\n",
    "\n",
    "What is the output of the following expression?"
   ]
  },
  {
   "cell_type": "code",
   "execution_count": 5,
   "id": "42d66219-6cc2-44a3-970a-e0f5a6e20951",
   "metadata": {},
   "outputs": [
    {
     "name": "stdout",
     "output_type": "stream",
     "text": [
      "-8.0\n"
     ]
    }
   ],
   "source": [
    "a = 4 // 8 + ( 2.5 + 7.5 ) - 6 * 3\n",
    "print(a)"
   ]
  },
  {
   "cell_type": "markdown",
   "id": "0b645fee-df94-4cfd-849e-18a637ac1f3b",
   "metadata": {},
   "source": [
    "#### Arithmetic operations:\n",
    "\n",
    "What is the output of the following expression?"
   ]
  },
  {
   "cell_type": "code",
   "execution_count": 6,
   "id": "22c23e09-9e35-46c9-9ba8-387627216031",
   "metadata": {},
   "outputs": [
    {
     "name": "stdout",
     "output_type": "stream",
     "text": [
      "-9\n"
     ]
    }
   ],
   "source": [
    "a = 5 % ( 2 + 12 ) ** 3 - 60 // ( 7 + 1 ) * 2\n",
    "print(a)"
   ]
  },
  {
   "cell_type": "markdown",
   "id": "6dd92f58-66a4-4b77-a967-5c43aba41296",
   "metadata": {},
   "source": [
    "#### String operations:\n",
    "\n",
    "What will be the output of the following code snippet?"
   ]
  },
  {
   "cell_type": "code",
   "execution_count": 7,
   "id": "cfba0525-8266-493a-8f22-7e39f316fff1",
   "metadata": {},
   "outputs": [
    {
     "name": "stdout",
     "output_type": "stream",
     "text": [
      "to cod\n"
     ]
    }
   ],
   "source": [
    "string_1 = \"I love to code in python\"\n",
    "print(string_1[7:13])"
   ]
  },
  {
   "cell_type": "markdown",
   "id": "a7c3ce62-91ca-423d-ba7b-ac2c4fb067c0",
   "metadata": {},
   "source": [
    "#### String operations:\n",
    "\n",
    "What is the code to extract “split” from the given string?"
   ]
  },
  {
   "cell_type": "code",
   "execution_count": 8,
   "id": "9e2ce64c-b3ae-4b4c-8e64-f8bddb02017f",
   "metadata": {},
   "outputs": [
    {
     "name": "stdout",
     "output_type": "stream",
     "text": [
      "split\n",
      "split\n"
     ]
    }
   ],
   "source": [
    "sentence = 'This sentence needs to be split into words'\n",
    "print(sentence[-16:-11])\n",
    "print(sentence.split()[5])"
   ]
  },
  {
   "cell_type": "markdown",
   "id": "a66e2ab6-5ac3-4e49-9c0e-83a864ce332e",
   "metadata": {},
   "source": [
    "#### String operations:\n",
    "\n",
    "What will be the output of the following code snippet?"
   ]
  },
  {
   "cell_type": "code",
   "execution_count": 9,
   "id": "2facc570-c544-417a-a51e-b738ba6b9466",
   "metadata": {},
   "outputs": [
    {
     "ename": "TypeError",
     "evalue": "'str' object is not callable",
     "output_type": "error",
     "traceback": [
      "\u001b[1;31m---------------------------------------------------------------------------\u001b[0m",
      "\u001b[1;31mTypeError\u001b[0m                                 Traceback (most recent call last)",
      "Cell \u001b[1;32mIn[9], line 2\u001b[0m\n\u001b[0;32m      1\u001b[0m \u001b[38;5;28mlen\u001b[39m \u001b[38;5;241m=\u001b[39m \u001b[38;5;124m'\u001b[39m\u001b[38;5;124mpython\u001b[39m\u001b[38;5;124m'\u001b[39m\n\u001b[1;32m----> 2\u001b[0m \u001b[38;5;28mprint\u001b[39m(\u001b[38;5;28;43mlen\u001b[39;49m\u001b[43m(\u001b[49m\u001b[38;5;28;43mlen\u001b[39;49m\u001b[43m)\u001b[49m)\n",
      "\u001b[1;31mTypeError\u001b[0m: 'str' object is not callable"
     ]
    }
   ],
   "source": [
    "len = 'python'\n",
    "print(len(len))"
   ]
  },
  {
   "cell_type": "markdown",
   "id": "c2a1a5d9-e841-4e82-9652-14e0543ca419",
   "metadata": {},
   "source": [
    "#### Control Structures and Functions in Python:\n",
    "\n",
    "Identify the error in the following code fragment:"
   ]
  },
  {
   "cell_type": "code",
   "execution_count": 10,
   "id": "45a84007-4da8-4c72-b500-45e9013fc787",
   "metadata": {},
   "outputs": [
    {
     "ename": "SyntaxError",
     "evalue": "expected ':' (3124363963.py, line 2)",
     "output_type": "error",
     "traceback": [
      "\u001b[1;36m  Cell \u001b[1;32mIn[10], line 2\u001b[1;36m\u001b[0m\n\u001b[1;33m    if x%2 == 0\u001b[0m\n\u001b[1;37m               ^\u001b[0m\n\u001b[1;31mSyntaxError\u001b[0m\u001b[1;31m:\u001b[0m expected ':'\n"
     ]
    }
   ],
   "source": [
    "x  =10\n",
    "if x%2 == 0\n",
    "print(\"even number\")\n",
    "else\n",
    "print(\"odd number\") "
   ]
  },
  {
   "cell_type": "code",
   "execution_count": 11,
   "id": "a569da90-857e-411e-8424-856954757699",
   "metadata": {},
   "outputs": [
    {
     "ename": "IndentationError",
     "evalue": "expected an indented block after 'if' statement on line 2 (1500136458.py, line 3)",
     "output_type": "error",
     "traceback": [
      "\u001b[1;36m  Cell \u001b[1;32mIn[11], line 3\u001b[1;36m\u001b[0m\n\u001b[1;33m    print(\"even number\")\u001b[0m\n\u001b[1;37m    ^\u001b[0m\n\u001b[1;31mIndentationError\u001b[0m\u001b[1;31m:\u001b[0m expected an indented block after 'if' statement on line 2\n"
     ]
    }
   ],
   "source": [
    "x = 10\n",
    "if x % 2 == 0:\n",
    "print(\"even number\")\n",
    "else:\n",
    "print(\"odd number\") "
   ]
  },
  {
   "cell_type": "markdown",
   "id": "b1aedef0-9505-43d0-b6be-fee2e25d1804",
   "metadata": {},
   "source": [
    "#### Control Structures and Functions in Python:\n",
    "\n",
    "What will be the output of the following code?"
   ]
  },
  {
   "cell_type": "code",
   "execution_count": 12,
   "id": "6f8eeaae-d2a5-41aa-9f9e-20a13895275e",
   "metadata": {},
   "outputs": [
    {
     "name": "stdout",
     "output_type": "stream",
     "text": [
      "false\n",
      "true\n"
     ]
    }
   ],
   "source": [
    "if 4 + 9 < 10:\n",
    "  print(\"true\")\n",
    "else:\n",
    "  print(\"false\")\n",
    "print(\"true\")"
   ]
  },
  {
   "cell_type": "markdown",
   "id": "56a50b10-f292-4c02-8b54-20b1d5c35f8e",
   "metadata": {},
   "source": [
    "#### Control Structures and Functions in Python:\n",
    "\n",
    "Identify the error in the following code fragment:<br>\n",
    "What will be the output if x=67, where x is the marks secured by a student?"
   ]
  },
  {
   "cell_type": "code",
   "execution_count": 13,
   "id": "315d54f3-90a6-4384-8ed1-7d30677b6b4b",
   "metadata": {},
   "outputs": [
    {
     "name": "stdout",
     "output_type": "stream",
     "text": [
      "fair\n"
     ]
    }
   ],
   "source": [
    "x = 67\n",
    "if x > 50:\n",
    "  if x > 90:\n",
    "    print(\"excellent\")\n",
    "  else:\n",
    "    if x > 80:\n",
    "      print(\"good\")\n",
    "    else:\n",
    "      print(\"fair\")\n",
    "else:\n",
    "  if x > 30:\n",
    "    print(\"average\")\n",
    "  else:\n",
    "    print(\"poor\")"
   ]
  },
  {
   "cell_type": "markdown",
   "id": "7fb320a7-8112-48b2-a4e6-fb50f937cca5",
   "metadata": {},
   "source": [
    "#### Control Structures and Functions in Python:\n",
    "\n",
    "What will be output of the following code snippet?"
   ]
  },
  {
   "cell_type": "code",
   "execution_count": 14,
   "id": "2d1e71b5-2c9c-4353-8a36-6b2cb58381c1",
   "metadata": {},
   "outputs": [],
   "source": [
    "a = 'pqrstuv'\n",
    "i = 'j'\n",
    "while i in a:\n",
    "  print(i)"
   ]
  },
  {
   "cell_type": "markdown",
   "id": "ee444e23-4f32-4056-83aa-ad7fdad1ea17",
   "metadata": {},
   "source": [
    "#### Control Structures and Functions in Python:\n",
    "\n",
    "What will be output of the following code snippet?"
   ]
  },
  {
   "cell_type": "code",
   "execution_count": 15,
   "id": "f3aa0bd0-2270-4917-ac8d-4ff2153074dd",
   "metadata": {},
   "outputs": [],
   "source": [
    "i = 16\n",
    "while False:\n",
    "    if i%2 == 0:\n",
    "        break\n",
    "    print(i)\n",
    "    i += 2"
   ]
  },
  {
   "cell_type": "markdown",
   "id": "233c1d60-8a29-41cc-80e5-1aa255c95b79",
   "metadata": {},
   "source": [
    "#### String updation:\n",
    "\n",
    "What will be the output of the following code?"
   ]
  },
  {
   "cell_type": "code",
   "execution_count": 16,
   "id": "f5fa576c-5987-494d-b24e-d282fdacfa5c",
   "metadata": {},
   "outputs": [
    {
     "ename": "TypeError",
     "evalue": "'str' object is not callable",
     "output_type": "error",
     "traceback": [
      "\u001b[1;31m---------------------------------------------------------------------------\u001b[0m",
      "\u001b[1;31mTypeError\u001b[0m                                 Traceback (most recent call last)",
      "Cell \u001b[1;32mIn[16], line 3\u001b[0m\n\u001b[0;32m      1\u001b[0m s \u001b[38;5;241m=\u001b[39m \u001b[38;5;124m\"\u001b[39m\u001b[38;5;124mUpgrad\u001b[39m\u001b[38;5;124m\"\u001b[39m\n\u001b[1;32m----> 3\u001b[0m \u001b[38;5;28;01mfor\u001b[39;00m i \u001b[38;5;129;01min\u001b[39;00m \u001b[38;5;28mrange\u001b[39m(\u001b[38;5;28;43mlen\u001b[39;49m\u001b[43m(\u001b[49m\u001b[43ms\u001b[49m\u001b[43m)\u001b[49m):\n\u001b[0;32m      4\u001b[0m     \u001b[38;5;28;01mif\u001b[39;00m s[i] \u001b[38;5;129;01min\u001b[39;00m \u001b[38;5;124m'\u001b[39m\u001b[38;5;124ma\u001b[39m\u001b[38;5;124m'\u001b[39m:\n\u001b[0;32m      5\u001b[0m         s[i] \u001b[38;5;241m=\u001b[39m \u001b[38;5;124m'\u001b[39m\u001b[38;5;124m*\u001b[39m\u001b[38;5;124m'\u001b[39m\n",
      "\u001b[1;31mTypeError\u001b[0m: 'str' object is not callable"
     ]
    }
   ],
   "source": [
    "s = \"Upgrad\"\n",
    "\n",
    "for i in range(len(s)):\n",
    "    if s[i] in 'a':\n",
    "        s[i] = '*'\n",
    "\n",
    "print(s)"
   ]
  }
 ],
 "metadata": {
  "kernelspec": {
   "display_name": "Python 3 (ipykernel)",
   "language": "python",
   "name": "python3"
  },
  "language_info": {
   "codemirror_mode": {
    "name": "ipython",
    "version": 3
   },
   "file_extension": ".py",
   "mimetype": "text/x-python",
   "name": "python",
   "nbconvert_exporter": "python",
   "pygments_lexer": "ipython3",
   "version": "3.12.4"
  }
 },
 "nbformat": 4,
 "nbformat_minor": 5
}

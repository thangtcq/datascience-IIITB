{
 "cells": [
  {
   "cell_type": "markdown",
   "id": "282a5e70-114f-40d6-baa8-0cb8dfc6766b",
   "metadata": {},
   "source": [
    "#### List Comprehension | split function:\n",
    "\n",
    "What will be the output of the following code?"
   ]
  },
  {
   "cell_type": "code",
   "execution_count": 1,
   "id": "aaf1b371-c63a-4962-8c09-91d6b28ce9f9",
   "metadata": {},
   "outputs": [
    {
     "name": "stdout",
     "output_type": "stream",
     "text": [
      "[('I', 1), ('LOVE', 4), ('PYTHON', 6)]\n"
     ]
    }
   ],
   "source": [
    "input_string = \"I love Python\"\n",
    "k = [(i.upper(), len(i)) for i in input_string.split(' ')]\n",
    "print(k)"
   ]
  },
  {
   "cell_type": "markdown",
   "id": "41743428-a063-4793-a7ee-dfcf02c2cc88",
   "metadata": {},
   "source": [
    "#### List Comprehension:\n",
    "\n",
    "What will be the output of the following code snippet?"
   ]
  },
  {
   "cell_type": "code",
   "execution_count": 2,
   "id": "b8469732-ef94-4732-a093-64432d983cc1",
   "metadata": {},
   "outputs": [
    {
     "name": "stdout",
     "output_type": "stream",
     "text": [
      "[0, 1, 4, 9, 16]\n"
     ]
    }
   ],
   "source": [
    "var = [i**2 for i in range(5)]\n",
    "print(var)"
   ]
  },
  {
   "cell_type": "markdown",
   "id": "884d7663-770a-4551-944b-f8c86f63e12c",
   "metadata": {},
   "source": [
    "#### Nested iteration in list comprehension:\n",
    "\n",
    "What will be the output of the following code?"
   ]
  },
  {
   "cell_type": "code",
   "execution_count": 3,
   "id": "60e35c99-d8ce-45b9-9ac3-59a738c3e236",
   "metadata": {},
   "outputs": [
    {
     "name": "stdout",
     "output_type": "stream",
     "text": [
      "[5, 6, 7, 10, 6, 7, 8, 11, 7, 8, 9, 12, 11, 12, 13, 16]\n"
     ]
    }
   ],
   "source": [
    "l1=[1,2,3,7]\n",
    "l2=[4,5,6,9]\n",
    "print([x + y for x in l1 for y in l2])"
   ]
  },
  {
   "cell_type": "markdown",
   "id": "72135d2c-b1fb-4477-b0f9-cf73f73a862d",
   "metadata": {},
   "source": [
    "#### Functions in Python:\n",
    "\n",
    "What will be the output of the following?"
   ]
  },
  {
   "cell_type": "code",
   "execution_count": 4,
   "id": "1d551396-cb1b-4bac-a68d-8df9549c1b28",
   "metadata": {},
   "outputs": [
    {
     "name": "stdout",
     "output_type": "stream",
     "text": [
      "None\n"
     ]
    }
   ],
   "source": [
    "def function(n):\n",
    "    n = n + 1\n",
    "n = 2\n",
    "print(function(2))"
   ]
  },
  {
   "cell_type": "markdown",
   "id": "3ddd5d3e-b1eb-49c6-b9f4-8d8e5b933c68",
   "metadata": {},
   "source": [
    "#### Functions in Python:\n",
    "\n",
    "What will be the output of the below code?"
   ]
  },
  {
   "cell_type": "code",
   "execution_count": 5,
   "id": "99db174f-aa87-401f-a952-929c355198e8",
   "metadata": {},
   "outputs": [
    {
     "name": "stdout",
     "output_type": "stream",
     "text": [
      "10\n",
      "10\n"
     ]
    }
   ],
   "source": [
    "x = 10\n",
    "def func(x):\n",
    "    x = 20\n",
    "print(x)\n",
    "print(x)"
   ]
  },
  {
   "cell_type": "markdown",
   "id": "d02635c3-a07d-4909-aeb9-cd87cc7bc6c9",
   "metadata": {},
   "source": [
    "#### Default parameter in Python Functions:\n",
    "\n",
    "What will be the output of the following?"
   ]
  },
  {
   "cell_type": "code",
   "execution_count": 6,
   "id": "69957fee-5f4c-4ff2-ac1d-359764060da2",
   "metadata": {},
   "outputs": [
    {
     "name": "stdout",
     "output_type": "stream",
     "text": [
      "pythonpythonpythonpython\n",
      "programprogramprogram\n"
     ]
    }
   ],
   "source": [
    "def samplefunc(msg, i = 3):\n",
    "    print(msg * i)\n",
    "samplefunc('python',4)\n",
    "samplefunc('program')"
   ]
  },
  {
   "cell_type": "markdown",
   "id": "e0361e0e-d496-4784-83e9-b65a96beae03",
   "metadata": {},
   "source": [
    "#### Lambda Function:\n",
    "\n",
    "What will be the output of the following program?"
   ]
  },
  {
   "cell_type": "code",
   "execution_count": 7,
   "id": "e83439ad-89e7-4cb2-8b7f-5663af373297",
   "metadata": {},
   "outputs": [
    {
     "name": "stdout",
     "output_type": "stream",
     "text": [
      "0\n"
     ]
    }
   ],
   "source": [
    "f = lambda x:bool(x % 2)\n",
    "print(f(100) * f(101))"
   ]
  },
  {
   "cell_type": "markdown",
   "id": "838d4c47-4ab6-425c-a58d-1af52e5b6624",
   "metadata": {},
   "source": [
    "#### Map Function:\n",
    "\n",
    "What will be the answer printed when the following code is executed?"
   ]
  },
  {
   "cell_type": "code",
   "execution_count": 8,
   "id": "2c6a16d6-5d30-4e18-89ca-724f4f1146da",
   "metadata": {},
   "outputs": [
    {
     "name": "stdout",
     "output_type": "stream",
     "text": [
      "[0, -1, -2, 2, 2]\n"
     ]
    }
   ],
   "source": [
    "l = (1, -2, -3, 4, 5)\n",
    "def f1(x):\n",
    "    return x//2\n",
    "m1 = map(f1, l)\n",
    "print(list(m1))"
   ]
  },
  {
   "cell_type": "markdown",
   "id": "8b232e01-dd01-4147-886e-529e01594d11",
   "metadata": {},
   "source": [
    "#### Reduce Function:\n",
    "\n",
    "What will be the output of the code below?"
   ]
  },
  {
   "cell_type": "code",
   "execution_count": 9,
   "id": "ba7aacd6-49cd-409b-bbd2-a466d9e59f17",
   "metadata": {},
   "outputs": [
    {
     "name": "stdout",
     "output_type": "stream",
     "text": [
      "0\n"
     ]
    }
   ],
   "source": [
    "from functools import reduce\n",
    "numbers = [-1, 2, -5, 3, 8, -2, 1, -4, -2]\n",
    "sum = reduce(lambda x, y: x + y, numbers)\n",
    "print(sum)"
   ]
  },
  {
   "cell_type": "markdown",
   "id": "1ffa407c-9f15-44f9-ac3b-b87595485113",
   "metadata": {},
   "source": [
    "#### Assigning Map Function to a Variable:\n",
    "\n",
    "What will be the output of the following code?"
   ]
  },
  {
   "cell_type": "code",
   "execution_count": 10,
   "id": "2ac1a66f-d94d-4ba1-bfc3-58a59c4a2b46",
   "metadata": {},
   "outputs": [
    {
     "name": "stdout",
     "output_type": "stream",
     "text": [
      "<map object at 0x00000102FCEA6320>\n"
     ]
    }
   ],
   "source": [
    "sample = [-4, 2, 5, -3]\n",
    "ans = map(lambda x: x * 2, sample)\n",
    "print(ans)"
   ]
  },
  {
   "cell_type": "markdown",
   "id": "d07b1f7d-4ca3-4b5d-b106-7e0a4b02637c",
   "metadata": {},
   "source": [
    "#### Typecasting to list:\n",
    "\n",
    "What will be the output of the following code snippet?"
   ]
  },
  {
   "cell_type": "code",
   "execution_count": 11,
   "id": "edb8afc4-da17-4228-be0c-30cc47aa6afb",
   "metadata": {},
   "outputs": [
    {
     "ename": "TypeError",
     "evalue": "'int' object is not iterable",
     "output_type": "error",
     "traceback": [
      "\u001b[1;31m---------------------------------------------------------------------------\u001b[0m",
      "\u001b[1;31mTypeError\u001b[0m                                 Traceback (most recent call last)",
      "Cell \u001b[1;32mIn[11], line 2\u001b[0m\n\u001b[0;32m      1\u001b[0m \u001b[38;5;28;01mfrom\u001b[39;00m \u001b[38;5;21;01mfunctools\u001b[39;00m \u001b[38;5;28;01mimport\u001b[39;00m reduce\n\u001b[1;32m----> 2\u001b[0m \u001b[38;5;28mprint\u001b[39m(\u001b[38;5;28;43mlist\u001b[39;49m\u001b[43m(\u001b[49m\u001b[43mreduce\u001b[49m\u001b[43m(\u001b[49m\u001b[38;5;28;43;01mlambda\u001b[39;49;00m\u001b[43m \u001b[49m\u001b[43mx\u001b[49m\u001b[43m,\u001b[49m\u001b[43m \u001b[49m\u001b[43my\u001b[49m\u001b[43m:\u001b[49m\u001b[43m \u001b[49m\u001b[43mx\u001b[49m\u001b[43m \u001b[49m\u001b[38;5;241;43m+\u001b[39;49m\u001b[43m \u001b[49m\u001b[43my\u001b[49m\u001b[43m,\u001b[49m\u001b[38;5;28;43mrange\u001b[39;49m\u001b[43m(\u001b[49m\u001b[38;5;241;43m5\u001b[39;49m\u001b[43m,\u001b[49m\u001b[43m \u001b[49m\u001b[38;5;241;43m15\u001b[39;49m\u001b[43m)\u001b[49m\u001b[43m)\u001b[49m\u001b[43m)\u001b[49m)\n",
      "\u001b[1;31mTypeError\u001b[0m: 'int' object is not iterable"
     ]
    }
   ],
   "source": [
    "from functools import reduce\n",
    "print(list(reduce(lambda x, y: x + y,range(5, 15))))"
   ]
  },
  {
   "cell_type": "code",
   "execution_count": 12,
   "id": "ce9fea40-a622-4a42-b7c0-84b362e6d5eb",
   "metadata": {},
   "outputs": [
    {
     "name": "stdout",
     "output_type": "stream",
     "text": [
      "[95]\n"
     ]
    }
   ],
   "source": [
    "# This is the correct answer!\n",
    "# An integer can not be converted to a list like this since it is not iterable.\n",
    "# Try using,\n",
    "\n",
    "from functools import reduce\n",
    "lis=[reduce(lambda x, y: x + y,range(5,15))]\n",
    "print(lis)"
   ]
  },
  {
   "cell_type": "markdown",
   "id": "ff56c675-3e0e-492f-bcdd-cc060ed517c1",
   "metadata": {},
   "source": [
    "#### Logic Building:\n",
    "\n",
    "Is the output of the following two code snippets the same? Are they logically the same for any values in ‘lis’?"
   ]
  },
  {
   "cell_type": "code",
   "execution_count": 13,
   "id": "5870ae04-b635-477f-8377-f2b9e32a8560",
   "metadata": {},
   "outputs": [
    {
     "name": "stdout",
     "output_type": "stream",
     "text": [
      "1\n"
     ]
    }
   ],
   "source": [
    "import functools\n",
    "lis = [1, 2, 3, 4, 5]\n",
    "m = functools.reduce(lambda x, y: x if x < y else y, lis)\n",
    "print(m)"
   ]
  },
  {
   "cell_type": "code",
   "execution_count": 14,
   "id": "40a034f6-f2c4-4945-afee-f51488cf0e9d",
   "metadata": {},
   "outputs": [
    {
     "name": "stdout",
     "output_type": "stream",
     "text": [
      "1\n"
     ]
    }
   ],
   "source": [
    "lis = [1, 2, 3, 4, 5]\n",
    "c = lis[0]\n",
    "for i in range(len(lis) - 1):\n",
    "    if lis[i] < c:\n",
    "       c = lis[i]\n",
    "print(c)"
   ]
  },
  {
   "cell_type": "markdown",
   "id": "693e535d-4579-45c2-921e-720c97b42338",
   "metadata": {},
   "source": [
    "#### Appending to set elements:\n",
    "\n",
    "What will be the output of the following code?"
   ]
  },
  {
   "cell_type": "code",
   "execution_count": 15,
   "id": "7acb3ef4-7227-4044-9ddc-1ccecff5ec84",
   "metadata": {},
   "outputs": [
    {
     "name": "stdout",
     "output_type": "stream",
     "text": [
      "['dx', 'ix', 'ax', 'sx']\n"
     ]
    }
   ],
   "source": [
    "letters = ('d', 'i', 'a', 's')\n",
    "ans = list(map(lambda word: f\"{word}x\", letters))\n",
    "print(ans)"
   ]
  },
  {
   "cell_type": "markdown",
   "id": "57bba746-37ad-4521-96fc-6e6d2ae6c14b",
   "metadata": {},
   "source": [
    "#### Filter Function:\n",
    "\n",
    "Read the following code. Select from the given options the length of the list printed. (Do not run it on the notebook. Try solving manually.)"
   ]
  },
  {
   "cell_type": "code",
   "execution_count": 16,
   "id": "4c902b74-fa18-4c7d-9709-d307a50266b4",
   "metadata": {},
   "outputs": [
    {
     "name": "stdout",
     "output_type": "stream",
     "text": [
      "[12, 20, 28]\n"
     ]
    }
   ],
   "source": [
    "def sf(a):\n",
    "    return a % 4 == 0 and a % 8 != 0\n",
    "m=filter(sf, range(10, 31))\n",
    "print(list(m))"
   ]
  }
 ],
 "metadata": {
  "kernelspec": {
   "display_name": "Python 3 (ipykernel)",
   "language": "python",
   "name": "python3"
  },
  "language_info": {
   "codemirror_mode": {
    "name": "ipython",
    "version": 3
   },
   "file_extension": ".py",
   "mimetype": "text/x-python",
   "name": "python",
   "nbconvert_exporter": "python",
   "pygments_lexer": "ipython3",
   "version": "3.12.4"
  }
 },
 "nbformat": 4,
 "nbformat_minor": 5
}

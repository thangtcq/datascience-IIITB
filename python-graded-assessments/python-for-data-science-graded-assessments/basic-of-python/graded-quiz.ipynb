{
 "cells": [
  {
   "cell_type": "markdown",
   "id": "a6152f8a-ce52-46bf-b218-e87615db2c03",
   "metadata": {},
   "source": [
    "#### Concatenating Strings:\n",
    "\n",
    "What would the output of the following block of code be?"
   ]
  },
  {
   "cell_type": "code",
   "execution_count": 1,
   "id": "43dff23b-b0ce-49b0-92c9-fc60685b1921",
   "metadata": {},
   "outputs": [
    {
     "name": "stdout",
     "output_type": "stream",
     "text": [
      "HelloWorld !\n"
     ]
    }
   ],
   "source": [
    "a = 'Hello'\n",
    "b = 'World'\n",
    "print(a + b, '!')"
   ]
  },
  {
   "cell_type": "markdown",
   "id": "705f00db-ef19-48a6-9eea-74b2630078b5",
   "metadata": {},
   "source": [
    "#### Fill in the Blank With an Operator\n",
    "\n",
    "In the code below, the underscore represents a blank. Fill this blank with an operator so that the output of the code is 3."
   ]
  },
  {
   "cell_type": "code",
   "execution_count": 2,
   "id": "0b48e504-d0fb-4385-bc00-2523d490ac9b",
   "metadata": {},
   "outputs": [
    {
     "name": "stdout",
     "output_type": "stream",
     "text": [
      "18\n"
     ]
    }
   ],
   "source": [
    "a = 18\n",
    "b = 5\n",
    "print(a or b)"
   ]
  },
  {
   "cell_type": "code",
   "execution_count": 3,
   "id": "ac763a66-018b-442b-87d2-060f34086027",
   "metadata": {},
   "outputs": [
    {
     "name": "stdout",
     "output_type": "stream",
     "text": [
      "90\n"
     ]
    }
   ],
   "source": [
    "a = 18\n",
    "b = 5\n",
    "print(a * b)"
   ]
  },
  {
   "cell_type": "code",
   "execution_count": 4,
   "id": "7de232e5-907b-41ef-87bc-13f1c7b835f2",
   "metadata": {},
   "outputs": [
    {
     "name": "stdout",
     "output_type": "stream",
     "text": [
      "3.6\n"
     ]
    }
   ],
   "source": [
    "a = 18\n",
    "b = 5\n",
    "print(a / b)"
   ]
  },
  {
   "cell_type": "code",
   "execution_count": 5,
   "id": "90b3a425-09e1-41dd-8bc6-e3eccf02ce3c",
   "metadata": {},
   "outputs": [
    {
     "name": "stdout",
     "output_type": "stream",
     "text": [
      "1889568\n"
     ]
    }
   ],
   "source": [
    "a = 18\n",
    "b = 5\n",
    "print(a ** b)"
   ]
  },
  {
   "cell_type": "code",
   "execution_count": 6,
   "id": "441b5c5d-105d-4653-9157-500d5bf5c2db",
   "metadata": {},
   "outputs": [
    {
     "name": "stdout",
     "output_type": "stream",
     "text": [
      "3\n"
     ]
    }
   ],
   "source": [
    "a = 18\n",
    "b = 5\n",
    "print(a % b)"
   ]
  },
  {
   "cell_type": "code",
   "execution_count": 7,
   "id": "d226d4c3-dd79-4c13-80d0-4ee4b234bdb6",
   "metadata": {},
   "outputs": [
    {
     "name": "stdout",
     "output_type": "stream",
     "text": [
      "5\n"
     ]
    }
   ],
   "source": [
    "a = 18\n",
    "b = 5\n",
    "print(a and b)"
   ]
  },
  {
   "cell_type": "markdown",
   "id": "3648aad9-402c-49f3-8ebb-0db4eb0ada76",
   "metadata": {},
   "source": [
    "#### Check Even or Odd\n",
    "\r\n",
    "Which of the following functions correctly checks if the provided number is even or odd?"
   ]
  },
  {
   "cell_type": "code",
   "execution_count": 8,
   "id": "27800145-24ab-4b6c-9c59-1121983c400a",
   "metadata": {},
   "outputs": [
    {
     "name": "stdout",
     "output_type": "stream",
     "text": [
      "Odd\n",
      "Even\n"
     ]
    }
   ],
   "source": [
    "def check_even_or_odd(num):\n",
    "    if num % 2 == 0:\n",
    "        print('Even')\n",
    "    else:\n",
    "        print('Odd')\n",
    "check_even_or_odd(1)\n",
    "check_even_or_odd(2)"
   ]
  },
  {
   "cell_type": "code",
   "execution_count": 9,
   "id": "7983ffb5-b49e-4803-b0bf-8dfea6e401d8",
   "metadata": {},
   "outputs": [
    {
     "name": "stdout",
     "output_type": "stream",
     "text": [
      "Odd\n",
      "Odd\n"
     ]
    }
   ],
   "source": [
    "def check_even_or_odd(num):\n",
    "    if num / 2 == 0:\n",
    "        print('Even')\n",
    "    else:\n",
    "        print('Odd')\n",
    "check_even_or_odd(1)\n",
    "check_even_or_odd(2)"
   ]
  },
  {
   "cell_type": "code",
   "execution_count": 10,
   "id": "88d68621-268b-4b8e-8260-91448bf2916f",
   "metadata": {},
   "outputs": [
    {
     "name": "stdout",
     "output_type": "stream",
     "text": [
      "Even\n",
      "Odd\n"
     ]
    }
   ],
   "source": [
    "def check_even_or_odd(num):\n",
    "    if num % 2 == 1:\n",
    "        print('Even')\n",
    "    else:\n",
    "        print('Odd')\n",
    "check_even_or_odd(1)\n",
    "check_even_or_odd(2)"
   ]
  },
  {
   "cell_type": "code",
   "execution_count": 11,
   "id": "63d54f96-8c54-46d4-b14a-c81ab4345f5c",
   "metadata": {},
   "outputs": [
    {
     "name": "stdout",
     "output_type": "stream",
     "text": [
      "Odd\n",
      "Odd\n"
     ]
    }
   ],
   "source": [
    "def check_even_or_odd(num):\n",
    "    if num * 2 == 0:\n",
    "        print('Even')\n",
    "    else:\n",
    "        print('Odd')\n",
    "check_even_or_odd(1)\n",
    "check_even_or_odd(2)"
   ]
  },
  {
   "cell_type": "markdown",
   "id": "0ea70fe7-a3b1-442f-ac2c-1c8e4a44db7e",
   "metadata": {},
   "source": [
    "#### Remove All Whitespace\n",
    "\n",
    "How would you remove all whitespace from the following string?"
   ]
  },
  {
   "cell_type": "code",
   "execution_count": 12,
   "id": "7dd78ec7-c724-4167-9f9f-2fed3866ab6e",
   "metadata": {},
   "outputs": [
    {
     "data": {
      "text/plain": [
       "'I wanna be the very best, like no one ever was. To catch them is my real test, to train them is my cause.'"
      ]
     },
     "execution_count": 12,
     "metadata": {},
     "output_type": "execute_result"
    }
   ],
   "source": [
    "theme_song = 'I wanna be the very best, like no one ever was. To catch them is my real test, to train them is my cause.'\n",
    "theme_song.strip()"
   ]
  },
  {
   "cell_type": "code",
   "execution_count": 13,
   "id": "387c9f08-1d3f-44c4-9f66-9220204b527b",
   "metadata": {},
   "outputs": [
    {
     "data": {
      "text/plain": [
       "'II wanna be the very best, like no one ever was. To catch them is my real test, to train them is my cause.wannaI wanna be the very best, like no one ever was. To catch them is my real test, to train them is my cause.beI wanna be the very best, like no one ever was. To catch them is my real test, to train them is my cause.theI wanna be the very best, like no one ever was. To catch them is my real test, to train them is my cause.veryI wanna be the very best, like no one ever was. To catch them is my real test, to train them is my cause.best,I wanna be the very best, like no one ever was. To catch them is my real test, to train them is my cause.likeI wanna be the very best, like no one ever was. To catch them is my real test, to train them is my cause.noI wanna be the very best, like no one ever was. To catch them is my real test, to train them is my cause.oneI wanna be the very best, like no one ever was. To catch them is my real test, to train them is my cause.everI wanna be the very best, like no one ever was. To catch them is my real test, to train them is my cause.was.I wanna be the very best, like no one ever was. To catch them is my real test, to train them is my cause.ToI wanna be the very best, like no one ever was. To catch them is my real test, to train them is my cause.catchI wanna be the very best, like no one ever was. To catch them is my real test, to train them is my cause.themI wanna be the very best, like no one ever was. To catch them is my real test, to train them is my cause.isI wanna be the very best, like no one ever was. To catch them is my real test, to train them is my cause.myI wanna be the very best, like no one ever was. To catch them is my real test, to train them is my cause.realI wanna be the very best, like no one ever was. To catch them is my real test, to train them is my cause.test,I wanna be the very best, like no one ever was. To catch them is my real test, to train them is my cause.toI wanna be the very best, like no one ever was. To catch them is my real test, to train them is my cause.trainI wanna be the very best, like no one ever was. To catch them is my real test, to train them is my cause.themI wanna be the very best, like no one ever was. To catch them is my real test, to train them is my cause.isI wanna be the very best, like no one ever was. To catch them is my real test, to train them is my cause.myI wanna be the very best, like no one ever was. To catch them is my real test, to train them is my cause.cause.'"
      ]
     },
     "execution_count": 13,
     "metadata": {},
     "output_type": "execute_result"
    }
   ],
   "source": [
    "theme_song = 'I wanna be the very best, like no one ever was. To catch them is my real test, to train them is my cause.'\n",
    "theme_song.join(theme_song.split())"
   ]
  },
  {
   "cell_type": "code",
   "execution_count": 14,
   "id": "eb7d0a70-6691-4e52-9666-d62865e631db",
   "metadata": {},
   "outputs": [
    {
     "data": {
      "text/plain": [
       "'Iwannabetheverybest,likenooneeverwas.Tocatchthemismyrealtest,totrainthemismycause.'"
      ]
     },
     "execution_count": 14,
     "metadata": {},
     "output_type": "execute_result"
    }
   ],
   "source": [
    "theme_song = 'I wanna be the very best, like no one ever was. To catch them is my real test, to train them is my cause.'\n",
    "theme_song.replace(' ', '')"
   ]
  },
  {
   "cell_type": "code",
   "execution_count": 15,
   "id": "511771d0-b933-45c6-be91-3735895abaf9",
   "metadata": {},
   "outputs": [
    {
     "data": {
      "text/plain": [
       "['I',\n",
       " 'w',\n",
       " 'a',\n",
       " 'n',\n",
       " 'n',\n",
       " 'a',\n",
       " 'b',\n",
       " 'e',\n",
       " 't',\n",
       " 'h',\n",
       " 'e',\n",
       " 'v',\n",
       " 'e',\n",
       " 'r',\n",
       " 'y',\n",
       " 'b',\n",
       " 'e',\n",
       " 's',\n",
       " 't',\n",
       " ',',\n",
       " 'l',\n",
       " 'i',\n",
       " 'k',\n",
       " 'e',\n",
       " 'n',\n",
       " 'o',\n",
       " 'o',\n",
       " 'n',\n",
       " 'e',\n",
       " 'e',\n",
       " 'v',\n",
       " 'e',\n",
       " 'r',\n",
       " 'w',\n",
       " 'a',\n",
       " 's',\n",
       " '.',\n",
       " 'T',\n",
       " 'o',\n",
       " 'c',\n",
       " 'a',\n",
       " 't',\n",
       " 'c',\n",
       " 'h',\n",
       " 't',\n",
       " 'h',\n",
       " 'e',\n",
       " 'm',\n",
       " 'i',\n",
       " 's',\n",
       " 'm',\n",
       " 'y',\n",
       " 'r',\n",
       " 'e',\n",
       " 'a',\n",
       " 'l',\n",
       " 't',\n",
       " 'e',\n",
       " 's',\n",
       " 't',\n",
       " ',',\n",
       " 't',\n",
       " 'o',\n",
       " 't',\n",
       " 'r',\n",
       " 'a',\n",
       " 'i',\n",
       " 'n',\n",
       " 't',\n",
       " 'h',\n",
       " 'e',\n",
       " 'm',\n",
       " 'i',\n",
       " 's',\n",
       " 'm',\n",
       " 'y',\n",
       " 'c',\n",
       " 'a',\n",
       " 'u',\n",
       " 's',\n",
       " 'e',\n",
       " '.']"
      ]
     },
     "execution_count": 15,
     "metadata": {},
     "output_type": "execute_result"
    }
   ],
   "source": [
    "theme_song = 'I wanna be the very best, like no one ever was. To catch them is my real test, to train them is my cause.'\n",
    "[ch for ch in theme_song if not ch.isspace()]"
   ]
  },
  {
   "cell_type": "markdown",
   "id": "35f417d3-c0f8-4312-9675-b406e258a5d5",
   "metadata": {},
   "source": [
    "#### Discount All Prices\n",
    "\n",
    "Consider the following dictionary which contains the prices of various fruits in rupees:<br>\n",
    "Which code snippet will create a new dictionary discounted_items where the price of each item is reduced by 10%?"
   ]
  },
  {
   "cell_type": "code",
   "execution_count": 16,
   "id": "7ebc8288-77f7-4068-b200-c505a0cb0003",
   "metadata": {},
   "outputs": [
    {
     "ename": "ValueError",
     "evalue": "too many values to unpack (expected 2)",
     "output_type": "error",
     "traceback": [
      "\u001b[1;31m---------------------------------------------------------------------------\u001b[0m",
      "\u001b[1;31mValueError\u001b[0m                                Traceback (most recent call last)",
      "Cell \u001b[1;32mIn[16], line 3\u001b[0m\n\u001b[0;32m      1\u001b[0m items \u001b[38;5;241m=\u001b[39m {\u001b[38;5;124m'\u001b[39m\u001b[38;5;124mapple\u001b[39m\u001b[38;5;124m'\u001b[39m: \u001b[38;5;241m50\u001b[39m, \u001b[38;5;124m'\u001b[39m\u001b[38;5;124mbanana\u001b[39m\u001b[38;5;124m'\u001b[39m: \u001b[38;5;241m20\u001b[39m, \u001b[38;5;124m'\u001b[39m\u001b[38;5;124mcherry\u001b[39m\u001b[38;5;124m'\u001b[39m: \u001b[38;5;241m75\u001b[39m, \u001b[38;5;124m'\u001b[39m\u001b[38;5;124mdate\u001b[39m\u001b[38;5;124m'\u001b[39m: \u001b[38;5;241m100\u001b[39m}\n\u001b[0;32m      2\u001b[0m discounted_items \u001b[38;5;241m=\u001b[39m {}\n\u001b[1;32m----> 3\u001b[0m \u001b[38;5;28;01mfor\u001b[39;00m item, price \u001b[38;5;129;01min\u001b[39;00m items\u001b[38;5;241m.\u001b[39mkeys():\n\u001b[0;32m      4\u001b[0m     discounted_items[item] \u001b[38;5;241m=\u001b[39m price \u001b[38;5;241m*\u001b[39m \u001b[38;5;241m0.9\u001b[39m\n\u001b[0;32m      5\u001b[0m \u001b[38;5;28mprint\u001b[39m(discounted_items)\n",
      "\u001b[1;31mValueError\u001b[0m: too many values to unpack (expected 2)"
     ]
    }
   ],
   "source": [
    "items = {'apple': 50, 'banana': 20, 'cherry': 75, 'date': 100}\n",
    "discounted_items = {}\n",
    "for item, price in items.keys():\n",
    "    discounted_items[item] = price * 0.9\n",
    "print(discounted_items)"
   ]
  },
  {
   "cell_type": "code",
   "execution_count": 17,
   "id": "1085bdd5-300c-4e52-a34f-c246dba0d066",
   "metadata": {},
   "outputs": [
    {
     "name": "stdout",
     "output_type": "stream",
     "text": [
      "{'apple': 5.0, 'banana': 2.0, 'cherry': 7.5, 'date': 10.0}\n"
     ]
    }
   ],
   "source": [
    "items = {'apple': 50, 'banana': 20, 'cherry': 75, 'date': 100}\n",
    "discounted_items = {}\n",
    "for item, price in items.items():\n",
    "    discounted_items[item] = price * 0.1\n",
    "print(discounted_items)"
   ]
  },
  {
   "cell_type": "code",
   "execution_count": 18,
   "id": "aedce49c-2a99-421f-a90e-098dd1a95680",
   "metadata": {},
   "outputs": [
    {
     "name": "stdout",
     "output_type": "stream",
     "text": [
      "{50: 45.0, 20: 18.0, 75: 67.5, 100: 90.0}\n"
     ]
    }
   ],
   "source": [
    "items = {'apple': 50, 'banana': 20, 'cherry': 75, 'date': 100}\n",
    "discounted_items = {}\n",
    "for price in items.values():\n",
    "    discounted_items[price] = price * 0.9\n",
    "print(discounted_items)"
   ]
  },
  {
   "cell_type": "code",
   "execution_count": 19,
   "id": "5a07b25b-9cfb-4753-888e-0b4703fd7485",
   "metadata": {},
   "outputs": [
    {
     "name": "stdout",
     "output_type": "stream",
     "text": [
      "{'apple': 45.0, 'banana': 18.0, 'cherry': 67.5, 'date': 90.0}\n"
     ]
    }
   ],
   "source": [
    "items = {'apple': 50, 'banana': 20, 'cherry': 75, 'date': 100}\n",
    "discounted_items = {}\n",
    "for item, price in items.items():\n",
    "    discounted_items[item] = price * 0.9\n",
    "print(discounted_items)"
   ]
  },
  {
   "cell_type": "markdown",
   "id": "12beb5f0-79c7-464c-b425-2bbcad6edbcf",
   "metadata": {},
   "source": [
    "#### Employees in Both Departments\n",
    "\n",
    "Consider the following sets containing the employees of two departments:<br>\n",
    "How would you find the common employee(s) who is/are in both departments?"
   ]
  },
  {
   "cell_type": "code",
   "execution_count": 20,
   "id": "291c7d56-188a-4c8a-8367-3e5b8a64feee",
   "metadata": {},
   "outputs": [
    {
     "data": {
      "text/plain": [
       "{'Akriti', 'Behzad', 'Charu', 'Dylan', 'Esha'}"
      ]
     },
     "execution_count": 20,
     "metadata": {},
     "output_type": "execute_result"
    }
   ],
   "source": [
    "dept_A = {'Akriti', 'Behzad', 'Charu'}\n",
    "dept_B = {'Behzad', 'Dylan', 'Esha'}\n",
    "dept_A | dept_B"
   ]
  },
  {
   "cell_type": "code",
   "execution_count": 21,
   "id": "bce7dde9-12c6-4a9f-9657-c4cce4ba7ffd",
   "metadata": {},
   "outputs": [
    {
     "data": {
      "text/plain": [
       "{'Akriti', 'Charu', 'Dylan', 'Esha'}"
      ]
     },
     "execution_count": 21,
     "metadata": {},
     "output_type": "execute_result"
    }
   ],
   "source": [
    "dept_A = {'Akriti', 'Behzad', 'Charu'}\n",
    "dept_B = {'Behzad', 'Dylan', 'Esha'}\n",
    "dept_A ^ dept_B"
   ]
  },
  {
   "cell_type": "code",
   "execution_count": 22,
   "id": "093e7365-afe1-4e99-9784-a082d933ece8",
   "metadata": {},
   "outputs": [
    {
     "data": {
      "text/plain": [
       "{'Behzad'}"
      ]
     },
     "execution_count": 22,
     "metadata": {},
     "output_type": "execute_result"
    }
   ],
   "source": [
    "dept_A = {'Akriti', 'Behzad', 'Charu'}\n",
    "dept_B = {'Behzad', 'Dylan', 'Esha'}\n",
    "dept_A & dept_B"
   ]
  },
  {
   "cell_type": "code",
   "execution_count": 23,
   "id": "94450be3-b7e1-4107-a95f-f890911d7a73",
   "metadata": {},
   "outputs": [
    {
     "data": {
      "text/plain": [
       "{'Akriti', 'Charu'}"
      ]
     },
     "execution_count": 23,
     "metadata": {},
     "output_type": "execute_result"
    }
   ],
   "source": [
    "dept_A = {'Akriti', 'Behzad', 'Charu'}\n",
    "dept_B = {'Behzad', 'Dylan', 'Esha'}\n",
    "dept_A - dept_B"
   ]
  },
  {
   "cell_type": "markdown",
   "id": "e1357055-6fef-4b99-91d3-1fce3d7535f6",
   "metadata": {},
   "source": [
    "#### Adult or Minor\n",
    "\n",
    "What will the following code output if the user inputs 30 when provided with the input() prompt?"
   ]
  },
  {
   "cell_type": "code",
   "execution_count": 24,
   "id": "1f89bd89-576b-46e4-94d5-71de54c9d715",
   "metadata": {},
   "outputs": [
    {
     "name": "stdout",
     "output_type": "stream",
     "text": [
      "Adult\n"
     ]
    }
   ],
   "source": [
    "age = 30\n",
    "if int(age) >= 18:\n",
    "    print('Adult')\n",
    "else:\n",
    "    print('Minor')"
   ]
  },
  {
   "cell_type": "markdown",
   "id": "bdfad213-3d5f-4b68-a398-ddaa8dd5d8a4",
   "metadata": {},
   "source": [
    "#### While Loop to For Loop\n",
    "\r\n",
    "How would you recreate the following block of code by using a for loop?"
   ]
  },
  {
   "cell_type": "code",
   "execution_count": 25,
   "id": "28e9e83b-5802-47c8-942e-fe1ecd40077e",
   "metadata": {},
   "outputs": [
    {
     "name": "stdout",
     "output_type": "stream",
     "text": [
      "HLO\n"
     ]
    }
   ],
   "source": [
    "text = 'hello'\n",
    "result = ''\n",
    "i = 0\n",
    "while i < len(text):\n",
    "    result += text[i].upper()\n",
    "    i += 2\n",
    "print(result)"
   ]
  },
  {
   "cell_type": "code",
   "execution_count": 26,
   "id": "222f80a0-091f-484d-8b5b-df242571d2c0",
   "metadata": {},
   "outputs": [
    {
     "name": "stdout",
     "output_type": "stream",
     "text": [
      "HELLO\n"
     ]
    }
   ],
   "source": [
    "result = ''\n",
    "for i in range(len(text)):\n",
    "    result += text[i].upper()\n",
    "print(result)"
   ]
  },
  {
   "cell_type": "code",
   "execution_count": 27,
   "id": "c21651bc-eb9a-48ab-baa1-2de0e46a7265",
   "metadata": {},
   "outputs": [
    {
     "name": "stdout",
     "output_type": "stream",
     "text": [
      "EL\n"
     ]
    }
   ],
   "source": [
    "result = ''\n",
    "for i in range(len(text)):\n",
    "    if i % 2 == 1:\n",
    "        result += text[i].upper()\n",
    "print(result)"
   ]
  },
  {
   "cell_type": "code",
   "execution_count": 28,
   "id": "26266765-0b01-44e8-a8b9-08a9282ce26f",
   "metadata": {},
   "outputs": [
    {
     "name": "stdout",
     "output_type": "stream",
     "text": [
      "HELLO\n"
     ]
    }
   ],
   "source": [
    "result = ''\n",
    "for char in text:\n",
    "    result += char.upper()\n",
    "print(result)"
   ]
  },
  {
   "cell_type": "code",
   "execution_count": 29,
   "id": "7d19a858-d831-49f6-a3cb-3481cadaa40c",
   "metadata": {},
   "outputs": [
    {
     "name": "stdout",
     "output_type": "stream",
     "text": [
      "HLO\n"
     ]
    }
   ],
   "source": [
    "result = ''\n",
    "for i in range(0, len(text), 2):\n",
    "    result += text[i].upper()\n",
    "print(result)"
   ]
  },
  {
   "cell_type": "markdown",
   "id": "2de6ce9d-a038-463d-b84e-21770560be47",
   "metadata": {},
   "source": [
    "#### Logical Operator Precedence\n",
    "\r\n",
    "What would the value of result1 and result2 be after the following operation?"
   ]
  },
  {
   "cell_type": "code",
   "execution_count": 30,
   "id": "645e31d0-c51c-49ff-87c2-8d18bf8e777e",
   "metadata": {},
   "outputs": [
    {
     "name": "stdout",
     "output_type": "stream",
     "text": [
      "False\n",
      "False\n"
     ]
    }
   ],
   "source": [
    "x = 3 > 8\n",
    "y = 19 != 19.0\n",
    "z = not False\n",
    "result1 = x or y and z\n",
    "result2 = (x or y) and z\n",
    "print(result1)\n",
    "print(result2)"
   ]
  }
 ],
 "metadata": {
  "kernelspec": {
   "display_name": "Python 3 (ipykernel)",
   "language": "python",
   "name": "python3"
  },
  "language_info": {
   "codemirror_mode": {
    "name": "ipython",
    "version": 3
   },
   "file_extension": ".py",
   "mimetype": "text/x-python",
   "name": "python",
   "nbconvert_exporter": "python",
   "pygments_lexer": "ipython3",
   "version": "3.12.4"
  }
 },
 "nbformat": 4,
 "nbformat_minor": 5
}

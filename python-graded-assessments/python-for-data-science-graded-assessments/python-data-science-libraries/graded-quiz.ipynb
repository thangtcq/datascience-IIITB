{
 "cells": [
  {
   "cell_type": "markdown",
   "id": "74fba7d6-a29a-40f0-b94f-826068da9b6f",
   "metadata": {},
   "source": [
    "#### Two Dimensional Arrays\n",
    "\n",
    "Consider the following NumPy array:<br>\n",
    "Which of the following code snippets will create arrays with two dimensions?"
   ]
  },
  {
   "cell_type": "code",
   "execution_count": 5,
   "id": "915a8ab4-7d71-4632-b385-4c1dd92881e5",
   "metadata": {},
   "outputs": [
    {
     "ename": "SyntaxError",
     "evalue": "invalid syntax (2810086493.py, line 3)",
     "output_type": "error",
     "traceback": [
      "\u001b[1;36m  Cell \u001b[1;32mIn[5], line 3\u001b[1;36m\u001b[0m\n\u001b[1;33m    arr[[:1, :2]]\u001b[0m\n\u001b[1;37m         ^\u001b[0m\n\u001b[1;31mSyntaxError\u001b[0m\u001b[1;31m:\u001b[0m invalid syntax\n"
     ]
    }
   ],
   "source": [
    "import numpy as np\n",
    "arr = np.array([[1, 2, 3], [4, 5, 6], [7, 8, 9]])\n",
    "arr[[:1, :2]]"
   ]
  },
  {
   "cell_type": "code",
   "execution_count": 6,
   "id": "f5d03046-948e-4a79-ba80-716d05f2af89",
   "metadata": {},
   "outputs": [
    {
     "data": {
      "text/plain": [
       "6"
      ]
     },
     "execution_count": 6,
     "metadata": {},
     "output_type": "execute_result"
    }
   ],
   "source": [
    "import numpy as np\n",
    "arr = np.array([[1, 2, 3], [4, 5, 6], [7, 8, 9]])\n",
    "arr[1, 2]"
   ]
  },
  {
   "cell_type": "code",
   "execution_count": 7,
   "id": "e5f10570-98f0-4cb1-a7c7-5e063806541f",
   "metadata": {},
   "outputs": [
    {
     "data": {
      "text/plain": [
       "array([[[1, 2, 3],\n",
       "        [4, 5, 6],\n",
       "        [7, 8, 9]]])"
      ]
     },
     "execution_count": 7,
     "metadata": {},
     "output_type": "execute_result"
    }
   ],
   "source": [
    "import numpy as np\n",
    "arr = np.array([[1, 2, 3], [4, 5, 6], [7, 8, 9]])\n",
    "arr.reshape(1, 3, 3)"
   ]
  },
  {
   "cell_type": "code",
   "execution_count": 8,
   "id": "d68281c3-ca44-4086-bef5-5aa99b8c07a5",
   "metadata": {},
   "outputs": [
    {
     "data": {
      "text/plain": [
       "array([[1, 2, 3, 4, 5, 6, 7, 8, 9]])"
      ]
     },
     "execution_count": 8,
     "metadata": {},
     "output_type": "execute_result"
    }
   ],
   "source": [
    "import numpy as np\n",
    "arr = np.array([[1, 2, 3], [4, 5, 6], [7, 8, 9]])\n",
    "arr.reshape(1, 9)"
   ]
  },
  {
   "cell_type": "code",
   "execution_count": 11,
   "id": "6dfc715a-e1e1-43ce-b921-800a48048522",
   "metadata": {},
   "outputs": [
    {
     "data": {
      "text/plain": [
       "array([2, 5, 8])"
      ]
     },
     "execution_count": 11,
     "metadata": {},
     "output_type": "execute_result"
    }
   ],
   "source": [
    "import numpy as np\n",
    "arr = np.array([[1, 2, 3], [4, 5, 6], [7, 8, 9]])\n",
    "arr[..., 1]"
   ]
  },
  {
   "cell_type": "code",
   "execution_count": 12,
   "id": "9eee0102-f7ea-4096-a3ed-46953b782002",
   "metadata": {},
   "outputs": [
    {
     "data": {
      "text/plain": [
       "array([1, 2, 3, 4, 5, 6, 7, 8, 9])"
      ]
     },
     "execution_count": 12,
     "metadata": {},
     "output_type": "execute_result"
    }
   ],
   "source": [
    "import numpy as np\n",
    "arr = np.array([[1, 2, 3], [4, 5, 6], [7, 8, 9]])\n",
    "arr.flatten()"
   ]
  },
  {
   "cell_type": "markdown",
   "id": "d84575d0-9028-4aa4-ad3e-982ebbe0f13d",
   "metadata": {},
   "source": [
    "#### Element-Wise Addition\n",
    "\n",
    "Consider the following arrays:<br>\n",
    "Which of the following operations will correctly compute the element-wise sum of these two arrays?"
   ]
  },
  {
   "cell_type": "code",
   "execution_count": 14,
   "id": "103ce3df-26b9-41a0-809e-bdea74aa396d",
   "metadata": {},
   "outputs": [
    {
     "data": {
      "text/plain": [
       "array([0, 0, 2])"
      ]
     },
     "execution_count": 14,
     "metadata": {},
     "output_type": "execute_result"
    }
   ],
   "source": [
    "import numpy as np\n",
    "arr1 = np.array([1, 2, 3])\n",
    "arr2 = np.array([4, 5, 6])\n",
    "arr1 & arr2"
   ]
  },
  {
   "cell_type": "code",
   "execution_count": 15,
   "id": "953f6962-1ac8-4d35-89ff-0bf5099865bb",
   "metadata": {},
   "outputs": [
    {
     "data": {
      "text/plain": [
       "array([5, 7, 9])"
      ]
     },
     "execution_count": 15,
     "metadata": {},
     "output_type": "execute_result"
    }
   ],
   "source": [
    "import numpy as np\n",
    "arr1 = np.array([1, 2, 3])\n",
    "arr2 = np.array([4, 5, 6])\n",
    "np.add(arr1, arr2)"
   ]
  },
  {
   "cell_type": "code",
   "execution_count": 16,
   "id": "2998bcba-5233-4dde-a7d8-163ff330ca8c",
   "metadata": {},
   "outputs": [
    {
     "ename": "AttributeError",
     "evalue": "module 'numpy' has no attribute 'scalarsum'",
     "output_type": "error",
     "traceback": [
      "\u001b[1;31m---------------------------------------------------------------------------\u001b[0m",
      "\u001b[1;31mAttributeError\u001b[0m                            Traceback (most recent call last)",
      "Cell \u001b[1;32mIn[16], line 4\u001b[0m\n\u001b[0;32m      2\u001b[0m arr1 \u001b[38;5;241m=\u001b[39m np\u001b[38;5;241m.\u001b[39marray([\u001b[38;5;241m1\u001b[39m, \u001b[38;5;241m2\u001b[39m, \u001b[38;5;241m3\u001b[39m])\n\u001b[0;32m      3\u001b[0m arr2 \u001b[38;5;241m=\u001b[39m np\u001b[38;5;241m.\u001b[39marray([\u001b[38;5;241m4\u001b[39m, \u001b[38;5;241m5\u001b[39m, \u001b[38;5;241m6\u001b[39m])\n\u001b[1;32m----> 4\u001b[0m \u001b[43mnp\u001b[49m\u001b[38;5;241;43m.\u001b[39;49m\u001b[43mscalarsum\u001b[49m(arr1, arr2)\n",
      "File \u001b[1;32m~\\anaconda3\\Lib\\site-packages\\numpy\\__init__.py:333\u001b[0m, in \u001b[0;36m__getattr__\u001b[1;34m(attr)\u001b[0m\n\u001b[0;32m    330\u001b[0m     \u001b[38;5;124m\"\u001b[39m\u001b[38;5;124mRemoved in NumPy 1.25.0\u001b[39m\u001b[38;5;124m\"\u001b[39m\n\u001b[0;32m    331\u001b[0m     \u001b[38;5;28;01mraise\u001b[39;00m \u001b[38;5;167;01mRuntimeError\u001b[39;00m(\u001b[38;5;124m\"\u001b[39m\u001b[38;5;124mTester was removed in NumPy 1.25.\u001b[39m\u001b[38;5;124m\"\u001b[39m)\n\u001b[1;32m--> 333\u001b[0m \u001b[38;5;28;01mraise\u001b[39;00m \u001b[38;5;167;01mAttributeError\u001b[39;00m(\u001b[38;5;124m\"\u001b[39m\u001b[38;5;124mmodule \u001b[39m\u001b[38;5;132;01m{!r}\u001b[39;00m\u001b[38;5;124m has no attribute \u001b[39m\u001b[38;5;124m\"\u001b[39m\n\u001b[0;32m    334\u001b[0m                      \u001b[38;5;124m\"\u001b[39m\u001b[38;5;132;01m{!r}\u001b[39;00m\u001b[38;5;124m\"\u001b[39m\u001b[38;5;241m.\u001b[39mformat(\u001b[38;5;18m__name__\u001b[39m, attr))\n",
      "\u001b[1;31mAttributeError\u001b[0m: module 'numpy' has no attribute 'scalarsum'"
     ]
    }
   ],
   "source": [
    "import numpy as np\n",
    "arr1 = np.array([1, 2, 3])\n",
    "arr2 = np.array([4, 5, 6])\n",
    "np.scalarsum(arr1, arr2)"
   ]
  },
  {
   "cell_type": "code",
   "execution_count": 17,
   "id": "5a9ae2b2-5a2c-430d-a7a7-3094da4f930d",
   "metadata": {},
   "outputs": [
    {
     "ename": "AttributeError",
     "evalue": "'numpy.ndarray' object has no attribute 'add'",
     "output_type": "error",
     "traceback": [
      "\u001b[1;31m---------------------------------------------------------------------------\u001b[0m",
      "\u001b[1;31mAttributeError\u001b[0m                            Traceback (most recent call last)",
      "Cell \u001b[1;32mIn[17], line 4\u001b[0m\n\u001b[0;32m      2\u001b[0m arr1 \u001b[38;5;241m=\u001b[39m np\u001b[38;5;241m.\u001b[39marray([\u001b[38;5;241m1\u001b[39m, \u001b[38;5;241m2\u001b[39m, \u001b[38;5;241m3\u001b[39m])\n\u001b[0;32m      3\u001b[0m arr2 \u001b[38;5;241m=\u001b[39m np\u001b[38;5;241m.\u001b[39marray([\u001b[38;5;241m4\u001b[39m, \u001b[38;5;241m5\u001b[39m, \u001b[38;5;241m6\u001b[39m])\n\u001b[1;32m----> 4\u001b[0m \u001b[43marr1\u001b[49m\u001b[38;5;241;43m.\u001b[39;49m\u001b[43madd\u001b[49m(arr2)\n",
      "\u001b[1;31mAttributeError\u001b[0m: 'numpy.ndarray' object has no attribute 'add'"
     ]
    }
   ],
   "source": [
    "import numpy as np\n",
    "arr1 = np.array([1, 2, 3])\n",
    "arr2 = np.array([4, 5, 6])\n",
    "arr1.add(arr2)"
   ]
  },
  {
   "cell_type": "markdown",
   "id": "c91a4b70-2b83-4a20-bc7c-85bb0f244437",
   "metadata": {},
   "source": [
    "#### Make Arrays Broadcast-Compatible\n",
    "\n",
    "Consider the following arrays:<br>\n",
    "You want to perform an element-wise addition of these arrays by making them broadcast-compatible.<br>\n",
    "How would you reshape arr1 to ensure the operation works correctly?"
   ]
  },
  {
   "cell_type": "code",
   "execution_count": 19,
   "id": "825d6be2-cebf-4649-a5c9-532c369f0b24",
   "metadata": {},
   "outputs": [
    {
     "name": "stdout",
     "output_type": "stream",
     "text": [
      "[[1]\n",
      " [2]\n",
      " [3]]\n"
     ]
    }
   ],
   "source": [
    "import numpy as np\n",
    "arr1 = np.array([[1, 2, 3]])\n",
    "arr2 = np.array([10, 20])\n",
    "reshaped_arr1 = arr1.reshape(3, 1)\n",
    "print(reshaped_arr1)"
   ]
  },
  {
   "cell_type": "code",
   "execution_count": 22,
   "id": "6656872d-f30a-4dee-8316-0f6f59b38741",
   "metadata": {},
   "outputs": [
    {
     "name": "stdout",
     "output_type": "stream",
     "text": [
      "[[1 2 3]]\n"
     ]
    }
   ],
   "source": [
    "import numpy as np\n",
    "arr1 = np.array([[1, 2, 3]])\n",
    "arr2 = np.array([10, 20])\n",
    "reshaped_arr1 = arr1.reshape(1, 3)\n",
    "print(reshaped_arr1)"
   ]
  },
  {
   "cell_type": "code",
   "execution_count": 24,
   "id": "2298e4e0-4158-4aca-a69b-4c514267a958",
   "metadata": {},
   "outputs": [
    {
     "ename": "ValueError",
     "evalue": "cannot reshape array of size 3 into shape (3,2)",
     "output_type": "error",
     "traceback": [
      "\u001b[1;31m---------------------------------------------------------------------------\u001b[0m",
      "\u001b[1;31mValueError\u001b[0m                                Traceback (most recent call last)",
      "Cell \u001b[1;32mIn[24], line 4\u001b[0m\n\u001b[0;32m      2\u001b[0m arr1 \u001b[38;5;241m=\u001b[39m np\u001b[38;5;241m.\u001b[39marray([[\u001b[38;5;241m1\u001b[39m, \u001b[38;5;241m2\u001b[39m, \u001b[38;5;241m3\u001b[39m]])\n\u001b[0;32m      3\u001b[0m arr2 \u001b[38;5;241m=\u001b[39m np\u001b[38;5;241m.\u001b[39marray([\u001b[38;5;241m10\u001b[39m, \u001b[38;5;241m20\u001b[39m])\n\u001b[1;32m----> 4\u001b[0m reshaped_arr1 \u001b[38;5;241m=\u001b[39m \u001b[43marr1\u001b[49m\u001b[38;5;241;43m.\u001b[39;49m\u001b[43mreshape\u001b[49m\u001b[43m(\u001b[49m\u001b[38;5;241;43m3\u001b[39;49m\u001b[43m,\u001b[49m\u001b[43m \u001b[49m\u001b[38;5;241;43m2\u001b[39;49m\u001b[43m)\u001b[49m\n\u001b[0;32m      5\u001b[0m \u001b[38;5;28mprint\u001b[39m(reshaped_arr1)\n",
      "\u001b[1;31mValueError\u001b[0m: cannot reshape array of size 3 into shape (3,2)"
     ]
    }
   ],
   "source": [
    "import numpy as np\n",
    "arr1 = np.array([[1, 2, 3]])\n",
    "arr2 = np.array([10, 20])\n",
    "reshaped_arr1 = arr1.reshape(3, 2)\n",
    "print(reshaped_arr1)"
   ]
  },
  {
   "cell_type": "code",
   "execution_count": 23,
   "id": "357d2814-278d-45cc-a993-83fff136bb7e",
   "metadata": {},
   "outputs": [
    {
     "name": "stdout",
     "output_type": "stream",
     "text": [
      "[[1 2 3]]\n"
     ]
    }
   ],
   "source": [
    "import numpy as np\n",
    "arr1 = np.array([[1, 2, 3]])\n",
    "arr2 = np.array([10, 20])\n",
    "reshaped_arr1 = arr1\n",
    "print(reshaped_arr1)"
   ]
  },
  {
   "cell_type": "markdown",
   "id": "1261d99c-9fa5-4f78-b8a8-c57966b5f942",
   "metadata": {},
   "source": [
    "#### Unique States\n",
    "\n",
    "This question requires that you load the tourist_spots.csv dataset into a DataFrame df.<br>\n",
    "How many unique items are available in the 'State' column of the dataset?"
   ]
  },
  {
   "cell_type": "code",
   "execution_count": 27,
   "id": "8a24b06c-07e4-43f7-b432-4697a62dff12",
   "metadata": {},
   "outputs": [
    {
     "name": "stdout",
     "output_type": "stream",
     "text": [
      "33\n"
     ]
    }
   ],
   "source": [
    "import pandas as pd\n",
    "url = 'https://raw.githubusercontent.com/thangtcq/datascience-IIITB/main/python-graded-assessments/python-for-data-science-graded-assessments/python-data-science-libraries/tourist_spots.csv'\n",
    "df = pd.read_csv(url)\n",
    "unique_states = df['State'].nunique()\n",
    "print(unique_states)"
   ]
  },
  {
   "cell_type": "markdown",
   "id": "2b8231c0-1be0-4596-bd8f-b9927ec2b417",
   "metadata": {},
   "source": [
    "#### High Rated Tourist Spots in the North\n",
    "\n",
    "This question requires that you load the tourist_spots.csv dataset into a DataFrame df.<br>\n",
    "Imagine you have to filter all the places that have a Google review rating that is greater than or equal to 4.5 but only for places in the 'Northern' zone. Which of the following Pandas commands will you use?"
   ]
  },
  {
   "cell_type": "code",
   "execution_count": 29,
   "id": "a0c1f64c-185d-434d-9df6-ec1ffe8839b3",
   "metadata": {},
   "outputs": [
    {
     "name": "stdout",
     "output_type": "stream",
     "text": [
      "         Zone              State            City  \\\n",
      "0    Northern              Delhi           Delhi   \n",
      "1    Northern              Delhi           Delhi   \n",
      "2    Northern              Delhi           Delhi   \n",
      "6    Northern              Delhi           Delhi   \n",
      "7    Northern              Delhi           Delhi   \n",
      "9    Northern              Delhi           Delhi   \n",
      "11   Northern              Delhi           Delhi   \n",
      "12   Northern              Delhi           Delhi   \n",
      "14   Northern              Delhi           Delhi   \n",
      "82   Northern          Rajasthan  Sawai Madhopur   \n",
      "84   Northern          Rajasthan           Ajmer   \n",
      "85   Northern          Rajasthan         Jodhpur   \n",
      "86   Northern          Rajasthan     Chittorgarh   \n",
      "87   Northern          Rajasthan       Mount Abu   \n",
      "88   Northern          Rajasthan         Bikaner   \n",
      "89   Northern          Rajasthan          Jaipur   \n",
      "90   Northern          Rajasthan          Jaipur   \n",
      "91   Northern          Rajasthan         Udaipur   \n",
      "92   Northern             Punjab        Amritsar   \n",
      "93   Northern             Punjab        Amritsar   \n",
      "94   Northern             Punjab        Amritsar   \n",
      "95   Northern             Punjab      Chandigarh   \n",
      "150  Northern   Himachal Pradesh          Shimla   \n",
      "152  Northern   Himachal Pradesh       dalhousie   \n",
      "153  Northern   Himachal Pradesh       Dalhousie   \n",
      "154  Northern   Himachal Pradesh    Spiti Valley   \n",
      "155  Northern   Himachal Pradesh           Kullu   \n",
      "157  Northern   Himachal Pradesh         Kinnaur   \n",
      "159  Northern   Himachal Pradesh        Palampur   \n",
      "160  Northern   Himachal Pradesh           Mandi   \n",
      "161  Northern   Himachal Pradesh     Bir Billing   \n",
      "162  Northern   Himachal Pradesh     McLeod Ganj   \n",
      "163  Northern   Himachal Pradesh       Manikaran   \n",
      "164  Northern   Himachal Pradesh        Narkanda   \n",
      "165  Northern   Himachal Pradesh           Barot   \n",
      "170  Northern        Uttarakhand        Haridwar   \n",
      "171  Northern        Uttarakhand        Dehradun   \n",
      "173  Northern        Uttarakhand            Auli   \n",
      "174  Northern        Uttarakhand       Badrinath   \n",
      "178  Northern        Uttarakhand      Uttarkashi   \n",
      "179  Northern        Uttarakhand          Chopta   \n",
      "180  Northern        Uttarakhand       Joshimath   \n",
      "195  Northern  Jammu and Kashmir        Srinagar   \n",
      "196  Northern             Ladakh             Leh   \n",
      "197  Northern  Jammu and Kashmir        Pahalgam   \n",
      "198  Northern  Jammu and Kashmir           Jammu   \n",
      "200  Northern  Jammu and Kashmir        Anantnag   \n",
      "201  Northern             Ladakh             Leh   \n",
      "202  Northern             Ladakh    Nubra Valley   \n",
      "203  Northern             Ladakh          Kargil   \n",
      "204  Northern             Ladakh          Diskit   \n",
      "207  Northern             Ladakh            Dras   \n",
      "209  Northern             Ladakh             Leh   \n",
      "210  Northern             Ladakh             Leh   \n",
      "303  Northern            Haryana        Gurugram   \n",
      "304  Northern            Haryana        Gurugram   \n",
      "305  Northern              Delhi       New Delhi   \n",
      "306  Northern        Uttarakhand       Kedarnath   \n",
      "313  Northern              Delhi       New Delhi   \n",
      "324  Northern          Rajasthan          Jaipur   \n",
      "\n",
      "                                Name                Type Establishment Year  \\\n",
      "0                         India Gate        War Memorial               1921   \n",
      "1                     Humayun's Tomb                Tomb               1572   \n",
      "2                  Akshardham Temple              Temple               2005   \n",
      "6                       Lotus Temple              Temple               1986   \n",
      "7                           Red Fort                Fort               1648   \n",
      "9                     Sunder Nursery                Park               1600   \n",
      "11                      Lodhi Garden                Park               1500   \n",
      "12    National Gallery of Modern Art              Museum               1954   \n",
      "14                       Qutub Minar            Monument               1192   \n",
      "82         Ranthambore National Park  Wildlife Sanctuary               1980   \n",
      "84               Ajmer Sharif Dargah              Shrine               1236   \n",
      "85                   Mehrangarh Fort                Fort               1459   \n",
      "86                  Chittorgarh Fort                Fort                700   \n",
      "87                   Dilwara Temples              Temple               1100   \n",
      "88                     Junagarh Fort                Fort               1589   \n",
      "89                        Amber Fort                Fort               1592   \n",
      "90                      Jaigarh Fort                Fort               1726   \n",
      "91                      Lake Pichola                Lake               1362   \n",
      "92   Golden Temple (Harmandir Sahib)      Religious Site               1604   \n",
      "93                  Jallianwala Bagh            Memorial               1951   \n",
      "94                      Wagah Border     Border Crossing               1950   \n",
      "95                       Rock Garden    Sculpture Garden               1976   \n",
      "150                        The Ridge        Scenic Point            Unknown   \n",
      "152                Dalai Lama Temple              Temple               1959   \n",
      "153                    Khajjiar Lake                Lake            Unknown   \n",
      "154                    Key Monastery           Monastery               1100   \n",
      "155    Great Himalayan National Park       National Park               1984   \n",
      "157                    Sangla Valley              Valley            Unknown   \n",
      "159                      Tea Gardens      Tea Plantation               1950   \n",
      "160                     Prashar Lake                Lake               1400   \n",
      "161                 Paragliding Site     Adventure Sport               2005   \n",
      "162                      Triund Trek            Trekking            Unknown   \n",
      "163                  Manikaran Sahib           Gurudwara               1980   \n",
      "164                        Hatu Peak           Viewpoint            Unknown   \n",
      "165                     Barot Valley              Valley            Unknown   \n",
      "170                     Har Ki Pauri                Ghat            Unknown   \n",
      "171                    Robber's Cave                Cave            Unknown   \n",
      "173                  Auli Ski Resort          Ski Resort               1990   \n",
      "174                 Badrinath Temple              Temple               -820   \n",
      "178                  Gangotri Temple              Temple               1751   \n",
      "179                  Tungnath Temple              Temple                751   \n",
      "180                Valley of Flowers       National Park               1982   \n",
      "195                         Dal Lake                Lake            Unknown   \n",
      "196                      Pangong Tso                Lake            Unknown   \n",
      "197                    Betaab Valley              Valley            Unknown   \n",
      "198                     Vaishno Devi              Temple            Unknown   \n",
      "200                    Amarnath Cave              Temple            Unknown   \n",
      "201                Thiksey Monastery           Monastery               1430   \n",
      "202                     Nubra Valley              Valley            Unknown   \n",
      "203              Kargil War Memorial        War Memorial                 24   \n",
      "204                 Diskit Monastery           Monastery               1351   \n",
      "207                Dras War Memorial        War Memorial            Unknown   \n",
      "209                 Khardung La Pass                Hill            Unknown   \n",
      "210                Thiksey Monastery           Monastery               1430   \n",
      "303                    Ambience Mall                Mall            Unknown   \n",
      "304                     DLF CyberHub  Commercial Complex            Unknown   \n",
      "305           Gurudwara Bangla Sahib           Gurudwara            Unknown   \n",
      "306                        Kedarnath              Temple            Unknown   \n",
      "313                      Jama Masjid              Mosque               1656   \n",
      "324               Albert Hall Museum              Museum               1887   \n",
      "\n",
      "     time needed to visit in hrs  Google review rating  Entrance Fee in INR  \\\n",
      "0                            0.5                   4.6                    0   \n",
      "1                            2.0                   4.5                   30   \n",
      "2                            5.0                   4.6                   60   \n",
      "6                            1.0                   4.5                    0   \n",
      "7                            2.0                   4.5                   35   \n",
      "9                            2.0                   4.6                    0   \n",
      "11                           1.0                   4.5                    0   \n",
      "12                           3.0                   4.5                   20   \n",
      "14                           1.0                   4.5                   35   \n",
      "82                           3.0                   4.6                  500   \n",
      "84                           1.0                   4.6                    0   \n",
      "85                           2.0                   4.6                  100   \n",
      "86                           2.0                   4.6                   40   \n",
      "87                           1.0                   4.6                    0   \n",
      "88                           2.0                   4.5                   50   \n",
      "89                           2.0                   4.6                  100   \n",
      "90                           1.5                   4.5                   35   \n",
      "91                           1.0                   4.6                    0   \n",
      "92                           1.5                   4.9                    0   \n",
      "93                           1.0                   4.8                    0   \n",
      "94                           2.0                   4.8                    0   \n",
      "95                           2.0                   4.5                   30   \n",
      "150                          1.0                   4.7                    0   \n",
      "152                          1.5                   4.7                    0   \n",
      "153                          1.5                   4.5                    0   \n",
      "154                          1.0                   4.8                    0   \n",
      "155                          3.0                   4.5                   50   \n",
      "157                          2.0                   4.5                    0   \n",
      "159                          1.5                   4.6                    0   \n",
      "160                          1.5                   4.6                    0   \n",
      "161                          2.0                   4.8                 2500   \n",
      "162                          5.0                   4.8                    0   \n",
      "163                          1.0                   4.6                    0   \n",
      "164                          2.0                   4.5                    0   \n",
      "165                          2.0                   4.7                    0   \n",
      "170                          1.0                   4.5                    0   \n",
      "171                          1.5                   4.5                   25   \n",
      "173                          3.0                   4.5                    0   \n",
      "174                          1.0                   4.8                    0   \n",
      "178                          1.0                   4.8                    0   \n",
      "179                          2.0                   4.8                    0   \n",
      "180                          5.0                   4.7                  150   \n",
      "195                          2.0                   4.6                    0   \n",
      "196                          2.0                   4.9                   20   \n",
      "197                          2.0                   4.6                  100   \n",
      "198                          5.0                   4.7                    0   \n",
      "200                          6.0                   4.5                    0   \n",
      "201                          1.5                   4.7                   20   \n",
      "202                          2.0                   4.5                    0   \n",
      "203                          1.0                   4.8                    0   \n",
      "204                          1.0                   4.7                   20   \n",
      "207                          1.0                   4.8                    0   \n",
      "209                          1.0                   4.5                    0   \n",
      "210                          1.5                   4.7                   30   \n",
      "303                          2.0                   4.6                    0   \n",
      "304                          2.0                   4.7                    0   \n",
      "305                          1.0                   4.8                    0   \n",
      "306                          1.5                   4.8                    0   \n",
      "313                          1.0                   4.5                    0   \n",
      "324                          2.0                   4.5                  200   \n",
      "\n",
      "    Airport with 50km Radius   Significance DSLR Allowed  \\\n",
      "0                        Yes     Historical          Yes   \n",
      "1                        Yes     Historical          Yes   \n",
      "2                        Yes      Religious           No   \n",
      "6                        Yes      Religious          Yes   \n",
      "7                        Yes     Historical          Yes   \n",
      "9                        Yes      Botanical          Yes   \n",
      "11                       Yes      Botanical          Yes   \n",
      "12                       Yes       Artistic          Yes   \n",
      "14                       Yes     Historical          Yes   \n",
      "82                        No       Wildlife          Yes   \n",
      "84                       Yes      Religious           No   \n",
      "85                       Yes     Historical          Yes   \n",
      "86                        No     Historical          Yes   \n",
      "87                        No      Religious           No   \n",
      "88                       Yes     Historical          Yes   \n",
      "89                       Yes     Historical          Yes   \n",
      "90                       Yes     Historical          Yes   \n",
      "91                       Yes         Nature          Yes   \n",
      "92                       Yes      Spiritual          Yes   \n",
      "93                       Yes     Historical          Yes   \n",
      "94                       Yes       Cultural          Yes   \n",
      "95                       Yes       Artistic          Yes   \n",
      "150                      Yes   Recreational          Yes   \n",
      "152                      Yes      Religious           No   \n",
      "153                       No         Nature          Yes   \n",
      "154                       No      Religious          Yes   \n",
      "155                       No       Wildlife          Yes   \n",
      "157                       No         Nature          Yes   \n",
      "159                      Yes   Agricultural          Yes   \n",
      "160                       No         Nature          Yes   \n",
      "161                       No      Adventure          Yes   \n",
      "162                      Yes      Adventure          Yes   \n",
      "163                       No      Religious          Yes   \n",
      "164                      Yes         Nature          Yes   \n",
      "165                       No         Nature          Yes   \n",
      "170                      Yes      Religious          Yes   \n",
      "171                      Yes         Nature          Yes   \n",
      "173                       No      Adventure          Yes   \n",
      "174                       No      Religious           No   \n",
      "178                       No      Religious           No   \n",
      "179                       No      Religious           No   \n",
      "180                       No         Nature          Yes   \n",
      "195                      Yes         Nature          Yes   \n",
      "196                      Yes         Nature          Yes   \n",
      "197                       No         Nature          Yes   \n",
      "198                      Yes      Religious           No   \n",
      "200                       No      Religious          Yes   \n",
      "201                      Yes      Religious           No   \n",
      "202                       No         Nature          Yes   \n",
      "203                       No     Historical          Yes   \n",
      "204                       No      Religious           No   \n",
      "207                       No     Historical          Yes   \n",
      "209                      Yes      Adventure          Yes   \n",
      "210                      Yes      Religious           No   \n",
      "303                      Yes       Shopping          Yes   \n",
      "304                      Yes  Entertainment          Yes   \n",
      "305                      Yes      Religious          Yes   \n",
      "306                       No      Religious           No   \n",
      "313                      Yes     Historical          Yes   \n",
      "324                      Yes     Historical          Yes   \n",
      "\n",
      "     Number of google review in lakhs Best Time to visit  \n",
      "0                               2.600            Evening  \n",
      "1                               0.400          Afternoon  \n",
      "2                               0.400          Afternoon  \n",
      "6                               0.590            Evening  \n",
      "7                               1.500          Afternoon  \n",
      "9                               0.160          Afternoon  \n",
      "11                              0.480                All  \n",
      "12                              0.080                All  \n",
      "14                              1.370          Afternoon  \n",
      "82                              0.090                All  \n",
      "84                              0.350                All  \n",
      "85                              0.640                All  \n",
      "86                              1.900                All  \n",
      "87                              0.050                All  \n",
      "88                              0.320                All  \n",
      "89                              1.500                All  \n",
      "90                              0.300                All  \n",
      "91                              0.500                All  \n",
      "92                              1.900                All  \n",
      "93                              0.300          Afternoon  \n",
      "94                              0.170            Evening  \n",
      "95                              0.500                All  \n",
      "150                             0.030            Morning  \n",
      "152                             0.150                All  \n",
      "153                             0.100            Morning  \n",
      "154                             0.025            Morning  \n",
      "155                             0.200                All  \n",
      "157                             0.010            Morning  \n",
      "159                             0.015            Morning  \n",
      "160                             0.010            Morning  \n",
      "161                             0.010                All  \n",
      "162                             0.010            Morning  \n",
      "163                             1.300            Morning  \n",
      "164                             1.100                All  \n",
      "165                             1.200            Morning  \n",
      "170                             0.025                All  \n",
      "171                             0.010            Morning  \n",
      "173                             0.010            Morning  \n",
      "174                             0.290                All  \n",
      "178                             0.050                All  \n",
      "179                             0.090                All  \n",
      "180                             0.035            Morning  \n",
      "195                             0.150            Morning  \n",
      "196                             0.150            Morning  \n",
      "197                             0.110                All  \n",
      "198                             0.550                All  \n",
      "200                             0.110                All  \n",
      "201                             0.050                All  \n",
      "202                             0.100                All  \n",
      "203                             0.011                All  \n",
      "204                             0.015            Morning  \n",
      "207                             0.012                All  \n",
      "209                             0.050          Afternoon  \n",
      "210                             0.050                All  \n",
      "303                             1.200          Afternoon  \n",
      "304                             0.710          Afternoon  \n",
      "305                             1.050                All  \n",
      "306                             2.000                All  \n",
      "313                             0.490                All  \n",
      "324                             0.630                All  \n"
     ]
    }
   ],
   "source": [
    "import pandas as pd\n",
    "url = 'https://raw.githubusercontent.com/thangtcq/datascience-IIITB/main/python-graded-assessments/python-for-data-science-graded-assessments/python-data-science-libraries/tourist_spots.csv'\n",
    "df = pd.read_csv(url)\n",
    "filtered_df = df[(df['Zone'] == 'Northern') & (df['Google review rating'] >= 4.5)]\n",
    "print(filtered_df)"
   ]
  },
  {
   "cell_type": "code",
   "execution_count": 30,
   "id": "56f3270c-4751-4376-a75e-ee0cb2cbf9f7",
   "metadata": {},
   "outputs": [
    {
     "name": "stdout",
     "output_type": "stream",
     "text": [
      "         Zone           State         City                          Name  \\\n",
      "0    Northern           Delhi        Delhi                    India Gate   \n",
      "1    Northern           Delhi        Delhi                Humayun's Tomb   \n",
      "2    Northern           Delhi        Delhi             Akshardham Temple   \n",
      "3    Northern           Delhi        Delhi          Waste to Wonder Park   \n",
      "4    Northern           Delhi        Delhi                 Jantar Mantar   \n",
      "..        ...             ...          ...                           ...   \n",
      "320   Western         Gujarat  Gandhinagar                    Akshardham   \n",
      "321   Central   Uttar Pradesh         Agra                     Agra Fort   \n",
      "322   Central  Madhya Pradesh       Bhopal  Madhya Pradesh Tribal Museum   \n",
      "323  Northern       Rajasthan       Jaipur                   City Palace   \n",
      "324  Northern       Rajasthan       Jaipur            Albert Hall Museum   \n",
      "\n",
      "             Type Establishment Year  time needed to visit in hrs  \\\n",
      "0    War Memorial               1921                          0.5   \n",
      "1            Tomb               1572                          2.0   \n",
      "2          Temple               2005                          5.0   \n",
      "3      Theme Park               2019                          2.0   \n",
      "4     Observatory               1724                          2.0   \n",
      "..            ...                ...                          ...   \n",
      "320        Temple               1992                          3.0   \n",
      "321          Fort               1565                          2.0   \n",
      "322        Museum               2013                          2.0   \n",
      "323        Palace               1727                          2.0   \n",
      "324        Museum               1887                          2.0   \n",
      "\n",
      "     Google review rating  Entrance Fee in INR Airport with 50km Radius  \\\n",
      "0                     4.6                    0                      Yes   \n",
      "1                     4.5                   30                      Yes   \n",
      "2                     4.6                   60                      Yes   \n",
      "3                     4.1                   50                      Yes   \n",
      "4                     4.2                   15                      Yes   \n",
      "..                    ...                  ...                      ...   \n",
      "320                   4.6                    0                      Yes   \n",
      "321                   4.5                   40                      Yes   \n",
      "322                   4.7                   10                      Yes   \n",
      "323                   4.4                  200                      Yes   \n",
      "324                   4.5                  200                      Yes   \n",
      "\n",
      "      Significance DSLR Allowed  Number of google review in lakhs  \\\n",
      "0       Historical          Yes                              2.60   \n",
      "1       Historical          Yes                              0.40   \n",
      "2        Religious           No                              0.40   \n",
      "3    Environmental          Yes                              0.27   \n",
      "4       Scientific          Yes                              0.31   \n",
      "..             ...          ...                               ...   \n",
      "320      Religious           No                              0.18   \n",
      "321     Historical          Yes                              1.30   \n",
      "322       Cultural          Yes                              0.15   \n",
      "323     Historical          Yes                              0.51   \n",
      "324     Historical          Yes                              0.63   \n",
      "\n",
      "    Best Time to visit  \n",
      "0              Evening  \n",
      "1            Afternoon  \n",
      "2            Afternoon  \n",
      "3              Evening  \n",
      "4              Morning  \n",
      "..                 ...  \n",
      "320                All  \n",
      "321          Afternoon  \n",
      "322                All  \n",
      "323            Morning  \n",
      "324                All  \n",
      "\n",
      "[240 rows x 14 columns]\n"
     ]
    }
   ],
   "source": [
    "import pandas as pd\n",
    "url = 'https://raw.githubusercontent.com/thangtcq/datascience-IIITB/main/python-graded-assessments/python-for-data-science-graded-assessments/python-data-science-libraries/tourist_spots.csv'\n",
    "df = pd.read_csv(url)\n",
    "filtered_df = df[(df['Zone'] == 'Northern') | (df['Google review rating'] >= 4.5)]\n",
    "print(filtered_df)"
   ]
  },
  {
   "cell_type": "code",
   "execution_count": 31,
   "id": "af8ca694-c678-4ac6-b934-ac703568c06a",
   "metadata": {},
   "outputs": [
    {
     "ename": "ValueError",
     "evalue": "The truth value of a Series is ambiguous. Use a.empty, a.bool(), a.item(), a.any() or a.all().",
     "output_type": "error",
     "traceback": [
      "\u001b[1;31m---------------------------------------------------------------------------\u001b[0m",
      "\u001b[1;31mValueError\u001b[0m                                Traceback (most recent call last)",
      "\u001b[1;32m~\\AppData\\Local\\Temp\\ipykernel_23452\\4056951450.py\u001b[0m in \u001b[0;36m?\u001b[1;34m()\u001b[0m\n\u001b[0;32m      1\u001b[0m \u001b[1;32mimport\u001b[0m \u001b[0mpandas\u001b[0m \u001b[1;32mas\u001b[0m \u001b[0mpd\u001b[0m\u001b[1;33m\u001b[0m\u001b[1;33m\u001b[0m\u001b[0m\n\u001b[0;32m      2\u001b[0m \u001b[0murl\u001b[0m \u001b[1;33m=\u001b[0m \u001b[1;34m'https://raw.githubusercontent.com/thangtcq/datascience-IIITB/main/python-graded-assessments/python-for-data-science-graded-assessments/python-data-science-libraries/tourist_spots.csv'\u001b[0m\u001b[1;33m\u001b[0m\u001b[1;33m\u001b[0m\u001b[0m\n\u001b[0;32m      3\u001b[0m \u001b[0mdf\u001b[0m \u001b[1;33m=\u001b[0m \u001b[0mpd\u001b[0m\u001b[1;33m.\u001b[0m\u001b[0mread_csv\u001b[0m\u001b[1;33m(\u001b[0m\u001b[0murl\u001b[0m\u001b[1;33m)\u001b[0m\u001b[1;33m\u001b[0m\u001b[1;33m\u001b[0m\u001b[0m\n\u001b[1;32m----> 4\u001b[1;33m \u001b[0mfiltered_df\u001b[0m \u001b[1;33m=\u001b[0m \u001b[0mdf\u001b[0m\u001b[1;33m[\u001b[0m\u001b[1;33m(\u001b[0m\u001b[0mdf\u001b[0m\u001b[1;33m[\u001b[0m\u001b[1;34m'Zone'\u001b[0m\u001b[1;33m]\u001b[0m \u001b[1;33m==\u001b[0m \u001b[1;34m'Northern'\u001b[0m\u001b[1;33m)\u001b[0m \u001b[1;32mand\u001b[0m \u001b[1;33m(\u001b[0m\u001b[0mdf\u001b[0m\u001b[1;33m[\u001b[0m\u001b[1;34m'Google review rating'\u001b[0m\u001b[1;33m]\u001b[0m \u001b[1;33m>=\u001b[0m \u001b[1;36m4.5\u001b[0m\u001b[1;33m)\u001b[0m\u001b[1;33m]\u001b[0m\u001b[1;33m\u001b[0m\u001b[1;33m\u001b[0m\u001b[0m\n\u001b[0m\u001b[0;32m      5\u001b[0m \u001b[0mprint\u001b[0m\u001b[1;33m(\u001b[0m\u001b[0mfiltered_df\u001b[0m\u001b[1;33m)\u001b[0m\u001b[1;33m\u001b[0m\u001b[1;33m\u001b[0m\u001b[0m\n",
      "\u001b[1;32m~\\anaconda3\\Lib\\site-packages\\pandas\\core\\generic.py\u001b[0m in \u001b[0;36m?\u001b[1;34m(self)\u001b[0m\n\u001b[0;32m   1575\u001b[0m     \u001b[1;33m@\u001b[0m\u001b[0mfinal\u001b[0m\u001b[1;33m\u001b[0m\u001b[1;33m\u001b[0m\u001b[0m\n\u001b[0;32m   1576\u001b[0m     \u001b[1;32mdef\u001b[0m \u001b[0m__nonzero__\u001b[0m\u001b[1;33m(\u001b[0m\u001b[0mself\u001b[0m\u001b[1;33m)\u001b[0m \u001b[1;33m->\u001b[0m \u001b[0mNoReturn\u001b[0m\u001b[1;33m:\u001b[0m\u001b[1;33m\u001b[0m\u001b[1;33m\u001b[0m\u001b[0m\n\u001b[1;32m-> 1577\u001b[1;33m         raise ValueError(\n\u001b[0m\u001b[0;32m   1578\u001b[0m             \u001b[1;33mf\"\u001b[0m\u001b[1;33mThe truth value of a \u001b[0m\u001b[1;33m{\u001b[0m\u001b[0mtype\u001b[0m\u001b[1;33m(\u001b[0m\u001b[0mself\u001b[0m\u001b[1;33m)\u001b[0m\u001b[1;33m.\u001b[0m\u001b[0m__name__\u001b[0m\u001b[1;33m}\u001b[0m\u001b[1;33m is ambiguous. \u001b[0m\u001b[1;33m\"\u001b[0m\u001b[1;33m\u001b[0m\u001b[1;33m\u001b[0m\u001b[0m\n\u001b[0;32m   1579\u001b[0m             \u001b[1;34m\"Use a.empty, a.bool(), a.item(), a.any() or a.all().\"\u001b[0m\u001b[1;33m\u001b[0m\u001b[1;33m\u001b[0m\u001b[0m\n\u001b[0;32m   1580\u001b[0m         \u001b[1;33m)\u001b[0m\u001b[1;33m\u001b[0m\u001b[1;33m\u001b[0m\u001b[0m\n",
      "\u001b[1;31mValueError\u001b[0m: The truth value of a Series is ambiguous. Use a.empty, a.bool(), a.item(), a.any() or a.all()."
     ]
    }
   ],
   "source": [
    "import pandas as pd\n",
    "url = 'https://raw.githubusercontent.com/thangtcq/datascience-IIITB/main/python-graded-assessments/python-for-data-science-graded-assessments/python-data-science-libraries/tourist_spots.csv'\n",
    "df = pd.read_csv(url)\n",
    "filtered_df = df[(df['Zone'] == 'Northern') and (df['Google review rating'] >= 4.5)]\n",
    "print(filtered_df)"
   ]
  },
  {
   "cell_type": "code",
   "execution_count": 32,
   "id": "51f1e82c-fcd1-4701-a019-16a5b8d0dd17",
   "metadata": {},
   "outputs": [
    {
     "ename": "TypeError",
     "evalue": "Cannot perform 'rand_' with a dtyped [float64] array and scalar of type [bool]",
     "output_type": "error",
     "traceback": [
      "\u001b[1;31m---------------------------------------------------------------------------\u001b[0m",
      "\u001b[1;31mTypeError\u001b[0m                                 Traceback (most recent call last)",
      "File \u001b[1;32m~\\anaconda3\\Lib\\site-packages\\pandas\\core\\ops\\array_ops.py:362\u001b[0m, in \u001b[0;36mna_logical_op\u001b[1;34m(x, y, op)\u001b[0m\n\u001b[0;32m    353\u001b[0m \u001b[38;5;28;01mtry\u001b[39;00m:\n\u001b[0;32m    354\u001b[0m     \u001b[38;5;66;03m# For exposition, write:\u001b[39;00m\n\u001b[0;32m    355\u001b[0m     \u001b[38;5;66;03m#  yarr = isinstance(y, np.ndarray)\u001b[39;00m\n\u001b[1;32m   (...)\u001b[0m\n\u001b[0;32m    360\u001b[0m     \u001b[38;5;66;03m# Then Cases where this goes through without raising include:\u001b[39;00m\n\u001b[0;32m    361\u001b[0m     \u001b[38;5;66;03m#  (xint or xbool) and (yint or bool)\u001b[39;00m\n\u001b[1;32m--> 362\u001b[0m     result \u001b[38;5;241m=\u001b[39m \u001b[43mop\u001b[49m\u001b[43m(\u001b[49m\u001b[43mx\u001b[49m\u001b[43m,\u001b[49m\u001b[43m \u001b[49m\u001b[43my\u001b[49m\u001b[43m)\u001b[49m\n\u001b[0;32m    363\u001b[0m \u001b[38;5;28;01mexcept\u001b[39;00m \u001b[38;5;167;01mTypeError\u001b[39;00m:\n",
      "File \u001b[1;32m~\\anaconda3\\Lib\\site-packages\\pandas\\core\\roperator.py:54\u001b[0m, in \u001b[0;36mrand_\u001b[1;34m(left, right)\u001b[0m\n\u001b[0;32m     53\u001b[0m \u001b[38;5;28;01mdef\u001b[39;00m \u001b[38;5;21mrand_\u001b[39m(left, right):\n\u001b[1;32m---> 54\u001b[0m     \u001b[38;5;28;01mreturn\u001b[39;00m \u001b[43moperator\u001b[49m\u001b[38;5;241;43m.\u001b[39;49m\u001b[43mand_\u001b[49m\u001b[43m(\u001b[49m\u001b[43mright\u001b[49m\u001b[43m,\u001b[49m\u001b[43m \u001b[49m\u001b[43mleft\u001b[49m\u001b[43m)\u001b[49m\n",
      "\u001b[1;31mTypeError\u001b[0m: ufunc 'bitwise_and' not supported for the input types, and the inputs could not be safely coerced to any supported types according to the casting rule ''safe''",
      "\nDuring handling of the above exception, another exception occurred:\n",
      "\u001b[1;31mValueError\u001b[0m                                Traceback (most recent call last)",
      "File \u001b[1;32m~\\anaconda3\\Lib\\site-packages\\pandas\\core\\ops\\array_ops.py:376\u001b[0m, in \u001b[0;36mna_logical_op\u001b[1;34m(x, y, op)\u001b[0m\n\u001b[0;32m    375\u001b[0m \u001b[38;5;28;01mtry\u001b[39;00m:\n\u001b[1;32m--> 376\u001b[0m     result \u001b[38;5;241m=\u001b[39m \u001b[43mlibops\u001b[49m\u001b[38;5;241;43m.\u001b[39;49m\u001b[43mscalar_binop\u001b[49m\u001b[43m(\u001b[49m\u001b[43mx\u001b[49m\u001b[43m,\u001b[49m\u001b[43m \u001b[49m\u001b[43my\u001b[49m\u001b[43m,\u001b[49m\u001b[43m \u001b[49m\u001b[43mop\u001b[49m\u001b[43m)\u001b[49m\n\u001b[0;32m    377\u001b[0m \u001b[38;5;28;01mexcept\u001b[39;00m (\n\u001b[0;32m    378\u001b[0m     \u001b[38;5;167;01mTypeError\u001b[39;00m,\n\u001b[0;32m    379\u001b[0m     \u001b[38;5;167;01mValueError\u001b[39;00m,\n\u001b[1;32m   (...)\u001b[0m\n\u001b[0;32m    382\u001b[0m     \u001b[38;5;167;01mNotImplementedError\u001b[39;00m,\n\u001b[0;32m    383\u001b[0m ) \u001b[38;5;28;01mas\u001b[39;00m err:\n",
      "File \u001b[1;32mops.pyx:180\u001b[0m, in \u001b[0;36mpandas._libs.ops.scalar_binop\u001b[1;34m()\u001b[0m\n",
      "\u001b[1;31mValueError\u001b[0m: Buffer dtype mismatch, expected 'Python object' but got 'double'",
      "\nThe above exception was the direct cause of the following exception:\n",
      "\u001b[1;31mTypeError\u001b[0m                                 Traceback (most recent call last)",
      "Cell \u001b[1;32mIn[32], line 4\u001b[0m\n\u001b[0;32m      2\u001b[0m url \u001b[38;5;241m=\u001b[39m \u001b[38;5;124m'\u001b[39m\u001b[38;5;124mhttps://raw.githubusercontent.com/thangtcq/datascience-IIITB/main/python-graded-assessments/python-for-data-science-graded-assessments/python-data-science-libraries/tourist_spots.csv\u001b[39m\u001b[38;5;124m'\u001b[39m\n\u001b[0;32m      3\u001b[0m df \u001b[38;5;241m=\u001b[39m pd\u001b[38;5;241m.\u001b[39mread_csv(url)\n\u001b[1;32m----> 4\u001b[0m filtered_df \u001b[38;5;241m=\u001b[39m df[df[\u001b[38;5;124m'\u001b[39m\u001b[38;5;124mZone\u001b[39m\u001b[38;5;124m'\u001b[39m] \u001b[38;5;241m==\u001b[39m \u001b[38;5;124;43m'\u001b[39;49m\u001b[38;5;124;43mNorthern\u001b[39;49m\u001b[38;5;124;43m'\u001b[39;49m\u001b[43m \u001b[49m\u001b[38;5;241;43m&\u001b[39;49m\u001b[43m \u001b[49m\u001b[43mdf\u001b[49m\u001b[43m[\u001b[49m\u001b[38;5;124;43m'\u001b[39;49m\u001b[38;5;124;43mGoogle review rating\u001b[39;49m\u001b[38;5;124;43m'\u001b[39;49m\u001b[43m]\u001b[49m \u001b[38;5;241m>\u001b[39m\u001b[38;5;241m=\u001b[39m \u001b[38;5;241m4.5\u001b[39m]\n\u001b[0;32m      5\u001b[0m \u001b[38;5;28mprint\u001b[39m(filtered_df)\n",
      "File \u001b[1;32m~\\anaconda3\\Lib\\site-packages\\pandas\\core\\ops\\common.py:76\u001b[0m, in \u001b[0;36m_unpack_zerodim_and_defer.<locals>.new_method\u001b[1;34m(self, other)\u001b[0m\n\u001b[0;32m     72\u001b[0m             \u001b[38;5;28;01mreturn\u001b[39;00m \u001b[38;5;28mNotImplemented\u001b[39m\n\u001b[0;32m     74\u001b[0m other \u001b[38;5;241m=\u001b[39m item_from_zerodim(other)\n\u001b[1;32m---> 76\u001b[0m \u001b[38;5;28;01mreturn\u001b[39;00m \u001b[43mmethod\u001b[49m\u001b[43m(\u001b[49m\u001b[38;5;28;43mself\u001b[39;49m\u001b[43m,\u001b[49m\u001b[43m \u001b[49m\u001b[43mother\u001b[49m\u001b[43m)\u001b[49m\n",
      "File \u001b[1;32m~\\anaconda3\\Lib\\site-packages\\pandas\\core\\arraylike.py:74\u001b[0m, in \u001b[0;36mOpsMixin.__rand__\u001b[1;34m(self, other)\u001b[0m\n\u001b[0;32m     72\u001b[0m \u001b[38;5;129m@unpack_zerodim_and_defer\u001b[39m(\u001b[38;5;124m\"\u001b[39m\u001b[38;5;124m__rand__\u001b[39m\u001b[38;5;124m\"\u001b[39m)\n\u001b[0;32m     73\u001b[0m \u001b[38;5;28;01mdef\u001b[39;00m \u001b[38;5;21m__rand__\u001b[39m(\u001b[38;5;28mself\u001b[39m, other):\n\u001b[1;32m---> 74\u001b[0m     \u001b[38;5;28;01mreturn\u001b[39;00m \u001b[38;5;28;43mself\u001b[39;49m\u001b[38;5;241;43m.\u001b[39;49m\u001b[43m_logical_method\u001b[49m\u001b[43m(\u001b[49m\u001b[43mother\u001b[49m\u001b[43m,\u001b[49m\u001b[43m \u001b[49m\u001b[43mroperator\u001b[49m\u001b[38;5;241;43m.\u001b[39;49m\u001b[43mrand_\u001b[49m\u001b[43m)\u001b[49m\n",
      "File \u001b[1;32m~\\anaconda3\\Lib\\site-packages\\pandas\\core\\series.py:6130\u001b[0m, in \u001b[0;36mSeries._logical_method\u001b[1;34m(self, other, op)\u001b[0m\n\u001b[0;32m   6127\u001b[0m lvalues \u001b[38;5;241m=\u001b[39m \u001b[38;5;28mself\u001b[39m\u001b[38;5;241m.\u001b[39m_values\n\u001b[0;32m   6128\u001b[0m rvalues \u001b[38;5;241m=\u001b[39m extract_array(other, extract_numpy\u001b[38;5;241m=\u001b[39m\u001b[38;5;28;01mTrue\u001b[39;00m, extract_range\u001b[38;5;241m=\u001b[39m\u001b[38;5;28;01mTrue\u001b[39;00m)\n\u001b[1;32m-> 6130\u001b[0m res_values \u001b[38;5;241m=\u001b[39m \u001b[43mops\u001b[49m\u001b[38;5;241;43m.\u001b[39;49m\u001b[43mlogical_op\u001b[49m\u001b[43m(\u001b[49m\u001b[43mlvalues\u001b[49m\u001b[43m,\u001b[49m\u001b[43m \u001b[49m\u001b[43mrvalues\u001b[49m\u001b[43m,\u001b[49m\u001b[43m \u001b[49m\u001b[43mop\u001b[49m\u001b[43m)\u001b[49m\n\u001b[0;32m   6131\u001b[0m \u001b[38;5;28;01mreturn\u001b[39;00m \u001b[38;5;28mself\u001b[39m\u001b[38;5;241m.\u001b[39m_construct_result(res_values, name\u001b[38;5;241m=\u001b[39mres_name)\n",
      "File \u001b[1;32m~\\anaconda3\\Lib\\site-packages\\pandas\\core\\ops\\array_ops.py:454\u001b[0m, in \u001b[0;36mlogical_op\u001b[1;34m(left, right, op)\u001b[0m\n\u001b[0;32m    450\u001b[0m \u001b[38;5;28;01melse\u001b[39;00m:\n\u001b[0;32m    451\u001b[0m     \u001b[38;5;66;03m# i.e. scalar\u001b[39;00m\n\u001b[0;32m    452\u001b[0m     is_other_int_dtype \u001b[38;5;241m=\u001b[39m lib\u001b[38;5;241m.\u001b[39mis_integer(rvalues)\n\u001b[1;32m--> 454\u001b[0m res_values \u001b[38;5;241m=\u001b[39m \u001b[43mna_logical_op\u001b[49m\u001b[43m(\u001b[49m\u001b[43mlvalues\u001b[49m\u001b[43m,\u001b[49m\u001b[43m \u001b[49m\u001b[43mrvalues\u001b[49m\u001b[43m,\u001b[49m\u001b[43m \u001b[49m\u001b[43mop\u001b[49m\u001b[43m)\u001b[49m\n\u001b[0;32m    456\u001b[0m \u001b[38;5;66;03m# For int vs int `^`, `|`, `&` are bitwise operators and return\u001b[39;00m\n\u001b[0;32m    457\u001b[0m \u001b[38;5;66;03m#   integer dtypes.  Otherwise these are boolean ops\u001b[39;00m\n\u001b[0;32m    458\u001b[0m \u001b[38;5;28;01mif\u001b[39;00m \u001b[38;5;129;01mnot\u001b[39;00m (left\u001b[38;5;241m.\u001b[39mdtype\u001b[38;5;241m.\u001b[39mkind \u001b[38;5;129;01min\u001b[39;00m \u001b[38;5;124m\"\u001b[39m\u001b[38;5;124miu\u001b[39m\u001b[38;5;124m\"\u001b[39m \u001b[38;5;129;01mand\u001b[39;00m is_other_int_dtype):\n",
      "File \u001b[1;32m~\\anaconda3\\Lib\\site-packages\\pandas\\core\\ops\\array_ops.py:385\u001b[0m, in \u001b[0;36mna_logical_op\u001b[1;34m(x, y, op)\u001b[0m\n\u001b[0;32m    377\u001b[0m         \u001b[38;5;28;01mexcept\u001b[39;00m (\n\u001b[0;32m    378\u001b[0m             \u001b[38;5;167;01mTypeError\u001b[39;00m,\n\u001b[0;32m    379\u001b[0m             \u001b[38;5;167;01mValueError\u001b[39;00m,\n\u001b[1;32m   (...)\u001b[0m\n\u001b[0;32m    382\u001b[0m             \u001b[38;5;167;01mNotImplementedError\u001b[39;00m,\n\u001b[0;32m    383\u001b[0m         ) \u001b[38;5;28;01mas\u001b[39;00m err:\n\u001b[0;32m    384\u001b[0m             typ \u001b[38;5;241m=\u001b[39m \u001b[38;5;28mtype\u001b[39m(y)\u001b[38;5;241m.\u001b[39m\u001b[38;5;18m__name__\u001b[39m\n\u001b[1;32m--> 385\u001b[0m             \u001b[38;5;28;01mraise\u001b[39;00m \u001b[38;5;167;01mTypeError\u001b[39;00m(\n\u001b[0;32m    386\u001b[0m                 \u001b[38;5;124mf\u001b[39m\u001b[38;5;124m\"\u001b[39m\u001b[38;5;124mCannot perform \u001b[39m\u001b[38;5;124m'\u001b[39m\u001b[38;5;132;01m{\u001b[39;00mop\u001b[38;5;241m.\u001b[39m\u001b[38;5;18m__name__\u001b[39m\u001b[38;5;132;01m}\u001b[39;00m\u001b[38;5;124m'\u001b[39m\u001b[38;5;124m with a dtyped [\u001b[39m\u001b[38;5;132;01m{\u001b[39;00mx\u001b[38;5;241m.\u001b[39mdtype\u001b[38;5;132;01m}\u001b[39;00m\u001b[38;5;124m] array \u001b[39m\u001b[38;5;124m\"\u001b[39m\n\u001b[0;32m    387\u001b[0m                 \u001b[38;5;124mf\u001b[39m\u001b[38;5;124m\"\u001b[39m\u001b[38;5;124mand scalar of type [\u001b[39m\u001b[38;5;132;01m{\u001b[39;00mtyp\u001b[38;5;132;01m}\u001b[39;00m\u001b[38;5;124m]\u001b[39m\u001b[38;5;124m\"\u001b[39m\n\u001b[0;32m    388\u001b[0m             ) \u001b[38;5;28;01mfrom\u001b[39;00m \u001b[38;5;21;01merr\u001b[39;00m\n\u001b[0;32m    390\u001b[0m \u001b[38;5;28;01mreturn\u001b[39;00m result\u001b[38;5;241m.\u001b[39mreshape(x\u001b[38;5;241m.\u001b[39mshape)\n",
      "\u001b[1;31mTypeError\u001b[0m: Cannot perform 'rand_' with a dtyped [float64] array and scalar of type [bool]"
     ]
    }
   ],
   "source": [
    "import pandas as pd\n",
    "url = 'https://raw.githubusercontent.com/thangtcq/datascience-IIITB/main/python-graded-assessments/python-for-data-science-graded-assessments/python-data-science-libraries/tourist_spots.csv'\n",
    "df = pd.read_csv(url)\n",
    "filtered_df = df[df['Zone'] == 'Northern' & df['Google review rating'] >= 4.5]\n",
    "print(filtered_df)"
   ]
  },
  {
   "cell_type": "markdown",
   "id": "ab166ce9-ae54-4fe9-a9e6-6fb863d5f8d3",
   "metadata": {},
   "source": [
    "#### Tourist Spots of Botanical Significance\n",
    "\n",
    "This question requires that you load the tourist_spots.csv dataset into a DataFrame df.<br>\n",
    "What is the mean number of Google reviews in lakhs for tourist spots of botanical significance?<br>\n",
    "Please round your answer to two decimal places."
   ]
  },
  {
   "cell_type": "code",
   "execution_count": 36,
   "id": "443764f5-e4cd-483f-a9e4-4a319105b589",
   "metadata": {},
   "outputs": [
    {
     "name": "stdout",
     "output_type": "stream",
     "text": [
      "0.29\n"
     ]
    }
   ],
   "source": [
    "import pandas as pd\n",
    "url = 'https://raw.githubusercontent.com/thangtcq/datascience-IIITB/main/python-graded-assessments/python-for-data-science-graded-assessments/python-data-science-libraries/tourist_spots.csv'\n",
    "df = pd.read_csv(url)\n",
    "botanical_spots = df[df['Significance'] == 'Botanical']\n",
    "mean_reviews = botanical_spots['Number of google review in lakhs'].mean()\n",
    "mean_reviews_rounded = round(mean_reviews, 2)\n",
    "print(mean_reviews_rounded)"
   ]
  },
  {
   "cell_type": "markdown",
   "id": "684e884a-0f02-42ea-ace6-fb512d73964b",
   "metadata": {},
   "source": [
    "#### Number of Google Reviews by Zone\n",
    "\n",
    "This question requires that you load the tourist_spots.csv dataset into a DataFrame df.<br>\n",
    "Generate a barplot showing the median number of Google review ratings in lakhs for each zone, broken down by whether a DSLR is allowed or not.<br>\n",
    "Turn off error bars.<br>\n",
    "\r\n",
    "Select the zone from the options below which has a higher median number of ratings at tourist spots where DSLRs are allowed than in those where they are not."
   ]
  },
  {
   "cell_type": "code",
   "execution_count": 42,
   "id": "f735eebb-d398-4005-8c06-6c0c9b72f8da",
   "metadata": {},
   "outputs": [
    {
     "data": {
      "image/png": "[encoded data removed]",
      "text/plain": [
       "<Figure size 1200x800 with 1 Axes>"
      ]
     },
     "metadata": {},
     "output_type": "display_data"
    }
   ],
   "source": [
    "import pandas as pd\n",
    "import seaborn as sns\n",
    "import matplotlib.pyplot as plt\n",
    "url = 'https://raw.githubusercontent.com/thangtcq/datascience-IIITB/main/python-graded-assessments/python-for-data-science-graded-assessments/python-data-science-libraries/tourist_spots.csv'\n",
    "df = pd.read_csv(url)\n",
    "df['Number of google review in lakhs'] = pd.to_numeric(df['Number of google review in lakhs'], errors='coerce')\n",
    "median_reviews = df.groupby(['Zone', 'DSLR Allowed'])['Number of google review in lakhs'].median().reset_index()\n",
    "plt.figure(figsize=(12, 8))\n",
    "sns.barplot(data=median_reviews, x='Zone', y='Number of google review in lakhs', hue='DSLR Allowed', errorbar=None)\n",
    "plt.title('Median Number of Google Review Ratings in Lakhs by Zone and DSLR Allowed')\n",
    "plt.xlabel('Zone')\n",
    "plt.ylabel('Median Number of Google Review Ratings in Lakhs')\n",
    "plt.legend(title='DSLR Allowed')\n",
    "plt.show()"
   ]
  },
  {
   "cell_type": "markdown",
   "id": "7f1c3c51-d497-4965-ae4c-7bcb0ea1b633",
   "metadata": {},
   "source": [
    "#### Seven Hours to Visit\n",
    "\n",
    "This question requires that you load the tourist_spots.csv dataset into a DataFrame df.<br>\n",
    "There is only one entry where the time needed to visit is seven hours.<br>\n",
    "What is the 'Type' of this entry?"
   ]
  },
  {
   "cell_type": "code",
   "execution_count": 43,
   "id": "60ff93bc-51ef-4973-910c-49d5c261f5cb",
   "metadata": {},
   "outputs": [
    {
     "name": "stdout",
     "output_type": "stream",
     "text": [
      "Science\n"
     ]
    }
   ],
   "source": [
    "import pandas as pd\n",
    "url = 'https://raw.githubusercontent.com/thangtcq/datascience-IIITB/main/python-graded-assessments/python-for-data-science-graded-assessments/python-data-science-libraries/tourist_spots.csv'\n",
    "df = pd.read_csv(url)\n",
    "seven_hours_entry = df[df['time needed to visit in hrs'] == 7]\n",
    "entry_type = seven_hours_entry['Type'].iloc[0]\n",
    "print(entry_type)"
   ]
  },
  {
   "cell_type": "markdown",
   "id": "0d2b2094-bf18-436d-b06a-3e54fb542858",
   "metadata": {},
   "source": [
    "#### Heatmap of Numeric Columns\n",
    "\n",
    "This question requires that you load the tourist_spots.csv dataset into a DataFrame df.<br>\n",
    "Create a heatmap of all the numeric columns in the dataset.<br>\n",
    "Which of the following statements is true?"
   ]
  },
  {
   "cell_type": "code",
   "execution_count": 45,
   "id": "5db262cf-91d6-428f-8f56-639038615263",
   "metadata": {},
   "outputs": [
    {
     "data": {
      "image/png": "[encoded data removed]",
      "text/plain": [
       "<Figure size 1000x800 with 2 Axes>"
      ]
     },
     "metadata": {},
     "output_type": "display_data"
    }
   ],
   "source": [
    "import pandas as pd\n",
    "import seaborn as sns\n",
    "import matplotlib.pyplot as plt\n",
    "url = 'https://raw.githubusercontent.com/thangtcq/datascience-IIITB/main/python-graded-assessments/python-for-data-science-graded-assessments/python-data-science-libraries/tourist_spots.csv'\n",
    "df = pd.read_csv(url)\n",
    "numeric_cols = df.select_dtypes(include=['float64', 'int64']).columns\n",
    "plt.figure(figsize=(10, 8))\n",
    "sns.heatmap(df[numeric_cols].corr(), annot=True, cmap='coolwarm', fmt='.2f')\n",
    "plt.title('Heatmap of Numeric Columns')\n",
    "plt.show()\n",
    "# The values within the 'Entrance Fee in INR' column have a weak positive correlation with the values within the 'Google review rating' and a weak negative correlation with the values within the 'Number of google review in lakhs' column."
   ]
  },
  {
   "cell_type": "markdown",
   "id": "0bc9372f-8935-4f38-9943-e338268e63d7",
   "metadata": {},
   "source": [
    "#### Amusement Parks and Vineyards\n",
    "\n",
    "This question requires that you load the tourist_spots.csv dataset into a DataFrame df.<br>\n",
    "You want to visit all the amusement parks and vineyards in the dataset.<br>\n",
    "What budget should you set aside in INR to pay the fees to enter these tourist spots?"
   ]
  },
  {
   "cell_type": "code",
   "execution_count": 1,
   "id": "39eff7e2-03de-41cb-9a91-2bd6744a5018",
   "metadata": {},
   "outputs": [
    {
     "name": "stdout",
     "output_type": "stream",
     "text": [
      "4238\n"
     ]
    }
   ],
   "source": [
    "import pandas as pd\n",
    "url = 'https://raw.githubusercontent.com/thangtcq/datascience-IIITB/main/python-graded-assessments/python-for-data-science-graded-assessments/python-data-science-libraries/tourist_spots.csv'\n",
    "df = pd.read_csv(url)\n",
    "selected_spots = df[(df['Type'] == 'Amusement Park') | (df['Type'] == 'Vineyard')]\n",
    "total_budget = selected_spots['Entrance Fee in INR'].sum()\n",
    "print(total_budget)"
   ]
  }
 ],
 "metadata": {
  "kernelspec": {
   "display_name": "Python 3 (ipykernel)",
   "language": "python",
   "name": "python3"
  },
  "language_info": {
   "codemirror_mode": {
    "name": "ipython",
    "version": 3
   },
   "file_extension": ".py",
   "mimetype": "text/x-python",
   "name": "python",
   "nbconvert_exporter": "python",
   "pygments_lexer": "ipython3",
   "version": "3.12.4"
  }
 },
 "nbformat": 4,
 "nbformat_minor": 5
}

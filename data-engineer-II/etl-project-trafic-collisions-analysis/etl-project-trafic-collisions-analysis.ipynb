{
  "cells": [
    {
      "cell_type": "markdown",
      "source": [
        "# Traffic Collision Data Analysis"
      ],
      "metadata": {
        "id": "xniekxi-cXZB"
      }
    },
    {
      "cell_type": "markdown",
      "source": [
        "# Objective\n",
        "\n",
        "In this case study, you will be working on California Traffic Collision Data Analysis using Apache Spark, a powerful distributed computing framework designed for big data processing. This assignment aims to provide hands-on experience in analyzing large-scale traffic collision datasets using PySpark and AWS services. You will apply data analytics techniques to clean, transform, and explore crash data, drawing meaningful insights to support traffic safety and urban planning. Beyond understanding how big data tools optimize performance on a single machine and across clusters, you will develop a structured approach to analyzing crash trends, identifying high-risk locations, and evaluating contributing factors to traffic incidents. Additionally, you will utilize AWS S3 to store the processed data efficiently after the ETL process, enabling scalable storage and easy retrieval for further analysis.\n"
      ],
      "metadata": {
        "id": "CaFEMotqcXXo"
      }
    },
    {
      "cell_type": "markdown",
      "source": [
        "# Business Value:\n",
        "\n",
        "Traffic collisions pose significant risks to public safety, requiring continuous monitoring and analysis to enhance road safety measures. Government agencies, city planners, and policymakers must leverage data-driven insights to improve infrastructure, optimize traffic management, and implement preventive measures.\n",
        "\n",
        "In this assignment, you will analyze California traffic collision data to uncover patterns related to accident severity, location-based risks, and key contributing factors. With Apache Spark's ability to handle large datasets efficiently and AWS S3's scalable storage, transportation authorities can process vast amounts of crash data in real time, enabling faster and more informed decision-making.\n",
        "\n",
        "As an analyst examining traffic safety trends, your task is to analyze historical crash data to derive actionable insights that can drive policy improvements and safety interventions. Your analysis will help identify high-risk areas, categorize accidents by severity and contributing factors, and store the processed data in an AWS S3 bucket for scalable and long-term storage.\n",
        "\n",
        "By leveraging big data analytics and cloud-based storage, urban planners and traffic authorities can enhance road safety strategies, reduce accident rates, and improve public transportation planning.\n"
      ],
      "metadata": {
        "id": "s-wICNZacXUL"
      }
    },
    {
      "cell_type": "markdown",
      "source": [
        "# Dataset Overview\n",
        "\n",
        "The dataset used in this analysis consists of California traffic collision data obtained from the Statewide Integrated Traffic Records System (SWITRS). It includes detailed records of traffic incidents across California, covering various attributes such as location, severity, involved parties, and contributing factors. The dataset has been preprocessed and transformed using PySpark to facilitate large-scale analysis. By leveraging Apache Spark, we ensure efficient data handling, enabling deeper insights into traffic patterns, accident trends, and potential safety improvements."
      ],
      "metadata": {
        "id": "-l9h-YYdcXPP"
      }
    },
    {
      "cell_type": "markdown",
      "source": [
        "The dataset is a .sqlite file contains detailed information about traffic collisions across California and is structured into four primary tables:\n",
        "- `collisions` table contains information about the collision, where it happened, what vehicles were involved.\n",
        "\n",
        "- `parties` table contains information about the groups people involved in the collision including age, sex, and sobriety.\n",
        "\n",
        "- `victims` table contains information about the injuries of specific people involved in the collision.\n",
        "\n",
        "- `locations` table contains information about the geographical location and details of road intersections."
      ],
      "metadata": {
        "id": "BphT7j-ocXHh"
      }
    },
    {
      "cell_type": "markdown",
      "source": [
        "# Assignment Tasks\n",
        "\n",
        "<ol>\n",
        "    <li>\n",
        "        <strong>Data Preparation</strong></br>\n",
        "        The dataset consists of structured tables containing traffic collision data. Before conducting any analysis, it is essential to ensure that the data is properly formatted and structured for efficient processing.</br>\n",
        "        Check for data consistency and ensure all columns are correctly formatted.</br>\n",
        "        Apply sampling techniques if needed to extract a representative subset for analysis.</br>\n",
        "        Structure and prepare the data for further processing and analysis.</br>\n",
        "    </br>\n",
        "    <li>\n",
        "        <strong>Data Cleaning</strong></br>\n",
        "            2.1 <strong>Fixing Columns:</strong> Ensure all columns are properly named and formatted.</br>\n",
        "            2.2 <strong>Handling Missing Values:</strong> Decide on an approach to handle missing data (e.g., imputation or removal). Mention the approach in your report.</br>\n",
        "            2.3 <strong>Handling Outliers:</strong> Identify outliers in the dataset and explain why they are considered outliers. It is not necessary to remove them for this task, but mention your approach for handling them.</br>\n",
        "    </br>\n",
        "    <li>\n",
        "        <strong>Exploratory Data Analysis</strong></br>\n",
        "        Finding Patterns and analyze the dataset and find patterns based on the following points:\n",
        "                <ul>\n",
        "                3.1 Classify variables into categorical and numerical types.</br>\n",
        "                3.2 Analyze the distribution of collision severity.</br>\n",
        "                3.3 Examine weather conditions during collisions.</br>\n",
        "                3.4 Analyze the distribution of victim ages.</br>\n",
        "                3.5 Study the relationship between collision severity and the number of victims.</br>\n",
        "                3.6 Analyze the correlation between weather conditions and collision severity.</br>\n",
        "                3.7 Visualize the impact of lighting conditions on collision severity.</br>\n",
        "                3.8 Extract and analyze weekday-wise collision trends.</br>\n",
        "                3.9 Assess the number of collisions occurring on different days of the week.</br>\n",
        "                3.10 Study spatial distribution of collisions by county.</br>\n",
        "                3.11 Generate a scatter plot to analyze collision locations geographically.</br>\n",
        "                3.12 Extract and analyze collision trends over time, including yearly, monthly, and hourly trends.</br>\n",
        "</ul>\n",
        "</br>\n",
        "<li>\n",
        "<strong>ETL Querying</strong><br>\n",
        "Write PySpark SQL queries for the following:</br>\n",
        "<ol>\n",
        "    4.1. Load the processed dataset as CSV files in S3 bucket.</br>\n",
        "    4.2. Identify the top 5 counties with the highest number of collisions.</br>\n",
        "    4.3. Identify the month with the highest number of collisions.</br>\n",
        "    4.4. Determine the most common weather condition during collisions.</br>\n",
        "    4.5. Calculate the percentage of collisions that resulted in fatalities.</br>\n",
        "    4.6. Find the most dangerous time of day for collisions.</br>\n",
        "    4.7. Identify the top 5 road surface conditions with the highest collision frequency.</br>\n",
        "    4.8. Analyze lighting conditions that contribute to the highest number of collisions.</br>\n",
        "</ol>\n",
        "</br>\n",
        "<li>\n",
        "<strong>Conclusion</strong></br>\n",
        "Provide final insights and recommendations based on the analysis:\n",
        "    <ul>\n",
        "        5.1 Recommendations to improve road safety by identifying high-risk locations and peak accident times for infrastructure improvements.</br>\n",
        "        5.2 Suggestions to optimize traffic management by analyzing trends in collision severity, weather conditions, and lighting to improve road design and traffic signal timing.</br>\n",
        "        5.3 Propose data-driven policy changes to enhance pedestrian and cyclist safety based on collision trends involving vulnerable road users.</br>\n",
        "        5.4 Identify potential high-risk zones for proactive intervention by examining geographic collision density and historical accident data.</br>\n",
        "        5.5 Assess the impact of environmental factors such as weather, road surface conditions, and lighting on accident frequency and severity.</br>\n",
        "        5.6 Develop predictive models to anticipate collision hotspots and support proactive safety measures.</br>\n",
        "        </ul>\n",
        "        Conclude the analysis by summarizing key findings and business implications.</br>\n",
        "        Explain the results of univariate, segmented univariate, and bivariate analyses in real-world traffic safety and policy terms.</br>\n",
        "        Include visualizations and summarize the most important results in the report. Insights should explain why each variable is important and how they can influence traffic safety policies and urban planning.</br>\n",
        "        </ul>\n",
        "        </br>\n",
        "    <li>\n",
        "    <strong>Visualization Integration [Optional]</strong>\n",
        "    <p>Enhance the project by incorporating a visualization component that connects the processed data stored in an S3 bucket to a business intelligence tool such as Tableau or Power BI. This involves setting up the connection between the S3 bucket and the chosen visualization tool, importing the processed dataset for analysis and visualization, creating interactive dashboards to explore key trends and insights and ensuring data updates are reflected dynamically in the visualization tool.<br>\n",
        "</br>\n",
        "</ol>"
      ],
      "metadata": {
        "id": "RRZctA56_ryO"
      }
    },
    {
      "cell_type": "code",
      "execution_count": null,
      "metadata": {
        "id": "ghk65qxBlktK"
      },
      "outputs": [],
      "source": [
        "from google.colab import drive\n",
        "drive.mount('/content/drive')"
      ]
    },
    {
      "cell_type": "markdown",
      "metadata": {
        "id": "1gK6V4F0n4zT"
      },
      "source": [
        "Install Required Libraries"
      ]
    },
    {
      "cell_type": "code",
      "execution_count": null,
      "metadata": {
        "id": "HcipMrten2L_"
      },
      "outputs": [],
      "source": [
        "## Install the required libraries\n",
        "# !pip install --quiet pyspark==3.5.4 pandas==2.2.2"
      ]
    },
    {
      "cell_type": "code",
      "execution_count": null,
      "metadata": {
        "id": "W8gwBP3PoZsl"
      },
      "outputs": [],
      "source": [
        "# Import the necessary libraries\n",
        "import sqlite3\n",
        "import pandas as pd\n",
        "from pyspark.sql import SparkSession\n",
        "from pyspark.sql.functions import col, sum, to_date"
      ]
    },
    {
      "cell_type": "markdown",
      "source": [
        "#**1. Data Preparation** <font color = red>[5 marks]</font> <br>\n",
        "\n",
        "The dataset consists of structured tables containing traffic collision data.\n",
        "\n",
        "Before conducting any analysis, it is essential to ensure that the data is properly formatted and structured for efficient processing.\n",
        "\n",
        "Check for data consistency and ensure all columns are correctly formatted."
      ],
      "metadata": {
        "id": "3zDiIEhHPWco"
      }
    },
    {
      "cell_type": "code",
      "execution_count": null,
      "metadata": {
        "id": "NnrbDNsdoe1p"
      },
      "outputs": [],
      "source": [
        "# Write code to load the data and check the schema\n"
      ]
    },
    {
      "cell_type": "markdown",
      "metadata": {
        "id": "kAM9ZgH_qfRL"
      },
      "source": [
        "#**2. Data Cleaning** <font color = red>[20 marks]</font> <br>\n"
      ]
    },
    {
      "cell_type": "code",
      "execution_count": null,
      "metadata": {
        "id": "k_jMLLutpNf-"
      },
      "outputs": [],
      "source": [
        "#Display Schema & Sample Data\n"
      ]
    },
    {
      "cell_type": "markdown",
      "source": [
        "##**2.1 Missing Values** <font color = red>[10 marks]</font> <br>\n"
      ],
      "metadata": {
        "id": "VCZOT2OHCoJZ"
      }
    },
    {
      "cell_type": "code",
      "execution_count": null,
      "metadata": {
        "id": "b5KJ-qd8qLbk"
      },
      "outputs": [],
      "source": [
        "#Check for Missing Values\n"
      ]
    },
    {
      "cell_type": "code",
      "execution_count": null,
      "metadata": {
        "id": "d2Sr-3uDqXd2"
      },
      "outputs": [],
      "source": [
        "#Drop Sparse Columns\n"
      ]
    },
    {
      "cell_type": "code",
      "execution_count": null,
      "metadata": {
        "id": "6OgjAdGbqoKM"
      },
      "outputs": [],
      "source": [
        "#Convert Data Types\n"
      ]
    },
    {
      "cell_type": "code",
      "execution_count": null,
      "metadata": {
        "id": "4fUWSUlhqvRF"
      },
      "outputs": [],
      "source": [
        "#Handle Missing Values\n"
      ]
    },
    {
      "cell_type": "markdown",
      "source": [
        "##**2.2 Fixing Columns** <font color = red>[5 marks]</font> <br>\n"
      ],
      "metadata": {
        "id": "wfEo9TE9CsH4"
      }
    },
    {
      "cell_type": "code",
      "execution_count": null,
      "metadata": {
        "id": "nkrFJOkhqzWV"
      },
      "outputs": [],
      "source": [
        "#Remove Duplicates\n"
      ]
    },
    {
      "cell_type": "code",
      "execution_count": null,
      "metadata": {
        "id": "SAw2eXIhq32z"
      },
      "outputs": [],
      "source": [
        "#Detect Outliers using IQR\n",
        "\n",
        "\n",
        "# List of numerical columns to check for outliers\n"
      ]
    },
    {
      "cell_type": "markdown",
      "source": [
        "##**2.3 Outlier Analysis** <font color = red>[5 marks]</font> <br>\n"
      ],
      "metadata": {
        "id": "9NexAOW9CyUb"
      }
    },
    {
      "cell_type": "code",
      "execution_count": null,
      "metadata": {
        "id": "aFqrGQDXrfcF"
      },
      "outputs": [],
      "source": [
        "#Remove Outliers\n",
        "\n"
      ]
    },
    {
      "cell_type": "markdown",
      "source": [
        "#**3. Exploratory Data Analysis** <font color = red>[65 marks]</font> <br>\n"
      ],
      "metadata": {
        "id": "hnfqJzRGROS3"
      }
    },
    {
      "cell_type": "markdown",
      "source": [
        "##**3.1.1. Data Preparation** <font color = red>[5 marks]</font> <br>\n",
        "\n",
        "Q: Classify variables into categorical and numerical."
      ],
      "metadata": {
        "id": "7o5r7LZ4XHS4"
      }
    },
    {
      "cell_type": "code",
      "execution_count": null,
      "metadata": {
        "id": "Y0jC1E0LsEuu"
      },
      "outputs": [],
      "source": [
        "# Encode Categorical Variables\n",
        "\n",
        "# String Indexing for Categorical Columns\n"
      ]
    },
    {
      "cell_type": "code",
      "execution_count": null,
      "metadata": {
        "id": "QcfwtlGLsz9v"
      },
      "outputs": [],
      "source": [
        "# Reordering & Renaming Columns\n"
      ]
    },
    {
      "cell_type": "code",
      "execution_count": null,
      "metadata": {
        "id": "fCrvS0O1tb_x"
      },
      "outputs": [],
      "source": [
        "# Final cleaned data\n"
      ]
    },
    {
      "cell_type": "markdown",
      "metadata": {
        "id": "IwJW-jOmDafO"
      },
      "source": [
        "Loading the Final Cleaned Dataset into S3 Bucket"
      ]
    },
    {
      "cell_type": "markdown",
      "metadata": {
        "id": "XzNkZxGTuQbu"
      },
      "source": [
        "##**3.1.2. Analyze the distribution of collision severity.** <font color = red>[5 marks]</font> <br>\n",
        "\n",
        "Q: Analyze the distribution of collision severity."
      ]
    },
    {
      "cell_type": "code",
      "execution_count": null,
      "metadata": {
        "id": "9YMvi4IGtiyA"
      },
      "outputs": [],
      "source": [
        "# Univariate Analysis\n",
        "\n",
        "# Collision Severity Distribution\n",
        "\n",
        "import matplotlib.pyplot as plt\n",
        "import seaborn as sns\n",
        "\n",
        "# Convert to Pandas\n",
        "\n",
        "# Plot\n"
      ]
    },
    {
      "cell_type": "markdown",
      "metadata": {
        "id": "KI1zWl6icTiL"
      },
      "source": [
        "##**3.1.3. Weather conditions during collisions.** <font color = red>[5 marks]</font> <br>\n",
        "\n",
        "Q: Examine weather conditions during collisions."
      ]
    },
    {
      "cell_type": "code",
      "execution_count": null,
      "metadata": {
        "id": "Y-hnishxuh7F"
      },
      "outputs": [],
      "source": [
        "# Weather Conditions During Collisions\n",
        "\n",
        "# Convert to Pandas\n",
        "\n",
        "# Plot\n"
      ]
    },
    {
      "cell_type": "markdown",
      "metadata": {
        "id": "Is8jk7AMcW1h"
      },
      "source": [
        "##**3.1.4. Victime Age Distribution.** <font color = red>[5 marks]</font> <br>\n",
        "\n",
        "Q: Analyze the distribution of victim ages."
      ]
    },
    {
      "cell_type": "code",
      "execution_count": null,
      "metadata": {
        "id": "55qUOZ2nuqv2"
      },
      "outputs": [],
      "source": [
        "# Distribution of Victim Ages\n",
        "\n",
        "# Convert to Pandas\n",
        "\n",
        "# Plot\n"
      ]
    },
    {
      "cell_type": "markdown",
      "metadata": {
        "id": "C86jRBaLcam7"
      },
      "source": [
        "##**3.1.5. Collision Severity vs Number of Victims.** <font color = red>[5 marks]</font> <br>\n",
        "\n",
        "Q: Study the relationship between collision severity and the number of victims."
      ]
    },
    {
      "cell_type": "code",
      "execution_count": null,
      "metadata": {
        "id": "VrXColT_u6OG"
      },
      "outputs": [],
      "source": [
        "# Bivariate Analysis\n",
        "\n",
        "# Collision Severity vs. Number of Victims\n",
        "\n",
        "# Convert to Pandas\n",
        "\n",
        "# Plot\n"
      ]
    },
    {
      "cell_type": "markdown",
      "metadata": {
        "id": "UNP0WTOqcdY6"
      },
      "source": [
        "##**3.1.6. Weather Conditions vs Collision Severity.** <font color = red>[5 marks]</font> <br>\n",
        "\n",
        "Q: Analyze the correlation between weather conditions and collision severity."
      ]
    },
    {
      "cell_type": "code",
      "execution_count": null,
      "metadata": {
        "id": "0lLGClfOvBPQ"
      },
      "outputs": [],
      "source": [
        "# Weather vs. Collision Severity\n",
        "\n",
        "# Convert to Pandas\n",
        "\n",
        "# Plot\n"
      ]
    },
    {
      "cell_type": "markdown",
      "metadata": {
        "id": "iGAPJU_zcipJ"
      },
      "source": [
        "##**3.1.7. Lighting conditions vs Collision Severity.** <font color = red>[5 marks]</font> <br>\n",
        "\n",
        "Q:Visualize the impact of lighting conditions on collision severity."
      ]
    },
    {
      "cell_type": "code",
      "execution_count": null,
      "metadata": {
        "id": "yVmFYwqlvONW"
      },
      "outputs": [],
      "source": [
        "# Lighting Conditions vs. Collision Severity\n",
        "\n",
        "# Convert to Pandas\n",
        "\n",
        "# Plot\n"
      ]
    },
    {
      "cell_type": "markdown",
      "metadata": {
        "id": "5168vybFclCb"
      },
      "source": [
        "##**3.1.8. Weekday-Wise Collision Trends.** <font color = red>[7 marks]</font> <br>\n",
        "\n",
        "Q: Extract and analyze weekday-wise collision trends."
      ]
    },
    {
      "cell_type": "code",
      "execution_count": null,
      "metadata": {
        "id": "bthZFxXfvlU-"
      },
      "outputs": [],
      "source": [
        "# Extract the weekday\n",
        "\n",
        "# Plot\n"
      ]
    },
    {
      "cell_type": "markdown",
      "metadata": {
        "id": "pJ68_4HLcsFr"
      },
      "source": [
        "##**3.1.9. Spatial Distribution of Collisions.** <font color = red>[7 marks]</font> <br>\n",
        "\n",
        "Q: Study spatial distribution of collisions by county."
      ]
    },
    {
      "cell_type": "code",
      "execution_count": null,
      "metadata": {
        "id": "092J8SjtxUs4"
      },
      "outputs": [],
      "source": [
        "# Spatial Analysis\n",
        "\n",
        "# Collision Density by County\n",
        "\n",
        "# Plot the map\n"
      ]
    },
    {
      "cell_type": "markdown",
      "metadata": {
        "id": "6qA-drC_c0va"
      },
      "source": [
        "##**3.1.10. Collision Analysis by Geography.** <font color = red>[6 marks]</font> <br>\n",
        "\n",
        "Q: Generate a scatter plot to analyze collision locations geographically."
      ]
    },
    {
      "cell_type": "code",
      "execution_count": null,
      "metadata": {
        "id": "6umQP5zSynJ7"
      },
      "outputs": [],
      "source": [
        "# Scatter Plot of Collision Locations\n",
        "\n",
        "# Convert PySpark DataFrame to Pandas, handling potential missing values\n",
        "\n",
        "# Convert to numeric (if needed) and handle invalid data\n",
        "\n",
        "# Plot the scatter plot\n"
      ]
    },
    {
      "cell_type": "markdown",
      "metadata": {
        "id": "-KdMCtpy1ccv"
      },
      "source": [
        "##**3.1.11. Collision Trends Over Time.** <font color = red>[10 marks]</font> <br>\n",
        "\n",
        "Extract and analyzing collision trends over time."
      ]
    },
    {
      "cell_type": "code",
      "execution_count": null,
      "metadata": {
        "id": "MF5v2dIv0kdD"
      },
      "outputs": [],
      "source": [
        "from pyspark.sql.functions import year, month, hour, to_timestamp, col\n",
        "\n",
        "# Extract year and month from collision_date\n",
        "\n",
        "# Plot\n"
      ]
    },
    {
      "cell_type": "markdown",
      "metadata": {
        "id": "NN9Opz_gc62p"
      },
      "source": [
        "Q: Analyze yearly, monthly and hourly trends in collisions."
      ]
    },
    {
      "cell_type": "code",
      "execution_count": null,
      "metadata": {
        "id": "HCNrHT011hs7"
      },
      "outputs": [],
      "source": [
        "# Yearly Trend of Collisions\n",
        "\n",
        "# Plot\n"
      ]
    },
    {
      "cell_type": "code",
      "execution_count": null,
      "metadata": {
        "id": "Et6E1HEI2oAH"
      },
      "outputs": [],
      "source": [
        "# Monthly Trend of Collisions\n",
        "\n",
        "# Plot\n"
      ]
    },
    {
      "cell_type": "code",
      "execution_count": null,
      "metadata": {
        "id": "MIP5WyYe2y3L"
      },
      "outputs": [],
      "source": [
        "# Hourly Trend of Collisions\n",
        "\n",
        "# Plot\n"
      ]
    },
    {
      "cell_type": "markdown",
      "metadata": {
        "id": "CNPO9y2qBNsr"
      },
      "source": [
        "#**4. ETL Querying** <font color = red>[35 marks]</font> <br>"
      ]
    },
    {
      "cell_type": "markdown",
      "metadata": {
        "id": "N5sEX_8Uc-6a"
      },
      "source": [
        "##**4.1 Loading the Dataset** <font color = red>[1 marks]</font> <br>\n",
        "\n",
        "Q: Load the processed dataset as CSV files in S3 bucket."
      ]
    },
    {
      "cell_type": "code",
      "source": [
        "# Write your query here"
      ],
      "metadata": {
        "id": "cyBNEDe2R86y"
      },
      "execution_count": null,
      "outputs": []
    },
    {
      "cell_type": "markdown",
      "metadata": {
        "id": "S8Ts_6JGdgCB"
      },
      "source": [
        "## **4.2. Top 5 Counties** <font color = red>[4 marks]</font> <br>\n",
        "\n",
        "Q: Identify the top 5 counties with the highest number of collisions."
      ]
    },
    {
      "cell_type": "code",
      "execution_count": null,
      "metadata": {
        "id": "i_88_Urs3dHa"
      },
      "outputs": [],
      "source": [
        "# Query: Identify the top 5 counties with the most collisions\n"
      ]
    },
    {
      "cell_type": "markdown",
      "metadata": {
        "id": "_I3h6B13didy"
      },
      "source": [
        "##**4.3. Month with Highest Collisions** <font color = red>[5 marks]</font> <br>\n",
        "\n",
        "Q. Identify the month with the highest number of collisions."
      ]
    },
    {
      "cell_type": "code",
      "execution_count": null,
      "metadata": {
        "id": "_9Z8nj9VCRap"
      },
      "outputs": [],
      "source": [
        "# Query: Find the month with the highest number of collisions\n"
      ]
    },
    {
      "cell_type": "markdown",
      "metadata": {
        "id": "OrgmCW6HdluR"
      },
      "source": [
        "##**4.4. Weather Conditions with Highest Collisions.** <font color = red>[5 marks]</font> <br>\n",
        "\n",
        "Q. Determine the most common weather condition during collisions."
      ]
    },
    {
      "cell_type": "code",
      "execution_count": null,
      "metadata": {
        "id": "6tRfOE9JCUZ1"
      },
      "outputs": [],
      "source": [
        "# Query: Find the most common weather condition during collisions\n"
      ]
    },
    {
      "cell_type": "markdown",
      "metadata": {
        "id": "__wjubw8dpER"
      },
      "source": [
        "##**4.5. Fatal Collisions.** <font color = red>[5 marks]</font> <br>\n",
        "\n",
        "Q. Calculate the percentage of collisions that resulted in fatalities."
      ]
    },
    {
      "cell_type": "code",
      "execution_count": null,
      "metadata": {
        "id": "MDShu7uyCYfh"
      },
      "outputs": [],
      "source": [
        "# Query: Determine the percentage of collisions that resulted in fatalities\n"
      ]
    },
    {
      "cell_type": "markdown",
      "metadata": {
        "id": "7xZmWUeXdvTy"
      },
      "source": [
        "##**4.6. Dangerous Time for Collisions.** <font color = red>[5 marks]</font> <br>\n",
        "\n",
        "Q. Find the most dangerous time of day for collisions."
      ]
    },
    {
      "cell_type": "code",
      "execution_count": null,
      "metadata": {
        "id": "cWlQetLNCh9h"
      },
      "outputs": [],
      "source": [
        "# Query: Find the most dangerous time of day for collisions\n"
      ]
    },
    {
      "cell_type": "markdown",
      "metadata": {
        "id": "JyUVOUj4dxKx"
      },
      "source": [
        "##**4.7. Road Surface Conditions.** <font color = red>[5 marks]</font> <br>\n",
        "\n",
        "Q. Identify the top 5 road surface conditions with the highest collision frequency."
      ]
    },
    {
      "cell_type": "code",
      "execution_count": null,
      "metadata": {
        "id": "H-L4YSq2Ck-u",
        "collapsed": true
      },
      "outputs": [],
      "source": [
        "# Query: List the top 5 road types with the highest collision frequency\n"
      ]
    },
    {
      "cell_type": "markdown",
      "metadata": {
        "id": "Ta_JXenUd1rS"
      },
      "source": [
        "##**4.8. Lighting Conditions.** <font color = red>[5 marks]</font> <br>\n",
        "\n",
        "Q. Analyze lighting conditions that contribute to the highest number of collisions."
      ]
    },
    {
      "cell_type": "code",
      "execution_count": null,
      "metadata": {
        "id": "QzTHXl27CoJX"
      },
      "outputs": [],
      "source": [
        "# Query: Find the top 3 lighting conditions that lead to the most collisions\n"
      ]
    },
    {
      "cell_type": "markdown",
      "source": [
        "#5. Conclusion <font color = red>[10 marks]</font> <br>\n",
        "\n",
        "Write your conclusion."
      ],
      "metadata": {
        "id": "T5be5VwyaLPU"
      }
    },
    {
      "cell_type": "code",
      "source": [
        "# Final insights and recommendations"
      ],
      "metadata": {
        "id": "nxjWTRcRaWy1"
      },
      "execution_count": null,
      "outputs": []
    },
    {
      "cell_type": "markdown",
      "metadata": {
        "id": "2cdvQqNGeKI5"
      },
      "source": [
        "#6. Visualization Integration using Tableau/ PowerBI <font color = red>[Optional]</font> <br>"
      ]
    },
    {
      "cell_type": "code",
      "source": [],
      "metadata": {
        "id": "U30S_dXeTSJp"
      },
      "execution_count": null,
      "outputs": []
    }
  ],
  "metadata": {
    "colab": {
      "provenance": [],
      "toc_visible": true
    },
    "kernelspec": {
      "display_name": "Python 3",
      "name": "python3"
    },
    "language_info": {
      "name": "python"
    }
  },
  "nbformat": 4,
  "nbformat_minor": 0
}